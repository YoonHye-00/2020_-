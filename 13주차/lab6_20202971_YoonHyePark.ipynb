{
  "nbformat": 4,
  "nbformat_minor": 0,
  "metadata": {
    "colab": {
      "name": "lab6_20202971_YoonHyePark",
      "provenance": [],
      "collapsed_sections": []
    },
    "kernelspec": {
      "name": "python3",
      "display_name": "Python 3"
    }
  },
  "cells": [
    {
      "cell_type": "markdown",
      "metadata": {
        "id": "DA6A1A-yQFfC"
      },
      "source": [
        "#딕셔너리"
      ]
    },
    {
      "cell_type": "markdown",
      "metadata": {
        "id": "mJc-Ce_cQON2"
      },
      "source": [
        "대화창 실습 : person 딕셔너리의 생성과 조회"
      ]
    },
    {
      "cell_type": "code",
      "metadata": {
        "colab": {
          "base_uri": "https://localhost:8080/",
          "height": 36
        },
        "id": "DsiIAjnRQHN3",
        "outputId": "6f7ebdda-35c6-4328-d026-77b505d07c98"
      },
      "source": [
        "person = {'이름' : '홍길동', '나이' : 26, '몸무게' : 82}\n",
        "person['이름']"
      ],
      "execution_count": null,
      "outputs": [
        {
          "output_type": "execute_result",
          "data": {
            "application/vnd.google.colaboratory.intrinsic+json": {
              "type": "string"
            },
            "text/plain": [
              "'홍길동'"
            ]
          },
          "metadata": {
            "tags": []
          },
          "execution_count": 1
        }
      ]
    },
    {
      "cell_type": "code",
      "metadata": {
        "colab": {
          "base_uri": "https://localhost:8080/"
        },
        "id": "cQgQo3wMQcov",
        "outputId": "571933cc-1a52-487b-8530-7d04c78dd883"
      },
      "source": [
        "person['나이']"
      ],
      "execution_count": null,
      "outputs": [
        {
          "output_type": "execute_result",
          "data": {
            "text/plain": [
              "26"
            ]
          },
          "metadata": {
            "tags": []
          },
          "execution_count": 2
        }
      ]
    },
    {
      "cell_type": "code",
      "metadata": {
        "colab": {
          "base_uri": "https://localhost:8080/"
        },
        "id": "G4EoNGdYQejn",
        "outputId": "9a6d3666-640c-495e-f748-e2a0e2713fed"
      },
      "source": [
        "person['몸무게']"
      ],
      "execution_count": null,
      "outputs": [
        {
          "output_type": "execute_result",
          "data": {
            "text/plain": [
              "82"
            ]
          },
          "metadata": {
            "tags": []
          },
          "execution_count": 3
        }
      ]
    },
    {
      "cell_type": "markdown",
      "metadata": {
        "id": "B4T2G86UQiMi"
      },
      "source": [
        "대화창 실습 : students 딕셔너리의 생성과 조회"
      ]
    },
    {
      "cell_type": "code",
      "metadata": {
        "colab": {
          "base_uri": "https://localhost:8080/",
          "height": 36
        },
        "id": "kL1rpkeLQgZn",
        "outputId": "a690956e-d5cc-471a-9d0a-e118fe8e8618"
      },
      "source": [
        "students = { 2019001 : '이순신', 2019002 : '김유신', 2019003 : '강감찬'}\n",
        "students[2019001]"
      ],
      "execution_count": null,
      "outputs": [
        {
          "output_type": "execute_result",
          "data": {
            "application/vnd.google.colaboratory.intrinsic+json": {
              "type": "string"
            },
            "text/plain": [
              "'이순신'"
            ]
          },
          "metadata": {
            "tags": []
          },
          "execution_count": 4
        }
      ]
    },
    {
      "cell_type": "code",
      "metadata": {
        "colab": {
          "base_uri": "https://localhost:8080/",
          "height": 36
        },
        "id": "IljvB5RNQwoM",
        "outputId": "5215492b-5681-473a-ecdf-2d8dcf3cc6c6"
      },
      "source": [
        "students[2019002]"
      ],
      "execution_count": null,
      "outputs": [
        {
          "output_type": "execute_result",
          "data": {
            "application/vnd.google.colaboratory.intrinsic+json": {
              "type": "string"
            },
            "text/plain": [
              "'김유신'"
            ]
          },
          "metadata": {
            "tags": []
          },
          "execution_count": 5
        }
      ]
    },
    {
      "cell_type": "code",
      "metadata": {
        "colab": {
          "base_uri": "https://localhost:8080/",
          "height": 36
        },
        "id": "BQ22TWQGQyW-",
        "outputId": "5c6f2f74-3db3-4d2d-b74c-2308754a9004"
      },
      "source": [
        "students[2019003]"
      ],
      "execution_count": null,
      "outputs": [
        {
          "output_type": "execute_result",
          "data": {
            "application/vnd.google.colaboratory.intrinsic+json": {
              "type": "string"
            },
            "text/plain": [
              "'강감찬'"
            ]
          },
          "metadata": {
            "tags": []
          },
          "execution_count": 6
        }
      ]
    },
    {
      "cell_type": "markdown",
      "metadata": {
        "id": "2cb_spNVQ1EC"
      },
      "source": [
        "LAB 6-1 : 딕셔너리의 생성"
      ]
    },
    {
      "cell_type": "code",
      "metadata": {
        "colab": {
          "base_uri": "https://localhost:8080/"
        },
        "id": "alLhefFBQzkm",
        "outputId": "99ae3a77-1b0a-491a-a30a-3205831b4029"
      },
      "source": [
        "#1.\n",
        "capital_dic = {'Korea' : 'Seoul', 'China' : 'Beijing', 'USA' : 'Washington DC'}\n",
        "print(capital_dic['Korea'])\n",
        "print(capital_dic['China'])\n",
        "print(capital_dic['USA'])"
      ],
      "execution_count": null,
      "outputs": [
        {
          "output_type": "stream",
          "text": [
            "Seoul\n",
            "Beijing\n",
            "Washington DC\n"
          ],
          "name": "stdout"
        }
      ]
    },
    {
      "cell_type": "code",
      "metadata": {
        "colab": {
          "base_uri": "https://localhost:8080/"
        },
        "id": "1MQhIGcbRTVI",
        "outputId": "1ef0b125-47e8-466c-c9f0-26d32e248cd0"
      },
      "source": [
        "#2.\n",
        "fruits_dic = {'apple' : 5000, 'banana' : 4000, 'grape' : 5300, 'melon' : 6500}\n",
        "print('apple의 가격은 {}원입니다.'.format(fruits_dic['apple']))\n",
        "print('banana의 가격은 {}원입니다.'.format(fruits_dic['banana']))\n",
        "print('grape의 가격은 {}원입니다.'.format(fruits_dic['grape']))\n",
        "print('melon의 가격은 {}원입니다.'.format(fruits_dic['melon']))"
      ],
      "execution_count": null,
      "outputs": [
        {
          "output_type": "stream",
          "text": [
            "apple의 가격은 5000원입니다.\n",
            "banana의 가격은 4000원입니다.\n",
            "grape의 가격은 5300원입니다.\n",
            "melon의 가격은 6500원입니다.\n"
          ],
          "name": "stdout"
        }
      ]
    },
    {
      "cell_type": "markdown",
      "metadata": {
        "id": "N8jV9kVwRSZt"
      },
      "source": [
        "대화창 실습 : 딕셔너리의 항목 삽입"
      ]
    },
    {
      "cell_type": "code",
      "metadata": {
        "colab": {
          "base_uri": "https://localhost:8080/"
        },
        "id": "AbThISPvRKm_",
        "outputId": "718b7ae6-dd49-4a0d-898b-54e990fbddd7"
      },
      "source": [
        "person = {'이름' : '홍길동', '나이' : 26, '몸무게' : 82}\n",
        "person['직업'] = '율도국의 왕'\n",
        "person"
      ],
      "execution_count": null,
      "outputs": [
        {
          "output_type": "execute_result",
          "data": {
            "text/plain": [
              "{'나이': 26, '몸무게': 82, '이름': '홍길동', '직업': '율도국의 왕'}"
            ]
          },
          "metadata": {
            "tags": []
          },
          "execution_count": 19
        }
      ]
    },
    {
      "cell_type": "markdown",
      "metadata": {
        "id": "HbRFKIZxT7yc"
      },
      "source": [
        "대화창 실습 : 딕셔너리의 항목 수정"
      ]
    },
    {
      "cell_type": "code",
      "metadata": {
        "colab": {
          "base_uri": "https://localhost:8080/"
        },
        "id": "lCDDNhYvT6DN",
        "outputId": "22f114e9-895d-4816-f805-7df562a2d538"
      },
      "source": [
        "person = {'이름' : '홍길동', '나이' : 26, '몸무게' : 82}\n",
        "person['나이'] = 27\n",
        "person "
      ],
      "execution_count": null,
      "outputs": [
        {
          "output_type": "execute_result",
          "data": {
            "text/plain": [
              "{'나이': 27, '몸무게': 82, '이름': '홍길동'}"
            ]
          },
          "metadata": {
            "tags": []
          },
          "execution_count": 23
        }
      ]
    },
    {
      "cell_type": "markdown",
      "metadata": {
        "id": "HZKThIBCVJYE"
      },
      "source": [
        "대화창 실습 : 딕셔너리의 항목 삭제"
      ]
    },
    {
      "cell_type": "code",
      "metadata": {
        "colab": {
          "base_uri": "https://localhost:8080/"
        },
        "id": "zkIeOvYhUcxL",
        "outputId": "1aff45d2-e1e7-4f70-9d6d-d3e011468547"
      },
      "source": [
        "person = {'이름' : '홍길동', '나이' : 26, '몸무게' : 82}\n",
        "del person['나이']\n",
        "person"
      ],
      "execution_count": null,
      "outputs": [
        {
          "output_type": "execute_result",
          "data": {
            "text/plain": [
              "{'몸무게': 82, '이름': '홍길동'}"
            ]
          },
          "metadata": {
            "tags": []
          },
          "execution_count": 24
        }
      ]
    },
    {
      "cell_type": "markdown",
      "metadata": {
        "id": "Llq9I_69VW2R"
      },
      "source": [
        "대화창 실습 : 딕셔너리의 항목 삭제 - KeyError 오류 발생"
      ]
    },
    {
      "cell_type": "code",
      "metadata": {
        "id": "99tdhwl_U6Gl"
      },
      "source": [
        "person = {'이름' : '홍길동', '나이' : 26, '몸무게' : 82}\n",
        "# del person['출생지']   >>  keyError: '출생지'"
      ],
      "execution_count": null,
      "outputs": []
    },
    {
      "cell_type": "markdown",
      "metadata": {
        "id": "cRtPIlexVtGj"
      },
      "source": [
        "LAB 6-2 : 딕셔너리의 항목 추가와 삭제"
      ]
    },
    {
      "cell_type": "code",
      "metadata": {
        "colab": {
          "base_uri": "https://localhost:8080/"
        },
        "id": "oE60Olv6VnOy",
        "outputId": "20c62b14-5db5-4083-92da-e8d8ee9fabee"
      },
      "source": [
        "#1.\n",
        "person['특기'] = '분신술'\n",
        "print(person)"
      ],
      "execution_count": null,
      "outputs": [
        {
          "output_type": "stream",
          "text": [
            "{'이름': '홍길동', '나이': 26, '몸무게': 82, '특기': '분신술'}\n"
          ],
          "name": "stdout"
        }
      ]
    },
    {
      "cell_type": "code",
      "metadata": {
        "colab": {
          "base_uri": "https://localhost:8080/"
        },
        "id": "AAMM5iaJV3K3",
        "outputId": "554d4ef0-757a-4d5b-876b-8a605a8db842"
      },
      "source": [
        "#2.\n",
        "person['아버지'] = '홍판서'\n",
        "print(person)"
      ],
      "execution_count": null,
      "outputs": [
        {
          "output_type": "stream",
          "text": [
            "{'이름': '홍길동', '나이': 26, '몸무게': 82, '특기': '분신술', '아버지': '홍판서'}\n"
          ],
          "name": "stdout"
        }
      ]
    },
    {
      "cell_type": "code",
      "metadata": {
        "colab": {
          "base_uri": "https://localhost:8080/"
        },
        "id": "5n188EC6V9w3",
        "outputId": "6210134e-bf87-4290-ec37-7abe3c1764b0"
      },
      "source": [
        "#3.\n",
        "del person['나이']\n",
        "print(person)"
      ],
      "execution_count": null,
      "outputs": [
        {
          "output_type": "stream",
          "text": [
            "{'이름': '홍길동', '몸무게': 82, '특기': '분신술', '아버지': '홍판서'}\n"
          ],
          "name": "stdout"
        }
      ]
    },
    {
      "cell_type": "markdown",
      "metadata": {
        "id": "d0JWMFHLWGna"
      },
      "source": [
        "대화창 실습 : 딕셔너리의 항목 삽입"
      ]
    },
    {
      "cell_type": "code",
      "metadata": {
        "colab": {
          "base_uri": "https://localhost:8080/"
        },
        "id": "eXb2qIlsWD8g",
        "outputId": "3ad4cb20-419f-4e0b-fec0-243b01ce6397"
      },
      "source": [
        "person = {'이름' : '홍길동', '나이' : 26, '몸무게' : 82}\n",
        "len(person)"
      ],
      "execution_count": null,
      "outputs": [
        {
          "output_type": "execute_result",
          "data": {
            "text/plain": [
              "3"
            ]
          },
          "metadata": {
            "tags": []
          },
          "execution_count": 30
        }
      ]
    },
    {
      "cell_type": "code",
      "metadata": {
        "colab": {
          "base_uri": "https://localhost:8080/"
        },
        "id": "2mETWzqSWOdN",
        "outputId": "2eb7e33c-eafe-4071-f7f5-2248aed360de"
      },
      "source": [
        "'이름' in person"
      ],
      "execution_count": null,
      "outputs": [
        {
          "output_type": "execute_result",
          "data": {
            "text/plain": [
              "True"
            ]
          },
          "metadata": {
            "tags": []
          },
          "execution_count": 31
        }
      ]
    },
    {
      "cell_type": "code",
      "metadata": {
        "colab": {
          "base_uri": "https://localhost:8080/"
        },
        "id": "p5uKDAxAWP_j",
        "outputId": "98dbfc1b-6d09-4193-a481-04e475f23bdc"
      },
      "source": [
        "'직업' in person"
      ],
      "execution_count": null,
      "outputs": [
        {
          "output_type": "execute_result",
          "data": {
            "text/plain": [
              "False"
            ]
          },
          "metadata": {
            "tags": []
          },
          "execution_count": 32
        }
      ]
    },
    {
      "cell_type": "code",
      "metadata": {
        "colab": {
          "base_uri": "https://localhost:8080/"
        },
        "id": "N2soa0-TWRbd",
        "outputId": "68868782-943f-406c-984a-4e7b39f54ec1"
      },
      "source": [
        "'홍길동' in person  # '홍길동'은 값에 있으나 키에 없음 !!"
      ],
      "execution_count": null,
      "outputs": [
        {
          "output_type": "execute_result",
          "data": {
            "text/plain": [
              "False"
            ]
          },
          "metadata": {
            "tags": []
          },
          "execution_count": 33
        }
      ]
    },
    {
      "cell_type": "markdown",
      "metadata": {
        "id": "DogN1yYmZc3K"
      },
      "source": [
        "대화창 실습 : 딕셔너리의 비교 연산"
      ]
    },
    {
      "cell_type": "code",
      "metadata": {
        "colab": {
          "base_uri": "https://localhost:8080/"
        },
        "id": "D3kN3VScWYQ_",
        "outputId": "4e845837-8870-4342-bfa0-cbe44e9e93a0"
      },
      "source": [
        "d1 = {'이름' : '홍길동', '나이' : 26}\n",
        "d2 = {'나이' : 26, '이름' : '홍길동'}\n",
        "d1 == d2"
      ],
      "execution_count": null,
      "outputs": [
        {
          "output_type": "execute_result",
          "data": {
            "text/plain": [
              "True"
            ]
          },
          "metadata": {
            "tags": []
          },
          "execution_count": 40
        }
      ]
    },
    {
      "cell_type": "markdown",
      "metadata": {
        "id": "VFWY2wesZ7aI"
      },
      "source": [
        "LAB 6-3 : 딕셔너리와 연산"
      ]
    },
    {
      "cell_type": "code",
      "metadata": {
        "colab": {
          "base_uri": "https://localhost:8080/"
        },
        "id": "QIs8LmQXZoM3",
        "outputId": "9c0d9b8d-7780-4df3-90fa-5d00b130d756"
      },
      "source": [
        "#1.\n",
        "capital_dic = {'Korea' : 'Seoul', 'China' : 'Beijing', 'USA' : 'Washington DC'}\n",
        "print('Korea' in capital_dic)\n",
        "print('China' in capital_dic)\n",
        "print('Indonesia' in capital_dic)\n",
        "print('Beijing' in capital_dic)"
      ],
      "execution_count": null,
      "outputs": [
        {
          "output_type": "stream",
          "text": [
            "True\n",
            "True\n",
            "False\n",
            "False\n"
          ],
          "name": "stdout"
        }
      ]
    },
    {
      "cell_type": "markdown",
      "metadata": {
        "id": "Otl70tdaaYcx"
      },
      "source": [
        "대화창 실습 : 딕셔너리의 keys(), values(), items() 메소드"
      ]
    },
    {
      "cell_type": "code",
      "metadata": {
        "colab": {
          "base_uri": "https://localhost:8080/"
        },
        "id": "aIQA7LIRaSTV",
        "outputId": "74edc4d2-52d0-4e8d-c8d5-abb7a4da5808"
      },
      "source": [
        "person = {'이름' : '홍길동', '나이' : 26, '몸무게' : 82}\n",
        "person.keys()"
      ],
      "execution_count": null,
      "outputs": [
        {
          "output_type": "execute_result",
          "data": {
            "text/plain": [
              "dict_keys(['이름', '나이', '몸무게'])"
            ]
          },
          "metadata": {
            "tags": []
          },
          "execution_count": 43
        }
      ]
    },
    {
      "cell_type": "code",
      "metadata": {
        "colab": {
          "base_uri": "https://localhost:8080/"
        },
        "id": "RLi9y7wgbPYG",
        "outputId": "f8027446-8d0e-4efe-fe65-3a6fcb364fd6"
      },
      "source": [
        "person.values()"
      ],
      "execution_count": null,
      "outputs": [
        {
          "output_type": "execute_result",
          "data": {
            "text/plain": [
              "dict_values(['홍길동', 26, 82])"
            ]
          },
          "metadata": {
            "tags": []
          },
          "execution_count": 44
        }
      ]
    },
    {
      "cell_type": "code",
      "metadata": {
        "colab": {
          "base_uri": "https://localhost:8080/"
        },
        "id": "R_enkVHSbRjn",
        "outputId": "5f85628d-754d-42df-c007-790eea465f14"
      },
      "source": [
        "person.items()"
      ],
      "execution_count": null,
      "outputs": [
        {
          "output_type": "execute_result",
          "data": {
            "text/plain": [
              "dict_items([('이름', '홍길동'), ('나이', 26), ('몸무게', 82)])"
            ]
          },
          "metadata": {
            "tags": []
          },
          "execution_count": 45
        }
      ]
    },
    {
      "cell_type": "markdown",
      "metadata": {
        "id": "fJla8di7bVIk"
      },
      "source": [
        "대화창 실습 : 딕셔너리의 get() 메소드"
      ]
    },
    {
      "cell_type": "code",
      "metadata": {
        "id": "Kjv90rokbSqw"
      },
      "source": [
        "person = {'이름' : '홍길동', '나이' : 26, '몸무게' : 82}\n",
        "person.get('취미')"
      ],
      "execution_count": null,
      "outputs": []
    },
    {
      "cell_type": "code",
      "metadata": {
        "colab": {
          "base_uri": "https://localhost:8080/",
          "height": 36
        },
        "id": "aQZ8fazvbfYD",
        "outputId": "2db49874-285f-4491-a98b-b9f778c0e9c7"
      },
      "source": [
        "person.get('이름')"
      ],
      "execution_count": null,
      "outputs": [
        {
          "output_type": "execute_result",
          "data": {
            "application/vnd.google.colaboratory.intrinsic+json": {
              "type": "string"
            },
            "text/plain": [
              "'홍길동'"
            ]
          },
          "metadata": {
            "tags": []
          },
          "execution_count": 50
        }
      ]
    },
    {
      "cell_type": "markdown",
      "metadata": {
        "id": "MLqZX3MAbqFj"
      },
      "source": [
        "대화창 실습 : 딕셔너리의 메소드 살펴보기"
      ]
    },
    {
      "cell_type": "code",
      "metadata": {
        "colab": {
          "base_uri": "https://localhost:8080/"
        },
        "id": "rrIK9Mdebg8-",
        "outputId": "92df4419-7394-4122-c2cb-5d069f761ecb"
      },
      "source": [
        "person = {'이름' : '홍길동', '나이' : 26, '몸무게' : 82}\n",
        "person.popitem()"
      ],
      "execution_count": null,
      "outputs": [
        {
          "output_type": "execute_result",
          "data": {
            "text/plain": [
              "('몸무게', 82)"
            ]
          },
          "metadata": {
            "tags": []
          },
          "execution_count": 53
        }
      ]
    },
    {
      "cell_type": "code",
      "metadata": {
        "colab": {
          "base_uri": "https://localhost:8080/"
        },
        "id": "nb5MM1Gtbuvg",
        "outputId": "650c247c-a272-48a2-b9c2-db7a0ac5e999"
      },
      "source": [
        "person"
      ],
      "execution_count": null,
      "outputs": [
        {
          "output_type": "execute_result",
          "data": {
            "text/plain": [
              "{'나이': 26, '이름': '홍길동'}"
            ]
          },
          "metadata": {
            "tags": []
          },
          "execution_count": 54
        }
      ]
    },
    {
      "cell_type": "code",
      "metadata": {
        "colab": {
          "base_uri": "https://localhost:8080/"
        },
        "id": "UvktZmeJb1sO",
        "outputId": "a01e3d45-7abe-431b-8844-f43e7e0f6c72"
      },
      "source": [
        "person.pop('나이')"
      ],
      "execution_count": null,
      "outputs": [
        {
          "output_type": "execute_result",
          "data": {
            "text/plain": [
              "26"
            ]
          },
          "metadata": {
            "tags": []
          },
          "execution_count": 55
        }
      ]
    },
    {
      "cell_type": "code",
      "metadata": {
        "colab": {
          "base_uri": "https://localhost:8080/"
        },
        "id": "hfTiYdTVb4at",
        "outputId": "96183d5e-3a04-47ee-c087-38277644f548"
      },
      "source": [
        "person"
      ],
      "execution_count": null,
      "outputs": [
        {
          "output_type": "execute_result",
          "data": {
            "text/plain": [
              "{'이름': '홍길동'}"
            ]
          },
          "metadata": {
            "tags": []
          },
          "execution_count": 56
        }
      ]
    },
    {
      "cell_type": "code",
      "metadata": {
        "id": "E9a5xGlOb6TF"
      },
      "source": [
        "person.clear()"
      ],
      "execution_count": null,
      "outputs": []
    },
    {
      "cell_type": "code",
      "metadata": {
        "colab": {
          "base_uri": "https://localhost:8080/"
        },
        "id": "coFsKUwKb7Ym",
        "outputId": "3e5ae210-2d3a-4887-8ee9-18b67f8e1d6c"
      },
      "source": [
        "person"
      ],
      "execution_count": null,
      "outputs": [
        {
          "output_type": "execute_result",
          "data": {
            "text/plain": [
              "{}"
            ]
          },
          "metadata": {
            "tags": []
          },
          "execution_count": 58
        }
      ]
    },
    {
      "cell_type": "markdown",
      "metadata": {
        "id": "fPC9tGdrb-HY"
      },
      "source": [
        "LAB 6-4 : 딕셔너리의 활용"
      ]
    },
    {
      "cell_type": "code",
      "metadata": {
        "id": "hQT8eFlTb7r5"
      },
      "source": [
        "#1.\n",
        "fruits_dic = {'apple' : 6000, 'melon' : 3000, 'banana' : 5000, 'orange' : 7000}"
      ],
      "execution_count": null,
      "outputs": []
    },
    {
      "cell_type": "code",
      "metadata": {
        "colab": {
          "base_uri": "https://localhost:8080/"
        },
        "id": "a8k5OL0FcNao",
        "outputId": "026b441a-4b82-4aab-b3f4-760cd2ab092e"
      },
      "source": [
        "#2.\n",
        "fruits_dic.keys()"
      ],
      "execution_count": null,
      "outputs": [
        {
          "output_type": "execute_result",
          "data": {
            "text/plain": [
              "dict_keys(['apple', 'melon', 'banana', 'orange'])"
            ]
          },
          "metadata": {
            "tags": []
          },
          "execution_count": 70
        }
      ]
    },
    {
      "cell_type": "code",
      "metadata": {
        "colab": {
          "base_uri": "https://localhost:8080/"
        },
        "id": "SP1rsmhZcQ-G",
        "outputId": "51900533-1909-4318-e3e4-3798b85a1768"
      },
      "source": [
        "#3.\n",
        "fruits_dic.values()"
      ],
      "execution_count": null,
      "outputs": [
        {
          "output_type": "execute_result",
          "data": {
            "text/plain": [
              "dict_values([6000, 3000, 5000, 7000])"
            ]
          },
          "metadata": {
            "tags": []
          },
          "execution_count": 71
        }
      ]
    },
    {
      "cell_type": "code",
      "metadata": {
        "colab": {
          "base_uri": "https://localhost:8080/"
        },
        "id": "K0Xf1HjwcgJT",
        "outputId": "d5fb25c1-9064-4aa8-85ec-a4e058c60687"
      },
      "source": [
        "#4.\n",
        "fruits_dic.pop('apple')\n",
        "fruits_dic"
      ],
      "execution_count": null,
      "outputs": [
        {
          "output_type": "execute_result",
          "data": {
            "text/plain": [
              "{'banana': 5000, 'melon': 3000, 'orange': 7000}"
            ]
          },
          "metadata": {
            "tags": []
          },
          "execution_count": 72
        }
      ]
    },
    {
      "cell_type": "code",
      "metadata": {
        "colab": {
          "base_uri": "https://localhost:8080/"
        },
        "id": "-9B44qd5clC6",
        "outputId": "145944f3-d094-4e81-b9a1-8877ca0cf533"
      },
      "source": [
        "#5.\n",
        "fruits_dic.clear()\n",
        "fruits_dic"
      ],
      "execution_count": null,
      "outputs": [
        {
          "output_type": "execute_result",
          "data": {
            "text/plain": [
              "{}"
            ]
          },
          "metadata": {
            "tags": []
          },
          "execution_count": 73
        }
      ]
    },
    {
      "cell_type": "markdown",
      "metadata": {
        "id": "Zggqo9f_gdhU"
      },
      "source": [
        "대화창 실습 : for 문을 이용한 딕셔너리의 순회"
      ]
    },
    {
      "cell_type": "code",
      "metadata": {
        "colab": {
          "base_uri": "https://localhost:8080/"
        },
        "id": "BGTXFRo2c1g4",
        "outputId": "9de2a7e7-1dcf-47a1-cb57-3faeff0f0e21"
      },
      "source": [
        "person = {'이름' : '홍길동', '나이' : 26, '몸무게' : 82}\n",
        "for key in person : \n",
        "    print('{} : {}'.format(key, person[key]))"
      ],
      "execution_count": null,
      "outputs": [
        {
          "output_type": "stream",
          "text": [
            "이름 : 홍길동\n",
            "나이 : 26\n",
            "몸무게 : 82\n"
          ],
          "name": "stdout"
        }
      ]
    },
    {
      "cell_type": "markdown",
      "metadata": {
        "id": "RM85CR2bh9WZ"
      },
      "source": [
        "list_pop.py"
      ]
    },
    {
      "cell_type": "code",
      "metadata": {
        "colab": {
          "base_uri": "https://localhost:8080/"
        },
        "id": "kTJe4T3Zg2mq",
        "outputId": "a19c4f30-ec71-4658-9dbe-1cd4158eac95"
      },
      "source": [
        "lst = [11,22,33,44,55]\n",
        "print('pop(0) 이전 :', lst)\n",
        "print('pop(0) 이전 lst[1] =', lst[1])\n",
        "lst.pop(0)\n",
        "print('pop(0) 이후 :',lst)\n",
        "print('pop(0) 이후 lst[1] =', lst[1])"
      ],
      "execution_count": null,
      "outputs": [
        {
          "output_type": "stream",
          "text": [
            "pop(0) 이전 : [11, 22, 33, 44, 55]\n",
            "pop(0) 이전 lst[1] = 22\n",
            "pop(0) 이후 : [22, 33, 44, 55]\n",
            "pop(0) 이후 lst[1] = 33\n"
          ],
          "name": "stdout"
        }
      ]
    },
    {
      "cell_type": "markdown",
      "metadata": {
        "id": "mzYz1LHliyRy"
      },
      "source": [
        "dic_pop.py"
      ]
    },
    {
      "cell_type": "code",
      "metadata": {
        "colab": {
          "base_uri": "https://localhost:8080/"
        },
        "id": "BYev5xSBi0B6",
        "outputId": "7bc67cba-3c7a-4890-893f-86c1b0e6c2c5"
      },
      "source": [
        "dic = { 0:11, 1:22, 2:33, 3:44, 4:55}\n",
        "print('pop(0) 이전 :', dic.items())\n",
        "print('pop(0) 이전 dic[1] =', dic[1])\n",
        "dic.pop(0)\n",
        "print('pop(0) 이후 :',dic.items())\n",
        "print('pop(0) 이후 dic[1] =', dic[1])"
      ],
      "execution_count": null,
      "outputs": [
        {
          "output_type": "stream",
          "text": [
            "pop(0) 이전 : dict_items([(0, 11), (1, 22), (2, 33), (3, 44), (4, 55)])\n",
            "pop(0) 이전 dic[1] = 22\n",
            "pop(0) 이후 : dict_items([(1, 22), (2, 33), (3, 44), (4, 55)])\n",
            "pop(0) 이후 dic[1] = 22\n"
          ],
          "name": "stdout"
        }
      ]
    },
    {
      "cell_type": "markdown",
      "metadata": {
        "id": "u5_s4rppjStV"
      },
      "source": [
        "LAB 6-5 : 딕셔너리의 활용"
      ]
    },
    {
      "cell_type": "code",
      "metadata": {
        "colab": {
          "base_uri": "https://localhost:8080/"
        },
        "id": "mFChM3-FjMFW",
        "outputId": "6f8695d8-faed-4adb-811f-d998c3c9d12b"
      },
      "source": [
        "#1.\n",
        "fruits_dic = {'apple' : 6000, 'melon' : 3000, 'banana' : 5000, 'orange' : 4000}\n",
        "print(list(fruits_dic.keys()))"
      ],
      "execution_count": null,
      "outputs": [
        {
          "output_type": "stream",
          "text": [
            "['apple', 'melon', 'banana', 'orange']\n"
          ],
          "name": "stdout"
        }
      ]
    },
    {
      "cell_type": "code",
      "metadata": {
        "colab": {
          "base_uri": "https://localhost:8080/"
        },
        "id": "nZD_ud0yj2qR",
        "outputId": "95683091-bf0c-40c5-9d95-db87f762190f"
      },
      "source": [
        "#2.\n",
        "print(list(fruits_dic.values()))"
      ],
      "execution_count": null,
      "outputs": [
        {
          "output_type": "stream",
          "text": [
            "[6000, 3000, 5000, 4000]\n"
          ],
          "name": "stdout"
        }
      ]
    },
    {
      "cell_type": "code",
      "metadata": {
        "colab": {
          "base_uri": "https://localhost:8080/"
        },
        "id": "b5D1q7dYkA3_",
        "outputId": "2523598a-5295-461d-ea00-6fa7cbfa0131"
      },
      "source": [
        "#3.\n",
        "print('fruits_dic 딕셔너리의 항목의 개수 :',len(fruits_dic))"
      ],
      "execution_count": null,
      "outputs": [
        {
          "output_type": "stream",
          "text": [
            "fruits_dic 딕셔너리의 항목의 개수 : 4\n"
          ],
          "name": "stdout"
        }
      ]
    },
    {
      "cell_type": "code",
      "metadata": {
        "colab": {
          "base_uri": "https://localhost:8080/"
        },
        "id": "zlbtQPBHkKVU",
        "outputId": "b6854eab-fb6f-48a7-c23d-bdf90f460812"
      },
      "source": [
        "#4.\n",
        "def check(key) :\n",
        "    ch = key in fruits_dic\n",
        "    if ch == True :\n",
        "        print('{} is in fruits_dic.'.format(key))\n",
        "    else :\n",
        "        print('{} is not in fruits_dic.'.format(key))\n",
        "\n",
        "check('apple')\n",
        "check('mango')"
      ],
      "execution_count": null,
      "outputs": [
        {
          "output_type": "stream",
          "text": [
            "apple is in fruits_dic.\n",
            "mango is not in fruits_dic.\n"
          ],
          "name": "stdout"
        }
      ]
    },
    {
      "cell_type": "markdown",
      "metadata": {
        "id": "fBpsMUn_kxKJ"
      },
      "source": [
        "#튜플"
      ]
    },
    {
      "cell_type": "markdown",
      "metadata": {
        "id": "HDfHyZqfk-d0"
      },
      "source": [
        "대화창 실습 : 튜플의 생성과 조회"
      ]
    },
    {
      "cell_type": "code",
      "metadata": {
        "colab": {
          "base_uri": "https://localhost:8080/"
        },
        "id": "35J0Nxeckkha",
        "outputId": "480a391f-50eb-4f3f-daf1-34ad77ff0bab"
      },
      "source": [
        "t = (1,2,3,4)\n",
        "t[0]"
      ],
      "execution_count": null,
      "outputs": [
        {
          "output_type": "execute_result",
          "data": {
            "text/plain": [
              "1"
            ]
          },
          "metadata": {
            "tags": []
          },
          "execution_count": 84
        }
      ]
    },
    {
      "cell_type": "code",
      "metadata": {
        "colab": {
          "base_uri": "https://localhost:8080/"
        },
        "id": "htuALNcjlCT5",
        "outputId": "1877b56c-8ebc-4578-aeeb-e6684b4bd40f"
      },
      "source": [
        "t[1]"
      ],
      "execution_count": null,
      "outputs": [
        {
          "output_type": "execute_result",
          "data": {
            "text/plain": [
              "2"
            ]
          },
          "metadata": {
            "tags": []
          },
          "execution_count": 85
        }
      ]
    },
    {
      "cell_type": "markdown",
      "metadata": {
        "id": "P_jRbgIUlKCZ"
      },
      "source": [
        "대화창 실습 : 튜플 항목에 대한 할당 연산은 오류를 발생시킴"
      ]
    },
    {
      "cell_type": "code",
      "metadata": {
        "colab": {
          "base_uri": "https://localhost:8080/",
          "height": 180
        },
        "id": "MEvyrAl4mW_N",
        "outputId": "1d152e59-447e-43f2-9800-6bb35a737b18"
      },
      "source": [
        "t = (0,1,2,3,4)\n",
        "t[0] = 100  # 튜플은 내부의 값을 변경할 수 없음. >> 할당 연산은 오류를 발생시킴"
      ],
      "execution_count": null,
      "outputs": [
        {
          "output_type": "error",
          "ename": "TypeError",
          "evalue": "ignored",
          "traceback": [
            "\u001b[0;31m---------------------------------------------------------------------------\u001b[0m",
            "\u001b[0;31mTypeError\u001b[0m                                 Traceback (most recent call last)",
            "\u001b[0;32m<ipython-input-102-add781db3404>\u001b[0m in \u001b[0;36m<module>\u001b[0;34m()\u001b[0m\n\u001b[1;32m      1\u001b[0m \u001b[0mt\u001b[0m \u001b[0;34m=\u001b[0m \u001b[0;34m(\u001b[0m\u001b[0;36m0\u001b[0m\u001b[0;34m,\u001b[0m\u001b[0;36m1\u001b[0m\u001b[0;34m,\u001b[0m\u001b[0;36m2\u001b[0m\u001b[0;34m,\u001b[0m\u001b[0;36m3\u001b[0m\u001b[0;34m,\u001b[0m\u001b[0;36m4\u001b[0m\u001b[0;34m)\u001b[0m\u001b[0;34m\u001b[0m\u001b[0;34m\u001b[0m\u001b[0m\n\u001b[0;32m----> 2\u001b[0;31m \u001b[0mt\u001b[0m\u001b[0;34m[\u001b[0m\u001b[0;36m0\u001b[0m\u001b[0;34m]\u001b[0m \u001b[0;34m=\u001b[0m \u001b[0;36m100\u001b[0m\u001b[0;34m\u001b[0m\u001b[0;34m\u001b[0m\u001b[0m\n\u001b[0m",
            "\u001b[0;31mTypeError\u001b[0m: 'tuple' object does not support item assignment"
          ]
        }
      ]
    },
    {
      "cell_type": "markdown",
      "metadata": {
        "id": "tNuEp-IXm9JE"
      },
      "source": [
        "swap_temp.py"
      ]
    },
    {
      "cell_type": "code",
      "metadata": {
        "colab": {
          "base_uri": "https://localhost:8080/"
        },
        "id": "7y1eFa2Rmtkh",
        "outputId": "06f7f79e-9dea-4042-cff8-461206495bad"
      },
      "source": [
        "a = 100\n",
        "b = 200\n",
        "print('swap 이전 : a =', a, 'b =', b)\n",
        "temp = a\n",
        "a = b\n",
        "b = temp\n",
        "print('swap 이후 : a =', a, 'b =', b)"
      ],
      "execution_count": null,
      "outputs": [
        {
          "output_type": "stream",
          "text": [
            "swap 이전 : a = 100 b = 200\n",
            "swap 이후 : a = 200 b = 100\n"
          ],
          "name": "stdout"
        }
      ]
    },
    {
      "cell_type": "markdown",
      "metadata": {
        "id": "HONE-ZJ0nj6m"
      },
      "source": [
        "swap_tuple.py"
      ]
    },
    {
      "cell_type": "code",
      "metadata": {
        "colab": {
          "base_uri": "https://localhost:8080/"
        },
        "id": "UdC2dmL1nhBt",
        "outputId": "d7be77e7-34c8-4e70-a4c3-e5bc204fd80d"
      },
      "source": [
        "a = 100\n",
        "b = 200\n",
        "print('swap 이전 : a =', a, 'b =', b)\n",
        "a, b = b, a\n",
        "print('튜플을 사용한 swap 결과 : a =', a, 'b =', b)"
      ],
      "execution_count": null,
      "outputs": [
        {
          "output_type": "stream",
          "text": [
            "swap 이전 : a = 100 b = 200\n",
            "튜플을 사용한 swap 결과 : a = 200 b = 100\n"
          ],
          "name": "stdout"
        }
      ]
    },
    {
      "cell_type": "markdown",
      "metadata": {
        "id": "fAsWzMG7n5QR"
      },
      "source": [
        "LAB 6-6 : 튜플의 생성과 패킹, 언패킹"
      ]
    },
    {
      "cell_type": "code",
      "metadata": {
        "colab": {
          "base_uri": "https://localhost:8080/"
        },
        "id": "sXuGqWi4nwys",
        "outputId": "009357b4-8453-4e9c-a38f-d1be5f37e229"
      },
      "source": [
        "#1.\n",
        "the_day = (1919, 3, 1)\n",
        "year, month, day = the_day\n",
        "print('{}년 {}월 {}일은 삼일절입니다.'.format(year, month, day))"
      ],
      "execution_count": null,
      "outputs": [
        {
          "output_type": "stream",
          "text": [
            "1919년 3월 1일은 삼일절입니다.\n"
          ],
          "name": "stdout"
        }
      ]
    },
    {
      "cell_type": "code",
      "metadata": {
        "colab": {
          "base_uri": "https://localhost:8080/"
        },
        "id": "M15PO96foMLE",
        "outputId": "f06fccfd-83c2-47a1-dbf2-b19df2cd3977"
      },
      "source": [
        "#2.\n",
        "lists = [10,20,30]\n",
        "c,b,a = tuple(lists)\n",
        "print('a =',a)\n",
        "print('b =',b)\n",
        "print('c =',c)"
      ],
      "execution_count": null,
      "outputs": [
        {
          "output_type": "stream",
          "text": [
            "a = 30\n",
            "b = 20\n",
            "c = 10\n"
          ],
          "name": "stdout"
        }
      ]
    },
    {
      "cell_type": "markdown",
      "metadata": {
        "id": "v69eVC2zoqDc"
      },
      "source": [
        "대화창 실습 : 튜플의 +와 * 연산"
      ]
    },
    {
      "cell_type": "code",
      "metadata": {
        "colab": {
          "base_uri": "https://localhost:8080/"
        },
        "id": "TkWXIeiooaf4",
        "outputId": "cd952282-81bc-4885-9452-656a62f07cf6"
      },
      "source": [
        "t0 = (10,20,30)\n",
        "t1 = t0+t0\n",
        "t1"
      ],
      "execution_count": null,
      "outputs": [
        {
          "output_type": "execute_result",
          "data": {
            "text/plain": [
              "(10, 20, 30, 10, 20, 30)"
            ]
          },
          "metadata": {
            "tags": []
          },
          "execution_count": 110
        }
      ]
    },
    {
      "cell_type": "code",
      "metadata": {
        "colab": {
          "base_uri": "https://localhost:8080/"
        },
        "id": "qJAZ-VA0oyfn",
        "outputId": "d3616b54-713c-455c-dc58-8eaf3e82b595"
      },
      "source": [
        "t2 = t0 * 2\n",
        "t2"
      ],
      "execution_count": null,
      "outputs": [
        {
          "output_type": "execute_result",
          "data": {
            "text/plain": [
              "(10, 20, 30, 10, 20, 30)"
            ]
          },
          "metadata": {
            "tags": []
          },
          "execution_count": 111
        }
      ]
    },
    {
      "cell_type": "code",
      "metadata": {
        "colab": {
          "base_uri": "https://localhost:8080/",
          "height": 163
        },
        "id": "BpU9H9-Ho7HK",
        "outputId": "cb3b4001-db72-4a89-f7e8-7a046881d04f"
      },
      "source": [
        "t3 = t0 + 40    # 튜플과 정수는 덧셈 연산을 할 수 없음."
      ],
      "execution_count": null,
      "outputs": [
        {
          "output_type": "error",
          "ename": "TypeError",
          "evalue": "ignored",
          "traceback": [
            "\u001b[0;31m---------------------------------------------------------------------------\u001b[0m",
            "\u001b[0;31mTypeError\u001b[0m                                 Traceback (most recent call last)",
            "\u001b[0;32m<ipython-input-112-16bd8dde3c04>\u001b[0m in \u001b[0;36m<module>\u001b[0;34m()\u001b[0m\n\u001b[0;32m----> 1\u001b[0;31m \u001b[0mt3\u001b[0m \u001b[0;34m=\u001b[0m \u001b[0mt0\u001b[0m \u001b[0;34m+\u001b[0m \u001b[0;36m40\u001b[0m    \u001b[0;31m# 튜플과 정수는 덧셈 연산을 할 수 없음.\u001b[0m\u001b[0;34m\u001b[0m\u001b[0;34m\u001b[0m\u001b[0m\n\u001b[0m",
            "\u001b[0;31mTypeError\u001b[0m: can only concatenate tuple (not \"int\") to tuple"
          ]
        }
      ]
    },
    {
      "cell_type": "code",
      "metadata": {
        "colab": {
          "base_uri": "https://localhost:8080/"
        },
        "id": "WLRtU7BApBvE",
        "outputId": "16d67e32-6def-4881-e553-895ce795cb9c"
      },
      "source": [
        "t4 = t0 + (40,)\n",
        "t4"
      ],
      "execution_count": null,
      "outputs": [
        {
          "output_type": "execute_result",
          "data": {
            "text/plain": [
              "(10, 20, 30, 40)"
            ]
          },
          "metadata": {
            "tags": []
          },
          "execution_count": 114
        }
      ]
    },
    {
      "cell_type": "markdown",
      "metadata": {
        "id": "TBo1EyWUpLWF"
      },
      "source": [
        "대화창 실습 : 튜플의 메소드 테스트"
      ]
    },
    {
      "cell_type": "code",
      "metadata": {
        "colab": {
          "base_uri": "https://localhost:8080/"
        },
        "id": "JQ2x_jiLpH33",
        "outputId": "ec1ae920-b516-4a50-a95a-343f302f61b9"
      },
      "source": [
        "t = (10,20,30,20,20,10,50)\n",
        "t.count(10)"
      ],
      "execution_count": null,
      "outputs": [
        {
          "output_type": "execute_result",
          "data": {
            "text/plain": [
              "2"
            ]
          },
          "metadata": {
            "tags": []
          },
          "execution_count": 115
        }
      ]
    },
    {
      "cell_type": "code",
      "metadata": {
        "colab": {
          "base_uri": "https://localhost:8080/"
        },
        "id": "RK2v2_YUpTSk",
        "outputId": "a56e47ec-2783-48a8-d793-d0f8c7381b04"
      },
      "source": [
        "t.count(20)"
      ],
      "execution_count": null,
      "outputs": [
        {
          "output_type": "execute_result",
          "data": {
            "text/plain": [
              "3"
            ]
          },
          "metadata": {
            "tags": []
          },
          "execution_count": 116
        }
      ]
    },
    {
      "cell_type": "code",
      "metadata": {
        "colab": {
          "base_uri": "https://localhost:8080/"
        },
        "id": "Qy1X7RLDpUpY",
        "outputId": "10fc392b-b3c8-4bf7-aa4a-880b0a968820"
      },
      "source": [
        "t.index(30)"
      ],
      "execution_count": null,
      "outputs": [
        {
          "output_type": "execute_result",
          "data": {
            "text/plain": [
              "2"
            ]
          },
          "metadata": {
            "tags": []
          },
          "execution_count": 118
        }
      ]
    },
    {
      "cell_type": "code",
      "metadata": {
        "colab": {
          "base_uri": "https://localhost:8080/"
        },
        "id": "G9pvlt1JpWeq",
        "outputId": "47f802ea-7912-4f47-c437-76024e27fe67"
      },
      "source": [
        "t.index(50)"
      ],
      "execution_count": null,
      "outputs": [
        {
          "output_type": "execute_result",
          "data": {
            "text/plain": [
              "6"
            ]
          },
          "metadata": {
            "tags": []
          },
          "execution_count": 119
        }
      ]
    },
    {
      "cell_type": "markdown",
      "metadata": {
        "id": "ED9lLYDbphKt"
      },
      "source": [
        "tuple_item_change.py"
      ]
    },
    {
      "cell_type": "code",
      "metadata": {
        "colab": {
          "base_uri": "https://localhost:8080/"
        },
        "id": "LrbZhF-updoX",
        "outputId": "75a080ca-29c7-4bbc-d558-7bb2c9ce3d1b"
      },
      "source": [
        "t_fruits = ('apple','orange','water melon')\n",
        "print('변경 전 :', t_fruits)\n",
        "f_list = list(t_fruits)\n",
        "f_list[1] = 'kiwi'\n",
        "t_fruits = tuple(f_list)\n",
        "print('변경 후 :',t_fruits)"
      ],
      "execution_count": null,
      "outputs": [
        {
          "output_type": "stream",
          "text": [
            "변경 전 : ('apple', 'orange', 'water melon')\n",
            "변경 후 : ('apple', 'kiwi', 'water melon')\n"
          ],
          "name": "stdout"
        }
      ]
    },
    {
      "cell_type": "markdown",
      "metadata": {
        "id": "1WEPPvhiqDLi"
      },
      "source": [
        "LAB 6-7 : 튜플의 활용"
      ]
    },
    {
      "cell_type": "code",
      "metadata": {
        "colab": {
          "base_uri": "https://localhost:8080/"
        },
        "id": "obX_CehVp7GM",
        "outputId": "65b8d6b3-5a3c-4b7a-e955-c352eedb55dd"
      },
      "source": [
        "#1.\n",
        "person = ('홍길동', 2019001, 179)\n",
        "print('person =',person)"
      ],
      "execution_count": null,
      "outputs": [
        {
          "output_type": "stream",
          "text": [
            "person = ('홍길동', 2019001, 179)\n"
          ],
          "name": "stdout"
        }
      ]
    },
    {
      "cell_type": "code",
      "metadata": {
        "id": "ihM_FnrrqOlW"
      },
      "source": [
        "#2.\n",
        "# person[1] = 2019003  >> TypeError 발생"
      ],
      "execution_count": null,
      "outputs": []
    },
    {
      "cell_type": "code",
      "metadata": {
        "colab": {
          "base_uri": "https://localhost:8080/"
        },
        "id": "d0EHTEgGqXYU",
        "outputId": "e51958b3-8d80-44b5-8cae-598658e79537"
      },
      "source": [
        "#3.\n",
        "p_list = list(person)\n",
        "p_list[1] = 2020003\n",
        "person = tuple(p_list)\n",
        "print('학번 변동 후 person =',person)"
      ],
      "execution_count": null,
      "outputs": [
        {
          "output_type": "stream",
          "text": [
            "학번 변동 후 person = ('홍길동', 2020003, 179)\n"
          ],
          "name": "stdout"
        }
      ]
    },
    {
      "cell_type": "markdown",
      "metadata": {
        "id": "j8IXVSEOq35Y"
      },
      "source": [
        "circle_area_and_circum.py"
      ]
    },
    {
      "cell_type": "code",
      "metadata": {
        "colab": {
          "base_uri": "https://localhost:8080/"
        },
        "id": "kwka607NqtaZ",
        "outputId": "8bb8ee4b-40f3-486c-c7f5-6fb20332e48a"
      },
      "source": [
        "def area_and_circum(radius) :\n",
        "    area = 3.14 * radius ** 2\n",
        "    circum = 2 * 3.14 * radius\n",
        "    return area, circum     # 튜플 반환\n",
        "r = 4\n",
        "a, c = area_and_circum(r)       # 반환받은 튜플 언패킹\n",
        "print('반지름 {}인 원의 면적과 둘레 : {}, {}'.format(r,a,c))"
      ],
      "execution_count": null,
      "outputs": [
        {
          "output_type": "stream",
          "text": [
            "반지름 4인 원의 면적과 둘레 : 50.24, 25.12\n"
          ],
          "name": "stdout"
        }
      ]
    },
    {
      "cell_type": "markdown",
      "metadata": {
        "id": "5dSjhIPlrjlq"
      },
      "source": [
        "LAB 6-8 : 튜플의 반환"
      ]
    },
    {
      "cell_type": "code",
      "metadata": {
        "colab": {
          "base_uri": "https://localhost:8080/"
        },
        "id": "0yHIbpJerUVq",
        "outputId": "ba045148-0fff-4fd2-935b-0fce6fec600a"
      },
      "source": [
        "#1.\n",
        "def square(x,y) :\n",
        "    x_sq = x**2\n",
        "    y_sq = y**2\n",
        "    return x_sq, y_sq\n",
        "x = 10\n",
        "y = 20\n",
        "x_sq, y_sq = square(x,y)\n",
        "print('{} 제곱 = {}, {} 제곱 = {}'.format(x, x_sq, y, y_sq))"
      ],
      "execution_count": null,
      "outputs": [
        {
          "output_type": "stream",
          "text": [
            "10 제곱 = 100, 20 제곱 = 400\n"
          ],
          "name": "stdout"
        }
      ]
    },
    {
      "cell_type": "code",
      "metadata": {
        "colab": {
          "base_uri": "https://localhost:8080/"
        },
        "id": "CDnAV-9WsBNg",
        "outputId": "c0ea7f8f-66ec-46a6-ae87-78e3879cbcc5"
      },
      "source": [
        "#2.\n",
        "(10,20,30) + (40,50,60)"
      ],
      "execution_count": null,
      "outputs": [
        {
          "output_type": "execute_result",
          "data": {
            "text/plain": [
              "(10, 20, 30, 40, 50, 60)"
            ]
          },
          "metadata": {
            "tags": []
          },
          "execution_count": 129
        }
      ]
    },
    {
      "cell_type": "code",
      "metadata": {
        "colab": {
          "base_uri": "https://localhost:8080/"
        },
        "id": "qHlXWK2wsGsl",
        "outputId": "aa6704d6-50a9-4eb1-faea-368e415b4da9"
      },
      "source": [
        "#3.\n",
        "print('Hello ' *3)"
      ],
      "execution_count": null,
      "outputs": [
        {
          "output_type": "stream",
          "text": [
            "Hello Hello Hello \n"
          ],
          "name": "stdout"
        }
      ]
    },
    {
      "cell_type": "code",
      "metadata": {
        "colab": {
          "base_uri": "https://localhost:8080/"
        },
        "id": "Oiw85fHtsKvO",
        "outputId": "ab6e4382-c80b-44f0-d22c-1a270643c527"
      },
      "source": [
        "print(('Hello ',) *3)"
      ],
      "execution_count": null,
      "outputs": [
        {
          "output_type": "stream",
          "text": [
            "('Hello ', 'Hello ', 'Hello ')\n"
          ],
          "name": "stdout"
        }
      ]
    },
    {
      "cell_type": "markdown",
      "metadata": {
        "id": "hlcAiygYsnaH"
      },
      "source": [
        "# 집합"
      ]
    },
    {
      "cell_type": "markdown",
      "metadata": {
        "id": "ZSnUJJGH2mVz"
      },
      "source": [
        "대화창 실습 : 리스트와 튜플로부터 집합 만들기"
      ]
    },
    {
      "cell_type": "code",
      "metadata": {
        "id": "sFKtpY_ssOCG",
        "colab": {
          "base_uri": "https://localhost:8080/"
        },
        "outputId": "7ce0a4d2-e79d-4b49-dc78-3c4a006ac4d8"
      },
      "source": [
        "days_list = ['Mon', 'Tue', 'Wed', 'Thu', 'Fri', 'Sat', 'Sun']\n",
        "days_set = set(days_list)\n",
        "days_set"
      ],
      "execution_count": null,
      "outputs": [
        {
          "output_type": "execute_result",
          "data": {
            "text/plain": [
              "{'Fri', 'Mon', 'Sat', 'Sun', 'Thu', 'Tue', 'Wed'}"
            ]
          },
          "metadata": {
            "tags": []
          },
          "execution_count": 2
        }
      ]
    },
    {
      "cell_type": "code",
      "metadata": {
        "colab": {
          "base_uri": "https://localhost:8080/"
        },
        "id": "6LsRSHy83CUX",
        "outputId": "61767b7f-c348-490a-8995-5d60d10f2035"
      },
      "source": [
        "fruits_tuple = ('apple', 'orange', 'water melon')\n",
        "fruits_set = set(fruits_tuple)\n",
        "fruits_set"
      ],
      "execution_count": null,
      "outputs": [
        {
          "output_type": "execute_result",
          "data": {
            "text/plain": [
              "{'apple', 'orange', 'water melon'}"
            ]
          },
          "metadata": {
            "tags": []
          },
          "execution_count": 3
        }
      ]
    },
    {
      "cell_type": "code",
      "metadata": {
        "colab": {
          "base_uri": "https://localhost:8080/"
        },
        "id": "YapqlXP93kqz",
        "outputId": "4705ce4d-e8f7-4c53-830a-3c3e36d02b70"
      },
      "source": [
        "h_str = 'hello'\n",
        "h_set = set(h_str)\n",
        "h_set   # 집합에서는 문자 'l'의 중복을 허용하지 않음."
      ],
      "execution_count": null,
      "outputs": [
        {
          "output_type": "execute_result",
          "data": {
            "text/plain": [
              "{'e', 'h', 'l', 'o'}"
            ]
          },
          "metadata": {
            "tags": []
          },
          "execution_count": 4
        }
      ]
    },
    {
      "cell_type": "markdown",
      "metadata": {
        "id": "6CWwjYOJ3u2p"
      },
      "source": [
        "LAB 6-9 : 집합의 생성"
      ]
    },
    {
      "cell_type": "code",
      "metadata": {
        "colab": {
          "base_uri": "https://localhost:8080/"
        },
        "id": "62nC1W9V3skp",
        "outputId": "d57b350f-deac-4d37-cc67-5cc36d9f4281"
      },
      "source": [
        "#1.\n",
        "lst = ['apple', 'mango', 'banana']\n",
        "print('lst =', lst)\n",
        "print('s1 =', set(lst))"
      ],
      "execution_count": null,
      "outputs": [
        {
          "output_type": "stream",
          "text": [
            "lst = ['apple', 'mango', 'banana']\n",
            "s1 = {'banana', 'apple', 'mango'}\n"
          ],
          "name": "stdout"
        }
      ]
    },
    {
      "cell_type": "code",
      "metadata": {
        "colab": {
          "base_uri": "https://localhost:8080/"
        },
        "id": "uOaelCd93-hN",
        "outputId": "0e582dee-c766-4b7a-d36c-03cffc417040"
      },
      "source": [
        "#2.\n",
        "greet = 'Good afternoon'\n",
        "print('greet =',greet)\n",
        "print('s2 =', set(greet))"
      ],
      "execution_count": null,
      "outputs": [
        {
          "output_type": "stream",
          "text": [
            "greet = Good afternoon\n",
            "s2 = {'a', 't', 'f', ' ', 'r', 'n', 'd', 'G', 'o', 'e'}\n"
          ],
          "name": "stdout"
        }
      ]
    },
    {
      "cell_type": "markdown",
      "metadata": {
        "id": "6-cLNEIy4U1Z"
      },
      "source": [
        "대화창 실습 : 집합의 메소드 테스트"
      ]
    },
    {
      "cell_type": "code",
      "metadata": {
        "colab": {
          "base_uri": "https://localhost:8080/"
        },
        "id": "t0IpMr3d4JzJ",
        "outputId": "90d1c869-9b7a-4d5a-80a6-7363b5a47b14"
      },
      "source": [
        "s = {100, 100, 200, 200, 300, 400}\n",
        "s"
      ],
      "execution_count": null,
      "outputs": [
        {
          "output_type": "execute_result",
          "data": {
            "text/plain": [
              "{100, 200, 300, 400}"
            ]
          },
          "metadata": {
            "tags": []
          },
          "execution_count": 7
        }
      ]
    },
    {
      "cell_type": "code",
      "metadata": {
        "colab": {
          "base_uri": "https://localhost:8080/"
        },
        "id": "acQaqyCW457n",
        "outputId": "252a6dea-8623-4c72-ac79-0db150b39119"
      },
      "source": [
        "s.add(500)\n",
        "s"
      ],
      "execution_count": null,
      "outputs": [
        {
          "output_type": "execute_result",
          "data": {
            "text/plain": [
              "{100, 200, 300, 400, 500}"
            ]
          },
          "metadata": {
            "tags": []
          },
          "execution_count": 9
        }
      ]
    },
    {
      "cell_type": "code",
      "metadata": {
        "colab": {
          "base_uri": "https://localhost:8080/"
        },
        "id": "92qG514K47iT",
        "outputId": "82171efb-b2c1-4451-f2a7-dc0d84541e43"
      },
      "source": [
        "s.discard(100)\n",
        "s"
      ],
      "execution_count": null,
      "outputs": [
        {
          "output_type": "execute_result",
          "data": {
            "text/plain": [
              "{200, 300, 400, 500}"
            ]
          },
          "metadata": {
            "tags": []
          },
          "execution_count": 11
        }
      ]
    },
    {
      "cell_type": "markdown",
      "metadata": {
        "id": "k4GhXczk5dm9"
      },
      "source": [
        "대화창 실습 : 집합과 연산"
      ]
    },
    {
      "cell_type": "code",
      "metadata": {
        "colab": {
          "base_uri": "https://localhost:8080/"
        },
        "id": "DTntHat04-lE",
        "outputId": "2c751ce9-0ea1-425c-f8a8-a720dc1a4b30"
      },
      "source": [
        "s1 = {1,2,3,4,5,6}\n",
        "s2 = {4,5,6,7,8,9}\n",
        "s1|s2"
      ],
      "execution_count": null,
      "outputs": [
        {
          "output_type": "execute_result",
          "data": {
            "text/plain": [
              "{1, 2, 3, 4, 5, 6, 7, 8, 9}"
            ]
          },
          "metadata": {
            "tags": []
          },
          "execution_count": 16
        }
      ]
    },
    {
      "cell_type": "code",
      "metadata": {
        "colab": {
          "base_uri": "https://localhost:8080/"
        },
        "id": "gE0iuJen5jOC",
        "outputId": "7c62ff50-8a27-4138-e72b-bb146f5c117e"
      },
      "source": [
        "s1 & s2"
      ],
      "execution_count": null,
      "outputs": [
        {
          "output_type": "execute_result",
          "data": {
            "text/plain": [
              "{4, 5, 6}"
            ]
          },
          "metadata": {
            "tags": []
          },
          "execution_count": 17
        }
      ]
    },
    {
      "cell_type": "code",
      "metadata": {
        "colab": {
          "base_uri": "https://localhost:8080/"
        },
        "id": "4Bnw3M7L5mzG",
        "outputId": "46dc1e4c-8b21-4ee1-d71a-0b07c0ef6284"
      },
      "source": [
        "s1 - s2"
      ],
      "execution_count": null,
      "outputs": [
        {
          "output_type": "execute_result",
          "data": {
            "text/plain": [
              "{1, 2, 3}"
            ]
          },
          "metadata": {
            "tags": []
          },
          "execution_count": 14
        }
      ]
    },
    {
      "cell_type": "code",
      "metadata": {
        "colab": {
          "base_uri": "https://localhost:8080/"
        },
        "id": "OlLceBYy5qiK",
        "outputId": "9dc83d71-a247-4b98-9355-5230a956f24e"
      },
      "source": [
        "s1 ^ s2"
      ],
      "execution_count": null,
      "outputs": [
        {
          "output_type": "execute_result",
          "data": {
            "text/plain": [
              "{1, 2, 3, 7, 8, 9}"
            ]
          },
          "metadata": {
            "tags": []
          },
          "execution_count": 15
        }
      ]
    },
    {
      "cell_type": "markdown",
      "metadata": {
        "id": "zzjZtcKN6k_X"
      },
      "source": [
        "대화창 실습 : 집합과 연산"
      ]
    },
    {
      "cell_type": "code",
      "metadata": {
        "colab": {
          "base_uri": "https://localhost:8080/"
        },
        "id": "6Vc3f3z25s1j",
        "outputId": "1dd120ff-840e-4a21-e3a6-993aa2145401"
      },
      "source": [
        "s1 = {1,2,3,4,5,6}\n",
        "s2 = {4,5,6,7,8,9}\n",
        "s1.union(s2)"
      ],
      "execution_count": null,
      "outputs": [
        {
          "output_type": "execute_result",
          "data": {
            "text/plain": [
              "{1, 2, 3, 4, 5, 6, 7, 8, 9}"
            ]
          },
          "metadata": {
            "tags": []
          },
          "execution_count": 18
        }
      ]
    },
    {
      "cell_type": "code",
      "metadata": {
        "colab": {
          "base_uri": "https://localhost:8080/"
        },
        "id": "sX8Zpa156vwO",
        "outputId": "e392de49-8647-4084-adc8-cd1d58f98744"
      },
      "source": [
        "s1.intersection(s2)"
      ],
      "execution_count": null,
      "outputs": [
        {
          "output_type": "execute_result",
          "data": {
            "text/plain": [
              "{4, 5, 6}"
            ]
          },
          "metadata": {
            "tags": []
          },
          "execution_count": 19
        }
      ]
    },
    {
      "cell_type": "code",
      "metadata": {
        "colab": {
          "base_uri": "https://localhost:8080/"
        },
        "id": "S-W9lkFE6xJF",
        "outputId": "278ec541-cca6-405c-bb5f-6fc90c73084f"
      },
      "source": [
        "s1.difference(s2)"
      ],
      "execution_count": null,
      "outputs": [
        {
          "output_type": "execute_result",
          "data": {
            "text/plain": [
              "{1, 2, 3}"
            ]
          },
          "metadata": {
            "tags": []
          },
          "execution_count": 20
        }
      ]
    },
    {
      "cell_type": "code",
      "metadata": {
        "colab": {
          "base_uri": "https://localhost:8080/"
        },
        "id": "5rTw6x-k6ypt",
        "outputId": "4d260552-4e25-454b-f31c-00ad9df2cc1a"
      },
      "source": [
        "s1.symmetric_difference(s2)"
      ],
      "execution_count": null,
      "outputs": [
        {
          "output_type": "execute_result",
          "data": {
            "text/plain": [
              "{1, 2, 3, 7, 8, 9}"
            ]
          },
          "metadata": {
            "tags": []
          },
          "execution_count": 22
        }
      ]
    },
    {
      "cell_type": "markdown",
      "metadata": {
        "id": "o-OPr9-V64aF"
      },
      "source": [
        "대화창 실습 : 집합과 s1 - s2 - s3 연산"
      ]
    },
    {
      "cell_type": "code",
      "metadata": {
        "colab": {
          "base_uri": "https://localhost:8080/"
        },
        "id": "M5bDUtH560x-",
        "outputId": "67745f77-7513-4d4c-95f3-50be503bb600"
      },
      "source": [
        "s1 = {1,2,3,4,5,6}\n",
        "s2 = {4,5,6,7,8,9}\n",
        "s3 = {5,6,9,10,11}\n",
        "s1 & s2 & s3"
      ],
      "execution_count": null,
      "outputs": [
        {
          "output_type": "execute_result",
          "data": {
            "text/plain": [
              "{5, 6}"
            ]
          },
          "metadata": {
            "tags": []
          },
          "execution_count": 27
        }
      ]
    },
    {
      "cell_type": "code",
      "metadata": {
        "colab": {
          "base_uri": "https://localhost:8080/"
        },
        "id": "KncLqJjN7Cx8",
        "outputId": "f4c679bd-8568-4202-c615-28914f066132"
      },
      "source": [
        "s1 - s2 - s3"
      ],
      "execution_count": null,
      "outputs": [
        {
          "output_type": "execute_result",
          "data": {
            "text/plain": [
              "{1, 2, 3}"
            ]
          },
          "metadata": {
            "tags": []
          },
          "execution_count": 28
        }
      ]
    },
    {
      "cell_type": "markdown",
      "metadata": {
        "id": "KwCl_b8e7KWf"
      },
      "source": [
        "대화창 실습 : 부분집합과 상위집합 연산"
      ]
    },
    {
      "cell_type": "code",
      "metadata": {
        "colab": {
          "base_uri": "https://localhost:8080/"
        },
        "id": "nd0Xe9Mn7ELo",
        "outputId": "4884fa8f-5221-41a5-a5a4-f738620509f7"
      },
      "source": [
        "s1 = {1,2,3,4,5}\n",
        "s2 = {1,2,3}\n",
        "s3 = {1,2,6}\n",
        "s2.issubset(s1)"
      ],
      "execution_count": null,
      "outputs": [
        {
          "output_type": "execute_result",
          "data": {
            "text/plain": [
              "True"
            ]
          },
          "metadata": {
            "tags": []
          },
          "execution_count": 29
        }
      ]
    },
    {
      "cell_type": "code",
      "metadata": {
        "colab": {
          "base_uri": "https://localhost:8080/"
        },
        "id": "8YkDdw6R7R8G",
        "outputId": "0bdf5c3c-54ae-4a04-ff84-785da81e667e"
      },
      "source": [
        "s3.issubset(s1)"
      ],
      "execution_count": null,
      "outputs": [
        {
          "output_type": "execute_result",
          "data": {
            "text/plain": [
              "False"
            ]
          },
          "metadata": {
            "tags": []
          },
          "execution_count": 31
        }
      ]
    },
    {
      "cell_type": "code",
      "metadata": {
        "colab": {
          "base_uri": "https://localhost:8080/"
        },
        "id": "EFNHN-ik7XpM",
        "outputId": "7bdd92bc-9c08-4bd7-ef56-827eb519e414"
      },
      "source": [
        "s1.issuperset(s2)"
      ],
      "execution_count": null,
      "outputs": [
        {
          "output_type": "execute_result",
          "data": {
            "text/plain": [
              "True"
            ]
          },
          "metadata": {
            "tags": []
          },
          "execution_count": 34
        }
      ]
    },
    {
      "cell_type": "code",
      "metadata": {
        "colab": {
          "base_uri": "https://localhost:8080/"
        },
        "id": "IuYFUARP7aX2",
        "outputId": "2db9bcae-162b-496a-bac3-427e33a10acd"
      },
      "source": [
        "s1.issuperset(s3)"
      ],
      "execution_count": null,
      "outputs": [
        {
          "output_type": "execute_result",
          "data": {
            "text/plain": [
              "False"
            ]
          },
          "metadata": {
            "tags": []
          },
          "execution_count": 35
        }
      ]
    },
    {
      "cell_type": "markdown",
      "metadata": {
        "id": "f7d1KAex7qU6"
      },
      "source": [
        "대화창 실습 : 두 집합의 서로소 연산"
      ]
    },
    {
      "cell_type": "code",
      "metadata": {
        "colab": {
          "base_uri": "https://localhost:8080/"
        },
        "id": "QgUPq9IN7cDI",
        "outputId": "37d6dbc5-5e92-42b0-c1c0-4a8e9bdd9336"
      },
      "source": [
        "s1 = {1,2,3}\n",
        "s2 = {10,20,30}\n",
        "s1.isdisjoint(s2)"
      ],
      "execution_count": null,
      "outputs": [
        {
          "output_type": "execute_result",
          "data": {
            "text/plain": [
              "True"
            ]
          },
          "metadata": {
            "tags": []
          },
          "execution_count": 36
        }
      ]
    },
    {
      "cell_type": "markdown",
      "metadata": {
        "id": "z3wCXnpq72uY"
      },
      "source": [
        "LAB 6-8 : 집합의 연산"
      ]
    },
    {
      "cell_type": "code",
      "metadata": {
        "colab": {
          "base_uri": "https://localhost:8080/"
        },
        "id": "ZoirLpCg7wUN",
        "outputId": "cb2b38cb-2099-4ff0-98c7-319811cb3915"
      },
      "source": [
        "#1.\n",
        "s1 = {10,20,30,40}\n",
        "s2 = {30,40,50,60,70}\n",
        "print(s1|s2)\n",
        "print(s1&s2)\n",
        "print(s1-s2)\n",
        "print(s1^s2)\n",
        "print(s1.issubset(s2))\n",
        "print(s1.issuperset(s2))\n",
        "print(s1.isdisjoint(s2))"
      ],
      "execution_count": null,
      "outputs": [
        {
          "output_type": "stream",
          "text": [
            "{70, 40, 10, 50, 20, 60, 30}\n",
            "{40, 30}\n",
            "{10, 20}\n",
            "{50, 20, 70, 10, 60}\n",
            "False\n",
            "False\n",
            "False\n"
          ],
          "name": "stdout"
        }
      ]
    },
    {
      "cell_type": "markdown",
      "metadata": {
        "id": "ohSorCzq8kct"
      },
      "source": [
        "product_set_test.py"
      ]
    },
    {
      "cell_type": "code",
      "metadata": {
        "colab": {
          "base_uri": "https://localhost:8080/"
        },
        "id": "QV3lHwRS8hr6",
        "outputId": "38846f2c-44d4-4cef-838b-fbf656e05d7b"
      },
      "source": [
        "def product_set(set1, set2) :\n",
        "    res = set()\n",
        "    for i in set1 :\n",
        "        for j in set2 :\n",
        "            res = res | {(i,j)}\n",
        "    return res\n",
        "\n",
        "A = {1,3}\n",
        "B = {2,4}\n",
        "AXB = product_set(A,B)\n",
        "print('A =', A)\n",
        "print('B =', B)\n",
        "print('AXB =', AXB)"
      ],
      "execution_count": null,
      "outputs": [
        {
          "output_type": "stream",
          "text": [
            "A = {1, 3}\n",
            "B = {2, 4}\n",
            "AXB = {(1, 2), (3, 2), (3, 4), (1, 4)}\n"
          ],
          "name": "stdout"
        }
      ]
    },
    {
      "cell_type": "markdown",
      "metadata": {
        "id": "Z8UUbEkJ9uFY"
      },
      "source": [
        "LAB 6-11 : 곱집합 연산"
      ]
    },
    {
      "cell_type": "code",
      "metadata": {
        "colab": {
          "base_uri": "https://localhost:8080/"
        },
        "id": "ihcSlLLd9NwZ",
        "outputId": "ec313a75-262e-4b94-fe14-dd2e87dfb844"
      },
      "source": [
        "#1.\n",
        "A = {1,2}\n",
        "B = {'A', 'B', 'C'}\n",
        "print(product_set(A,B))\n",
        "print(product_set(B,A))\n",
        "print(product_set(A,A))\n",
        "print(product_set(B,B))"
      ],
      "execution_count": null,
      "outputs": [
        {
          "output_type": "stream",
          "text": [
            "{(2, 'B'), (2, 'A'), (1, 'A'), (2, 'C'), (1, 'B'), (1, 'C')}\n",
            "{('B', 1), ('A', 2), ('C', 2), ('A', 1), ('B', 2), ('C', 1)}\n",
            "{(1, 2), (1, 1), (2, 1), (2, 2)}\n",
            "{('B', 'A'), ('C', 'A'), ('B', 'B'), ('B', 'C'), ('A', 'A'), ('C', 'B'), ('A', 'C'), ('C', 'C'), ('A', 'B')}\n"
          ],
          "name": "stdout"
        }
      ]
    },
    {
      "cell_type": "markdown",
      "metadata": {
        "id": "Z9GzzejW-K4D"
      },
      "source": [
        "set_exponent.py"
      ]
    },
    {
      "cell_type": "code",
      "metadata": {
        "colab": {
          "base_uri": "https://localhost:8080/"
        },
        "id": "zaPwJdsG9-zy",
        "outputId": "e5d6c3b3-2099-4929-83ee-e9fa77bd3fae"
      },
      "source": [
        "def product_set(set1, set2) :\n",
        "    res = set()\n",
        "    for i in set1 :\n",
        "        for j in set2 :\n",
        "            res = res | {(i,j)}\n",
        "    return res\n",
        "\n",
        "def exp(input_set, exponent) :\n",
        "    res = input_set\n",
        "    for _ in range(exponent-1) :\n",
        "        res = product_set(res, input_set) \n",
        "    return res\n",
        "\n",
        "A = {1,3}\n",
        "A3 = exp(A,3)\n",
        "print(A3)"
      ],
      "execution_count": null,
      "outputs": [
        {
          "output_type": "stream",
          "text": [
            "{((1, 1), 1), ((3, 1), 1), ((1, 3), 3), ((1, 1), 3), ((3, 3), 1), ((1, 3), 1), ((3, 1), 3), ((3, 3), 3)}\n"
          ],
          "name": "stdout"
        }
      ]
    },
    {
      "cell_type": "markdown",
      "metadata": {
        "id": "CoFO_tJf_DNa"
      },
      "source": [
        "set_dice_twice.py"
      ]
    },
    {
      "cell_type": "code",
      "metadata": {
        "colab": {
          "base_uri": "https://localhost:8080/"
        },
        "id": "NQLeyTdp_E74",
        "outputId": "c198e38b-48a9-4d2f-fc04-c0ba2f3e3e87"
      },
      "source": [
        "def product_set(set1, set2) :\n",
        "    res = set()\n",
        "    for i in set1 :\n",
        "        for j in set2 :\n",
        "            res = res | {(i,j)}\n",
        "    return res\n",
        "\n",
        "cases = {1,2,3,4,5,6}\n",
        "cases_2times = product_set(cases,cases)\n",
        "print(cases_2times)"
      ],
      "execution_count": null,
      "outputs": [
        {
          "output_type": "stream",
          "text": [
            "{(1, 3), (6, 6), (5, 6), (2, 1), (6, 2), (1, 6), (5, 1), (2, 5), (1, 2), (3, 3), (5, 5), (4, 4), (6, 3), (1, 5), (3, 6), (2, 2), (3, 4), (4, 1), (1, 1), (6, 4), (3, 2), (2, 6), (5, 4), (4, 5), (1, 4), (2, 3), (4, 2), (6, 5), (3, 5), (5, 3), (4, 6), (6, 1), (3, 1), (4, 3), (5, 2), (2, 4)}\n"
          ],
          "name": "stdout"
        }
      ]
    },
    {
      "cell_type": "markdown",
      "metadata": {
        "id": "wl_R2s8e_lCw"
      },
      "source": [
        "대화창 실습 : 튜플 데이터 요소의 합"
      ]
    },
    {
      "cell_type": "code",
      "metadata": {
        "colab": {
          "base_uri": "https://localhost:8080/"
        },
        "id": "qw3xX8PH_eBN",
        "outputId": "ab378138-1a77-4487-8b22-dba7c6425034"
      },
      "source": [
        "a_tuple = (1,2,3,4,5)\n",
        "sum(a_tuple)"
      ],
      "execution_count": null,
      "outputs": [
        {
          "output_type": "execute_result",
          "data": {
            "text/plain": [
              "15"
            ]
          },
          "metadata": {
            "tags": []
          },
          "execution_count": 49
        }
      ]
    },
    {
      "cell_type": "markdown",
      "metadata": {
        "id": "4yYhdMchBhU9"
      },
      "source": [
        "set_dice_twice_sum.py"
      ]
    },
    {
      "cell_type": "code",
      "metadata": {
        "colab": {
          "base_uri": "https://localhost:8080/"
        },
        "id": "iSPOkO27_rgx",
        "outputId": "61db6e80-7027-47e1-bab5-1a03d3a65365"
      },
      "source": [
        "def product_set(set1, set2) :\n",
        "    res = set()\n",
        "    for i in set1 :\n",
        "        for j in set2 :\n",
        "            res = res | {(i,j)}\n",
        "    return res\n",
        "\n",
        "cases = {1,2,3,4,5,6}\n",
        "cases_2times = product_set(cases,cases)\n",
        "\n",
        "sum_set = { sum(tup) for tup in cases_2times }\n",
        "print('sum_set =', sum_set)\n",
        "sum_list = [ sum(tup) for tup in cases_2times ]\n",
        "print('sum_list =', sum_list)"
      ],
      "execution_count": null,
      "outputs": [
        {
          "output_type": "stream",
          "text": [
            "sum_set = {2, 3, 4, 5, 6, 7, 8, 9, 10, 11, 12}\n",
            "sum_list = [4, 12, 11, 3, 8, 7, 6, 7, 3, 6, 10, 8, 9, 6, 9, 4, 7, 5, 2, 10, 5, 8, 9, 9, 5, 5, 6, 11, 8, 8, 10, 7, 4, 7, 7, 6]\n"
          ],
          "name": "stdout"
        }
      ]
    },
    {
      "cell_type": "markdown",
      "metadata": {
        "id": "2VMfdgciB_mi"
      },
      "source": [
        "대화창 실습 : 주사위를 세 번 던져 얻는 모든 경우"
      ]
    },
    {
      "cell_type": "code",
      "metadata": {
        "colab": {
          "base_uri": "https://localhost:8080/"
        },
        "id": "fHoNxRpgAbsi",
        "outputId": "73aea9f1-1ce9-4353-c0c7-10c3820248e9"
      },
      "source": [
        "cases = {1,2,3,4,5,6}\n",
        "cases_2times = product_set(cases, cases)\n",
        "cases_3times = product_set(cases, cases_2times)\n",
        "cases_3times"
      ],
      "execution_count": null,
      "outputs": [
        {
          "output_type": "execute_result",
          "data": {
            "text/plain": [
              "{(1, (1, 1)),\n",
              " (1, (1, 2)),\n",
              " (1, (1, 3)),\n",
              " (1, (1, 4)),\n",
              " (1, (1, 5)),\n",
              " (1, (1, 6)),\n",
              " (1, (2, 1)),\n",
              " (1, (2, 2)),\n",
              " (1, (2, 3)),\n",
              " (1, (2, 4)),\n",
              " (1, (2, 5)),\n",
              " (1, (2, 6)),\n",
              " (1, (3, 1)),\n",
              " (1, (3, 2)),\n",
              " (1, (3, 3)),\n",
              " (1, (3, 4)),\n",
              " (1, (3, 5)),\n",
              " (1, (3, 6)),\n",
              " (1, (4, 1)),\n",
              " (1, (4, 2)),\n",
              " (1, (4, 3)),\n",
              " (1, (4, 4)),\n",
              " (1, (4, 5)),\n",
              " (1, (4, 6)),\n",
              " (1, (5, 1)),\n",
              " (1, (5, 2)),\n",
              " (1, (5, 3)),\n",
              " (1, (5, 4)),\n",
              " (1, (5, 5)),\n",
              " (1, (5, 6)),\n",
              " (1, (6, 1)),\n",
              " (1, (6, 2)),\n",
              " (1, (6, 3)),\n",
              " (1, (6, 4)),\n",
              " (1, (6, 5)),\n",
              " (1, (6, 6)),\n",
              " (2, (1, 1)),\n",
              " (2, (1, 2)),\n",
              " (2, (1, 3)),\n",
              " (2, (1, 4)),\n",
              " (2, (1, 5)),\n",
              " (2, (1, 6)),\n",
              " (2, (2, 1)),\n",
              " (2, (2, 2)),\n",
              " (2, (2, 3)),\n",
              " (2, (2, 4)),\n",
              " (2, (2, 5)),\n",
              " (2, (2, 6)),\n",
              " (2, (3, 1)),\n",
              " (2, (3, 2)),\n",
              " (2, (3, 3)),\n",
              " (2, (3, 4)),\n",
              " (2, (3, 5)),\n",
              " (2, (3, 6)),\n",
              " (2, (4, 1)),\n",
              " (2, (4, 2)),\n",
              " (2, (4, 3)),\n",
              " (2, (4, 4)),\n",
              " (2, (4, 5)),\n",
              " (2, (4, 6)),\n",
              " (2, (5, 1)),\n",
              " (2, (5, 2)),\n",
              " (2, (5, 3)),\n",
              " (2, (5, 4)),\n",
              " (2, (5, 5)),\n",
              " (2, (5, 6)),\n",
              " (2, (6, 1)),\n",
              " (2, (6, 2)),\n",
              " (2, (6, 3)),\n",
              " (2, (6, 4)),\n",
              " (2, (6, 5)),\n",
              " (2, (6, 6)),\n",
              " (3, (1, 1)),\n",
              " (3, (1, 2)),\n",
              " (3, (1, 3)),\n",
              " (3, (1, 4)),\n",
              " (3, (1, 5)),\n",
              " (3, (1, 6)),\n",
              " (3, (2, 1)),\n",
              " (3, (2, 2)),\n",
              " (3, (2, 3)),\n",
              " (3, (2, 4)),\n",
              " (3, (2, 5)),\n",
              " (3, (2, 6)),\n",
              " (3, (3, 1)),\n",
              " (3, (3, 2)),\n",
              " (3, (3, 3)),\n",
              " (3, (3, 4)),\n",
              " (3, (3, 5)),\n",
              " (3, (3, 6)),\n",
              " (3, (4, 1)),\n",
              " (3, (4, 2)),\n",
              " (3, (4, 3)),\n",
              " (3, (4, 4)),\n",
              " (3, (4, 5)),\n",
              " (3, (4, 6)),\n",
              " (3, (5, 1)),\n",
              " (3, (5, 2)),\n",
              " (3, (5, 3)),\n",
              " (3, (5, 4)),\n",
              " (3, (5, 5)),\n",
              " (3, (5, 6)),\n",
              " (3, (6, 1)),\n",
              " (3, (6, 2)),\n",
              " (3, (6, 3)),\n",
              " (3, (6, 4)),\n",
              " (3, (6, 5)),\n",
              " (3, (6, 6)),\n",
              " (4, (1, 1)),\n",
              " (4, (1, 2)),\n",
              " (4, (1, 3)),\n",
              " (4, (1, 4)),\n",
              " (4, (1, 5)),\n",
              " (4, (1, 6)),\n",
              " (4, (2, 1)),\n",
              " (4, (2, 2)),\n",
              " (4, (2, 3)),\n",
              " (4, (2, 4)),\n",
              " (4, (2, 5)),\n",
              " (4, (2, 6)),\n",
              " (4, (3, 1)),\n",
              " (4, (3, 2)),\n",
              " (4, (3, 3)),\n",
              " (4, (3, 4)),\n",
              " (4, (3, 5)),\n",
              " (4, (3, 6)),\n",
              " (4, (4, 1)),\n",
              " (4, (4, 2)),\n",
              " (4, (4, 3)),\n",
              " (4, (4, 4)),\n",
              " (4, (4, 5)),\n",
              " (4, (4, 6)),\n",
              " (4, (5, 1)),\n",
              " (4, (5, 2)),\n",
              " (4, (5, 3)),\n",
              " (4, (5, 4)),\n",
              " (4, (5, 5)),\n",
              " (4, (5, 6)),\n",
              " (4, (6, 1)),\n",
              " (4, (6, 2)),\n",
              " (4, (6, 3)),\n",
              " (4, (6, 4)),\n",
              " (4, (6, 5)),\n",
              " (4, (6, 6)),\n",
              " (5, (1, 1)),\n",
              " (5, (1, 2)),\n",
              " (5, (1, 3)),\n",
              " (5, (1, 4)),\n",
              " (5, (1, 5)),\n",
              " (5, (1, 6)),\n",
              " (5, (2, 1)),\n",
              " (5, (2, 2)),\n",
              " (5, (2, 3)),\n",
              " (5, (2, 4)),\n",
              " (5, (2, 5)),\n",
              " (5, (2, 6)),\n",
              " (5, (3, 1)),\n",
              " (5, (3, 2)),\n",
              " (5, (3, 3)),\n",
              " (5, (3, 4)),\n",
              " (5, (3, 5)),\n",
              " (5, (3, 6)),\n",
              " (5, (4, 1)),\n",
              " (5, (4, 2)),\n",
              " (5, (4, 3)),\n",
              " (5, (4, 4)),\n",
              " (5, (4, 5)),\n",
              " (5, (4, 6)),\n",
              " (5, (5, 1)),\n",
              " (5, (5, 2)),\n",
              " (5, (5, 3)),\n",
              " (5, (5, 4)),\n",
              " (5, (5, 5)),\n",
              " (5, (5, 6)),\n",
              " (5, (6, 1)),\n",
              " (5, (6, 2)),\n",
              " (5, (6, 3)),\n",
              " (5, (6, 4)),\n",
              " (5, (6, 5)),\n",
              " (5, (6, 6)),\n",
              " (6, (1, 1)),\n",
              " (6, (1, 2)),\n",
              " (6, (1, 3)),\n",
              " (6, (1, 4)),\n",
              " (6, (1, 5)),\n",
              " (6, (1, 6)),\n",
              " (6, (2, 1)),\n",
              " (6, (2, 2)),\n",
              " (6, (2, 3)),\n",
              " (6, (2, 4)),\n",
              " (6, (2, 5)),\n",
              " (6, (2, 6)),\n",
              " (6, (3, 1)),\n",
              " (6, (3, 2)),\n",
              " (6, (3, 3)),\n",
              " (6, (3, 4)),\n",
              " (6, (3, 5)),\n",
              " (6, (3, 6)),\n",
              " (6, (4, 1)),\n",
              " (6, (4, 2)),\n",
              " (6, (4, 3)),\n",
              " (6, (4, 4)),\n",
              " (6, (4, 5)),\n",
              " (6, (4, 6)),\n",
              " (6, (5, 1)),\n",
              " (6, (5, 2)),\n",
              " (6, (5, 3)),\n",
              " (6, (5, 4)),\n",
              " (6, (5, 5)),\n",
              " (6, (5, 6)),\n",
              " (6, (6, 1)),\n",
              " (6, (6, 2)),\n",
              " (6, (6, 3)),\n",
              " (6, (6, 4)),\n",
              " (6, (6, 5)),\n",
              " (6, (6, 6))}"
            ]
          },
          "metadata": {
            "tags": []
          },
          "execution_count": 55
        }
      ]
    },
    {
      "cell_type": "markdown",
      "metadata": {
        "id": "i76isxuZC5CK"
      },
      "source": [
        "대화창 실습 : 중첩 튜플의 원소에 sum을 사용할 경우에 발생하는 오류"
      ]
    },
    {
      "cell_type": "code",
      "metadata": {
        "colab": {
          "base_uri": "https://localhost:8080/",
          "height": 213
        },
        "id": "Jexl1SpsCbWJ",
        "outputId": "02d2fd9b-2625-408a-f21f-c28a3822d2e6"
      },
      "source": [
        "sums = [sum(tup) for tup in cases_3times]"
      ],
      "execution_count": null,
      "outputs": [
        {
          "output_type": "error",
          "ename": "TypeError",
          "evalue": "ignored",
          "traceback": [
            "\u001b[0;31m---------------------------------------------------------------------------\u001b[0m",
            "\u001b[0;31mTypeError\u001b[0m                                 Traceback (most recent call last)",
            "\u001b[0;32m<ipython-input-56-e58b443e8410>\u001b[0m in \u001b[0;36m<module>\u001b[0;34m()\u001b[0m\n\u001b[0;32m----> 1\u001b[0;31m \u001b[0msums\u001b[0m \u001b[0;34m=\u001b[0m \u001b[0;34m[\u001b[0m\u001b[0msum\u001b[0m\u001b[0;34m(\u001b[0m\u001b[0mtup\u001b[0m\u001b[0;34m)\u001b[0m \u001b[0;32mfor\u001b[0m \u001b[0mtup\u001b[0m \u001b[0;32min\u001b[0m \u001b[0mcases_3times\u001b[0m\u001b[0;34m]\u001b[0m\u001b[0;34m\u001b[0m\u001b[0;34m\u001b[0m\u001b[0m\n\u001b[0m",
            "\u001b[0;32m<ipython-input-56-e58b443e8410>\u001b[0m in \u001b[0;36m<listcomp>\u001b[0;34m(.0)\u001b[0m\n\u001b[0;32m----> 1\u001b[0;31m \u001b[0msums\u001b[0m \u001b[0;34m=\u001b[0m \u001b[0;34m[\u001b[0m\u001b[0msum\u001b[0m\u001b[0;34m(\u001b[0m\u001b[0mtup\u001b[0m\u001b[0;34m)\u001b[0m \u001b[0;32mfor\u001b[0m \u001b[0mtup\u001b[0m \u001b[0;32min\u001b[0m \u001b[0mcases_3times\u001b[0m\u001b[0;34m]\u001b[0m\u001b[0;34m\u001b[0m\u001b[0;34m\u001b[0m\u001b[0m\n\u001b[0m",
            "\u001b[0;31mTypeError\u001b[0m: unsupported operand type(s) for +: 'int' and 'tuple'"
          ]
        }
      ]
    },
    {
      "cell_type": "markdown",
      "metadata": {
        "id": "_A_1lHYBDKcC"
      },
      "source": [
        "set_dice_triple.py"
      ]
    },
    {
      "cell_type": "code",
      "metadata": {
        "colab": {
          "base_uri": "https://localhost:8080/"
        },
        "id": "Ib2FacYqC-1k",
        "outputId": "f45c2b89-23a5-4010-d8c0-b4f02e836c44"
      },
      "source": [
        "def tuple_sum(tup) :\n",
        "    if isinstance(tup, int) :\n",
        "        return tup\n",
        "    else :\n",
        "        accum = 0\n",
        "        for element in tup :\n",
        "            accum += tuple_sum(element)\n",
        "    \n",
        "    return accum\n",
        "\n",
        "def product_set(set1, set2) :\n",
        "    res = set()\n",
        "    for i in set1 :\n",
        "        for j in set2 :\n",
        "            res = res | {(i,j)}\n",
        "    return res\n",
        "\n",
        "cases = {1,2,3,4,5,6}\n",
        "cases_2times = product_set(cases, cases)\n",
        "cases_3times = product_set(cases, cases_2times)\n",
        "sums = [tuple_sum(tup) for tup in cases_3times]\n",
        "print(sums)"
      ],
      "execution_count": null,
      "outputs": [
        {
          "output_type": "stream",
          "text": [
            "[12, 5, 8, 9, 9, 10, 10, 12, 14, 10, 6, 8, 9, 6, 9, 10, 15, 10, 13, 13, 7, 13, 10, 7, 8, 12, 9, 13, 7, 14, 7, 6, 10, 8, 5, 12, 13, 9, 10, 11, 11, 9, 14, 11, 12, 12, 12, 9, 15, 15, 8, 13, 6, 17, 8, 9, 13, 16, 9, 13, 11, 18, 7, 7, 14, 11, 4, 10, 10, 11, 12, 12, 14, 12, 9, 13, 12, 13, 12, 5, 11, 8, 5, 6, 16, 14, 11, 11, 6, 13, 11, 12, 13, 8, 11, 8, 8, 9, 9, 11, 12, 13, 16, 11, 8, 7, 11, 12, 12, 7, 8, 9, 8, 12, 5, 13, 7, 16, 16, 14, 9, 12, 11, 10, 10, 10, 8, 12, 10, 13, 15, 10, 10, 9, 15, 13, 15, 10, 15, 6, 14, 14, 4, 11, 7, 17, 6, 14, 11, 8, 7, 9, 10, 8, 10, 13, 10, 6, 9, 7, 10, 15, 14, 15, 9, 7, 9, 9, 14, 13, 10, 14, 12, 9, 10, 11, 4, 5, 10, 15, 16, 6, 9, 10, 12, 13, 11, 10, 11, 9, 11, 8, 12, 12, 11, 11, 8, 11, 17, 9, 14, 11, 10, 8, 7, 8, 11, 12, 11, 13, 13, 3, 12, 14, 8, 7]\n"
          ],
          "name": "stdout"
        }
      ]
    },
    {
      "cell_type": "markdown",
      "metadata": {
        "id": "5AQjxLL7EWp0"
      },
      "source": [
        "LAB 6-12 : 복수로 주사위를 던졌을 때 특정값 이상을 얻을 확률 구하기"
      ]
    },
    {
      "cell_type": "code",
      "metadata": {
        "id": "TFWyAuIQEU6B"
      },
      "source": [
        "def tuple_sum(tup) :\n",
        "    if isinstance(tup, int) :\n",
        "        return tup\n",
        "    else :\n",
        "        accum = 0\n",
        "        for element in tup :\n",
        "            accum += tuple_sum(element)   \n",
        "    return accum\n",
        "\n",
        "def product_set(set1, set2) :\n",
        "    res = set()\n",
        "    for i in set1 :\n",
        "        for j in set2 :\n",
        "            res = res | {(i,j)}\n",
        "    return res\n",
        "\n",
        "def exp(input_set, exponent) :\n",
        "    res = input_set\n",
        "    for _ in range(exponent - 1) :\n",
        "        res = product_set(res, input_set)\n",
        "    return res"
      ],
      "execution_count": null,
      "outputs": []
    },
    {
      "cell_type": "code",
      "metadata": {
        "colab": {
          "base_uri": "https://localhost:8080/"
        },
        "id": "tBXFcjAQPmjM",
        "outputId": "0a35cdbc-4127-4f0c-e4dc-806ffad6fb56"
      },
      "source": [
        "#1.\n",
        "dice = {1,2,3,4,5,6}\n",
        "print('주사위를 세 번 던져 발생할 수 있는 사건은 {}가지 경우가 존재합니다.'.format(len(exp(dice, 3))))"
      ],
      "execution_count": null,
      "outputs": [
        {
          "output_type": "stream",
          "text": [
            "주사위를 세 번 던져 발생할 수 있는 사건은 216가지 경우가 존재합니다.\n"
          ],
          "name": "stdout"
        }
      ]
    },
    {
      "cell_type": "code",
      "metadata": {
        "colab": {
          "base_uri": "https://localhost:8080/"
        },
        "id": "APb2v40CQH9F",
        "outputId": "43c1c623-5ded-4ff8-f6c6-a38dee84668d"
      },
      "source": [
        "#2.\n",
        "D3 = exp(dice,3)\n",
        "sums = [tuple_sum(tup) for tup in D3] \n",
        "s = 0\n",
        "for i in sums :\n",
        "    if i >= 10 :\n",
        "        s += 1\n",
        "\n",
        "print('주사위를 세 번 던져 나온 눈의 합이 10 이상인 경우는 {} 가지입니다.'.format(s))"
      ],
      "execution_count": null,
      "outputs": [
        {
          "output_type": "stream",
          "text": [
            "주사위를 세 번 던져 나온 눈의 합이 10 이상인 경우는 135 가지입니다.\n"
          ],
          "name": "stdout"
        }
      ]
    },
    {
      "cell_type": "code",
      "metadata": {
        "id": "MHovH1BeRQqR",
        "colab": {
          "base_uri": "https://localhost:8080/"
        },
        "outputId": "b4d35fd0-9c17-4c6f-f8e3-46be10690655"
      },
      "source": [
        "#3.\n",
        "\n",
        "def prob_over(x) :\n",
        "    sums = [tuple_sum(tup) for tup in exp(dice,3)]\n",
        "    num = 0\n",
        "    for i in range(x,19,1) :\n",
        "        num += sums.count(i)\n",
        "    prob = 100* (num/len(sums))\n",
        "    return prob\n",
        "\n",
        "for x in range(3,19,1) :\n",
        "    print('눈의 합으로 {:2} 이상을 얻을 확률 {:6.2f}%'.format(x,prob_over(x)))"
      ],
      "execution_count": null,
      "outputs": [
        {
          "output_type": "stream",
          "text": [
            "눈의 합으로  3 이상을 얻을 확률 100.00%\n",
            "눈의 합으로  4 이상을 얻을 확률  99.54%\n",
            "눈의 합으로  5 이상을 얻을 확률  98.15%\n",
            "눈의 합으로  6 이상을 얻을 확률  95.37%\n",
            "눈의 합으로  7 이상을 얻을 확률  90.74%\n",
            "눈의 합으로  8 이상을 얻을 확률  83.80%\n",
            "눈의 합으로  9 이상을 얻을 확률  74.07%\n",
            "눈의 합으로 10 이상을 얻을 확률  62.50%\n",
            "눈의 합으로 11 이상을 얻을 확률  50.00%\n",
            "눈의 합으로 12 이상을 얻을 확률  37.50%\n",
            "눈의 합으로 13 이상을 얻을 확률  25.93%\n",
            "눈의 합으로 14 이상을 얻을 확률  16.20%\n",
            "눈의 합으로 15 이상을 얻을 확률   9.26%\n",
            "눈의 합으로 16 이상을 얻을 확률   4.63%\n",
            "눈의 합으로 17 이상을 얻을 확률   1.85%\n",
            "눈의 합으로 18 이상을 얻을 확률   0.46%\n"
          ],
          "name": "stdout"
        }
      ]
    },
    {
      "cell_type": "markdown",
      "metadata": {
        "id": "Qvk-EFSbxcde"
      },
      "source": [
        "대화창 실습 : zip() 함수에 공백 인자를 넘긴 경우"
      ]
    },
    {
      "cell_type": "code",
      "metadata": {
        "id": "sMN4s1qNvhbA",
        "colab": {
          "base_uri": "https://localhost:8080/"
        },
        "outputId": "ac92ab9a-a0c0-4f62-8f04-ea805f92f79e"
      },
      "source": [
        "empty_iterator = zip()\n",
        "result = set(empty_iterator)\n",
        "result"
      ],
      "execution_count": 1,
      "outputs": [
        {
          "output_type": "execute_result",
          "data": {
            "text/plain": [
              "set()"
            ]
          },
          "metadata": {
            "tags": []
          },
          "execution_count": 1
        }
      ]
    },
    {
      "cell_type": "markdown",
      "metadata": {
        "id": "K-OB20lJgv9W"
      },
      "source": [
        "대화창 실습 : zip() 함수를 이용한 집적화"
      ]
    },
    {
      "cell_type": "code",
      "metadata": {
        "colab": {
          "base_uri": "https://localhost:8080/"
        },
        "id": "SqPIeh9Agist",
        "outputId": "713c62c0-48c3-4291-f877-dd67b770c0c3"
      },
      "source": [
        "a = [10, 20, 30]\n",
        "b = ('ten', 'twenty', 'thirty')\n",
        "for val in zip(a,b) :\n",
        "    print(val)"
      ],
      "execution_count": 2,
      "outputs": [
        {
          "output_type": "stream",
          "text": [
            "(10, 'ten')\n",
            "(20, 'twenty')\n",
            "(30, 'thirty')\n"
          ],
          "name": "stdout"
        }
      ]
    },
    {
      "cell_type": "markdown",
      "metadata": {
        "id": "E0Z8vAu5g8QZ"
      },
      "source": [
        "대화창 실습 : zip() 함수에 하나의 반복가능 자료형 인자를 전달한 경우"
      ]
    },
    {
      "cell_type": "code",
      "metadata": {
        "colab": {
          "base_uri": "https://localhost:8080/"
        },
        "id": "LOrSrU0pg6e7",
        "outputId": "ad8bcdb4-ea4e-463c-9481-79e6821b6354"
      },
      "source": [
        "lst = ['a', 'b', 'hello', 'this']\n",
        "my_iterator = zip(lst)\n",
        "result = set(my_iterator)\n",
        "result"
      ],
      "execution_count": 9,
      "outputs": [
        {
          "output_type": "execute_result",
          "data": {
            "text/plain": [
              "{('a',), ('b',), ('hello',), ('this',)}"
            ]
          },
          "metadata": {
            "tags": []
          },
          "execution_count": 9
        }
      ]
    },
    {
      "cell_type": "markdown",
      "metadata": {
        "id": "oB-og5s-hmUj"
      },
      "source": [
        "대화창 실습 : zip() 함수에 세개의 반복가능 자료형 인자를 전달"
      ]
    },
    {
      "cell_type": "code",
      "metadata": {
        "colab": {
          "base_uri": "https://localhost:8080/"
        },
        "id": "A2BonVm7hgQI",
        "outputId": "17aa7aa8-3601-47f0-ab9b-5ad09209a17b"
      },
      "source": [
        "str_list = ['hello', 'world', 'python', 'rocks']\n",
        "int_tuple = (1,2,3)\n",
        "int_list = [400, 500, 600, 700, 800]\n",
        "my_iterator = zip(str_list, int_tuple, int_list)\n",
        "list(my_iterator)"
      ],
      "execution_count": 4,
      "outputs": [
        {
          "output_type": "execute_result",
          "data": {
            "text/plain": [
              "[('hello', 1, 400), ('world', 2, 500), ('python', 3, 600)]"
            ]
          },
          "metadata": {
            "tags": []
          },
          "execution_count": 4
        }
      ]
    },
    {
      "cell_type": "markdown",
      "metadata": {
        "id": "2DhbhzDHi-gl"
      },
      "source": [
        "대화창 실습 : zip()으로 묶여진 튜플을 다시 풀어내는 방법(언패킹)"
      ]
    },
    {
      "cell_type": "code",
      "metadata": {
        "colab": {
          "base_uri": "https://localhost:8080/"
        },
        "id": "CmXQCpLyiGS4",
        "outputId": "ed15bba0-e4bc-4f64-f2a2-83eeda336146"
      },
      "source": [
        "zip_lst = list(zip(str_list, int_tuple, int_list))\n",
        "a,b,c = zip(*zip_lst)\n",
        "print(a,b,c)"
      ],
      "execution_count": 7,
      "outputs": [
        {
          "output_type": "stream",
          "text": [
            "('hello', 'world', 'python') (1, 2, 3) (400, 500, 600)\n"
          ],
          "name": "stdout"
        }
      ]
    },
    {
      "cell_type": "markdown",
      "metadata": {
        "id": "AV0EgCVnjpjk"
      },
      "source": [
        "대화창 실습 : 튜플의 슬라이싱"
      ]
    },
    {
      "cell_type": "code",
      "metadata": {
        "colab": {
          "base_uri": "https://localhost:8080/"
        },
        "id": "vlXIRqw4jYXS",
        "outputId": "edbe8a3d-8e14-4368-ccc2-8a39f229d754"
      },
      "source": [
        "tu = (0,1,2,3,4,5,6,7,8,9)\n",
        "tu[1:5]"
      ],
      "execution_count": 10,
      "outputs": [
        {
          "output_type": "execute_result",
          "data": {
            "text/plain": [
              "(1, 2, 3, 4)"
            ]
          },
          "metadata": {
            "tags": []
          },
          "execution_count": 10
        }
      ]
    },
    {
      "cell_type": "code",
      "metadata": {
        "colab": {
          "base_uri": "https://localhost:8080/"
        },
        "id": "Zr00RzOBj2ia",
        "outputId": "a5181718-ef29-4741-bb9c-d5e2b6f7a78f"
      },
      "source": [
        "tu[0:10:3]"
      ],
      "execution_count": 11,
      "outputs": [
        {
          "output_type": "execute_result",
          "data": {
            "text/plain": [
              "(0, 3, 6, 9)"
            ]
          },
          "metadata": {
            "tags": []
          },
          "execution_count": 11
        }
      ]
    },
    {
      "cell_type": "code",
      "metadata": {
        "colab": {
          "base_uri": "https://localhost:8080/"
        },
        "id": "5_VKlY4Tj5Kh",
        "outputId": "37e72745-6e9c-4f40-973d-4d1a481a3e16"
      },
      "source": [
        "tu[::-1]"
      ],
      "execution_count": 12,
      "outputs": [
        {
          "output_type": "execute_result",
          "data": {
            "text/plain": [
              "(9, 8, 7, 6, 5, 4, 3, 2, 1, 0)"
            ]
          },
          "metadata": {
            "tags": []
          },
          "execution_count": 12
        }
      ]
    },
    {
      "cell_type": "markdown",
      "metadata": {
        "id": "usPElkipkGxc"
      },
      "source": [
        "대화창 실습 : 문자열 슬라이싱"
      ]
    },
    {
      "cell_type": "code",
      "metadata": {
        "colab": {
          "base_uri": "https://localhost:8080/",
          "height": 36
        },
        "id": "YtxAi0LKkETr",
        "outputId": "06564a1b-76d4-4133-8ff2-1a74d485fa01"
      },
      "source": [
        "text = 'hello world'\n",
        "text[1:5]"
      ],
      "execution_count": 13,
      "outputs": [
        {
          "output_type": "execute_result",
          "data": {
            "application/vnd.google.colaboratory.intrinsic+json": {
              "type": "string"
            },
            "text/plain": [
              "'ello'"
            ]
          },
          "metadata": {
            "tags": []
          },
          "execution_count": 13
        }
      ]
    },
    {
      "cell_type": "code",
      "metadata": {
        "colab": {
          "base_uri": "https://localhost:8080/",
          "height": 36
        },
        "id": "AWp_nvawkL9G",
        "outputId": "293f83a3-b556-41b6-f11f-ab32788bfc62"
      },
      "source": [
        "text[6:]"
      ],
      "execution_count": 14,
      "outputs": [
        {
          "output_type": "execute_result",
          "data": {
            "application/vnd.google.colaboratory.intrinsic+json": {
              "type": "string"
            },
            "text/plain": [
              "'world'"
            ]
          },
          "metadata": {
            "tags": []
          },
          "execution_count": 14
        }
      ]
    },
    {
      "cell_type": "code",
      "metadata": {
        "colab": {
          "base_uri": "https://localhost:8080/",
          "height": 36
        },
        "id": "KiRA4Ln6kURG",
        "outputId": "fc9af3f8-43d8-44b4-cf42-4522fd968ab4"
      },
      "source": [
        "text[::3]"
      ],
      "execution_count": 15,
      "outputs": [
        {
          "output_type": "execute_result",
          "data": {
            "application/vnd.google.colaboratory.intrinsic+json": {
              "type": "string"
            },
            "text/plain": [
              "'hlwl'"
            ]
          },
          "metadata": {
            "tags": []
          },
          "execution_count": 15
        }
      ]
    },
    {
      "cell_type": "code",
      "metadata": {
        "colab": {
          "base_uri": "https://localhost:8080/",
          "height": 36
        },
        "id": "c0l3nzBtkWEi",
        "outputId": "69e74298-a3d8-4360-8403-2bde313c5d91"
      },
      "source": [
        "text[::-1]"
      ],
      "execution_count": 16,
      "outputs": [
        {
          "output_type": "execute_result",
          "data": {
            "application/vnd.google.colaboratory.intrinsic+json": {
              "type": "string"
            },
            "text/plain": [
              "'dlrow olleh'"
            ]
          },
          "metadata": {
            "tags": []
          },
          "execution_count": 16
        }
      ]
    }
  ]
}