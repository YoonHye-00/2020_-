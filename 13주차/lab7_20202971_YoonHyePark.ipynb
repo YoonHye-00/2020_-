{
  "nbformat": 4,
  "nbformat_minor": 0,
  "metadata": {
    "colab": {
      "name": "lab7_20202971_YoonHyePark",
      "provenance": [],
      "collapsed_sections": []
    },
    "kernelspec": {
      "name": "python3",
      "display_name": "Python 3"
    }
  },
  "cells": [
    {
      "cell_type": "markdown",
      "metadata": {
        "id": "-9b6XaFnmAXQ"
      },
      "source": [
        "#모듈과 활용"
      ]
    },
    {
      "cell_type": "markdown",
      "metadata": {
        "id": "pMY3p1qEmCuL"
      },
      "source": [
        "대화창 실습 : datetime 모듈의 임포트와 사용"
      ]
    },
    {
      "cell_type": "code",
      "metadata": {
        "colab": {
          "base_uri": "https://localhost:8080/"
        },
        "id": "5AHpNfw6lNTW",
        "outputId": "5040939e-9a4c-4a6c-9de6-fa8ae6054c01"
      },
      "source": [
        "import datetime\n",
        "datetime.datetime.now()"
      ],
      "execution_count": 1,
      "outputs": [
        {
          "output_type": "execute_result",
          "data": {
            "text/plain": [
              "datetime.datetime(2020, 11, 24, 18, 51, 45, 585)"
            ]
          },
          "metadata": {
            "tags": []
          },
          "execution_count": 1
        }
      ]
    },
    {
      "cell_type": "markdown",
      "metadata": {
        "id": "7EuWrfBCmwrn"
      },
      "source": [
        "대화창 실습 : datetime 모듈의 사용법"
      ]
    },
    {
      "cell_type": "code",
      "metadata": {
        "colab": {
          "base_uri": "https://localhost:8080/"
        },
        "id": "UeSfUKR8mM8X",
        "outputId": "a25be3fe-32da-462f-ca81-8da10daf17df"
      },
      "source": [
        "today = datetime.date.today()\n",
        "print(today)"
      ],
      "execution_count": 3,
      "outputs": [
        {
          "output_type": "stream",
          "text": [
            "2020-11-24\n"
          ],
          "name": "stdout"
        }
      ]
    },
    {
      "cell_type": "code",
      "metadata": {
        "colab": {
          "base_uri": "https://localhost:8080/"
        },
        "id": "gPW5sxyDm0Wp",
        "outputId": "a28edfd7-589c-4ba4-ddef-5fad5ff7febd"
      },
      "source": [
        "today"
      ],
      "execution_count": 4,
      "outputs": [
        {
          "output_type": "execute_result",
          "data": {
            "text/plain": [
              "datetime.date(2020, 11, 24)"
            ]
          },
          "metadata": {
            "tags": []
          },
          "execution_count": 4
        }
      ]
    },
    {
      "cell_type": "code",
      "metadata": {
        "colab": {
          "base_uri": "https://localhost:8080/"
        },
        "id": "4OoH9UBfm3RE",
        "outputId": "96c9e3d4-0723-49e2-b8f8-058b3ee1ce15"
      },
      "source": [
        "today.year"
      ],
      "execution_count": 5,
      "outputs": [
        {
          "output_type": "execute_result",
          "data": {
            "text/plain": [
              "2020"
            ]
          },
          "metadata": {
            "tags": []
          },
          "execution_count": 5
        }
      ]
    },
    {
      "cell_type": "code",
      "metadata": {
        "colab": {
          "base_uri": "https://localhost:8080/"
        },
        "id": "RMrrOnkInlcN",
        "outputId": "eb40d494-a020-453f-febd-4a761a44e0b1"
      },
      "source": [
        "today.month"
      ],
      "execution_count": 6,
      "outputs": [
        {
          "output_type": "execute_result",
          "data": {
            "text/plain": [
              "11"
            ]
          },
          "metadata": {
            "tags": []
          },
          "execution_count": 6
        }
      ]
    },
    {
      "cell_type": "code",
      "metadata": {
        "colab": {
          "base_uri": "https://localhost:8080/"
        },
        "id": "XZPMFMgvnmwN",
        "outputId": "0f8cf090-ea57-46d0-d489-d96a5acf7025"
      },
      "source": [
        "today.day"
      ],
      "execution_count": 7,
      "outputs": [
        {
          "output_type": "execute_result",
          "data": {
            "text/plain": [
              "24"
            ]
          },
          "metadata": {
            "tags": []
          },
          "execution_count": 7
        }
      ]
    },
    {
      "cell_type": "markdown",
      "metadata": {
        "id": "tu-m23awnrn1"
      },
      "source": [
        "대화창 실습 : datetime 모듈의 속성과 클래스를 알아보는 dir() 함수"
      ]
    },
    {
      "cell_type": "code",
      "metadata": {
        "colab": {
          "base_uri": "https://localhost:8080/"
        },
        "id": "lHhvsKPLnncX",
        "outputId": "3bdc2caa-166e-4c1f-aebd-e9455fa85ed2"
      },
      "source": [
        "dir(datetime)"
      ],
      "execution_count": 8,
      "outputs": [
        {
          "output_type": "execute_result",
          "data": {
            "text/plain": [
              "['MAXYEAR',\n",
              " 'MINYEAR',\n",
              " '__builtins__',\n",
              " '__cached__',\n",
              " '__doc__',\n",
              " '__file__',\n",
              " '__loader__',\n",
              " '__name__',\n",
              " '__package__',\n",
              " '__spec__',\n",
              " 'date',\n",
              " 'datetime',\n",
              " 'datetime_CAPI',\n",
              " 'sys',\n",
              " 'time',\n",
              " 'timedelta',\n",
              " 'timezone',\n",
              " 'tzinfo']"
            ]
          },
          "metadata": {
            "tags": []
          },
          "execution_count": 8
        }
      ]
    },
    {
      "cell_type": "markdown",
      "metadata": {
        "id": "LXsGQdQMnylj"
      },
      "source": [
        "대화창 실습 : 날짜 및 시간 변경"
      ]
    },
    {
      "cell_type": "code",
      "metadata": {
        "colab": {
          "base_uri": "https://localhost:8080/"
        },
        "id": "tHwuvEU5nwMW",
        "outputId": "2cf1af57-dabe-4e91-8f82-e90342fd7b3a"
      },
      "source": [
        "start_time = datetime.datetime.now()\n",
        "start_time.replace(month = 12, day = 25)"
      ],
      "execution_count": 9,
      "outputs": [
        {
          "output_type": "execute_result",
          "data": {
            "text/plain": [
              "datetime.datetime(2020, 12, 25, 18, 59, 27, 375764)"
            ]
          },
          "metadata": {
            "tags": []
          },
          "execution_count": 9
        }
      ]
    },
    {
      "cell_type": "markdown",
      "metadata": {
        "id": "6yx2c_sOoIz4"
      },
      "source": [
        "대화창 실습 : 현재 날짜 및 시간 변경"
      ]
    },
    {
      "cell_type": "code",
      "metadata": {
        "colab": {
          "base_uri": "https://localhost:8080/"
        },
        "id": "hOHpyW6Vn_se",
        "outputId": "c04edf97-0887-4b43-d62f-02438f6d1ad5"
      },
      "source": [
        "import datetime as dt\n",
        "start_time = dt.datetime.now()\n",
        "start_time.replace(month = 12, day = 25)"
      ],
      "execution_count": 10,
      "outputs": [
        {
          "output_type": "execute_result",
          "data": {
            "text/plain": [
              "datetime.datetime(2020, 12, 25, 19, 0, 58, 767010)"
            ]
          },
          "metadata": {
            "tags": []
          },
          "execution_count": 10
        }
      ]
    },
    {
      "cell_type": "markdown",
      "metadata": {
        "id": "ntoGoJnioiqz"
      },
      "source": [
        "대화창 실습 : from import를 이용한 현재 날짜 및 시간 변경"
      ]
    },
    {
      "cell_type": "code",
      "metadata": {
        "colab": {
          "base_uri": "https://localhost:8080/"
        },
        "id": "VLh7GOgnoWAd",
        "outputId": "896cb6de-64c2-43b8-e240-ba941bf3a3f4"
      },
      "source": [
        "from datetime import datetime\n",
        "start_time = datetime.now()\n",
        "start_time.replace(month = 12, day = 25)"
      ],
      "execution_count": 11,
      "outputs": [
        {
          "output_type": "execute_result",
          "data": {
            "text/plain": [
              "datetime.datetime(2020, 12, 25, 19, 3, 21, 828692)"
            ]
          },
          "metadata": {
            "tags": []
          },
          "execution_count": 11
        }
      ]
    },
    {
      "cell_type": "markdown",
      "metadata": {
        "id": "HG9dGPLho90V"
      },
      "source": [
        "LAB 7-1 : 오늘의 날짜와 현재시간 출력하기"
      ]
    },
    {
      "cell_type": "code",
      "metadata": {
        "colab": {
          "base_uri": "https://localhost:8080/"
        },
        "id": "58lT4eCto47J",
        "outputId": "0a51b1b2-ed6d-4cba-c49b-35bddfb31262"
      },
      "source": [
        "import datetime as dt\n",
        "year, month, day = today.year, today.month, today.day\n",
        "hour = now.hour\n",
        "now = dt.datetime.now()\n",
        "print('오늘의 날짜 : {}년 {}월 {}일'.format(year, month, day))\n",
        "if hour > 12 :\n",
        "    hour = hour - 12\n",
        "    print('현재 시간 : 오후 {}시 {}분 {}초'.format(hour, now.minute, now.second))\n",
        "else :\n",
        "    print('현재 시간 : 오전 {}시 {}분 {}초'.format(hour, now.minute, now.second))"
      ],
      "execution_count": 39,
      "outputs": [
        {
          "output_type": "stream",
          "text": [
            "오늘의 날짜 : 2020년 11월 24일\n",
            "현재 시간 : 오후 7시 20분 9초\n"
          ],
          "name": "stdout"
        }
      ]
    },
    {
      "cell_type": "markdown",
      "metadata": {
        "id": "7v_PRKDEszPY"
      },
      "source": [
        "xmas_left_day.py"
      ]
    },
    {
      "cell_type": "code",
      "metadata": {
        "colab": {
          "base_uri": "https://localhost:8080/"
        },
        "id": "Qwc7QRX9ph8e",
        "outputId": "f52e502d-9d2a-46bb-a24d-e975fff41d12"
      },
      "source": [
        "import datetime as dt\n",
        "today = dt.date.today()\n",
        "print('오늘은 {}년 {}월 {}일입니다'.format(today.year, today.month, today.day))\n",
        "xMas = dt.datetime(2020, 12, 25)\n",
        "time_gap = xMas - dt.datetime.now()\n",
        "print('다음 크리스마스 까지는 {}일 {}시간 남았습니다.'.format(time_gap.days, time_gap.seconds // 3600))"
      ],
      "execution_count": 46,
      "outputs": [
        {
          "output_type": "stream",
          "text": [
            "오늘은 2020년 11월 24일입니다\n",
            "다음 크리스마스 까지는 30일 4시간 남았습니다.\n"
          ],
          "name": "stdout"
        }
      ]
    },
    {
      "cell_type": "markdown",
      "metadata": {
        "id": "nfd7chKQuKMr"
      },
      "source": [
        "LAB 7-2 : 남은 날짜 계산하기"
      ]
    },
    {
      "cell_type": "code",
      "metadata": {
        "colab": {
          "base_uri": "https://localhost:8080/"
        },
        "id": "-bAfFprlt17g",
        "outputId": "28d1b4f2-5ef0-4ef6-f1c6-addf124be02e"
      },
      "source": [
        "#1.\n",
        "import datetime as dt\n",
        "today = dt.date.today()\n",
        "print('오늘은 {}년 {}월 {}일입니다'.format(today.year, today.month, today.day))\n",
        "xMas = dt.datetime(2025, 12, 25)\n",
        "time_gap = xMas - dt.datetime.now()\n",
        "print('{}년 크리스마스 까지는 {}일 {}시간 남았습니다.'.format(xMas.year, time_gap.days, time_gap.seconds // 3600))"
      ],
      "execution_count": 49,
      "outputs": [
        {
          "output_type": "stream",
          "text": [
            "오늘은 2020년 11월 24일입니다\n",
            "2025년 크리스마스 까지는 1856일 3시간 남았습니다.\n"
          ],
          "name": "stdout"
        }
      ]
    },
    {
      "cell_type": "code",
      "metadata": {
        "colab": {
          "base_uri": "https://localhost:8080/"
        },
        "id": "BpOKqOky3-7I",
        "outputId": "2826b75b-6a47-424c-a6cd-89030706cd4e"
      },
      "source": [
        "#2.\n",
        "import datetime as dt\n",
        "today = dt.date.today()\n",
        "print('오늘은 {}년 {}월 {}일입니다'.format(today.year, today.month, today.day))\n",
        "N_year = dt.datetime(2036, 1, 1)\n",
        "time_gap = N_year - dt.datetime.now()\n",
        "print('{}년 새해 까지는 {}일 {}시간 남았습니다.'.format(N_year.year, time_gap.days, time_gap.seconds//3600))"
      ],
      "execution_count": 50,
      "outputs": [
        {
          "output_type": "stream",
          "text": [
            "오늘은 2020년 11월 24일입니다\n",
            "2036년 새해 까지는 5515일 3시간 남았습니다.\n"
          ],
          "name": "stdout"
        }
      ]
    },
    {
      "cell_type": "code",
      "metadata": {
        "colab": {
          "base_uri": "https://localhost:8080/"
        },
        "id": "9vXHMUt14rSo",
        "outputId": "42cf1a0e-63b6-4ea4-b2a1-4d6fb8f9ab77"
      },
      "source": [
        "#3.\n",
        "import datetime as dt\n",
        "today = dt.date.today()\n",
        "print('오늘은 {}년 {}월 {}일입니다'.format(today.year, today.month, today.day))\n",
        "birth = dt.datetime(2021,3,21)\n",
        "time_gap = birth - dt.datetime.now()\n",
        "print('{}년 생일까지는 {}일 {}시간 남았습니다.'.format(birth.year, time_gap.days, time_gap.seconds//3600))"
      ],
      "execution_count": 51,
      "outputs": [
        {
          "output_type": "stream",
          "text": [
            "오늘은 2020년 11월 24일입니다\n",
            "2021년 생일까지는 116일 3시간 남았습니다.\n"
          ],
          "name": "stdout"
        }
      ]
    },
    {
      "cell_type": "markdown",
      "metadata": {
        "id": "zps8I0P_5XKY"
      },
      "source": [
        "day_delta.py"
      ]
    },
    {
      "cell_type": "code",
      "metadata": {
        "colab": {
          "base_uri": "https://localhost:8080/"
        },
        "id": "K16cjhKu5R5n",
        "outputId": "500021a3-a3fc-41fc-d33b-b606fcbd7796"
      },
      "source": [
        "import datetime as dt\n",
        "print('오늘 =', dt.datetime.now())\n",
        "hundred = dt.timedelta(days = 100)      # 100일 경과시간\n",
        "plus100day = dt.datetime.now() + hundred\n",
        "print('100일 후 =', plus100day)"
      ],
      "execution_count": 52,
      "outputs": [
        {
          "output_type": "stream",
          "text": [
            "오늘 = 2020-11-24 20:16:53.617656\n",
            "100일 후 = 2021-03-04 20:16:53.617831\n"
          ],
          "name": "stdout"
        }
      ]
    },
    {
      "cell_type": "markdown",
      "metadata": {
        "id": "PC2tfhZh6OdV"
      },
      "source": [
        "LAB 7-3 : 날짜 계산하기"
      ]
    },
    {
      "cell_type": "code",
      "metadata": {
        "colab": {
          "base_uri": "https://localhost:8080/"
        },
        "id": "Kf7j5dNN5uCU",
        "outputId": "4d414f79-e16f-4f08-ea0b-6d50c6fe2363"
      },
      "source": [
        "#1.\n",
        "import datetime as dt\n",
        "thousand = dt.timedelta(days = 1000)\n",
        "plus1000day = dt.datetime.now() + thousand\n",
        "print('1000일 후 =', plus1000day)"
      ],
      "execution_count": 53,
      "outputs": [
        {
          "output_type": "stream",
          "text": [
            "1000일 후 = 2023-08-21 20:26:02.005119\n"
          ],
          "name": "stdout"
        }
      ]
    },
    {
      "cell_type": "code",
      "metadata": {
        "colab": {
          "base_uri": "https://localhost:8080/"
        },
        "id": "Bh9AgHK57z68",
        "outputId": "b78cad13-a596-49dd-cb15-a25425809815"
      },
      "source": [
        "#2 - couple_day.py\n",
        "y,m,d = map(int, input('처음으로 사귄 연도와 월, 일을 입력하시오 :').split())\n",
        "couple_day = dt.datetime(y,m,d)\n",
        "plus100day = couple_day + dt.timedelta(days = 100)\n",
        "print('100일 기념일은 : {}년 {}월 {}일입니다.'.format(plus100day.year, plus100day.month, plus100day.day))\n"
      ],
      "execution_count": 57,
      "outputs": [
        {
          "output_type": "stream",
          "text": [
            "처음으로 사귄 연도와 월, 일을 입력하시오 :2019 3 30\n",
            "100일 기념일은 : 2019년 7월 8일입니다.\n"
          ],
          "name": "stdout"
        }
      ]
    },
    {
      "cell_type": "markdown",
      "metadata": {
        "id": "5aSkTEHP_Fkm"
      },
      "source": [
        "대화창 실습 : time 모듈을 이용한 에폭 이후의 시간 출력"
      ]
    },
    {
      "cell_type": "code",
      "metadata": {
        "colab": {
          "base_uri": "https://localhost:8080/"
        },
        "id": "q9MC5XNT9hzU",
        "outputId": "0f03cb20-f5cc-4d42-9eae-361c4fd5c03e"
      },
      "source": [
        "import time\n",
        "seconds = time.time()\n",
        "print('에폭 이후의 시간 =', seconds)"
      ],
      "execution_count": 59,
      "outputs": [
        {
          "output_type": "stream",
          "text": [
            "에폭 이후의 시간 = 1606250512.7473986\n"
          ],
          "name": "stdout"
        }
      ]
    },
    {
      "cell_type": "markdown",
      "metadata": {
        "id": "aK9nHDFB_d09"
      },
      "source": [
        "epoch_time_2_local_time.py"
      ]
    },
    {
      "cell_type": "code",
      "metadata": {
        "colab": {
          "base_uri": "https://localhost:8080/"
        },
        "id": "-9F_DeaE_bPT",
        "outputId": "a42efb6a-a3e1-42a8-97cc-91399ca7b33b"
      },
      "source": [
        "import time\n",
        "unix_timestamp = time.time()\n",
        "local_time = time.localtime(unix_timestamp)\n",
        "print(time.strftime('%Y-%m-%d %H:%M:%S', local_time))"
      ],
      "execution_count": 60,
      "outputs": [
        {
          "output_type": "stream",
          "text": [
            "2020-11-24 20:43:57\n"
          ],
          "name": "stdout"
        }
      ]
    },
    {
      "cell_type": "markdown",
      "metadata": {
        "id": "7KVQ8fCnAY5Y"
      },
      "source": [
        "sleep_time.py"
      ]
    },
    {
      "cell_type": "code",
      "metadata": {
        "colab": {
          "base_uri": "https://localhost:8080/"
        },
        "id": "DDsksCTv_6ei",
        "outputId": "6eb9c37c-ca19-4dbf-9cd6-903b503d778e"
      },
      "source": [
        "import time\n",
        "\n",
        "print('바로 출력되는 구문.')\n",
        "time.sleep(4.5)\n",
        "print('4.5초 후 출력되는 구문.')"
      ],
      "execution_count": 61,
      "outputs": [
        {
          "output_type": "stream",
          "text": [
            "바로 출력되는 구문.\n",
            "4.5초 후 출력되는 구문.\n"
          ],
          "name": "stdout"
        }
      ]
    },
    {
      "cell_type": "markdown",
      "metadata": {
        "id": "Cap6bd-JAsEo"
      },
      "source": [
        "elapsed_time.py"
      ]
    },
    {
      "cell_type": "code",
      "metadata": {
        "colab": {
          "base_uri": "https://localhost:8080/"
        },
        "id": "I6pzjHrkAfyl",
        "outputId": "0b2217d4-4cd4-4e1c-b706-09dfaa8d130d"
      },
      "source": [
        "import time\n",
        "start_time = time.time()\n",
        "print(1+2+3+4+5+6+7+8+9+10)\n",
        "end_time = time.time()\n",
        "gap = end_time - start_time\n",
        "print('1에서 10까지의 합을 구하고 출력하는 시간 :{:7.4f}초'.format(gap))"
      ],
      "execution_count": 64,
      "outputs": [
        {
          "output_type": "stream",
          "text": [
            "55\n",
            "1에서 10까지의 합을 구하고 출력하는 시간 : 0.0001초\n"
          ],
          "name": "stdout"
        }
      ]
    },
    {
      "cell_type": "markdown",
      "metadata": {
        "id": "ytPZ1BXUBatw"
      },
      "source": [
        "대화창 실습 : math 모듈의 내장함수 출력"
      ]
    },
    {
      "cell_type": "code",
      "metadata": {
        "colab": {
          "base_uri": "https://localhost:8080/"
        },
        "id": "xnEnj4FVBHz4",
        "outputId": "0d3856e5-6f0d-40d9-df68-dbccdac5ccc5"
      },
      "source": [
        "import math\n",
        "dir(math)"
      ],
      "execution_count": 65,
      "outputs": [
        {
          "output_type": "execute_result",
          "data": {
            "text/plain": [
              "['__doc__',\n",
              " '__loader__',\n",
              " '__name__',\n",
              " '__package__',\n",
              " '__spec__',\n",
              " 'acos',\n",
              " 'acosh',\n",
              " 'asin',\n",
              " 'asinh',\n",
              " 'atan',\n",
              " 'atan2',\n",
              " 'atanh',\n",
              " 'ceil',\n",
              " 'copysign',\n",
              " 'cos',\n",
              " 'cosh',\n",
              " 'degrees',\n",
              " 'e',\n",
              " 'erf',\n",
              " 'erfc',\n",
              " 'exp',\n",
              " 'expm1',\n",
              " 'fabs',\n",
              " 'factorial',\n",
              " 'floor',\n",
              " 'fmod',\n",
              " 'frexp',\n",
              " 'fsum',\n",
              " 'gamma',\n",
              " 'gcd',\n",
              " 'hypot',\n",
              " 'inf',\n",
              " 'isclose',\n",
              " 'isfinite',\n",
              " 'isinf',\n",
              " 'isnan',\n",
              " 'ldexp',\n",
              " 'lgamma',\n",
              " 'log',\n",
              " 'log10',\n",
              " 'log1p',\n",
              " 'log2',\n",
              " 'modf',\n",
              " 'nan',\n",
              " 'pi',\n",
              " 'pow',\n",
              " 'radians',\n",
              " 'sin',\n",
              " 'sinh',\n",
              " 'sqrt',\n",
              " 'tan',\n",
              " 'tanh',\n",
              " 'tau',\n",
              " 'trunc']"
            ]
          },
          "metadata": {
            "tags": []
          },
          "execution_count": 65
        }
      ]
    },
    {
      "cell_type": "markdown",
      "metadata": {
        "id": "Wh27LA5lBhP_"
      },
      "source": [
        "대화창 실습 : math 모듈의 함수 사용"
      ]
    },
    {
      "cell_type": "code",
      "metadata": {
        "colab": {
          "base_uri": "https://localhost:8080/"
        },
        "id": "RoK37T7XBfxE",
        "outputId": "5e7c0928-f88a-4480-9bd5-7478aad5d5ba"
      },
      "source": [
        "import math as m\n",
        "m.pow(3,3)      # 3의 3제곱"
      ],
      "execution_count": 70,
      "outputs": [
        {
          "output_type": "execute_result",
          "data": {
            "text/plain": [
              "27.0"
            ]
          },
          "metadata": {
            "tags": []
          },
          "execution_count": 70
        }
      ]
    },
    {
      "cell_type": "code",
      "metadata": {
        "colab": {
          "base_uri": "https://localhost:8080/"
        },
        "id": "nVCrIv3YBlq0",
        "outputId": "8109d059-cacd-4203-a25d-d171c6809a56"
      },
      "source": [
        "m.fabs(-99)     # -99의 실수 절대값"
      ],
      "execution_count": 72,
      "outputs": [
        {
          "output_type": "execute_result",
          "data": {
            "text/plain": [
              "99.0"
            ]
          },
          "metadata": {
            "tags": []
          },
          "execution_count": 72
        }
      ]
    },
    {
      "cell_type": "code",
      "metadata": {
        "colab": {
          "base_uri": "https://localhost:8080/"
        },
        "id": "9LcNq4t5BnAi",
        "outputId": "9a703695-330a-4229-ff23-f0e39794c143"
      },
      "source": [
        "m.ceil(2.1)     # 2.1의 올림값"
      ],
      "execution_count": 73,
      "outputs": [
        {
          "output_type": "execute_result",
          "data": {
            "text/plain": [
              "3"
            ]
          },
          "metadata": {
            "tags": []
          },
          "execution_count": 73
        }
      ]
    },
    {
      "cell_type": "code",
      "metadata": {
        "colab": {
          "base_uri": "https://localhost:8080/"
        },
        "id": "vzTGijK9BoNl",
        "outputId": "99151f66-7957-4160-8a5e-de600ad114c7"
      },
      "source": [
        "m.ceil(-2.1)    # -2.1의 올림값"
      ],
      "execution_count": 74,
      "outputs": [
        {
          "output_type": "execute_result",
          "data": {
            "text/plain": [
              "-2"
            ]
          },
          "metadata": {
            "tags": []
          },
          "execution_count": 74
        }
      ]
    },
    {
      "cell_type": "code",
      "metadata": {
        "colab": {
          "base_uri": "https://localhost:8080/"
        },
        "id": "Wh7gdNJABqsU",
        "outputId": "17509e95-1ae6-4f12-a4fd-fc3c19eb5efd"
      },
      "source": [
        "m.floor(2.1)    # 2.1의 내림값"
      ],
      "execution_count": 75,
      "outputs": [
        {
          "output_type": "execute_result",
          "data": {
            "text/plain": [
              "2"
            ]
          },
          "metadata": {
            "tags": []
          },
          "execution_count": 75
        }
      ]
    },
    {
      "cell_type": "code",
      "metadata": {
        "colab": {
          "base_uri": "https://localhost:8080/"
        },
        "id": "MwnEiMVEDdBQ",
        "outputId": "db27265b-648c-46d6-c7f6-6a0bd353a9cd"
      },
      "source": [
        "m.log(2.71828)"
      ],
      "execution_count": 76,
      "outputs": [
        {
          "output_type": "execute_result",
          "data": {
            "text/plain": [
              "0.999999327347282"
            ]
          },
          "metadata": {
            "tags": []
          },
          "execution_count": 76
        }
      ]
    },
    {
      "cell_type": "code",
      "metadata": {
        "colab": {
          "base_uri": "https://localhost:8080/"
        },
        "id": "LUy5HfKYDhvi",
        "outputId": "5a70a88e-beea-450d-ee10-b925b25a3463"
      },
      "source": [
        "m.log(100,10)   # 로그 10을 밑으로 하는 100값"
      ],
      "execution_count": 77,
      "outputs": [
        {
          "output_type": "execute_result",
          "data": {
            "text/plain": [
              "2.0"
            ]
          },
          "metadata": {
            "tags": []
          },
          "execution_count": 77
        }
      ]
    },
    {
      "cell_type": "markdown",
      "metadata": {
        "id": "8MQCH7H2C1yy"
      },
      "source": [
        "대화창 실습 : math 모듈의 sin() 함수 사용(라디안 사용)"
      ]
    },
    {
      "cell_type": "code",
      "metadata": {
        "colab": {
          "base_uri": "https://localhost:8080/"
        },
        "id": "FNDZ_Q_KEIU_",
        "outputId": "c42dab9e-a0c0-49c1-f0ac-46c38eb55b15"
      },
      "source": [
        "import math as m\n",
        "m.sin(3.14159/2.0)  # 라디안 사용"
      ],
      "execution_count": 79,
      "outputs": [
        {
          "output_type": "execute_result",
          "data": {
            "text/plain": [
              "0.9999999999991198"
            ]
          },
          "metadata": {
            "tags": []
          },
          "execution_count": 79
        }
      ]
    },
    {
      "cell_type": "markdown",
      "metadata": {
        "id": "HiK-ZXSNEuQ7"
      },
      "source": [
        "대화창 실습 : math 모듈의 sin() 함수 사용(일반 각 사용)"
      ]
    },
    {
      "cell_type": "code",
      "metadata": {
        "colab": {
          "base_uri": "https://localhost:8080/"
        },
        "id": "LfBvTuWyEKIp",
        "outputId": "b2d19b74-0c2f-4c7f-86d5-8c23c25f6ceb"
      },
      "source": [
        "import math as m\n",
        "m.sin(0.0)\n"
      ],
      "execution_count": 83,
      "outputs": [
        {
          "output_type": "execute_result",
          "data": {
            "text/plain": [
              "0.0"
            ]
          },
          "metadata": {
            "tags": []
          },
          "execution_count": 83
        }
      ]
    },
    {
      "cell_type": "code",
      "metadata": {
        "colab": {
          "base_uri": "https://localhost:8080/"
        },
        "id": "KvhgjxVYE1Vn",
        "outputId": "92e560d6-e0cc-4a99-fb6a-717df8a7efd8"
      },
      "source": [
        "m.sin(90.0)"
      ],
      "execution_count": 85,
      "outputs": [
        {
          "output_type": "execute_result",
          "data": {
            "text/plain": [
              "0.8939966636005579"
            ]
          },
          "metadata": {
            "tags": []
          },
          "execution_count": 85
        }
      ]
    },
    {
      "cell_type": "markdown",
      "metadata": {
        "id": "btrR6oN7FHJX"
      },
      "source": [
        "대화창 실습 : math 모듈의 r값과 라디안 변환 함수"
      ]
    },
    {
      "cell_type": "code",
      "metadata": {
        "colab": {
          "base_uri": "https://localhost:8080/"
        },
        "id": "peRRBHeOE20i",
        "outputId": "fa159fd0-c494-49b0-e35d-6b1efd1fcd9b"
      },
      "source": [
        "m.pi    # 원주율"
      ],
      "execution_count": 86,
      "outputs": [
        {
          "output_type": "execute_result",
          "data": {
            "text/plain": [
              "3.141592653589793"
            ]
          },
          "metadata": {
            "tags": []
          },
          "execution_count": 86
        }
      ]
    },
    {
      "cell_type": "code",
      "metadata": {
        "colab": {
          "base_uri": "https://localhost:8080/"
        },
        "id": "PtQ50vjdFa-S",
        "outputId": "40421262-e1b5-49e4-e8b3-30ebafcc7a4a"
      },
      "source": [
        "m.sin(m.pi/2)"
      ],
      "execution_count": 87,
      "outputs": [
        {
          "output_type": "execute_result",
          "data": {
            "text/plain": [
              "1.0"
            ]
          },
          "metadata": {
            "tags": []
          },
          "execution_count": 87
        }
      ]
    },
    {
      "cell_type": "code",
      "metadata": {
        "colab": {
          "base_uri": "https://localhost:8080/"
        },
        "id": "8yVdzBNqFdMY",
        "outputId": "f5f8db32-882f-4cb0-bdd3-a3bb603e8c33"
      },
      "source": [
        "m.e"
      ],
      "execution_count": 88,
      "outputs": [
        {
          "output_type": "execute_result",
          "data": {
            "text/plain": [
              "2.718281828459045"
            ]
          },
          "metadata": {
            "tags": []
          },
          "execution_count": 88
        }
      ]
    },
    {
      "cell_type": "code",
      "metadata": {
        "colab": {
          "base_uri": "https://localhost:8080/"
        },
        "id": "0enD-WiuFeFL",
        "outputId": "217cc1ad-26d3-4ae1-8afd-de8f9284bfa2"
      },
      "source": [
        "m.radians(90)"
      ],
      "execution_count": 89,
      "outputs": [
        {
          "output_type": "execute_result",
          "data": {
            "text/plain": [
              "1.5707963267948966"
            ]
          },
          "metadata": {
            "tags": []
          },
          "execution_count": 89
        }
      ]
    },
    {
      "cell_type": "markdown",
      "metadata": {
        "id": "SJ7LrvsLFlQ3"
      },
      "source": [
        "대화창 실습 : math 모듈의 파이값과 함수"
      ]
    },
    {
      "cell_type": "code",
      "metadata": {
        "colab": {
          "base_uri": "https://localhost:8080/"
        },
        "id": "5b2DAfeAFfdw",
        "outputId": "734ecd99-8c10-437d-9f26-69424e511802"
      },
      "source": [
        "m.sin(m.pi/2)"
      ],
      "execution_count": 91,
      "outputs": [
        {
          "output_type": "execute_result",
          "data": {
            "text/plain": [
              "1.0"
            ]
          },
          "metadata": {
            "tags": []
          },
          "execution_count": 91
        }
      ]
    },
    {
      "cell_type": "code",
      "metadata": {
        "colab": {
          "base_uri": "https://localhost:8080/"
        },
        "id": "LTd__BYBFjlz",
        "outputId": "6d8dbfdf-8a3f-4533-da5f-459c2abb2c2b"
      },
      "source": [
        "m.asin(1.0)"
      ],
      "execution_count": 92,
      "outputs": [
        {
          "output_type": "execute_result",
          "data": {
            "text/plain": [
              "1.5707963267948966"
            ]
          },
          "metadata": {
            "tags": []
          },
          "execution_count": 92
        }
      ]
    },
    {
      "cell_type": "code",
      "metadata": {
        "colab": {
          "base_uri": "https://localhost:8080/"
        },
        "id": "KsCicXF-FrfR",
        "outputId": "3d80d19d-56e1-4536-f2a8-8789b38bc42a"
      },
      "source": [
        "m.degrees(m.asin(1.0))"
      ],
      "execution_count": 93,
      "outputs": [
        {
          "output_type": "execute_result",
          "data": {
            "text/plain": [
              "90.0"
            ]
          },
          "metadata": {
            "tags": []
          },
          "execution_count": 93
        }
      ]
    },
    {
      "cell_type": "code",
      "metadata": {
        "colab": {
          "base_uri": "https://localhost:8080/"
        },
        "id": "dHBrl7-3Ft0s",
        "outputId": "a1641256-8e28-4f59-ba1d-9500b51b997d"
      },
      "source": [
        "m.tan(2*m.pi)"
      ],
      "execution_count": 98,
      "outputs": [
        {
          "output_type": "execute_result",
          "data": {
            "text/plain": [
              "-2.4492935982947064e-16"
            ]
          },
          "metadata": {
            "tags": []
          },
          "execution_count": 98
        }
      ]
    },
    {
      "cell_type": "code",
      "metadata": {
        "colab": {
          "base_uri": "https://localhost:8080/"
        },
        "id": "xUap4eFYFvyx",
        "outputId": "df5a0bad-88c7-4a80-fa44-4046bee203f4"
      },
      "source": [
        "m.tan(0.0)"
      ],
      "execution_count": 99,
      "outputs": [
        {
          "output_type": "execute_result",
          "data": {
            "text/plain": [
              "0.0"
            ]
          },
          "metadata": {
            "tags": []
          },
          "execution_count": 99
        }
      ]
    },
    {
      "cell_type": "markdown",
      "metadata": {
        "id": "jPZF9-geHPFE"
      },
      "source": [
        "LAB7-4 : math 모듈을 이용한 계산"
      ]
    },
    {
      "cell_type": "code",
      "metadata": {
        "colab": {
          "base_uri": "https://localhost:8080/"
        },
        "id": "5Y1xM6GpFxU3",
        "outputId": "b4cfaab7-f017-4960-bed9-821d036319fd"
      },
      "source": [
        "#1.\n",
        "import math as m\n",
        "for i in range(2,11,1) :\n",
        "    print('4**{:2} = {:9}'.format(i,m.pow(4,i)))"
      ],
      "execution_count": 101,
      "outputs": [
        {
          "output_type": "stream",
          "text": [
            "4** 2 =      16.0\n",
            "4** 3 =      64.0\n",
            "4** 4 =     256.0\n",
            "4** 5 =    1024.0\n",
            "4** 6 =    4096.0\n",
            "4** 7 =   16384.0\n",
            "4** 8 =   65536.0\n",
            "4** 9 =  262144.0\n",
            "4**10 = 1048576.0\n"
          ],
          "name": "stdout"
        }
      ]
    },
    {
      "cell_type": "code",
      "metadata": {
        "colab": {
          "base_uri": "https://localhost:8080/"
        },
        "id": "XPFgSKFvHq6H",
        "outputId": "62655be8-4cf9-43cb-83c6-9bd144655223"
      },
      "source": [
        "#2.\n",
        "import math as m\n",
        "for i in range(0,181,10) :\n",
        "    print('{:3} degree = {:.3f} radian'.format(i,m.radians(i)))"
      ],
      "execution_count": 106,
      "outputs": [
        {
          "output_type": "stream",
          "text": [
            "  0 degree = 0.000 radian\n",
            " 10 degree = 0.175 radian\n",
            " 20 degree = 0.349 radian\n",
            " 30 degree = 0.524 radian\n",
            " 40 degree = 0.698 radian\n",
            " 50 degree = 0.873 radian\n",
            " 60 degree = 1.047 radian\n",
            " 70 degree = 1.222 radian\n",
            " 80 degree = 1.396 radian\n",
            " 90 degree = 1.571 radian\n",
            "100 degree = 1.745 radian\n",
            "110 degree = 1.920 radian\n",
            "120 degree = 2.094 radian\n",
            "130 degree = 2.269 radian\n",
            "140 degree = 2.443 radian\n",
            "150 degree = 2.618 radian\n",
            "160 degree = 2.793 radian\n",
            "170 degree = 2.967 radian\n",
            "180 degree = 3.142 radian\n"
          ],
          "name": "stdout"
        }
      ]
    },
    {
      "cell_type": "code",
      "metadata": {
        "colab": {
          "base_uri": "https://localhost:8080/"
        },
        "id": "4Hb7uDbyICHy",
        "outputId": "cbae797d-12b0-48fe-e3d3-2357e1291a46"
      },
      "source": [
        "#3.\n",
        "import math as m\n",
        "for i in range(0,181,10) :\n",
        "    print('sin({:4}) = {:.2f}'.format(i,m.sin(m.radians(i))))"
      ],
      "execution_count": 110,
      "outputs": [
        {
          "output_type": "stream",
          "text": [
            "sin(   0) = 0.00\n",
            "sin(  10) = 0.17\n",
            "sin(  20) = 0.34\n",
            "sin(  30) = 0.50\n",
            "sin(  40) = 0.64\n",
            "sin(  50) = 0.77\n",
            "sin(  60) = 0.87\n",
            "sin(  70) = 0.94\n",
            "sin(  80) = 0.98\n",
            "sin(  90) = 1.00\n",
            "sin( 100) = 0.98\n",
            "sin( 110) = 0.94\n",
            "sin( 120) = 0.87\n",
            "sin( 130) = 0.77\n",
            "sin( 140) = 0.64\n",
            "sin( 150) = 0.50\n",
            "sin( 160) = 0.34\n",
            "sin( 170) = 0.17\n",
            "sin( 180) = 0.00\n"
          ],
          "name": "stdout"
        }
      ]
    },
    {
      "cell_type": "markdown",
      "metadata": {
        "id": "FR_pxDdTJF_U"
      },
      "source": [
        "대화창 실습 : random 모듈을 활용한 값 생성"
      ]
    },
    {
      "cell_type": "code",
      "metadata": {
        "colab": {
          "base_uri": "https://localhost:8080/"
        },
        "id": "iECXgYeiIfYm",
        "outputId": "9c8a867b-cd33-4a72-c0d4-d391d86b95c6"
      },
      "source": [
        "import random as rd\n",
        "rd.random()"
      ],
      "execution_count": 111,
      "outputs": [
        {
          "output_type": "execute_result",
          "data": {
            "text/plain": [
              "0.6993464419933088"
            ]
          },
          "metadata": {
            "tags": []
          },
          "execution_count": 111
        }
      ]
    },
    {
      "cell_type": "code",
      "metadata": {
        "colab": {
          "base_uri": "https://localhost:8080/"
        },
        "id": "K8ziP_StJKXN",
        "outputId": "2a72d30f-eec0-4140-a520-d7d767223f07"
      },
      "source": [
        "rd.random()"
      ],
      "execution_count": 112,
      "outputs": [
        {
          "output_type": "execute_result",
          "data": {
            "text/plain": [
              "0.9087195682502474"
            ]
          },
          "metadata": {
            "tags": []
          },
          "execution_count": 112
        }
      ]
    },
    {
      "cell_type": "code",
      "metadata": {
        "colab": {
          "base_uri": "https://localhost:8080/"
        },
        "id": "NuUwXeeGJLg8",
        "outputId": "499fbe60-78a7-4029-c129-3dc9ecb5ade9"
      },
      "source": [
        "rd.randrange(1,7)"
      ],
      "execution_count": 117,
      "outputs": [
        {
          "output_type": "execute_result",
          "data": {
            "text/plain": [
              "3"
            ]
          },
          "metadata": {
            "tags": []
          },
          "execution_count": 117
        }
      ]
    },
    {
      "cell_type": "code",
      "metadata": {
        "colab": {
          "base_uri": "https://localhost:8080/"
        },
        "id": "x6MfSAlLJRPN",
        "outputId": "288ca77e-4fec-425d-cbf5-a2a26a9eb428"
      },
      "source": [
        "rd.randrange(0,10,2)"
      ],
      "execution_count": 146,
      "outputs": [
        {
          "output_type": "execute_result",
          "data": {
            "text/plain": [
              "6"
            ]
          },
          "metadata": {
            "tags": []
          },
          "execution_count": 146
        }
      ]
    },
    {
      "cell_type": "code",
      "metadata": {
        "colab": {
          "base_uri": "https://localhost:8080/"
        },
        "id": "rjRXtv_JJTtR",
        "outputId": "645b3cd1-2b64-4cb7-f8e5-9350791c0dce"
      },
      "source": [
        "rd.randint(1,10)"
      ],
      "execution_count": 121,
      "outputs": [
        {
          "output_type": "execute_result",
          "data": {
            "text/plain": [
              "9"
            ]
          },
          "metadata": {
            "tags": []
          },
          "execution_count": 121
        }
      ]
    },
    {
      "cell_type": "markdown",
      "metadata": {
        "id": "JpgaR_4aJ9A0"
      },
      "source": [
        "대화창 실습 : random 모듈을 활용한 섞기와 고르기"
      ]
    },
    {
      "cell_type": "code",
      "metadata": {
        "colab": {
          "base_uri": "https://localhost:8080/"
        },
        "id": "jHKB0NAgJee_",
        "outputId": "08074481-5664-4c11-ed87-e0e11aac93f5"
      },
      "source": [
        "numlist = [10,20,30,40,50]\n",
        "rd.shuffle(numlist)\n",
        "numlist"
      ],
      "execution_count": 147,
      "outputs": [
        {
          "output_type": "execute_result",
          "data": {
            "text/plain": [
              "[40, 30, 20, 50, 10]"
            ]
          },
          "metadata": {
            "tags": []
          },
          "execution_count": 147
        }
      ]
    },
    {
      "cell_type": "code",
      "metadata": {
        "colab": {
          "base_uri": "https://localhost:8080/"
        },
        "id": "zcd9s3JqKC4f",
        "outputId": "4653f0cf-0bf3-4d00-dcde-bd016d008820"
      },
      "source": [
        "rd.choice(numlist)"
      ],
      "execution_count": 148,
      "outputs": [
        {
          "output_type": "execute_result",
          "data": {
            "text/plain": [
              "10"
            ]
          },
          "metadata": {
            "tags": []
          },
          "execution_count": 148
        }
      ]
    },
    {
      "cell_type": "code",
      "metadata": {
        "colab": {
          "base_uri": "https://localhost:8080/"
        },
        "id": "GdEtXyZDKENs",
        "outputId": "69119b84-e5b4-44d7-e25d-ce416ccb525f"
      },
      "source": [
        "rd.sample(numlist,3)"
      ],
      "execution_count": 149,
      "outputs": [
        {
          "output_type": "execute_result",
          "data": {
            "text/plain": [
              "[30, 20, 10]"
            ]
          },
          "metadata": {
            "tags": []
          },
          "execution_count": 149
        }
      ]
    },
    {
      "cell_type": "markdown",
      "metadata": {
        "id": "tCxhtScOKOz-"
      },
      "source": [
        "대화창 실습 : random 모듈을 활용한 섞기"
      ]
    },
    {
      "cell_type": "code",
      "metadata": {
        "colab": {
          "base_uri": "https://localhost:8080/"
        },
        "id": "yKNMNl1lKFmy",
        "outputId": "c5c5a5b1-4bb9-4725-a062-45f0be5cf4e6"
      },
      "source": [
        "a = list(range(1,11))\n",
        "rd.shuffle(a)\n",
        "print(a)"
      ],
      "execution_count": 151,
      "outputs": [
        {
          "output_type": "stream",
          "text": [
            "[5, 2, 4, 8, 3, 10, 1, 9, 6, 7]\n"
          ],
          "name": "stdout"
        }
      ]
    },
    {
      "cell_type": "markdown",
      "metadata": {
        "id": "6jYKFGfmKYB_"
      },
      "source": [
        "LAB 7-5 : 랜덤 번호 생성기"
      ]
    },
    {
      "cell_type": "code",
      "metadata": {
        "colab": {
          "base_uri": "https://localhost:8080/"
        },
        "id": "i3gT8GtUKNIS",
        "outputId": "d535cba4-0667-408f-8a53-43250b64a6be"
      },
      "source": [
        "#1.\n",
        "import random as rd\n",
        "lists = []\n",
        "for i in range(3) :\n",
        "    lists.append(rd.randrange(0,101,5))\n",
        "print(lists)"
      ],
      "execution_count": 152,
      "outputs": [
        {
          "output_type": "stream",
          "text": [
            "[0, 80, 45]\n"
          ],
          "name": "stdout"
        }
      ]
    },
    {
      "cell_type": "code",
      "metadata": {
        "colab": {
          "base_uri": "https://localhost:8080/"
        },
        "id": "GGJqYBL6LCKg",
        "outputId": "02b08823-7980-4758-8ce4-5c47f2f84579"
      },
      "source": [
        "#2.\n",
        "import random as rd\n",
        "num = [int(x) for x in range(1,11)]\n",
        "print('1에서 10 사이의 임의의 정수 :',rd.sample(num,3))"
      ],
      "execution_count": 158,
      "outputs": [
        {
          "output_type": "stream",
          "text": [
            "1에서 10 사이의 임의의 정수 : [9, 1, 10]\n"
          ],
          "name": "stdout"
        }
      ]
    },
    {
      "cell_type": "markdown",
      "metadata": {
        "id": "k9280K5OMKoi"
      },
      "source": [
        "pseudo_rand_ex.py"
      ]
    },
    {
      "cell_type": "code",
      "metadata": {
        "colab": {
          "base_uri": "https://localhost:8080/"
        },
        "id": "9NXbjqrULznS",
        "outputId": "ca4b5893-41c3-417d-decd-b2f05d39a796"
      },
      "source": [
        "def pseudo_rand(x) :\n",
        "    a = 1103515245\n",
        "    b = 12345\n",
        "    m = 2** 31\n",
        "    new_x = (a*x +b) % m\n",
        "    return new_x\n",
        "\n",
        "x = pseudo_rand(100)\n",
        "print(x)\n",
        "x = pseudo_rand(101)\n",
        "print(x)"
      ],
      "execution_count": 159,
      "outputs": [
        {
          "output_type": "stream",
          "text": [
            "829870797\n",
            "1933386042\n"
          ],
          "name": "stdout"
        }
      ]
    },
    {
      "cell_type": "markdown",
      "metadata": {
        "id": "sGbM6eP1Myz6"
      },
      "source": [
        "pseudo_rand_for.py"
      ]
    },
    {
      "cell_type": "code",
      "metadata": {
        "colab": {
          "base_uri": "https://localhost:8080/"
        },
        "id": "hdtV3cbaMoAV",
        "outputId": "91f392ea-96dd-4cd8-fe53-be31e0f4e3b3"
      },
      "source": [
        "def pseudo_rand(x) :\n",
        "    new_x = (1103515245 * x + 12345) % (2**31)\n",
        "    return new_x\n",
        "\n",
        "x = 12234\n",
        "for _ in range(5) :\n",
        "    x = pseudo_rand(x)\n",
        "    print(x)"
      ],
      "execution_count": 160,
      "outputs": [
        {
          "output_type": "stream",
          "text": [
            "1323308347\n",
            "1115894872\n",
            "534792625\n",
            "1490648726\n",
            "389073431\n"
          ],
          "name": "stdout"
        }
      ]
    },
    {
      "cell_type": "markdown",
      "metadata": {
        "id": "1fLyv_KcNg4j"
      },
      "source": [
        "lotto_gen1.py"
      ]
    },
    {
      "cell_type": "code",
      "metadata": {
        "colab": {
          "base_uri": "https://localhost:8080/"
        },
        "id": "YIujdU8pNF8E",
        "outputId": "07f534ba-ab58-45da-c44c-b1f7438cc682"
      },
      "source": [
        "import random as rd\n",
        "lotto_list = list(range(1,46))\n",
        "rd.shuffle(lotto_list)\n",
        "lotto_list = lotto_list[:6]\n",
        "lotto_list.sort()\n",
        "print('이번 주의 추천 로또번호 :', lotto_list)"
      ],
      "execution_count": 161,
      "outputs": [
        {
          "output_type": "stream",
          "text": [
            "이번 주의 추천 로또번호 : [2, 11, 31, 32, 34, 42]\n"
          ],
          "name": "stdout"
        }
      ]
    },
    {
      "cell_type": "markdown",
      "metadata": {
        "id": "tMskMqdnODxW"
      },
      "source": [
        "lotto_gen2.py"
      ]
    },
    {
      "cell_type": "code",
      "metadata": {
        "colab": {
          "base_uri": "https://localhost:8080/"
        },
        "id": "4y9Dus7GN7Fd",
        "outputId": "2d23921e-caa8-4b12-c307-14b2a0fdd870"
      },
      "source": [
        "import random as rd\n",
        "lotto_list = list(range(1,46))\n",
        "lotto_list = rd.sample(lotto_list,6)\n",
        "lotto_list.sort()\n",
        "print('이번 주의 추천 로또번호 :', lotto_list)"
      ],
      "execution_count": 162,
      "outputs": [
        {
          "output_type": "stream",
          "text": [
            "이번 주의 추천 로또번호 : [2, 4, 30, 31, 34, 36]\n"
          ],
          "name": "stdout"
        }
      ]
    }
  ]
}