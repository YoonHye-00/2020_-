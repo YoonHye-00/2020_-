{
  "nbformat": 4,
  "nbformat_minor": 0,
  "metadata": {
    "colab": {
      "name": "hw6_20202971_YoonHyePark",
      "provenance": [],
      "collapsed_sections": []
    },
    "kernelspec": {
      "name": "python3",
      "display_name": "Python 3"
    }
  },
  "cells": [
    {
      "cell_type": "markdown",
      "metadata": {
        "id": "SMsJyYPuPwEL"
      },
      "source": [
        "<으뜸 파이썬> 6.7 ~ 6.17,  6.20 ~ 6.26"
      ]
    },
    {
      "cell_type": "code",
      "metadata": {
        "colab": {
          "base_uri": "https://localhost:8080/"
        },
        "id": "wPgxuq2qPRZu",
        "outputId": "7e665ae3-2f51-423f-b8d6-71cab4eb737d"
      },
      "source": [
        "#6.7\n",
        "\n",
        "sales = (100, 121, 120, 130, 140, 120, 122, 123, 190, 125)\n",
        "days = 0\n",
        "for i in range(len(sales)-1) :\n",
        "    if sales[i] > sales[i+1] :\n",
        "        days += 1\n",
        "print('일일 매출 기록 :',sales)\n",
        "print('지난 10일 동안 전일대비 매출이 감소한 날은 {}일입니다.'.format(days))"
      ],
      "execution_count": null,
      "outputs": [
        {
          "output_type": "stream",
          "text": [
            "일일 매출 기록 : (100, 121, 120, 130, 140, 120, 122, 123, 190, 125)\n",
            "지난 10일 동안 전일대비 매출이 감소한 날은 3일입니다.\n"
          ],
          "name": "stdout"
        }
      ]
    },
    {
      "cell_type": "code",
      "metadata": {
        "colab": {
          "base_uri": "https://localhost:8080/"
        },
        "id": "q9bypZUgTyXf",
        "outputId": "234d77f5-c613-4dd6-e25e-9c4ad165e1c6"
      },
      "source": [
        "#6.8\n",
        "\n",
        "tup = (1,2,5,4,3,2,9,1,4,7,8,9,9)\n",
        "dup = set()\n",
        "for i in tup :\n",
        "    if tup.count(i) > 1 :\n",
        "        dup = dup | {i}\n",
        "print('주어진 튜플은 :', tup)\n",
        "print('중복 원소는 :', dup)"
      ],
      "execution_count": null,
      "outputs": [
        {
          "output_type": "stream",
          "text": [
            "주어진 튜플은 : (1, 2, 5, 4, 3, 2, 9, 1, 4, 7, 8, 9, 9)\n",
            "중복 원소는 : {1, 2, 4, 9}\n"
          ],
          "name": "stdout"
        }
      ]
    },
    {
      "cell_type": "code",
      "metadata": {
        "colab": {
          "base_uri": "https://localhost:8080/"
        },
        "id": "0oIG1FKiUI_L",
        "outputId": "a393a780-f933-4788-efef-15f656888320"
      },
      "source": [
        "#6.9\n",
        "\n",
        "tup = (1,2,5,4,3,2,1,4,7,8,9,9,3,7,3)\n",
        "del_tup = tuple(set(tup))\n",
        "print('주어진 튜플 :',tup)\n",
        "print('중복 제거 튜플 :', del_tup)"
      ],
      "execution_count": null,
      "outputs": [
        {
          "output_type": "stream",
          "text": [
            "주어진 튜플 : (1, 2, 5, 4, 3, 2, 1, 4, 7, 8, 9, 9, 3, 7, 3)\n",
            "중복 제거 튜플 : (1, 2, 3, 4, 5, 7, 8, 9)\n"
          ],
          "name": "stdout"
        }
      ]
    },
    {
      "cell_type": "code",
      "metadata": {
        "colab": {
          "base_uri": "https://localhost:8080/"
        },
        "id": "F2augqviVFWL",
        "outputId": "dfec0ffd-9ac5-49ed-a3ce-565c88c7ca71"
      },
      "source": [
        "#6.10\n",
        "\n",
        "#tup = (1,2,5,4,3,2,1,4,7,8,9,9,3,7,3)\n",
        "tup = (1,2,5,4,3,2,9,4,7,8,9,9,3,7,3)\n",
        "set_tup = set(tup)      # tup에 있는 수를 중복 없이 나타냄\n",
        "check = 0\n",
        "for i in set_tup :\n",
        "    if tup.count(i) > check :\n",
        "        num = []    # 리스트 초기화\n",
        "        check = tup.count(i)\n",
        "        num = [i]   \n",
        "    elif tup.count(i) == check :\n",
        "        num.append(i)\n",
        "print('주어진 튜플은 :', tup)\n",
        "print('가장 많이 나타나는 요소는 :', max(num))"
      ],
      "execution_count": null,
      "outputs": [
        {
          "output_type": "stream",
          "text": [
            "주어진 튜플은 : (1, 2, 5, 4, 3, 2, 9, 4, 7, 8, 9, 9, 3, 7, 3)\n",
            "가장 많이 나타나는 요소는 : 9\n"
          ],
          "name": "stdout"
        }
      ]
    },
    {
      "cell_type": "code",
      "metadata": {
        "colab": {
          "base_uri": "https://localhost:8080/"
        },
        "id": "NfdQS_OIWjnD",
        "outputId": "585fe9ba-9c30-4b8d-e327-5ae7f6aea521"
      },
      "source": [
        "#6.11\n",
        "\n",
        "given_list = [(), 1, (), (), (1,), ('a',), ('a','b'), ((),), ('a','b'), '']\n",
        "lists = [(), '', []]\n",
        "for i in lists :\n",
        "    while i in given_list :     # lists에 있는 원소가 given_list에 있으면 그 원소를 given_list에서 제거\n",
        "        given_list.remove(i)\n",
        "print('주어진 리스트 :', given_list)\n",
        "print('빈 튜플 요소를 제거한 결과 :', given_list)"
      ],
      "execution_count": null,
      "outputs": [
        {
          "output_type": "stream",
          "text": [
            "주어진 리스트 : [1, (1,), ('a',), ('a', 'b'), ((),), ('a', 'b')]\n",
            "빈 튜플 요소를 제거한 결과 : [1, (1,), ('a',), ('a', 'b'), ((),), ('a', 'b')]\n"
          ],
          "name": "stdout"
        }
      ]
    },
    {
      "cell_type": "code",
      "metadata": {
        "colab": {
          "base_uri": "https://localhost:8080/"
        },
        "id": "tPDO1HxzZT3s",
        "outputId": "8f8a085e-38e4-4a13-8d67-b1118e5c338f"
      },
      "source": [
        "#6.12\n",
        "\n",
        "g_list = [5,6,3,9,2,12,3,8,7]\n",
        "print('주어진 리스트는 =', g_list)\n",
        "for i in range(len(g_list)-1) :\n",
        "    if g_list[i] > g_list[i+1] :\n",
        "         g_list[i+1], g_list[i] = tuple(g_list[i:i+2])     # 앞의 원소가 뒤의 원소보다 값이 크면 서로 순서를 바꿔줌\n",
        "print('가장 큰 수를 마지막으로 옮긴 결과 :', g_list)"
      ],
      "execution_count": null,
      "outputs": [
        {
          "output_type": "stream",
          "text": [
            "주어진 리스트는 = [5, 6, 3, 9, 2, 12, 3, 8, 7]\n",
            "가장 큰 수를 마지막으로 옮긴 결과 : [5, 3, 6, 2, 9, 3, 8, 7, 12]\n"
          ],
          "name": "stdout"
        }
      ]
    },
    {
      "cell_type": "code",
      "metadata": {
        "colab": {
          "base_uri": "https://localhost:8080/"
        },
        "id": "CL2zeSIxiDi1",
        "outputId": "13294f1b-b055-4d71-a112-82a7b9ea467b"
      },
      "source": [
        "#6.13\n",
        "\n",
        "g_list = [5,6,3,9,2,12,3,8,7]\n",
        "print('주어진 리스트는 =', g_list)\n",
        "for j in range(len(g_list)-1) :\n",
        "    for i in range(len(g_list)-1-j) :\n",
        "        if g_list[i] > g_list[i+1] :\n",
        "            g_list[i+1], g_list[i] = tuple(g_list[i:i+2])     # 앞의 원소가 뒤의 원소보다 값이 크면 서로 순서를 바꿔줌\n",
        "print('정렬된 결과는 =', g_list)"
      ],
      "execution_count": 60,
      "outputs": [
        {
          "output_type": "stream",
          "text": [
            "주어진 리스트는 = [5, 6, 3, 9, 2, 12, 3, 8, 7]\n",
            "정렬된 결과는 = [2, 3, 3, 5, 6, 7, 8, 9, 12]\n"
          ],
          "name": "stdout"
        }
      ]
    },
    {
      "cell_type": "code",
      "metadata": {
        "id": "oe_8Z_Yfq9oq",
        "colab": {
          "base_uri": "https://localhost:8080/"
        },
        "outputId": "08fedee0-2fe7-4783-8e45-0cf3b0055a8c"
      },
      "source": [
        "#6.14\n",
        "\n",
        "g_list = [5,6,31,9,2,12,13,8,7]\n",
        "print('정렬전 리스트 :', g_list)\n",
        "for j in range(len(g_list)-1) :\n",
        "    for i in range(len(g_list)-1-j) :\n",
        "        if g_list[i] > g_list[i+1] :\n",
        "            g_list[i+1], g_list[i] = tuple(g_list[i:i+2])     # 앞의 원소가 뒤의 원소보다 값이 크면 서로 순서를 바꿔줌\n",
        "    print('{} 단계 : {}, {}'.format((j+1), g_list[0:len(g_list)-1-j], g_list[len(g_list)-1-j:]))\n",
        "print('정렬된 리스트 :', g_list)"
      ],
      "execution_count": 64,
      "outputs": [
        {
          "output_type": "stream",
          "text": [
            "정렬전 리스트 : [5, 6, 31, 9, 2, 12, 13, 8, 7]\n",
            "1 단계 : [5, 6, 9, 2, 12, 13, 8, 7], [31]\n",
            "2 단계 : [5, 6, 2, 9, 12, 8, 7], [13, 31]\n",
            "3 단계 : [5, 2, 6, 9, 8, 7], [12, 13, 31]\n",
            "4 단계 : [2, 5, 6, 8, 7], [9, 12, 13, 31]\n",
            "5 단계 : [2, 5, 6, 7], [8, 9, 12, 13, 31]\n",
            "6 단계 : [2, 5, 6], [7, 8, 9, 12, 13, 31]\n",
            "7 단계 : [2, 5], [6, 7, 8, 9, 12, 13, 31]\n",
            "8 단계 : [2], [5, 6, 7, 8, 9, 12, 13, 31]\n",
            "정렬된 리스트 : [2, 5, 6, 7, 8, 9, 12, 13, 31]\n"
          ],
          "name": "stdout"
        }
      ]
    },
    {
      "cell_type": "code",
      "metadata": {
        "colab": {
          "base_uri": "https://localhost:8080/"
        },
        "id": "iFYKsJgLzC-2",
        "outputId": "16c96830-ad93-4885-91ba-cf9dfa3c8542"
      },
      "source": [
        "#6.15\n",
        "\n",
        "tup = (4,5,2,3,8,1,9,0)\n",
        "for i in range(len(tup),0,-1) :\n",
        "    print(tup[0:i])"
      ],
      "execution_count": 65,
      "outputs": [
        {
          "output_type": "stream",
          "text": [
            "(4, 5, 2, 3, 8, 1, 9, 0)\n",
            "(4, 5, 2, 3, 8, 1, 9)\n",
            "(4, 5, 2, 3, 8, 1)\n",
            "(4, 5, 2, 3, 8)\n",
            "(4, 5, 2, 3)\n",
            "(4, 5, 2)\n",
            "(4, 5)\n",
            "(4,)\n"
          ],
          "name": "stdout"
        }
      ]
    },
    {
      "cell_type": "code",
      "metadata": {
        "colab": {
          "base_uri": "https://localhost:8080/"
        },
        "id": "7D-SJ8lv0ISZ",
        "outputId": "912f574d-2d6d-433e-9e54-f24093e02016"
      },
      "source": [
        "#6.16\n",
        "\n",
        "student_tuple = (('191101', '홍길동', '010-123-45xx'), ('191102', '임꺽정', '010-223-45xx'), ('191103', '장길산', '010-323-45xx'))\n",
        "tup = []\n",
        "for i in student_tuple :\n",
        "    tup.append((i[0],i[1]))\n",
        "dic = dict(tuple(tup))      # 튜플을 이용하여 딕셔너리를 만듦\n",
        "\n",
        "print('학생 정보 :',dic)\n",
        "num = input('학번을 입력하세요 :')\n",
        "while 1 :\n",
        "    if int(num) > 0 :\n",
        "        if num in dic :\n",
        "            print('{}번 학생은 {}입니다.'.format(num, dic[num]))\n",
        "        else :\n",
        "            print('해당 학번의 학생이 없습니다.')\n",
        "        num = input('학번을 입력하세요 :')\n",
        "    else :\n",
        "        print('프로그램을 종료합니다.')\n",
        "        break"
      ],
      "execution_count": 1,
      "outputs": [
        {
          "output_type": "stream",
          "text": [
            "학생 정보 : {'191101': '홍길동', '191102': '임꺽정', '191103': '장길산'}\n",
            "학번을 입력하세요 :191102\n",
            "191102번 학생은 임꺽정입니다.\n",
            "학번을 입력하세요 :191106\n",
            "해당 학번의 학생이 없습니다.\n",
            "학번을 입력하세요 :-1\n",
            "프로그램을 종료합니다.\n"
          ],
          "name": "stdout"
        }
      ]
    },
    {
      "cell_type": "code",
      "metadata": {
        "id": "uBTexBwh1hNf"
      },
      "source": [
        "#6.17\n",
        "\n",
        "population_A = (100, 150, 230, 120, 180, 100, 140, 95, 81, 21, 4)\n",
        "population_B = (300, 420, 530, 420, 400, 300, 40, 5, 1, 1, 1)"
      ],
      "execution_count": 2,
      "outputs": []
    },
    {
      "cell_type": "code",
      "metadata": {
        "colab": {
          "base_uri": "https://localhost:8080/"
        },
        "id": "TDQ-na9l5fsg",
        "outputId": "ad9e769c-c122-4c48-bf37-0cccc74ee13f"
      },
      "source": [
        "#(1)\n",
        "A_sum = sum(population_A[2:])\n",
        "B_sum = sum(population_B[2:])\n",
        "print('마을 A와 B에 보낼 투표용지의 개수는 각각 {} 장과 {} 장입니다.'.format(A_sum, B_sum))"
      ],
      "execution_count": 3,
      "outputs": [
        {
          "output_type": "stream",
          "text": [
            "마을 A와 B에 보낼 투표용지의 개수는 각각 971 장과 1698 장입니다.\n"
          ],
          "name": "stdout"
        }
      ]
    },
    {
      "cell_type": "code",
      "metadata": {
        "colab": {
          "base_uri": "https://localhost:8080/"
        },
        "id": "WCgbhxXo6m4J",
        "outputId": "d8b41bcd-d1b9-40a9-8684-6aa81fa69a39"
      },
      "source": [
        "#(2)\n",
        "A_rate = sum(population_A[7:])/sum(population_A)\n",
        "B_rate = sum(population_B[7:])/sum(population_B)\n",
        "print('마을 A와 B의 고령화 정도는 각각 {:.3f}와 {:.3f}입니다.'.format(A_rate, B_rate))"
      ],
      "execution_count": 6,
      "outputs": [
        {
          "output_type": "stream",
          "text": [
            "마을 A와 B의 고령화 정도는 각각 0.165와 0.003입니다.\n"
          ],
          "name": "stdout"
        }
      ]
    },
    {
      "cell_type": "code",
      "metadata": {
        "id": "l2_RyCC87aVb"
      },
      "source": [
        "#6.20\n",
        "\n",
        "scores = (('박동규', 88, 95, 90), ('강영민', 85, 90, 95), ('박동민', 70, 90, 80), ('홍승주', 90, 90, 95))   #(학생 이름, 국어, 수학, 과학 성적)"
      ],
      "execution_count": 7,
      "outputs": []
    },
    {
      "cell_type": "code",
      "metadata": {
        "colab": {
          "base_uri": "https://localhost:8080/"
        },
        "id": "LR5xi0Oj8DNM",
        "outputId": "abd1eadd-6e2d-40e6-b30c-303cec22fcea"
      },
      "source": [
        "#(1)\n",
        "name, language, math, science = zip(*scores)\n",
        "print('학생들의 수학 성적의 평균은 {:.2f}입니다.'.format(sum(math)/len(math)))"
      ],
      "execution_count": 9,
      "outputs": [
        {
          "output_type": "stream",
          "text": [
            "학생들의 수학 성적의 평균은 91.25입니다.\n"
          ],
          "name": "stdout"
        }
      ]
    },
    {
      "cell_type": "code",
      "metadata": {
        "colab": {
          "base_uri": "https://localhost:8080/"
        },
        "id": "de70gnjZ8gW9",
        "outputId": "991cf61f-c35c-45c5-9f99-a2f12055a16a"
      },
      "source": [
        "#(2)\n",
        "print('학생들의 수학과 과학 성적의 평균은 {:.3f}입니다.'.format((sum(science)+sum(math))/(len(science)+len(math))))"
      ],
      "execution_count": 11,
      "outputs": [
        {
          "output_type": "stream",
          "text": [
            "학생들의 수학과 과학 성적의 평균은 90.625입니다.\n"
          ],
          "name": "stdout"
        }
      ]
    },
    {
      "cell_type": "code",
      "metadata": {
        "colab": {
          "base_uri": "https://localhost:8080/"
        },
        "id": "flCApOss9dW9",
        "outputId": "f3a03e9e-a107-4a4b-fa94-4cce10069a7e"
      },
      "source": [
        "#(3)\n",
        "ave = []\n",
        "for i in scores :\n",
        "    ave.append(sum(i[1:])/3)\n",
        "tup_ave = tuple(ave)\n",
        "student_list = list(zip(name, tup_ave))\n",
        "student_dic = dict(student_list)\n",
        "\n",
        "print('이름\\t\\t평균성적')\n",
        "print('------------------------')\n",
        "for j in student_dic :\n",
        "    print('{}\\t\\t {:.2f}'.format(j,student_dic[j]))"
      ],
      "execution_count": 40,
      "outputs": [
        {
          "output_type": "stream",
          "text": [
            "이름\t\t평균성적\n",
            "------------------------\n",
            "박동규\t\t 91.00\n",
            "강영민\t\t 90.00\n",
            "박동민\t\t 80.00\n",
            "홍승주\t\t 91.67\n"
          ],
          "name": "stdout"
        }
      ]
    },
    {
      "cell_type": "code",
      "metadata": {
        "colab": {
          "base_uri": "https://localhost:8080/"
        },
        "id": "v2EeVolt-V3c",
        "outputId": "0750cb98-6ddd-4dbd-eab7-e1d7a422bec4"
      },
      "source": [
        "#6.21\n",
        "\n",
        "st = input('문자열을 입력하시오 : ')\n",
        "string = st.lower().replace('.','').replace(' ','')     # 문자열을 모두 소문자로 바꾸고 마침표와 공백을 모두 빈 문자열로 바꿈.\n",
        "l_string = list(string)\n",
        "l_string.reverse()      \n",
        "if list(string) == l_string :   # 문자열을 리스트로 바꾸고 원래의 리스트와 순서를 거꾸로한 리스트가 같으면 회문\n",
        "    print('회문입니다.')\n",
        "else :\n",
        "    print('회문이 아닙니다.')\n"
      ],
      "execution_count": 59,
      "outputs": [
        {
          "output_type": "stream",
          "text": [
            "문자열을 입력하시오 : A nut for a jar of tuna\n",
            "회문입니다.\n"
          ],
          "name": "stdout"
        }
      ]
    },
    {
      "cell_type": "code",
      "metadata": {
        "colab": {
          "base_uri": "https://localhost:8080/"
        },
        "id": "99AMO_BqYWAU",
        "outputId": "cc820232-b37b-40e9-991b-f75b86b35e58"
      },
      "source": [
        "#6.22\n",
        "\n",
        "name = input('이름을 입력하세요 : ')\n",
        "if name[-3:] == 'vic' :\n",
        "    print('안녕하세요? {} 님. 발칸 반도에서 오셨나요?'.format(name))\n",
        "else :\n",
        "    print('안녕하세요? {} 님.'.format(name))"
      ],
      "execution_count": 62,
      "outputs": [
        {
          "output_type": "stream",
          "text": [
            "이름을 입력하세요 : Sinisa Mihajlovic\n",
            "안녕하세요? Sinisa Mihajlovic 님. 발칸 반도에서 오셨나요?\n"
          ],
          "name": "stdout"
        }
      ]
    },
    {
      "cell_type": "code",
      "metadata": {
        "colab": {
          "base_uri": "https://localhost:8080/"
        },
        "id": "l5-RU-Amc7uf",
        "outputId": "ce5e1b68-049c-4af5-da58-f5e7e5082f77"
      },
      "source": [
        "#6.23\n",
        "\n",
        "import string\n",
        "al = string.ascii_uppercase \n",
        "for i in range(10) :\n",
        "    print(al[i:len(al)] + al[0:i])"
      ],
      "execution_count": 66,
      "outputs": [
        {
          "output_type": "stream",
          "text": [
            "ABCDEFGHIJKLMNOPQRSTUVWXYZ\n",
            "BCDEFGHIJKLMNOPQRSTUVWXYZA\n",
            "CDEFGHIJKLMNOPQRSTUVWXYZAB\n",
            "DEFGHIJKLMNOPQRSTUVWXYZABC\n",
            "EFGHIJKLMNOPQRSTUVWXYZABCD\n",
            "FGHIJKLMNOPQRSTUVWXYZABCDE\n",
            "GHIJKLMNOPQRSTUVWXYZABCDEF\n",
            "HIJKLMNOPQRSTUVWXYZABCDEFG\n",
            "IJKLMNOPQRSTUVWXYZABCDEFGH\n",
            "JKLMNOPQRSTUVWXYZABCDEFGHI\n"
          ],
          "name": "stdout"
        }
      ]
    },
    {
      "cell_type": "code",
      "metadata": {
        "colab": {
          "base_uri": "https://localhost:8080/"
        },
        "id": "DKDzRGzmyAps",
        "outputId": "a88fd0c9-e105-4140-f685-b8081020b528"
      },
      "source": [
        "#6.24 - (1)\n",
        "\n",
        "import string\n",
        "src_str = string.ascii_uppercase\n",
        "dst_str = src_str[3:] + src_str[0:3]\n",
        "print('src_str =', src_str)\n",
        "print('dst_str =', dst_str)"
      ],
      "execution_count": 67,
      "outputs": [
        {
          "output_type": "stream",
          "text": [
            "src_str = ABCDEFGHIJKLMNOPQRSTUVWXYZ\n",
            "dst_str = DEFGHIJKLMNOPQRSTUVWXYZABC\n"
          ],
          "name": "stdout"
        }
      ]
    },
    {
      "cell_type": "code",
      "metadata": {
        "colab": {
          "base_uri": "https://localhost:8080/"
        },
        "id": "OeYcgCvq2B5h",
        "outputId": "4d0bc8c2-5901-4ae9-930d-3b47b885e8cf"
      },
      "source": [
        "#(2)\n",
        "def ciper(a) :\n",
        "    a_index = src_str.index(a)\n",
        "    print('src_str의 {} 인덱스 : {}'.format(a, a_index))\n",
        "    print('dst_str의 {}번째 알파벳 : {}'.format(a_index, dst_str[a_index]))\n",
        "\n",
        "ciper('A')\n",
        "ciper('B')"
      ],
      "execution_count": 74,
      "outputs": [
        {
          "output_type": "stream",
          "text": [
            "src_str의 A 인덱스 : 0\n",
            "dst_str의 0번째 알파벳 : D\n",
            "src_str의 B 인덱스 : 1\n",
            "dst_str의 1번째 알파벳 : E\n"
          ],
          "name": "stdout"
        }
      ]
    },
    {
      "cell_type": "code",
      "metadata": {
        "colab": {
          "base_uri": "https://localhost:8080/"
        },
        "id": "m8JPX4SM7czj",
        "outputId": "4385a53f-87a9-4872-a380-f5abde468941"
      },
      "source": [
        "#(3)\n",
        "def ciper(a) :\n",
        "    a_list = list(a)\n",
        "    st = ''\n",
        "    for i in a_list :\n",
        "        if i.isalpha() :\n",
        "            i_index = src_str.index(i)\n",
        "            st += dst_str[i_index]\n",
        "        else :\n",
        "            st += i\n",
        "    return st\n",
        "\n",
        "a = input('문장을 입력하시오 : ')\n",
        "print('암호화된 문장 :', ciper(a))"
      ],
      "execution_count": 72,
      "outputs": [
        {
          "output_type": "stream",
          "text": [
            "문장을 입력하시오 : ATTACK TONIGHT!\n",
            "암호화된 문장 : DWWDFN WRQLJKW!\n"
          ],
          "name": "stdout"
        }
      ]
    },
    {
      "cell_type": "code",
      "metadata": {
        "colab": {
          "base_uri": "https://localhost:8080/"
        },
        "id": "2TDFjv1w-mRn",
        "outputId": "c48cbbe2-4db0-47ec-f062-0c6ea907f7a0"
      },
      "source": [
        "#(4)\n",
        "def decode(a) :\n",
        "    a_list = list(a)\n",
        "    st = ''\n",
        "    for i in a_list :\n",
        "        if i.isalpha() :\n",
        "            i_index = dst_str.index(i)\n",
        "            st += src_str[i_index]\n",
        "        else :\n",
        "            st += i\n",
        "    return st\n",
        "\n",
        "a = input('암호화된 문장을 입력하시오 : ')\n",
        "print('해독된 문장 :',decode(a))"
      ],
      "execution_count": 75,
      "outputs": [
        {
          "output_type": "stream",
          "text": [
            "암호화된 문장을 입력하시오 : DWWDFN WRQLJKW!\n",
            "해독된 문장 : ATTACK TONIGHT!\n"
          ],
          "name": "stdout"
        }
      ]
    },
    {
      "cell_type": "code",
      "metadata": {
        "colab": {
          "base_uri": "https://localhost:8080/"
        },
        "id": "Rhmshi0QI_Z7",
        "outputId": "c560e660-543a-471b-a7b9-b40546973c94"
      },
      "source": [
        "#(5)\n",
        "import string\n",
        "SRC_str = string.ascii_uppercase    # 아스키 대문자\n",
        "DST_str = SRC_str[3:] + SRC_str[0:3]\n",
        "src_str = string.ascii_lowercase    # 아스키 소문자\n",
        "dst_str = src_str[3:] + src_str[0:3]\n",
        "\n",
        "def encode(a) :\n",
        "    a_list = list(a)\n",
        "    st = ''\n",
        "    for i in a_list :\n",
        "        if i.isalpha() :\n",
        "            if i.isupper() :    # i가 대문자이면 아스키 대문자 이용\n",
        "                i_index = SRC_str.index(i)\n",
        "                st += DST_str[i_index]\n",
        "            else :              # i가 소문자이면 아스키 소문자 이용\n",
        "                i_index = src_str.index(i)\n",
        "                st += dst_str[i_index]\n",
        "        else :\n",
        "            st += i\n",
        "    return st\n",
        "\n",
        "a = input('문장을 입력하시오 : ')\n",
        "print('암호화된 문장 :', encode(a))"
      ],
      "execution_count": 81,
      "outputs": [
        {
          "output_type": "stream",
          "text": [
            "문장을 입력하시오 : Veni, vidi, vici.\n",
            "암호화된 문장 : Yhql, ylgl, ylfl.\n"
          ],
          "name": "stdout"
        }
      ]
    },
    {
      "cell_type": "code",
      "metadata": {
        "colab": {
          "base_uri": "https://localhost:8080/"
        },
        "id": "wsR_8qY5KLl_",
        "outputId": "756c83dd-1bc2-462b-c922-ff459a7cb5da"
      },
      "source": [
        "#6.25\n",
        "\n",
        "print('사전 프로그램 시작... 종료는 q를 입력')\n",
        "dic = {}\n",
        "while 1 :\n",
        "    word = input('$ ')\n",
        "    if '<' == word[0] :\n",
        "        w = word[2:]\n",
        "        E,K = w.split(':')\n",
        "        dic[E] = K\n",
        "    elif '>' == word[0] :\n",
        "        if word[2:] in dic :\n",
        "            print(dic[word[2:]])\n",
        "        else :\n",
        "            print('{}가 사전에 없습니다.'.for<mat(word[2:]))\n",
        "    elif word == 'q' :\n",
        "        print('사전 프로그램을 종료합니다.')\n",
        "        break\n",
        "    else :\n",
        "        print('입력오류가 발생했습니다.')\n"
      ],
      "execution_count": 102,
      "outputs": [
        {
          "output_type": "stream",
          "text": [
            "사전 프로그램 시작... 종료는 q를 입력\n",
            "$ < boy:소년\n",
            "$ < girl:소녀\n",
            "$ < man:남자, 사람\n",
            "$ < woman:여자\n",
            "$ < house:집\n",
            "$ < Korea:한국\n",
            "$ > boy\n",
            "소년\n",
            "$ > body\n",
            "body가 사전에 없습니다.\n",
            "$ man\n",
            "입력오류가 발생했습니다.\n",
            "$ > man\n",
            "남자, 사람\n",
            "$ q\n",
            "사전 프로그램을 종료합니다.\n"
          ],
          "name": "stdout"
        }
      ]
    },
    {
      "cell_type": "code",
      "metadata": {
        "colab": {
          "base_uri": "https://localhost:8080/"
        },
        "id": "n7-JquMpVOy0",
        "outputId": "0729f40f-d68d-41fc-a076-3983f7700970"
      },
      "source": [
        "#6.26\n",
        "\n",
        "mylist = [(1,2), (4,5), (4,2), (3,1), (9,4)]\n",
        "a, b = map(int, input('두 정수를 입력하시오 : ').split())\n",
        "if (a,b) in mylist :\n",
        "    print('{}번째에 {} 요소가 있습니다.'.format(mylist.index((a,b))+1, (a,b)))\n",
        "elif (b,a) in mylist :\n",
        "    print('{} 요소는 없으나 {}번째에 {} 요소가 있습니다.'.format((a,b),mylist.index((b,a))+1, (b,a)))\n",
        "else :\n",
        "    print('이 요소는 없습니다.')"
      ],
      "execution_count": 104,
      "outputs": [
        {
          "output_type": "stream",
          "text": [
            "두 정수를 입력하시오 : 4 9\n",
            "(4, 9) 요소는 없으나 5번째에 (9, 4) 요소가 있습니다.\n"
          ],
          "name": "stdout"
        }
      ]
    }
  ]
}