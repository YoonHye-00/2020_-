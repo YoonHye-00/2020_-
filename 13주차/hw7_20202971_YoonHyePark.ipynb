{
  "nbformat": 4,
  "nbformat_minor": 0,
  "metadata": {
    "colab": {
      "name": "hw7_20202971_YoonHyePark",
      "provenance": [],
      "collapsed_sections": []
    },
    "kernelspec": {
      "name": "python3",
      "display_name": "Python 3"
    }
  },
  "cells": [
    {
      "cell_type": "markdown",
      "metadata": {
        "id": "iF426Bh-bcsL"
      },
      "source": [
        "<으뜸 파이썬> 7.1 ~ 7.6, 7.8 ~ 7.10"
      ]
    },
    {
      "cell_type": "code",
      "metadata": {
        "colab": {
          "base_uri": "https://localhost:8080/"
        },
        "id": "O4XcroO5bsHN",
        "outputId": "fdea700c-2db2-494e-de08-e2aad17ec454"
      },
      "source": [
        "#7.1 - (1)\n",
        "\n",
        "import datetime as dt\n",
        "start = dt.date(2019, 2, 24)\n",
        "today = dt.date.today()\n",
        "time_gap = today - start\n",
        "print('춘향이와 몽룡이의 연애 시작일 : {}년 {}월 {}일'.format(start.year, start.month, start.day))\n",
        "print('연애 시작일로부터 경과한 날짜 : {}일'.format(time_gap.days))"
      ],
      "execution_count": 4,
      "outputs": [
        {
          "output_type": "stream",
          "text": [
            "춘향이와 몽룡이의 연애 시작일 : 2019년 2월 24일\n",
            "연애 시작일로부터 경과한 날짜 : 640일\n"
          ],
          "name": "stdout"
        }
      ]
    },
    {
      "cell_type": "code",
      "metadata": {
        "colab": {
          "base_uri": "https://localhost:8080/"
        },
        "id": "3NVovBDIci_i",
        "outputId": "6f1a22bc-63aa-4f4f-c2de-61f5e9984b1f"
      },
      "source": [
        "#7.1 - (2)\n",
        "\n",
        "import datetime as dt\n",
        "start = dt.date(2019, 2, 24)\n",
        "plus100day = start + dt.timedelta(days = 100)\n",
        "plus200day = start + dt.timedelta(days = 200)\n",
        "plus500day = start + dt.timedelta(days = 500)\n",
        "plus1000day = start + dt.timedelta(days = 1000)\n",
        "print('춘향이와 몽룡이의 연애 시작일 : {}년 {}월 {}일'.format(start.year, start.month, start.day))\n",
        "print('100일 기념일 : {}년 {}월 {}일'.format(plus100day.year, plus100day.month, plus100day.day))\n",
        "print('200일 기념일 : {}년 {}월 {}일'.format(plus200day.year, plus200day.month, plus200day.day))\n",
        "print('500일 기념일 : {}년 {}월 {}일'.format(plus500day.year, plus500day.month, plus500day.day))\n",
        "print('1000일 기념일 : {}년 {}월 {}일'.format(plus1000day.year, plus1000day.month, plus1000day.day))"
      ],
      "execution_count": 6,
      "outputs": [
        {
          "output_type": "stream",
          "text": [
            "춘향이와 몽룡이의 연애 시작일 : 2019년 2월 24일\n",
            "100일 기념일 : 2019년 6월 4일\n",
            "200일 기념일 : 2019년 9월 12일\n",
            "500일 기념일 : 2020년 7월 8일\n",
            "1000일 기념일 : 2021년 11월 20일\n"
          ],
          "name": "stdout"
        }
      ]
    },
    {
      "cell_type": "code",
      "metadata": {
        "colab": {
          "base_uri": "https://localhost:8080/"
        },
        "id": "rD5tI1-5ez77",
        "outputId": "bd2bc28f-da1d-42a4-e29a-76e2ceee93b4"
      },
      "source": [
        "#7.2 - (1)\n",
        "\n",
        "def sum1to1000000() :\n",
        "    num = [int(x) for x in range(1,1000001,1)]    \n",
        "    sum(num)\n",
        "\n",
        "import time\n",
        "start_time = time.time()\n",
        "\n",
        "sum1to1000000()\n",
        "end_time = time.time()\n",
        "gap = end_time - start_time\n",
        "print('1에서 1,000,000까지의 합을 구하는 시간 : {:.4f}초'.format(gap))\n",
        "    "
      ],
      "execution_count": 3,
      "outputs": [
        {
          "output_type": "stream",
          "text": [
            "1에서 1,000,000까지의 합을 구하는 시간 : 0.1841초\n"
          ],
          "name": "stdout"
        }
      ]
    },
    {
      "cell_type": "code",
      "metadata": {
        "colab": {
          "base_uri": "https://localhost:8080/"
        },
        "id": "gDflBEzKfkf-",
        "outputId": "d4b1a639-6c41-4bc5-e056-a6f703a90064"
      },
      "source": [
        "#7.2 - (2)\n",
        "\n",
        "import time\n",
        "start_time = time.time()\n",
        "for i in range(100) :\n",
        "    sum1to1000000()\n",
        "end_time = time.time()\n",
        "gap = end_time - start_time\n",
        "print('1,000,000까지의 합을 100번 반복해서 구하는 시간 : {:.4f}초'.format(gap))"
      ],
      "execution_count": 4,
      "outputs": [
        {
          "output_type": "stream",
          "text": [
            "1,000,000까지의 합을 100번 반복해서 구하는 시간 : 16.2232초\n"
          ],
          "name": "stdout"
        }
      ]
    },
    {
      "cell_type": "code",
      "metadata": {
        "colab": {
          "base_uri": "https://localhost:8080/"
        },
        "id": "HoBfYp8Ufm81",
        "outputId": "bd547d11-9fcc-451a-d876-0060e6138070"
      },
      "source": [
        "#7.3 - (1)\n",
        "\n",
        "import time as t\n",
        "\n",
        "def Hello() :\n",
        "    print('Hello Python!')\n",
        "    \n",
        "start_time = t.time()\n",
        "for i in range(100) :\n",
        "    Hello()\n",
        "end_time = t.time()\n",
        "gap = end_time - start_time\n",
        "print('Hello Python! 출력을 100번 반복하는 시간 : {:.4f}초'.format(gap))"
      ],
      "execution_count": 6,
      "outputs": [
        {
          "output_type": "stream",
          "text": [
            "Hello Python!\n",
            "Hello Python!\n",
            "Hello Python!\n",
            "Hello Python!\n",
            "Hello Python!\n",
            "Hello Python!\n",
            "Hello Python!\n",
            "Hello Python!\n",
            "Hello Python!\n",
            "Hello Python!\n",
            "Hello Python!\n",
            "Hello Python!\n",
            "Hello Python!\n",
            "Hello Python!\n",
            "Hello Python!\n",
            "Hello Python!\n",
            "Hello Python!\n",
            "Hello Python!\n",
            "Hello Python!\n",
            "Hello Python!\n",
            "Hello Python!\n",
            "Hello Python!\n",
            "Hello Python!\n",
            "Hello Python!\n",
            "Hello Python!\n",
            "Hello Python!\n",
            "Hello Python!\n",
            "Hello Python!\n",
            "Hello Python!\n",
            "Hello Python!\n",
            "Hello Python!\n",
            "Hello Python!\n",
            "Hello Python!\n",
            "Hello Python!\n",
            "Hello Python!\n",
            "Hello Python!\n",
            "Hello Python!\n",
            "Hello Python!\n",
            "Hello Python!\n",
            "Hello Python!\n",
            "Hello Python!\n",
            "Hello Python!\n",
            "Hello Python!\n",
            "Hello Python!\n",
            "Hello Python!\n",
            "Hello Python!\n",
            "Hello Python!\n",
            "Hello Python!\n",
            "Hello Python!\n",
            "Hello Python!\n",
            "Hello Python!\n",
            "Hello Python!\n",
            "Hello Python!\n",
            "Hello Python!\n",
            "Hello Python!\n",
            "Hello Python!\n",
            "Hello Python!\n",
            "Hello Python!\n",
            "Hello Python!\n",
            "Hello Python!\n",
            "Hello Python!\n",
            "Hello Python!\n",
            "Hello Python!\n",
            "Hello Python!\n",
            "Hello Python!\n",
            "Hello Python!\n",
            "Hello Python!\n",
            "Hello Python!\n",
            "Hello Python!\n",
            "Hello Python!\n",
            "Hello Python!\n",
            "Hello Python!\n",
            "Hello Python!\n",
            "Hello Python!\n",
            "Hello Python!\n",
            "Hello Python!\n",
            "Hello Python!\n",
            "Hello Python!\n",
            "Hello Python!\n",
            "Hello Python!\n",
            "Hello Python!\n",
            "Hello Python!\n",
            "Hello Python!\n",
            "Hello Python!\n",
            "Hello Python!\n",
            "Hello Python!\n",
            "Hello Python!\n",
            "Hello Python!\n",
            "Hello Python!\n",
            "Hello Python!\n",
            "Hello Python!\n",
            "Hello Python!\n",
            "Hello Python!\n",
            "Hello Python!\n",
            "Hello Python!\n",
            "Hello Python!\n",
            "Hello Python!\n",
            "Hello Python!\n",
            "Hello Python!\n",
            "Hello Python!\n",
            "Hello Python! 출력을 100번 반복하는 시간 : 0.0110초\n"
          ],
          "name": "stdout"
        }
      ]
    },
    {
      "cell_type": "code",
      "metadata": {
        "colab": {
          "base_uri": "https://localhost:8080/"
        },
        "id": "xF6BhqnlhR2B",
        "outputId": "a75b1608-62c0-41ff-f744-c3c1e0b9ce2d"
      },
      "source": [
        "#7.3 - (2)\n",
        "\n",
        "def factorial_1000() :\n",
        "    f = 1\n",
        "    for i in range(1,1001,1) :\n",
        "        f *= i\n",
        "    return f\n",
        "    \n",
        "start_time = t.time()\n",
        "for j in range(100) :\n",
        "    factorial_1000()\n",
        "end_time = t.time()\n",
        "gap = end_time - start_time\n",
        "print('1000!을 100번 반복해서 구하는 시간 : {:.4f}초'.format(gap))"
      ],
      "execution_count": 12,
      "outputs": [
        {
          "output_type": "stream",
          "text": [
            "1000!을 100번 반복해서 구하는 시간 : 0.0263초\n"
          ],
          "name": "stdout"
        }
      ]
    },
    {
      "cell_type": "code",
      "metadata": {
        "colab": {
          "base_uri": "https://localhost:8080/"
        },
        "id": "BTCPOvXMiwGf",
        "outputId": "bcc73057-4161-4e1f-f560-8e4b395c69a9"
      },
      "source": [
        "#7.3 - (3)\n",
        "\n",
        "def sum_th() :\n",
        "    s=0\n",
        "    for i in range(1,1001,2) :\n",
        "        s += i**3\n",
        "    return s\n",
        "\n",
        "start_time = t.time()\n",
        "for j in range(100) :\n",
        "    sum_th()\n",
        "end_time = t.time()\n",
        "gap = end_time - start_time\n",
        "print('1에서 100까지 홀수의 세제곱 더하기를 100번 반복하는 시간 : {:.4f}초'.format(gap))"
      ],
      "execution_count": 13,
      "outputs": [
        {
          "output_type": "stream",
          "text": [
            "1에서 100까지 홀수의 세제곱 더하기를 100번 반복하는 시간 : 0.0215초\n"
          ],
          "name": "stdout"
        }
      ]
    },
    {
      "cell_type": "code",
      "metadata": {
        "colab": {
          "base_uri": "https://localhost:8080/"
        },
        "id": "D9-Mo7oAjDpT",
        "outputId": "8486ebc7-501a-4aa8-a79c-74270cfb4b9c"
      },
      "source": [
        "#7.3 - (4)\n",
        "\n",
        "def sin_sum() :\n",
        "    s = 0\n",
        "    import math as m\n",
        "    for i in range(1,361,1) :\n",
        "        s += m.sin(m.radians(i))\n",
        "    return s\n",
        "\n",
        "start_time = t.time()\n",
        "for j in range(100) :\n",
        "    sin_sum()\n",
        "end_time = t.time()\n",
        "gap = end_time - start_time\n",
        "print('1에서 360도까지 sin 값의 합을 100번 반복하는 시간 : {:.4f}초'.format(gap))\n",
        "        "
      ],
      "execution_count": 19,
      "outputs": [
        {
          "output_type": "stream",
          "text": [
            "1에서 360도까지 sin 값의 합을 100번 반복하는 시간 : 0.0076초\n"
          ],
          "name": "stdout"
        }
      ]
    },
    {
      "cell_type": "code",
      "metadata": {
        "colab": {
          "base_uri": "https://localhost:8080/"
        },
        "id": "QJGQyCEcjF1N",
        "outputId": "0682dd19-e4d7-4462-9c5d-615518a56ac5"
      },
      "source": [
        "#7.4 - (1)\n",
        "\n",
        "def my_rand(x) :\n",
        "    new_x = (11035 * x + 12345) % (2**17)\n",
        "    return new_x\n",
        "x = 101\n",
        "for _ in range(10) :\n",
        "    x = my_rand(x)\n",
        "    print(x)"
      ],
      "execution_count": 39,
      "outputs": [
        {
          "output_type": "stream",
          "text": [
            "78304\n",
            "70361\n",
            "106524\n",
            "50989\n",
            "114936\n",
            "78433\n",
            "52084\n",
            "8565\n",
            "24208\n",
            "22889\n"
          ],
          "name": "stdout"
        }
      ]
    },
    {
      "cell_type": "code",
      "metadata": {
        "colab": {
          "base_uri": "https://localhost:8080/"
        },
        "id": "oHZeNViGmI0R",
        "outputId": "b1ae56f7-d7e1-4e33-c0a9-2c9cbb577e2e"
      },
      "source": [
        "#7.4 - (2)\n",
        "\n",
        "import time as t\n",
        "def my_rand(x) :\n",
        "    new_x = (11035 * x + 12345) % (2**17)\n",
        "    return new_x\n",
        "x = int(t.time())\n",
        "for i in range(2) :\n",
        "    for _ in range(5) :\n",
        "        x = my_rand(x)\n",
        "        print(x)\n",
        "    print()"
      ],
      "execution_count": 54,
      "outputs": [
        {
          "output_type": "stream",
          "text": [
            "94713\n",
            "2172\n",
            "125261\n",
            "113240\n",
            "106369\n",
            "\n",
            "44500\n",
            "74133\n",
            "49648\n",
            "128137\n",
            "130476\n",
            "\n"
          ],
          "name": "stdout"
        }
      ]
    },
    {
      "cell_type": "code",
      "metadata": {
        "colab": {
          "base_uri": "https://localhost:8080/"
        },
        "id": "E0uTDrQhof2n",
        "outputId": "4db33cf7-e89a-4197-9f01-9223d467b2c5"
      },
      "source": [
        "#7.5\n",
        "\n",
        "import math as m\n",
        "for i in range(0,181,10) :\n",
        "    print('sin({:3}) = {:.3f}, cos({}) = {:.3f}, tan({}) = {:.3f}'.format(i,m.sin(m.radians(i)), i, m.cos(m.radians(i)), i, m.tan(m.radians(i))))"
      ],
      "execution_count": 45,
      "outputs": [
        {
          "output_type": "stream",
          "text": [
            "sin(  0) = 0.000, cos(0) = 1.000, tan(0) = 0.000\n",
            "sin( 10) = 0.174, cos(10) = 0.985, tan(10) = 0.176\n",
            "sin( 20) = 0.342, cos(20) = 0.940, tan(20) = 0.364\n",
            "sin( 30) = 0.500, cos(30) = 0.866, tan(30) = 0.577\n",
            "sin( 40) = 0.643, cos(40) = 0.766, tan(40) = 0.839\n",
            "sin( 50) = 0.766, cos(50) = 0.643, tan(50) = 1.192\n",
            "sin( 60) = 0.866, cos(60) = 0.500, tan(60) = 1.732\n",
            "sin( 70) = 0.940, cos(70) = 0.342, tan(70) = 2.747\n",
            "sin( 80) = 0.985, cos(80) = 0.174, tan(80) = 5.671\n",
            "sin( 90) = 1.000, cos(90) = 0.000, tan(90) = 16331239353195370.000\n",
            "sin(100) = 0.985, cos(100) = -0.174, tan(100) = -5.671\n",
            "sin(110) = 0.940, cos(110) = -0.342, tan(110) = -2.747\n",
            "sin(120) = 0.866, cos(120) = -0.500, tan(120) = -1.732\n",
            "sin(130) = 0.766, cos(130) = -0.643, tan(130) = -1.192\n",
            "sin(140) = 0.643, cos(140) = -0.766, tan(140) = -0.839\n",
            "sin(150) = 0.500, cos(150) = -0.866, tan(150) = -0.577\n",
            "sin(160) = 0.342, cos(160) = -0.940, tan(160) = -0.364\n",
            "sin(170) = 0.174, cos(170) = -0.985, tan(170) = -0.176\n",
            "sin(180) = 0.000, cos(180) = -1.000, tan(180) = -0.000\n"
          ],
          "name": "stdout"
        }
      ]
    },
    {
      "cell_type": "code",
      "metadata": {
        "colab": {
          "base_uri": "https://localhost:8080/"
        },
        "id": "WJOh2G4_qGi0",
        "outputId": "d5180df4-47cd-4512-fecf-7e7fdde9a185"
      },
      "source": [
        "#7.6\n",
        "\n",
        "import math as m\n",
        "for i in range(1,11,1) :\n",
        "    print('sqrt({:2}) = {:.3f}'.format(i,m.sqrt(i)))"
      ],
      "execution_count": 51,
      "outputs": [
        {
          "output_type": "stream",
          "text": [
            "sqrt( 1) = 1.000\n",
            "sqrt( 2) = 1.414\n",
            "sqrt( 3) = 1.732\n",
            "sqrt( 4) = 2.000\n",
            "sqrt( 5) = 2.236\n",
            "sqrt( 6) = 2.449\n",
            "sqrt( 7) = 2.646\n",
            "sqrt( 8) = 2.828\n",
            "sqrt( 9) = 3.000\n",
            "sqrt(10) = 3.162\n"
          ],
          "name": "stdout"
        }
      ]
    },
    {
      "cell_type": "code",
      "metadata": {
        "colab": {
          "base_uri": "https://localhost:8080/"
        },
        "id": "jgr2EMNaq3TA",
        "outputId": "0346dc09-85d0-4d0a-fd01-61c59a0b64db"
      },
      "source": [
        "#7.8\n",
        "\n",
        "import random as rd\n",
        "R = rd.randrange(1,7)\n",
        "J = rd.randrange(1,7)\n",
        "print('로미오의 주사위 숫자는 {} 입니다.'.format(R))\n",
        "print('줄리엣의 주사위 숫자는 {} 입니다.'.format(J))\n",
        "if R > J :\n",
        "    print('로미오가 이겼습니다.')\n",
        "elif R < J :\n",
        "    print('줄리엣이 이겼습니다.')\n",
        "else :\n",
        "    print('비겼습니다.')"
      ],
      "execution_count": 55,
      "outputs": [
        {
          "output_type": "stream",
          "text": [
            "로미오의 주사위 숫자는 6 입니다.\n",
            "줄리엣의 주사위 숫자는 3 입니다.\n",
            "로미오가 이겼습니다.\n"
          ],
          "name": "stdout"
        }
      ]
    },
    {
      "cell_type": "code",
      "metadata": {
        "colab": {
          "base_uri": "https://localhost:8080/"
        },
        "id": "moz0TOHdsnRv",
        "outputId": "b48e7487-679c-4aad-e575-c52168f37a0e"
      },
      "source": [
        "#7.9\n",
        "\n",
        "import random as rd\n",
        "rsp = ['가위','바위', '보']\n",
        "win = [('가위','보'),('바위','가위'),('보','바위')]   # 이기는 경우 >> Ex) '가위'를 냈을 때 상대방이 '보'를 냄\n",
        "R = rd.randrange(0,3)\n",
        "J = rd.randrange(0,3)\n",
        "print('로미오의 승부 :',rsp[R])\n",
        "print('줄리엣의 승부 :',rsp[J])\n",
        "\n",
        "if (rsp[R], rsp[J]) in win :\n",
        "    print('로미오가 이겼습니다.')\n",
        "elif (rsp[J], rsp[R]) in win :\n",
        "    print('줄리엣이 이겼습니다.')\n",
        "else :\n",
        "    print('비겼습니다.')\n"
      ],
      "execution_count": 58,
      "outputs": [
        {
          "output_type": "stream",
          "text": [
            "로미오의 승부 : 가위\n",
            "줄리엣의 승부 : 바위\n",
            "줄리엣이 이겼습니다.\n"
          ],
          "name": "stdout"
        }
      ]
    },
    {
      "cell_type": "code",
      "metadata": {
        "colab": {
          "base_uri": "https://localhost:8080/"
        },
        "id": "EfpWNl86xXRX",
        "outputId": "47aa7e56-747b-47e8-c0e2-5dca17f632a7"
      },
      "source": [
        "#7.10\n",
        "\n",
        "import random as rd\n",
        "x = rd.randint(1,20)\n",
        "n = int(input('1~20까지의 숫자를 입력하세요 : '))\n",
        "chance = 1\n",
        "while 1 :\n",
        "    if x > n :\n",
        "        print('{} 보다 큽니다!'.format(n))\n",
        "    elif x < n :\n",
        "        print('{} 보다 작습니다!'.format(n))\n",
        "    else :\n",
        "        print('정답입니다!')\n",
        "        break\n",
        "    n = int(input('1~20까지의 숫자를 입력하세요 : '))\n",
        "    chance += 1\n",
        "\n",
        "if (chance < 3) :\n",
        "    print('{} 번만에 맞춘 당신은 천재!'.format(chance))\n",
        "elif (3 <= chance <=6) :\n",
        "    print('{} 번만에 맞추셨네요. 잘했어요^^'.format(chance))\n",
        "else :\n",
        "    print('{} 번만에 맞추다니 쩝쩝...'.format(chance))\n"
      ],
      "execution_count": 65,
      "outputs": [
        {
          "output_type": "stream",
          "text": [
            "1~20까지의 숫자를 입력하세요 : 3\n",
            "3 보다 큽니다!\n",
            "1~20까지의 숫자를 입력하세요 : 7\n",
            "7 보다 큽니다!\n",
            "1~20까지의 숫자를 입력하세요 : 8\n",
            "8 보다 큽니다!\n",
            "1~20까지의 숫자를 입력하세요 : 10\n",
            "10 보다 큽니다!\n",
            "1~20까지의 숫자를 입력하세요 : 20\n",
            "정답입니다!\n",
            "5 번만에 맞추셨네요. 잘했어요^^\n"
          ],
          "name": "stdout"
        }
      ]
    }
  ]
}