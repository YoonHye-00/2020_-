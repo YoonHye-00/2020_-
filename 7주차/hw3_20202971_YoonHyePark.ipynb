{
  "nbformat": 4,
  "nbformat_minor": 0,
  "metadata": {
    "colab": {
      "name": "hw3_20202971_YoonHyePark.ipynb",
      "provenance": [],
      "collapsed_sections": []
    },
    "kernelspec": {
      "name": "python3",
      "display_name": "Python 3"
    }
  },
  "cells": [
    {
      "cell_type": "markdown",
      "metadata": {
        "id": "_-HtqMIBcQLW"
      },
      "source": [
        "으뜸 파이썬 연습문제\n",
        "3.2 ~ 3.31"
      ]
    },
    {
      "cell_type": "markdown",
      "metadata": {
        "id": "NUspXIWTXYJa"
      },
      "source": [
        "#3.2"
      ]
    },
    {
      "cell_type": "code",
      "metadata": {
        "id": "55XluSEzbjVw",
        "outputId": "bcc2aae6-12a0-425d-9046-7fac2fa76744",
        "colab": {
          "base_uri": "https://localhost:8080/",
          "height": 68
        }
      },
      "source": [
        "#3.2\n",
        "\n",
        "name = input('이름을 입력하시오 : ')\n",
        "height = int(input('키를 입력하시오(단위 cm) : '))\n",
        "if height < 140 :\n",
        "  print(name, '님은 놀이기구를 탈 수 없습니다.')\n",
        "else : \n",
        "  print(name, '님은 놀이기구를 탈 수 있습니다.')"
      ],
      "execution_count": 16,
      "outputs": [
        {
          "output_type": "stream",
          "text": [
            "이름을 입력하시오 : 동윤\n",
            "키를 입력하시오(단위 cm) : 170\n",
            "동윤 님은 놀이기구를 탈 수 있습니다.\n"
          ],
          "name": "stdout"
        }
      ]
    },
    {
      "cell_type": "code",
      "metadata": {
        "id": "mvAvl5aLc8ag",
        "outputId": "88badfac-28d3-4700-9ffa-c55d8cf358e8",
        "colab": {
          "base_uri": "https://localhost:8080/",
          "height": 68
        }
      },
      "source": [
        "name = input('이름을 입력하시오 : ')\n",
        "height = int(input('키를 입력하시오(단위 cm) : '))\n",
        "if height < 140 :\n",
        "  print(name, '님은 놀이기구를 탈 수 없습니다.')\n",
        "else : \n",
        "  print(name, '님은 놀이기구를 탈 수 있습니다.')"
      ],
      "execution_count": 17,
      "outputs": [
        {
          "output_type": "stream",
          "text": [
            "이름을 입력하시오 : 승주\n",
            "키를 입력하시오(단위 cm) : 132\n",
            "승주 님은 놀이기구를 탈 수 없습니다.\n"
          ],
          "name": "stdout"
        }
      ]
    },
    {
      "cell_type": "markdown",
      "metadata": {
        "id": "dErvH4bzXbiH"
      },
      "source": [
        "#3.3"
      ]
    },
    {
      "cell_type": "code",
      "metadata": {
        "id": "KMqFqKpbdCSk",
        "outputId": "cb6ffa21-089e-4b7f-9b62-2f320f155902",
        "colab": {
          "base_uri": "https://localhost:8080/",
          "height": 68
        }
      },
      "source": [
        "#3.3\n",
        "\n",
        "age = int(input('나이를 입력하시오 : '))\n",
        "height = int(input('키를 입력하시오(단위 cm) : '))\n",
        "if age >= 19 and height >= 150 :\n",
        "  print('입장할 수 있습니다.')\n",
        "else : \n",
        "  print('입장할 수 없습니다.')"
      ],
      "execution_count": null,
      "outputs": [
        {
          "output_type": "stream",
          "text": [
            "나이를 입력하시오 : 23\n",
            "키를 입력하시오(단위 cm) : 160\n",
            "입장할 수 있습니다.\n"
          ],
          "name": "stdout"
        }
      ]
    },
    {
      "cell_type": "code",
      "metadata": {
        "id": "QYfiKp5Hdimv",
        "outputId": "6341e3dd-8c69-4627-a94a-ebbbf7a9aaab",
        "colab": {
          "base_uri": "https://localhost:8080/",
          "height": 68
        }
      },
      "source": [
        "age = int(input('나이를 입력하시오 : '))\n",
        "height = int(input('키를 입력하시오(단위 cm) : '))\n",
        "if age >= 19 and height >= 150 :\n",
        "  print('입장할 수 있습니다.')\n",
        "else : \n",
        "  print('입장할 수 없습니다.')"
      ],
      "execution_count": null,
      "outputs": [
        {
          "output_type": "stream",
          "text": [
            "나이를 입력하시오 : 16\n",
            "키를 입력하시오(단위 cm) : 162\n",
            "입장할 수 없습니다.\n"
          ],
          "name": "stdout"
        }
      ]
    },
    {
      "cell_type": "markdown",
      "metadata": {
        "id": "8kcRYb-pXvmG"
      },
      "source": [
        "#3.4"
      ]
    },
    {
      "cell_type": "code",
      "metadata": {
        "id": "dVDip5L2dlTf",
        "outputId": "6d2dde07-8534-4a2e-bb2b-e649d0361ffa",
        "colab": {
          "base_uri": "https://localhost:8080/",
          "height": 51
        }
      },
      "source": [
        "#3.4\n",
        "\n",
        "age = int(input('나이를 입력하시오 : '))\n",
        "if age >= 20 :\n",
        "  print('Adult')\n",
        "elif age >= 10 :\n",
        "  print('Youth')\n",
        "else :\n",
        "  print('Kid')"
      ],
      "execution_count": null,
      "outputs": [
        {
          "output_type": "stream",
          "text": [
            "나이를 입력하시오 : 23\n",
            "Adult\n"
          ],
          "name": "stdout"
        }
      ]
    },
    {
      "cell_type": "code",
      "metadata": {
        "id": "lHx08l62d9x8",
        "outputId": "865f1d3c-6cd2-482d-9118-bc22f89867e3",
        "colab": {
          "base_uri": "https://localhost:8080/",
          "height": 51
        }
      },
      "source": [
        "age = int(input('나이를 입력하시오 : '))\n",
        "if age >= 20 :\n",
        "  print('Adult')\n",
        "elif age >= 10 :\n",
        "  print('Youth')\n",
        "else :\n",
        "  print('Kid')"
      ],
      "execution_count": null,
      "outputs": [
        {
          "output_type": "stream",
          "text": [
            "나이를 입력하시오 : 18\n",
            "Youth\n"
          ],
          "name": "stdout"
        }
      ]
    },
    {
      "cell_type": "code",
      "metadata": {
        "id": "jXgnjGlQeAZ_",
        "outputId": "37642a1c-a82f-4bc5-c5a5-c761d5f8b887",
        "colab": {
          "base_uri": "https://localhost:8080/",
          "height": 51
        }
      },
      "source": [
        "age = int(input('나이를 입력하시오 : '))\n",
        "if age >= 20 :\n",
        "  print('Adult')\n",
        "elif age >= 10 :\n",
        "  print('Youth')\n",
        "else :\n",
        "  print('Kid')"
      ],
      "execution_count": null,
      "outputs": [
        {
          "output_type": "stream",
          "text": [
            "나이를 입력하시오 : 9\n",
            "Kid\n"
          ],
          "name": "stdout"
        }
      ]
    },
    {
      "cell_type": "markdown",
      "metadata": {
        "id": "pgb-OiShXyQF"
      },
      "source": [
        "#3.5"
      ]
    },
    {
      "cell_type": "code",
      "metadata": {
        "id": "IS893j42eAxK",
        "outputId": "7246c3b3-1348-4d49-a414-50f1c3730be2",
        "colab": {
          "base_uri": "https://localhost:8080/",
          "height": 51
        }
      },
      "source": [
        "#3.5\n",
        "\n",
        "n1, n2 = map(int, input('두 정수를 입력하시오 : ').split())\n",
        "if n1 >= n2 :\n",
        "  print(n2, n1)\n",
        "else :\n",
        "  print(n1, n2)"
      ],
      "execution_count": null,
      "outputs": [
        {
          "output_type": "stream",
          "text": [
            "두 정수를 입력하시오 : 99 12\n",
            "12 99\n"
          ],
          "name": "stdout"
        }
      ]
    },
    {
      "cell_type": "markdown",
      "metadata": {
        "id": "Szz3AqAGX0Sf"
      },
      "source": [
        "#3.6"
      ]
    },
    {
      "cell_type": "code",
      "metadata": {
        "id": "d_PpW8-mfKKA",
        "outputId": "b1e10334-59ce-409f-c680-99c401457558",
        "colab": {
          "base_uri": "https://localhost:8080/",
          "height": 51
        }
      },
      "source": [
        "#3.6\n",
        "\n",
        "n = [int(x) for x in input('세 정수를 입력하시오 : ').split()]   # 3개의 임의의 정수를 입력받음\n",
        "\n",
        "if (n[0] <= n[1] <= n[2]) == True :\n",
        "  print(n[0],n[1],n[2])\n",
        "\n",
        "else :\n",
        "  import random \n",
        "\n",
        "  while (n[0] <= n[1] <= n[2]) == False :\n",
        "    random.shuffle(n)   # n[0] <= n[1] <= n[2]를 만족할 때까지 리스트 n의 원소를 랜덤하게 섞음\n",
        "\n",
        "  print(n[0],n[1],n[2])"
      ],
      "execution_count": null,
      "outputs": [
        {
          "output_type": "stream",
          "text": [
            "세 정수를 입력하시오 : 9 12 4\n",
            "4 9 12\n"
          ],
          "name": "stdout"
        }
      ]
    },
    {
      "cell_type": "code",
      "metadata": {
        "id": "qn64qNilj5LN",
        "outputId": "a9d7c401-41af-4415-af54-d0a991210d7b",
        "colab": {
          "base_uri": "https://localhost:8080/",
          "height": 51
        }
      },
      "source": [
        "n = [int(x) for x in input('세 정수를 입력하시오 : ').split()]   # 3개의 임의의 정수를 입력받음\n",
        "\n",
        "if (n[0] <= n[1] <= n[2]) == True :\n",
        "  print(n[0],n[1],n[2])\n",
        "\n",
        "else :\n",
        "  import random \n",
        "\n",
        "  while (n[0] <= n[1] <= n[2]) == False :\n",
        "    random.shuffle(n)   # n[0] <= n[1] <= n[2]를 만족할 때까지 리스트 n의 원소를 랜덤하게 섞음\n",
        "\n",
        "  print(n[0],n[1],n[2])"
      ],
      "execution_count": null,
      "outputs": [
        {
          "output_type": "stream",
          "text": [
            "세 정수를 입력하시오 : 99 12 4\n",
            "4 12 99\n"
          ],
          "name": "stdout"
        }
      ]
    },
    {
      "cell_type": "markdown",
      "metadata": {
        "id": "A0fXtIrsX9nk"
      },
      "source": [
        "#3.7"
      ]
    },
    {
      "cell_type": "code",
      "metadata": {
        "id": "NuJv27CdpcIW",
        "outputId": "2d79f936-9cb6-46e0-acc8-e0f52ac3e1be",
        "colab": {
          "base_uri": "https://localhost:8080/",
          "height": 51
        }
      },
      "source": [
        "#3.7\n",
        "\n",
        "game_score = int(input('게임점수를 입력하시오 : '))\n",
        "if game_score >= 1000 :\n",
        "  print('고수입니다.')\n",
        "else :\n",
        "  print('입문자입니다.')"
      ],
      "execution_count": null,
      "outputs": [
        {
          "output_type": "stream",
          "text": [
            "게임점수를 입력하시오 : 990\n",
            "입문자입니다.\n"
          ],
          "name": "stdout"
        }
      ]
    },
    {
      "cell_type": "markdown",
      "metadata": {
        "id": "LBlyTG0HX_gK"
      },
      "source": [
        "#3.8"
      ]
    },
    {
      "cell_type": "code",
      "metadata": {
        "id": "iIlkarnTrFvF",
        "outputId": "36a967ee-4036-41fe-fb6d-156d26d57dd0",
        "colab": {
          "base_uri": "https://localhost:8080/",
          "height": 51
        }
      },
      "source": [
        "#3.8\n",
        "\n",
        "x, y = map(int, input('점의 좌표 x, y를 입력하시오 : ').split())\n",
        "if x>0 and y>0 :\n",
        "  print('1사분면에 있음')\n",
        "elif x<0 and y>0 :\n",
        "  print('2사분면에 있음')\n",
        "elif x<0 and y<0 :\n",
        "  print('3사분면에 있음')\n",
        "elif x>0 and y<0 :\n",
        "  print('4사분면에 있음')\n",
        "else :\n",
        "  print('어느 사분면에도 속하지 않음')"
      ],
      "execution_count": null,
      "outputs": [
        {
          "output_type": "stream",
          "text": [
            "점의 좌표 x, y를 입력하시오 : 2 4\n",
            "1사분면에 있음\n"
          ],
          "name": "stdout"
        }
      ]
    },
    {
      "cell_type": "code",
      "metadata": {
        "id": "36t04G77rz-t",
        "outputId": "d73623e4-25e2-4d69-c784-1bea78774c44",
        "colab": {
          "base_uri": "https://localhost:8080/",
          "height": 51
        }
      },
      "source": [
        "x, y = map(int, input('점의 좌표 x, y를 입력하시오 : ').split())\n",
        "if x>0 and y>0 :\n",
        "  print('1사분면에 있음')\n",
        "elif x<0 and y>0 :\n",
        "  print('2사분면에 있음')\n",
        "elif x<0 and y<0 :\n",
        "  print('3사분면에 있음')\n",
        "elif x>0 and y<0 :\n",
        "  print('4사분면에 있음')\n",
        "else :\n",
        "  print('어느 사분면에도 속하지 않음')"
      ],
      "execution_count": null,
      "outputs": [
        {
          "output_type": "stream",
          "text": [
            "점의 좌표 x, y를 입력하시오 : -2 -4\n",
            "3사분면에 있음\n"
          ],
          "name": "stdout"
        }
      ]
    },
    {
      "cell_type": "markdown",
      "metadata": {
        "id": "lMaKVucbYBfy"
      },
      "source": [
        "#3.9"
      ]
    },
    {
      "cell_type": "code",
      "metadata": {
        "id": "nfVRy-6Fr9on",
        "outputId": "127270bc-bc86-426b-86ae-6ec9514e46ba",
        "colab": {
          "base_uri": "https://localhost:8080/",
          "height": 84
        }
      },
      "source": [
        "#3.9\n",
        "\n",
        "n = int(input('정수를 입력하시오 : '))\n",
        "\n",
        "for i in range(2,4) :    \n",
        "  if n % i == 0 :\n",
        "    print('{}는(은) {}(으)로 나누어집니다.'.format(n,i))\n",
        "  else :\n",
        "    print('{}는(은) {}(으)로 나누어지지 않습니다.'.format(n,i))\n",
        "\n",
        "if n % 2 == 0 and n % 3 == 0 :\n",
        "  print('%d는(은) 2와(과) 3 모두로 나누어집니다.' %n)\n",
        "else :\n",
        "  print('%d는(은) 2와(과) 3 모두로 나누어지지 않습니다.' %n)"
      ],
      "execution_count": null,
      "outputs": [
        {
          "output_type": "stream",
          "text": [
            "정수를 입력하시오 : 15\n",
            "15는(은) 2(으)로 나누어지지 않습니다.\n",
            "15는(은) 3(으)로 나누어집니다.\n",
            "15는(은) 2와(과) 3 모두로 나누어지지 않습니다.\n"
          ],
          "name": "stdout"
        }
      ]
    },
    {
      "cell_type": "code",
      "metadata": {
        "id": "NUGWCB2rP0c1",
        "outputId": "137ec9ae-1e58-429f-8540-9c64e1cf1a2f",
        "colab": {
          "base_uri": "https://localhost:8080/",
          "height": 84
        }
      },
      "source": [
        "n = int(input('정수를 입력하시오 : '))\n",
        "\n",
        "for i in range(2,4) :    \n",
        "  if n % i == 0 :\n",
        "    print('{}는(은) {}(으)로 나누어집니다.'.format(n,i))\n",
        "  else :\n",
        "    print('{}는(은) {}(으)로 나누어지지 않습니다.'.format(n,i))\n",
        "\n",
        "if n % 2 == 0 and n % 3 == 0 :\n",
        "  print('%d는(은) 2와(과) 3 모두로 나누어집니다.' %n)\n",
        "else :\n",
        "  print('%d는(은) 2와(과) 3 모두로 나누어지지 않습니다.' %n)"
      ],
      "execution_count": null,
      "outputs": [
        {
          "output_type": "stream",
          "text": [
            "정수를 입력하시오 : 12\n",
            "12는(은) 2(으)로 나누어집니다.\n",
            "12는(은) 3(으)로 나누어집니다.\n",
            "12는(은) 2와(과) 3 모두로 나누어집니다.\n"
          ],
          "name": "stdout"
        }
      ]
    },
    {
      "cell_type": "markdown",
      "metadata": {
        "id": "LzGFBQXVYFB6"
      },
      "source": [
        "#3.10"
      ]
    },
    {
      "cell_type": "code",
      "metadata": {
        "id": "59yEzBeGQKzd",
        "outputId": "8e2bdda5-47b9-46d0-cd5f-ba29d6de8a89",
        "colab": {
          "base_uri": "https://localhost:8080/",
          "height": 51
        }
      },
      "source": [
        "#3.10\n",
        "\n",
        "a, b = map(int, input('두 정수를 입력하시오 : ').split())\n",
        "\n",
        "if a % b == 0 :\n",
        "  print('{}는(은) {}의 배수입니다.'.format(a,b))\n",
        "else :\n",
        "  print('{}는(은) {}의 배수가 아닙니다.'.format(a,b))"
      ],
      "execution_count": null,
      "outputs": [
        {
          "output_type": "stream",
          "text": [
            "두 정수를 입력하시오 : 15 5\n",
            "15는(은) 5의 배수입니다.\n"
          ],
          "name": "stdout"
        }
      ]
    },
    {
      "cell_type": "code",
      "metadata": {
        "id": "brRdrwx4Qqui",
        "outputId": "13ddad3d-c6c6-4bc6-f1f7-12ecb5077906",
        "colab": {
          "base_uri": "https://localhost:8080/",
          "height": 51
        }
      },
      "source": [
        "a, b = map(int, input('두 정수를 입력하시오 : ').split())\n",
        "\n",
        "if a % b == 0 :\n",
        "  print('{}는(은) {}의 배수입니다.'.format(a,b))\n",
        "else :\n",
        "  print('{}는(은) {}의 배수가 아닙니다.'.format(a,b))"
      ],
      "execution_count": null,
      "outputs": [
        {
          "output_type": "stream",
          "text": [
            "두 정수를 입력하시오 : 125 52\n",
            "125는(은) 52의 배수가 아닙니다.\n"
          ],
          "name": "stdout"
        }
      ]
    },
    {
      "cell_type": "markdown",
      "metadata": {
        "id": "kd3eVOi-YHhw"
      },
      "source": [
        "#3.11"
      ]
    },
    {
      "cell_type": "code",
      "metadata": {
        "id": "De4QBlaUQsfD",
        "outputId": "d03255a5-b4ca-459e-8ac6-762c7735d738",
        "colab": {
          "base_uri": "https://localhost:8080/",
          "height": 169
        }
      },
      "source": [
        "#3.11\n",
        "\n",
        "for _ in range(3) :     # 실행 결과를 3번 보여주기 위함\n",
        "\n",
        "  n = [int(x) for x in input('세 복권번호를 입력하시오 : ').split()]   # 복권 번호를 입력받음\n",
        "\n",
        "  number = [ 2, 3, 9 ]  # 복권 당첨 번호\n",
        "\n",
        "  for i in n :\n",
        "    for j in number :\n",
        "      if i == j :    # 입력받은 정수가 복권 당첨 번호에 속해 있으면 number 리스트(복권 당첨 번호)에서 그 번호를 지운다\n",
        "        number.remove(i)\n",
        "  \n",
        "  if len(number) == 0 :   # 입력받은 정수가 복권 당첨 번호와 모두 같으면 number 리스트는 빈 리스트가 되므로 len(number)=0.   0 <= len(number) <= 3\n",
        "    print('상금 1억 원')\n",
        "  elif len(number) == 1 :\n",
        "    print('상금 1천만 원')\n",
        "  elif len(number) == 2 :\n",
        "    print('상금 1만 원')\n",
        "  else :\n",
        "    print('다음 기회에...')\n",
        "  print()"
      ],
      "execution_count": 2,
      "outputs": [
        {
          "output_type": "stream",
          "text": [
            "세 복권번호를 입력하시오 : 1 5 7\n",
            "다음 기회에...\n",
            "\n",
            "세 복권번호를 입력하시오 : 1 2 7\n",
            "상금 1만 원\n",
            "\n",
            "세 복권번호를 입력하시오 : 1 2 9\n",
            "상금 1천만 원\n",
            "\n"
          ],
          "name": "stdout"
        }
      ]
    },
    {
      "cell_type": "markdown",
      "metadata": {
        "id": "lwZwpQPRYJRQ"
      },
      "source": [
        "#3.12"
      ]
    },
    {
      "cell_type": "code",
      "metadata": {
        "id": "yy5HKwLaT-so",
        "outputId": "fd40a7c6-59b8-4725-f619-1f44e0732005",
        "colab": {
          "base_uri": "https://localhost:8080/",
          "height": 118
        }
      },
      "source": [
        "#3.12\n",
        "\n",
        "for _ in range(2) :          # 실행 결과를 2번 보여주기 위함\n",
        "\n",
        "  x, y = map(int, input('점의 좌표 x, y를 입력하시오 : ').split())\n",
        "\n",
        "  r=5    # 반지름 = 5\n",
        "  s=(x**2 + y**2)**(1/2)     # 원점에서 점(x, y)까지의 거리\n",
        "\n",
        "  if s > r : \n",
        "    print('원의 외부에 있음')\n",
        "  else :\n",
        "    print('원의 내부에 있음')\n",
        "  print()"
      ],
      "execution_count": null,
      "outputs": [
        {
          "output_type": "stream",
          "text": [
            "점의 좌표 x, y를 입력하시오 : 2 4\n",
            "원의 내부에 있음\n",
            "\n",
            "점의 좌표 x, y를 입력하시오 : 7 9\n",
            "원의 외부에 있음\n",
            "\n"
          ],
          "name": "stdout"
        }
      ]
    },
    {
      "cell_type": "markdown",
      "metadata": {
        "id": "P0JYuRENYKcy"
      },
      "source": [
        "#3.13"
      ]
    },
    {
      "cell_type": "code",
      "metadata": {
        "id": "gZSI9B2QXDJ9",
        "outputId": "0e5b3be8-7e99-4e98-e5fb-88d61af693e7",
        "colab": {
          "base_uri": "https://localhost:8080/",
          "height": 118
        }
      },
      "source": [
        "#3.13\n",
        "\n",
        "for _ in range(2) :          # 실행 결과를 2번 보여주기 위함\n",
        "\n",
        "  x, y = map(int, input('점의 좌표 x, y를 입력하시오 : ').split())\n",
        "\n",
        "  r=10    # 반지름 = 10\n",
        "  s=((x-3)**2 + (y-4)**2)**(1/2)     # 원의 중심 (3,4)에서 점(x, y)까지의 거리\n",
        "\n",
        "  if s > r : \n",
        "    print('원의 외부에 있음')\n",
        "  else :\n",
        "    print('원의 내부에 있음')\n",
        "  print()"
      ],
      "execution_count": null,
      "outputs": [
        {
          "output_type": "stream",
          "text": [
            "점의 좌표 x, y를 입력하시오 : -9 -5\n",
            "원의 외부에 있음\n",
            "\n",
            "점의 좌표 x, y를 입력하시오 : 7 9\n",
            "원의 내부에 있음\n",
            "\n"
          ],
          "name": "stdout"
        }
      ]
    },
    {
      "cell_type": "markdown",
      "metadata": {
        "id": "Zp1QeMauYL4W"
      },
      "source": [
        "#3.14"
      ]
    },
    {
      "cell_type": "code",
      "metadata": {
        "id": "_iawRX-kYMw7",
        "outputId": "1a683773-08e0-48ab-a288-e0449e591a39",
        "colab": {
          "base_uri": "https://localhost:8080/",
          "height": 118
        }
      },
      "source": [
        "#3.14\n",
        "\n",
        "for i in range(2) :        # 실행 결과를 2번 보여주기 위함\n",
        "\n",
        "  al = input('알파벳을 입력하시오 : ')\n",
        "\n",
        "  vowel = ['a','e','i','o','u']\n",
        "\n",
        "  if al in vowel :\n",
        "    print(al,'(은)는 모음입니다.')\n",
        "  else :\n",
        "    print(al,'(은)는 자음입니다.')\n",
        "  print()"
      ],
      "execution_count": null,
      "outputs": [
        {
          "output_type": "stream",
          "text": [
            "알파벳을 입력하시오 : i\n",
            "i (은)는 모음입니다.\n",
            "\n",
            "알파벳을 입력하시오 : t\n",
            "t (은)는 자음입니다.\n",
            "\n"
          ],
          "name": "stdout"
        }
      ]
    },
    {
      "cell_type": "markdown",
      "metadata": {
        "id": "HdzUPcogYNfS"
      },
      "source": [
        "#3.15"
      ]
    },
    {
      "cell_type": "code",
      "metadata": {
        "id": "M6eqzwBiZCUe",
        "outputId": "33c46425-745f-4f4e-fa71-06ce215017de",
        "colab": {
          "base_uri": "https://localhost:8080/",
          "height": 169
        }
      },
      "source": [
        "#3.15 - for문 사용\n",
        "\n",
        "for i in range(1,10) :\n",
        "  print('2 * {} = {}'.format(i, 2*i))"
      ],
      "execution_count": null,
      "outputs": [
        {
          "output_type": "stream",
          "text": [
            "2 * 1 = 2\n",
            "2 * 2 = 4\n",
            "2 * 3 = 6\n",
            "2 * 4 = 8\n",
            "2 * 5 = 10\n",
            "2 * 6 = 12\n",
            "2 * 7 = 14\n",
            "2 * 8 = 16\n",
            "2 * 9 = 18\n"
          ],
          "name": "stdout"
        }
      ]
    },
    {
      "cell_type": "code",
      "metadata": {
        "id": "Bsv7h9_nZueA",
        "outputId": "31a8abc2-ec0d-4d8c-f277-4403aa3ac4de",
        "colab": {
          "base_uri": "https://localhost:8080/",
          "height": 169
        }
      },
      "source": [
        "#3.15 - while문 사용\n",
        "\n",
        "i=1\n",
        "while i<10 :\n",
        "  print('2 * {} = {}'.format(i,i*2))\n",
        "  i+=1 "
      ],
      "execution_count": null,
      "outputs": [
        {
          "output_type": "stream",
          "text": [
            "2 * 1 = 2\n",
            "2 * 2 = 4\n",
            "2 * 3 = 6\n",
            "2 * 4 = 8\n",
            "2 * 5 = 10\n",
            "2 * 6 = 12\n",
            "2 * 7 = 14\n",
            "2 * 8 = 16\n",
            "2 * 9 = 18\n"
          ],
          "name": "stdout"
        }
      ]
    },
    {
      "cell_type": "markdown",
      "metadata": {
        "id": "VNHQlatQYPAh"
      },
      "source": [
        "#3.16"
      ]
    },
    {
      "cell_type": "code",
      "metadata": {
        "id": "mQOGv5RWaFLm",
        "outputId": "49e45d12-6aee-42bd-aa25-78f86c0f14e8",
        "colab": {
          "base_uri": "https://localhost:8080/",
          "height": 203
        }
      },
      "source": [
        "#3.16 - for문 사용\n",
        "\n",
        "n = int(input('1에서 9까지의 수를 입력하세요 : '))\n",
        "while n<1 or n>9 :\n",
        "  n = int(input('1에서 9까지의 수를 다시 입력하세요 : '))\n",
        "\n",
        "for i in range(1,10) :\n",
        "  print('{} * {} = {}'.format(n,i,n*i))\n"
      ],
      "execution_count": null,
      "outputs": [
        {
          "output_type": "stream",
          "text": [
            "1에서 9까지의 수를 입력하세요 : 11\n",
            "1에서 9까지의 수를 다시 입력하세요 : 2\n",
            "2 * 1 = 2\n",
            "2 * 2 = 4\n",
            "2 * 3 = 6\n",
            "2 * 4 = 8\n",
            "2 * 5 = 10\n",
            "2 * 6 = 12\n",
            "2 * 7 = 14\n",
            "2 * 8 = 16\n",
            "2 * 9 = 18\n"
          ],
          "name": "stdout"
        }
      ]
    },
    {
      "cell_type": "code",
      "metadata": {
        "id": "9Yn_Hvflao99",
        "outputId": "6473bc25-1d1f-4476-ec6d-9faca2d14ee4",
        "colab": {
          "base_uri": "https://localhost:8080/",
          "height": 203
        }
      },
      "source": [
        "#3.16 - while문 사용\n",
        "\n",
        "n = int(input('1에서 9까지의 수를 입력하세요 : '))\n",
        "while n<1 or n>9 :\n",
        "  n = int(input('1에서 9까지의 수를 다시 입력하세요 : '))\n",
        "i=1\n",
        "\n",
        "while i<10 :\n",
        "  print('{} * {} = {}'.format(n,i,i*n))\n",
        "  i+=1"
      ],
      "execution_count": null,
      "outputs": [
        {
          "output_type": "stream",
          "text": [
            "1에서 9까지의 수를 입력하세요 : 11\n",
            "1에서 9까지의 수를 다시 입력하세요 : 2\n",
            "2 * 1 = 2\n",
            "2 * 2 = 4\n",
            "2 * 3 = 6\n",
            "2 * 4 = 8\n",
            "2 * 5 = 10\n",
            "2 * 6 = 12\n",
            "2 * 7 = 14\n",
            "2 * 8 = 16\n",
            "2 * 9 = 18\n"
          ],
          "name": "stdout"
        }
      ]
    },
    {
      "cell_type": "markdown",
      "metadata": {
        "id": "SldmvqlFYR36"
      },
      "source": [
        "#3.18"
      ]
    },
    {
      "cell_type": "code",
      "metadata": {
        "id": "m5Ksk3-8a7hQ",
        "outputId": "45f15cb8-d8cd-4018-dc33-ef426ce2811b",
        "colab": {
          "base_uri": "https://localhost:8080/",
          "height": 169
        }
      },
      "source": [
        "#3.18\n",
        "\n",
        "print('맛나 식당에 오신 것을 환영합니다. 메뉴는 다음과 같습니다.')\n",
        "print('1) 햄버거 \\n2) 치킨 \\n3) 피자')\n",
        "menu = ['햄버거','치킨','피자']\n",
        "\n",
        "n = int(input('1에서 3까지의 메뉴를 선택하세요 : '))\n",
        "\n",
        "while n<1 or n>3 :        # 1~3에 해당하는 숫자가 아니면 다시 입력\n",
        "  n = int(input('메뉴를 다시 입력하세요 : '))\n",
        "\n",
        "print('{}을 선택하였습니다.'.format(menu[n-1]))"
      ],
      "execution_count": null,
      "outputs": [
        {
          "output_type": "stream",
          "text": [
            "맛나 식당에 오신 것을 환영합니다. 메뉴는 다음과 같습니다.\n",
            "1) 햄버거 \n",
            "2) 치킨 \n",
            "3) 피자\n",
            "1에서 3까지의 메뉴를 선택하세요 : 5\n",
            "메뉴를 다시 입력하세요 : 6\n",
            "메뉴를 다시 입력하세요 : 0\n",
            "메뉴를 다시 입력하세요 : 2\n",
            "치킨을 선택하였습니다.\n"
          ],
          "name": "stdout"
        }
      ]
    },
    {
      "cell_type": "markdown",
      "metadata": {
        "id": "kC-4feuCYTQy"
      },
      "source": [
        "#3.19"
      ]
    },
    {
      "cell_type": "code",
      "metadata": {
        "id": "Hiea6wYxcZIX",
        "outputId": "160bc88d-bb9d-4176-825c-913902ebf7c5",
        "colab": {
          "base_uri": "https://localhost:8080/",
          "height": 135
        }
      },
      "source": [
        "#3.19\n",
        "\n",
        "print('맛나 식당에 오신 것을 환영합니다. 메뉴는 다음과 같습니다.')\n",
        "print('- 햄버거(입력 b) \\n- 치킨(입력 c) \\n- 피자(입력 p)')\n",
        "b, c, p = '햄버거', '치킨', '피자'\n",
        "choice = ['b','c','p']\n",
        "\n",
        "al = input('메뉴를 선택하세요(알파벳 b, c, p 입력) : ')\n",
        "\n",
        "while (al in choice) == False :        # al에 입력받은 알파벳이 b,c,p에 속해 있지 않으면 다시 입력\n",
        "  al = input('메뉴를 다시 입력하세요(알파벳 b, c, p 입력) : ')\n",
        "\n",
        "if al == 'b' :\n",
        "  al=b\n",
        "elif al == 'c' :\n",
        "  al=c\n",
        "else :\n",
        "  al=p\n",
        "print('{}을 선택하였습니다.'.format(al))"
      ],
      "execution_count": null,
      "outputs": [
        {
          "output_type": "stream",
          "text": [
            "맛나 식당에 오신 것을 환영합니다. 메뉴는 다음과 같습니다.\n",
            "- 햄버거(입력 b) \n",
            "- 치킨(입력 c) \n",
            "- 피자(입력 p)\n",
            "메뉴를 선택하세요(알파벳 b, c, p 입력) : x\n",
            "메뉴를 다시 입력하세요(알파벳 b, c, p 입력) : c\n",
            "치킨을 선택하였습니다.\n"
          ],
          "name": "stdout"
        }
      ]
    },
    {
      "cell_type": "markdown",
      "metadata": {
        "id": "EfuckTVwYUhI"
      },
      "source": [
        "#3.20"
      ]
    },
    {
      "cell_type": "code",
      "metadata": {
        "id": "Kip6sP-ohmB2",
        "outputId": "837278a1-f310-4cbb-a8a2-5649201e34d7",
        "colab": {
          "base_uri": "https://localhost:8080/",
          "height": 270
        }
      },
      "source": [
        "#3.20\n",
        "\n",
        "for _ in range(2) :     #실행 결과를 2번 보여주기 위함\n",
        "\n",
        "  n= int(input('숫자를 입력하세요 : '))\n",
        "\n",
        "  s=''\n",
        "  for i in range(1,n+1) :\n",
        "    s ='*'*i            # '*'를 i개 추가함\n",
        "    b=''    \n",
        "    for j in range(n-i) :\n",
        "      b += ' '          # 공백을 (n-i)개 추가함\n",
        "    print(b,s,sep='')\n",
        "  print()"
      ],
      "execution_count": null,
      "outputs": [
        {
          "output_type": "stream",
          "text": [
            "숫자를 입력하세요 : 5\n",
            "    *\n",
            "   **\n",
            "  ***\n",
            " ****\n",
            "*****\n",
            "\n",
            "숫자를 입력하세요 : 6\n",
            "     *\n",
            "    **\n",
            "   ***\n",
            "  ****\n",
            " *****\n",
            "******\n",
            "\n"
          ],
          "name": "stdout"
        }
      ]
    },
    {
      "cell_type": "markdown",
      "metadata": {
        "id": "3S08iKnfYV2c"
      },
      "source": [
        "#3.21"
      ]
    },
    {
      "cell_type": "code",
      "metadata": {
        "id": "c0WCQeG1m4-q",
        "outputId": "d62f8264-47c0-4345-a415-3718fa98ad6d",
        "colab": {
          "base_uri": "https://localhost:8080/",
          "height": 118
        }
      },
      "source": [
        "#3.21\n",
        "\n",
        "for _ in range(2) :     # 실행 결과를 2번 보여주기 위함\n",
        "\n",
        "  n = int(input('숫자를 입력하세요 : ')) \n",
        "\n",
        "  if n % 2 == 0 and n != 2 :      # n이 2가 아닌 짝수이면 소수가 아니다.\n",
        "    print('%d는 소수가 아닙니다' %n)\n",
        "\n",
        "  else :\n",
        "    is_prime = True\n",
        "\n",
        "    for i in range(3,n,2) :       \n",
        "      if n % i == 0 :             # n이 1을 제외한 (n-1)이하의 홀수로 나누어 떨어지면 소수가 아니다.\n",
        "        print('%d는 소수가 아닙니다' %n)\n",
        "        is_prime = False\n",
        "  \n",
        "    if is_prime == True :  \n",
        "      print('%d는 소수입니다' %n)   # 그 외에는 모두 소수이다.\n",
        "\n",
        "  print()"
      ],
      "execution_count": null,
      "outputs": [
        {
          "output_type": "stream",
          "text": [
            "숫자를 입력하세요 : 2\n",
            "2는 소수입니다\n",
            "\n",
            "숫자를 입력하세요 : 3\n",
            "3는 소수입니다\n",
            "\n"
          ],
          "name": "stdout"
        }
      ]
    },
    {
      "cell_type": "markdown",
      "metadata": {
        "id": "jgEHICxcYXcL"
      },
      "source": [
        "#3.22"
      ]
    },
    {
      "cell_type": "code",
      "metadata": {
        "id": "VEtQTJu4_5Ib",
        "outputId": "92ecfff8-6757-4bc4-fa00-0a7f82dfd75b",
        "colab": {
          "base_uri": "https://localhost:8080/",
          "height": 203
        }
      },
      "source": [
        "#3.22\n",
        "\n",
        "for i in range(2,13,1) :  \n",
        "\n",
        "  if i % 2 == 0 and i != 2 :      # i가 2가 아닌 짝수이면 소수가 아니다.\n",
        "    print('%2d : 합성수' %i)\n",
        "\n",
        "  else :\n",
        "    is_prime = True\n",
        "\n",
        "    for j in range(3,i,2) :       \n",
        "      if i % j == 0 :             # i가 1을 제외한 (i-1)이하의 홀수로 나누어 떨어지면 소수가 아니다.\n",
        "        print('%2d : 합성수' %i)\n",
        "        is_prime = False\n",
        "  \n",
        "    if is_prime == True :  \n",
        "      print('%2d : 소수' %i)   # 그 외에는 모두 소수이다.\n"
      ],
      "execution_count": null,
      "outputs": [
        {
          "output_type": "stream",
          "text": [
            " 2 : 소수\n",
            " 3 : 소수\n",
            " 4 : 합성수\n",
            " 5 : 소수\n",
            " 6 : 합성수\n",
            " 7 : 소수\n",
            " 8 : 합성수\n",
            " 9 : 합성수\n",
            "10 : 합성수\n",
            "11 : 소수\n",
            "12 : 합성수\n"
          ],
          "name": "stdout"
        }
      ]
    },
    {
      "cell_type": "markdown",
      "metadata": {
        "id": "Gix8J735YYlo"
      },
      "source": [
        "#3.23"
      ]
    },
    {
      "cell_type": "code",
      "metadata": {
        "id": "ETPeVfuiQqvW",
        "outputId": "f7066c13-2cba-44a2-e4ba-9153234eae90",
        "colab": {
          "base_uri": "https://localhost:8080/",
          "height": 51
        }
      },
      "source": [
        "#3.23\n",
        "\n",
        "n = int(input('숫자를 입력하세요 : '))\n",
        "\n",
        "square_sum = 0\n",
        "for i in range(1,n+1,1) :\n",
        "  square_sum += i**2\n",
        "\n",
        "print('결과는 %d 입니다.' %square_sum)"
      ],
      "execution_count": null,
      "outputs": [
        {
          "output_type": "stream",
          "text": [
            "숫자를 입력하세요 : 5\n",
            "결과는 55 입니다.\n"
          ],
          "name": "stdout"
        }
      ]
    },
    {
      "cell_type": "markdown",
      "metadata": {
        "id": "btM0084MYZ07"
      },
      "source": [
        "#3.24"
      ]
    },
    {
      "cell_type": "code",
      "metadata": {
        "id": "G0o5vnXwSWPk",
        "outputId": "23531ac7-cfc5-4f1e-ade9-0a9c76df1068",
        "colab": {
          "base_uri": "https://localhost:8080/",
          "height": 118
        }
      },
      "source": [
        "#3.24\n",
        "\n",
        "for _ in range(2) :    #실행 결과를 2번 보여주기 위함\n",
        "\n",
        "  n = int(input('숫자를 입력하세요 : '))\n",
        "\n",
        "  s = 0\n",
        "  for i in range(1,n+1,1) :\n",
        "    s += 1/i**2\n",
        "\n",
        "  print('결과는 {}입니다.'.format(s))\n",
        "  print()"
      ],
      "execution_count": null,
      "outputs": [
        {
          "output_type": "stream",
          "text": [
            "숫자를 입력하세요 : 10\n",
            "결과는 1.5497677311665408입니다.\n",
            "\n",
            "숫자를 입력하세요 : 100\n",
            "결과는 1.6349839001848923입니다.\n",
            "\n"
          ],
          "name": "stdout"
        }
      ]
    },
    {
      "cell_type": "markdown",
      "metadata": {
        "id": "iLJNUGutYbCF"
      },
      "source": [
        "#3.25"
      ]
    },
    {
      "cell_type": "code",
      "metadata": {
        "id": "JWyU1lXfS_WH",
        "outputId": "3c75d7d3-c94e-43f4-b207-e55b230d0158",
        "colab": {
          "base_uri": "https://localhost:8080/",
          "height": 270
        }
      },
      "source": [
        "#3.25\n",
        "\n",
        "day = 0\n",
        "location = 0\n",
        "\n",
        "while location < 30 :\n",
        "  day = day + 1\n",
        "  if day == 1 :        # 첫 날에 하루 종일 7미터를 올라감\n",
        "    location += 7\n",
        "  elif 1<day :\n",
        "    location -= 5      # 밤에 휴식을 취하는 동안 5미터를 미끄러져 내려감\n",
        "    location += 7      # 다시 하루 종일 7미터를 올라감\n",
        "  print('day : {} 달팽이의 위치 : {} 미터'.format(day,location)) \n",
        "\n",
        "print()\n",
        "print('우물을 탈출하는 데 걸린 날은 %d일 입니다.' %day)"
      ],
      "execution_count": null,
      "outputs": [
        {
          "output_type": "stream",
          "text": [
            "day : 1 달팽이의 위치 : 7 미터\n",
            "day : 2 달팽이의 위치 : 9 미터\n",
            "day : 3 달팽이의 위치 : 11 미터\n",
            "day : 4 달팽이의 위치 : 13 미터\n",
            "day : 5 달팽이의 위치 : 15 미터\n",
            "day : 6 달팽이의 위치 : 17 미터\n",
            "day : 7 달팽이의 위치 : 19 미터\n",
            "day : 8 달팽이의 위치 : 21 미터\n",
            "day : 9 달팽이의 위치 : 23 미터\n",
            "day : 10 달팽이의 위치 : 25 미터\n",
            "day : 11 달팽이의 위치 : 27 미터\n",
            "day : 12 달팽이의 위치 : 29 미터\n",
            "day : 13 달팽이의 위치 : 31 미터\n",
            "\n",
            "우물을 탈출하는 데 걸린 날은 13일 입니다.\n"
          ],
          "name": "stdout"
        }
      ]
    },
    {
      "cell_type": "markdown",
      "metadata": {
        "id": "V514HRJNkKIz"
      },
      "source": [
        "#3.26"
      ]
    },
    {
      "cell_type": "code",
      "metadata": {
        "id": "MRO55o-UVxsH",
        "outputId": "e324a0eb-d8d5-45c4-eb33-717a5eea9c97",
        "colab": {
          "base_uri": "https://localhost:8080/",
          "height": 118
        }
      },
      "source": [
        "#3.26\n",
        "\n",
        "n = int(input('n을 입력하시오 : '))\n",
        "x=0\n",
        "while 1  :\n",
        "  x += 1\n",
        "  for i in range(2*(x-1)*n+1, (2*x-1)*n+1, 1) :    # 홀수줄. range에서 start : 1, 2n+1, 4n+1, ...   stop : n+1, 3n+1, 5n+1, ...  step : 1 이라는 규칙이 있다   \n",
        "    print('%2d ' %i,end='')\n",
        "  print()\n",
        "  \n",
        "  if n%2 != 0 and x==n//2+1 :      # n이 홀수이고 x == n//2 + 1 이면 break\n",
        "    break \n",
        "  \n",
        "  for i in range(2*x*n,(2*x-1)*n,-1) :             # 짝수줄. range에서 start : 2n, 4n, 6n, ...   stop : n, 3n, 5n, ...   step : -1 이라는 규칙이 있다 \n",
        "    print('%2d ' %i,end='')\n",
        "  print()\n",
        "  \n",
        "  if n%2 == 0 and x==n//2 :        # n이 짝수이고 x == n//2 이면 break\n",
        "    break\n"
      ],
      "execution_count": null,
      "outputs": [
        {
          "output_type": "stream",
          "text": [
            "n을 입력하시오 : 5\n",
            " 1  2  3  4  5 \n",
            "10  9  8  7  6 \n",
            "11 12 13 14 15 \n",
            "20 19 18 17 16 \n",
            "21 22 23 24 25 \n"
          ],
          "name": "stdout"
        }
      ]
    },
    {
      "cell_type": "code",
      "metadata": {
        "id": "GHD09XjEYxZU",
        "outputId": "f79ba7ee-4157-442b-b9f1-1564f2dff3f9",
        "colab": {
          "base_uri": "https://localhost:8080/",
          "height": 135
        }
      },
      "source": [
        "n = int(input('n을 입력하시오 : '))\n",
        "x=0\n",
        "while 1  :\n",
        "  x += 1\n",
        "  for i in range(2*(x-1)*n+1, (2*x-1)*n+1, 1) :    # 홀수줄. range에서 start : 1, 2n+1, 4n+1, ...   stop : n+1, 3n+1, 5n+1, ...  step : 1 이라는 규칙이 있다   \n",
        "    print('%2d ' %i,end='')\n",
        "  print()\n",
        "  \n",
        "  if n%2 != 0 and x==n//2+1 :      # n이 홀수이고 x == n//2 + 1 이면 break\n",
        "    break \n",
        "  \n",
        "  for i in range(2*x*n,(2*x-1)*n,-1) :             # 짝수줄. range에서 start : 2n, 4n, 6n, ...   stop : n, 3n, 5n, ...   step : -1 이라는 규칙이 있다 \n",
        "    print('%2d ' %i,end='')\n",
        "  print()\n",
        "  \n",
        "  if n%2 == 0 and x==n//2 :        # n이 짝수이고 x == n//2 이면 break\n",
        "    break"
      ],
      "execution_count": null,
      "outputs": [
        {
          "output_type": "stream",
          "text": [
            "n을 입력하시오 : 6\n",
            " 1  2  3  4  5  6 \n",
            "12 11 10  9  8  7 \n",
            "13 14 15 16 17 18 \n",
            "24 23 22 21 20 19 \n",
            "25 26 27 28 29 30 \n",
            "36 35 34 33 32 31 \n"
          ],
          "name": "stdout"
        }
      ]
    },
    {
      "cell_type": "markdown",
      "metadata": {
        "id": "fM_c97EikZrR"
      },
      "source": [
        "#3.27"
      ]
    },
    {
      "cell_type": "code",
      "metadata": {
        "id": "klqZhwhRelLF",
        "outputId": "3b15b4ed-4523-43fe-92be-d92744681d37",
        "colab": {
          "base_uri": "https://localhost:8080/",
          "height": 34
        }
      },
      "source": [
        "#3.27\n",
        "\n",
        "a=''\n",
        "for i in range(100,1000,1) :\n",
        "  p = i//100         # 100의 자리 수\n",
        "  q = (i-100*p)//10      # 10의 자리 수\n",
        "  r = i % 10         # 1의 자리 수 \n",
        "  \n",
        "  a_number = (p**3 + q**3 + r**3  == i)\n",
        "  if a_number :\n",
        "    a = a + str(i) + ' '\n",
        "print('세 자리의 암스트롱 수 :',a)\n"
      ],
      "execution_count": null,
      "outputs": [
        {
          "output_type": "stream",
          "text": [
            "세 자리의 암스트롱 수 : 153 370 371 407 \n"
          ],
          "name": "stdout"
        }
      ]
    },
    {
      "cell_type": "markdown",
      "metadata": {
        "id": "8azazPCtohiE"
      },
      "source": [
        "#3.28"
      ]
    },
    {
      "cell_type": "code",
      "metadata": {
        "id": "KMSpyFS4mQzS",
        "outputId": "e4f4fddb-3cbf-4d3b-9c9e-3cc6a43556d9",
        "colab": {
          "base_uri": "https://localhost:8080/",
          "height": 84
        }
      },
      "source": [
        "#3.28\n",
        "\n",
        "for _ in range(2) :\n",
        "\n",
        "  n = input('정수를 입력하시오 : ')\n",
        "  lists = list(n)       \n",
        "  lists_r = list(n)        \n",
        "  lists_r.reverse()          # lists_r의 순서를 반대 방향으로 바꿈. 즉 lists_r와 lists는 서로 반대\n",
        "  \n",
        "  if lists_r == lists :      # 서로 반대인 lists_r과 lists가 같다면 거꾸로 정수이다\n",
        "    print('{}은(는) 거꾸로 정수입니다.'.format(n))\n",
        "\n",
        "  else :\n",
        "    print('{}은(는) 거꾸로 정수가 아닙니다.'.format(n))\n",
        "\n"
      ],
      "execution_count": 18,
      "outputs": [
        {
          "output_type": "stream",
          "text": [
            "정수를 입력하시오 : 3443\n",
            "3443은(는) 거꾸로 정수입니다.\n",
            "정수를 입력하시오 : 324\n",
            "324은(는) 거꾸로 정수가 아닙니다.\n"
          ],
          "name": "stdout"
        }
      ]
    },
    {
      "cell_type": "markdown",
      "metadata": {
        "id": "2dEUoHFas3Qe"
      },
      "source": [
        "#3.29"
      ]
    },
    {
      "cell_type": "code",
      "metadata": {
        "id": "IhdEDsKRpNtx",
        "outputId": "85fbdc5b-d95e-4326-e658-962dd2901533",
        "colab": {
          "base_uri": "https://localhost:8080/",
          "height": 135
        }
      },
      "source": [
        "#3.29\n",
        "\n",
        "fuel = 500\n",
        "while 50 <= fuel  :\n",
        "  n = int(input('충전 또는 사용한 연료를 +/- 기호와 함께 입력하시오 : '))\n",
        "  fuel = fuel + n\n",
        "  print('현재 탱크양은 {} 입니다.'.format(fuel))\n",
        "print('경고 : 연료가 10% 미만이니 충전하세요!')"
      ],
      "execution_count": null,
      "outputs": [
        {
          "output_type": "stream",
          "text": [
            "충전 또는 사용한 연료를 +/- 기호와 함께 입력하시오 : +60\n",
            "현재 탱크양은 560 입니다.\n",
            "충전 또는 사용한 연료를 +/- 기호와 함께 입력하시오 : -300\n",
            "현재 탱크양은 260 입니다.\n",
            "충전 또는 사용한 연료를 +/- 기호와 함께 입력하시오 : -220\n",
            "현재 탱크양은 40 입니다.\n",
            "경고 : 연료가 10% 미만이니 충전하세요!\n"
          ],
          "name": "stdout"
        }
      ]
    },
    {
      "cell_type": "markdown",
      "metadata": {
        "id": "hj0gpJYjwmJu"
      },
      "source": [
        "#3.30"
      ]
    },
    {
      "cell_type": "code",
      "metadata": {
        "id": "WJMH78qJv6G-",
        "outputId": "fa47595b-ee3f-465d-bfe6-b29a8a478dcd",
        "colab": {
          "base_uri": "https://localhost:8080/",
          "height": 118
        }
      },
      "source": [
        "#3.30\n",
        "\n",
        "print('1)덧셈  2)뺄셈  3)곱셈  4)나눗셈')\n",
        "n = int(input('어떤 연산을 원하는지 번호를 입력하세요 : '))\n",
        "if n<1 or 4<n :\n",
        "  print('잘못 입력하였습니다.')\n",
        "else :\n",
        "  print('연산을 원하는 숫자 두개를 입력하세요')\n",
        "  num1= int(input())\n",
        "  num2= int(input())\n",
        "\n",
        "  result = 0\n",
        "  if n==1 :\n",
        "    print('{} + {} = {}'.format(num1,num2,num1 + num2))\n",
        "  elif n==2 :\n",
        "    print('{} - {} = {}'.format(num1,num2,num1 - num2))\n",
        "  elif n==3 :\n",
        "    print('{} * {} = {}'.format(num1,num2,num1 * num2))\n",
        "  else :\n",
        "    print('{} / {} = {}'.format(num1,num2,num1 / num2))"
      ],
      "execution_count": null,
      "outputs": [
        {
          "output_type": "stream",
          "text": [
            "1)덧셈  2)뺄셈  3)곱셈  4)나눗셈\n",
            "어떤 연산을 원하는지 번호를 입력하세요 : 4\n",
            "연산을 원하는 숫자 두개를 입력하세요\n",
            "3\n",
            "4\n",
            "3 / 4 = 0.75\n"
          ],
          "name": "stdout"
        }
      ]
    },
    {
      "cell_type": "code",
      "metadata": {
        "id": "9iKAxPYQyK1k",
        "outputId": "4d9e42c8-59ea-4437-a339-55be6b6b05e3",
        "colab": {
          "base_uri": "https://localhost:8080/",
          "height": 68
        }
      },
      "source": [
        "print('1)덧셈  2)뺄셈  3)곱셈  4)나눗셈')\n",
        "n = int(input('어떤 연산을 원하는지 번호를 입력하세요 : '))\n",
        "if n<1 or 4<n :\n",
        "  print('잘못 입력하였습니다.')\n",
        "else :\n",
        "  print('연산을 원하는 숫자 두개를 입력하세요')\n",
        "  num1= int(input())\n",
        "  num2= int(input())\n",
        "\n",
        "  result = 0\n",
        "  if n==1 :\n",
        "    print('{} + {} = {}'.format(num1,num2,num1 + num2))\n",
        "  elif n==2 :\n",
        "    print('{} - {} = {}'.format(num1,num2,num1 - num2))\n",
        "  elif n==3 :\n",
        "    print('{} * {} = {}'.format(num1,num2,num1 * num2))\n",
        "  else :\n",
        "    print('{} / {} = {}'.format(num1,num2,num1 / num2))"
      ],
      "execution_count": null,
      "outputs": [
        {
          "output_type": "stream",
          "text": [
            "1)덧셈  2)뺄셈  3)곱셈  4)나눗셈\n",
            "어떤 연산을 원하는지 번호를 입력하세요 : 6\n",
            "잘못 입력하였습니다.\n"
          ],
          "name": "stdout"
        }
      ]
    },
    {
      "cell_type": "markdown",
      "metadata": {
        "id": "mQMe3eMT0EK1"
      },
      "source": [
        "#3.31"
      ]
    },
    {
      "cell_type": "code",
      "metadata": {
        "id": "3ym91nagzvyQ",
        "outputId": "7f7e6822-bbe9-4d64-878a-df5e0a057137",
        "colab": {
          "base_uri": "https://localhost:8080/",
          "height": 287
        }
      },
      "source": [
        "#3.31\n",
        "\n",
        "for i in range(1,20001,1) :\n",
        "  list1=[]\n",
        "  list2=[]\n",
        "  for j in range(1,i,1) :\n",
        "    if i % j == 0 :\n",
        "      list1.append(j)   # i의 진약수이면 list1에 추가\n",
        "  s1 = sum(list1)   # i의 진약수의 합\n",
        "  for k in range(1,s1,1) :\n",
        "    if s1 % k == 0 :\n",
        "      list2.append(k)   # s1의 진약수이면 list2에 추가\n",
        "  s2 = sum(list2)   # s1의 진약수의 합\n",
        "\n",
        "  if i == s2 and i !=s1 :  \n",
        "    print('{}의 친화수 {}'.format(i,s1))  \n"
      ],
      "execution_count": null,
      "outputs": [
        {
          "output_type": "stream",
          "text": [
            "220의 친화수 284\n",
            "284의 친화수 220\n",
            "1184의 친화수 1210\n",
            "1210의 친화수 1184\n",
            "2620의 친화수 2924\n",
            "2924의 친화수 2620\n",
            "5020의 친화수 5564\n",
            "5564의 친화수 5020\n",
            "6232의 친화수 6368\n",
            "6368의 친화수 6232\n",
            "10744의 친화수 10856\n",
            "10856의 친화수 10744\n",
            "12285의 친화수 14595\n",
            "14595의 친화수 12285\n",
            "17296의 친화수 18416\n",
            "18416의 친화수 17296\n"
          ],
          "name": "stdout"
        }
      ]
    }
  ]
}