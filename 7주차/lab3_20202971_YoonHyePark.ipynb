{
  "nbformat": 4,
  "nbformat_minor": 0,
  "metadata": {
    "colab": {
      "name": "lab3_20202971_YoonHyePark",
      "provenance": [],
      "collapsed_sections": []
    },
    "kernelspec": {
      "name": "python3",
      "display_name": "Python 3"
    }
  },
  "cells": [
    {
      "cell_type": "markdown",
      "metadata": {
        "id": "ODIcZ4ymhU4K"
      },
      "source": [
        "<3장 제어문>\n",
        "\n",
        "#if조건문\n",
        "if_youth_discount.py"
      ]
    },
    {
      "cell_type": "code",
      "metadata": {
        "id": "l-jhXSvkhX81",
        "outputId": "ae98caed-e52f-452d-a56c-a449ebc288a4",
        "colab": {
          "base_uri": "https://localhost:8080/",
          "height": 34
        }
      },
      "source": [
        "age=18\n",
        "\n",
        "if age<20 :  #age<20 조건식의 결과는 True\n",
        "  print('청소년 할인')"
      ],
      "execution_count": 6,
      "outputs": [
        {
          "output_type": "stream",
          "text": [
            "청소년 할인\n"
          ],
          "name": "stdout"
        }
      ]
    },
    {
      "cell_type": "code",
      "metadata": {
        "id": "Xqnpzt2bhhUy"
      },
      "source": [
        "age=24\n",
        "\n",
        "if age<20 :  #age<20 조건식의 결과는 False\n",
        "  print('청소년 할인')"
      ],
      "execution_count": 8,
      "outputs": []
    },
    {
      "cell_type": "markdown",
      "metadata": {
        "id": "VTU1Jc32iZtV"
      },
      "source": [
        "if_walk_count.py"
      ]
    },
    {
      "cell_type": "code",
      "metadata": {
        "id": "PIGl945YhyEs",
        "outputId": "f5943de3-06a4-492c-d261-501e58258fde",
        "colab": {
          "base_uri": "https://localhost:8080/",
          "height": 34
        }
      },
      "source": [
        "walk_count=1200\n",
        "\n",
        "if walk_count >= 1000 :\n",
        "  print('목표 달성')"
      ],
      "execution_count": 11,
      "outputs": [
        {
          "output_type": "stream",
          "text": [
            "목표 달성\n"
          ],
          "name": "stdout"
        }
      ]
    },
    {
      "cell_type": "code",
      "metadata": {
        "id": "0mzDcZTli0Ak"
      },
      "source": [
        "walk_count=800\n",
        "\n",
        "if walk_count >= 1000 :\n",
        "  print('목표 달성')"
      ],
      "execution_count": 12,
      "outputs": []
    },
    {
      "cell_type": "markdown",
      "metadata": {
        "id": "qCdnsEmPjG7q"
      },
      "source": [
        "LAB 3-1 : if문의 사용법"
      ]
    },
    {
      "cell_type": "code",
      "metadata": {
        "id": "FFQmblunjAOV"
      },
      "source": [
        "#1.\n",
        "game_score = 800\n",
        "\n",
        "if game_score >= 1000 :\n",
        "  print('당신은 고수입니다')"
      ],
      "execution_count": 21,
      "outputs": []
    },
    {
      "cell_type": "code",
      "metadata": {
        "id": "KIPjt06Sjf8o",
        "outputId": "8ec18c6c-32f3-4a54-89ff-c71c44d51ad8",
        "colab": {
          "base_uri": "https://localhost:8080/",
          "height": 34
        }
      },
      "source": [
        "game_score = 1300\n",
        "\n",
        "if game_score >= 1000 :\n",
        "  print('당신은 고수입니다')"
      ],
      "execution_count": 22,
      "outputs": [
        {
          "output_type": "stream",
          "text": [
            "당신은 고수입니다\n"
          ],
          "name": "stdout"
        }
      ]
    },
    {
      "cell_type": "code",
      "metadata": {
        "id": "YIvcWyh1jhhX"
      },
      "source": [
        "#2.\n",
        "num_a, num_b = 100, 200\n",
        "\n",
        "if num_a==num_b :\n",
        "  print('두 값이 일치합니다.')"
      ],
      "execution_count": 23,
      "outputs": []
    },
    {
      "cell_type": "code",
      "metadata": {
        "id": "_yApCYeqjyrY",
        "outputId": "12192e52-d18e-4457-9c31-92ef461fca53",
        "colab": {
          "base_uri": "https://localhost:8080/",
          "height": 34
        }
      },
      "source": [
        "num_a, num_b = 300, 300\n",
        "\n",
        "if num_a==num_b :\n",
        "  print('두 값이 일치합니다.')"
      ],
      "execution_count": 29,
      "outputs": [
        {
          "output_type": "stream",
          "text": [
            "두 값이 일치합니다.\n"
          ],
          "name": "stdout"
        }
      ]
    },
    {
      "cell_type": "markdown",
      "metadata": {
        "id": "BySOkqqVkUV7"
      },
      "source": [
        "if_modulo1.py"
      ]
    },
    {
      "cell_type": "code",
      "metadata": {
        "id": "QUqMZ0wHmD3v",
        "outputId": "5c8edb04-4e56-4a50-bc71-5c8d1300e525",
        "colab": {
          "base_uri": "https://localhost:8080/",
          "height": 51
        }
      },
      "source": [
        "number=int(input('정수를 입력하세요 : '))\n",
        "\n",
        "if (number % 3) == 0 :\n",
        "  print(number, '은(는) 3의 배수입니다.')"
      ],
      "execution_count": 35,
      "outputs": [
        {
          "output_type": "stream",
          "text": [
            "정수를 입력하세요 : 15\n",
            "15 은(는) 3의 배수입니다.\n"
          ],
          "name": "stdout"
        }
      ]
    },
    {
      "cell_type": "code",
      "metadata": {
        "id": "Cp22gSZYmbOj",
        "outputId": "c0d18791-1157-4198-ff88-ddc3246760f4",
        "colab": {
          "base_uri": "https://localhost:8080/",
          "height": 34
        }
      },
      "source": [
        "number=int(input('정수를 입력하세요 : '))\n",
        "\n",
        "if (number % 3) == 0 :\n",
        "  print(number, '은(는) 3의 배수입니다.')"
      ],
      "execution_count": 36,
      "outputs": [
        {
          "output_type": "stream",
          "text": [
            "정수를 입력하세요 : 16\n"
          ],
          "name": "stdout"
        }
      ]
    },
    {
      "cell_type": "markdown",
      "metadata": {
        "id": "VwZHcNkKm3YC"
      },
      "source": [
        "if_modulo2.py"
      ]
    },
    {
      "cell_type": "code",
      "metadata": {
        "id": "SzeUjMgHmfSj",
        "outputId": "f7d33b43-ca90-4816-a0dc-3911cde57616",
        "colab": {
          "base_uri": "https://localhost:8080/",
          "height": 51
        }
      },
      "source": [
        "number=int(input('정수를 입력하세요 : '))\n",
        "\n",
        "if (number % 3) == 0 and (number % 5) == 0 :\n",
        "  print(number, '은(는) 3의 배수이면서 5의 배수입니다.')"
      ],
      "execution_count": 38,
      "outputs": [
        {
          "output_type": "stream",
          "text": [
            "정수를 입력하세요 : 15\n",
            "15 은(는) 3의 배수이면서 5의 배수입니다.\n"
          ],
          "name": "stdout"
        }
      ]
    },
    {
      "cell_type": "markdown",
      "metadata": {
        "id": "si0nXXRLn4ON"
      },
      "source": [
        "LAB 3-2 : 변수와 if 조건식 사용하기"
      ]
    },
    {
      "cell_type": "code",
      "metadata": {
        "id": "KUo_eDkRmhIN",
        "outputId": "ae94833f-d8b5-4f96-d507-a2cc9aebd5fb",
        "colab": {
          "base_uri": "https://localhost:8080/",
          "height": 69
        }
      },
      "source": [
        "#1.\n",
        "n = int(input('정수를 입력하세요 : '))\n",
        "print('n =',n)\n",
        "if n % 2 == 0 :\n",
        "  print(n,'은(는) 짝수입니다.')"
      ],
      "execution_count": 39,
      "outputs": [
        {
          "output_type": "stream",
          "text": [
            "정수를 입력하세요 : 50\n",
            "n = 50\n",
            "50 은(는) 짝수입니다.\n"
          ],
          "name": "stdout"
        }
      ]
    },
    {
      "cell_type": "code",
      "metadata": {
        "id": "YD3iwcO5ojys",
        "outputId": "47c3cc4e-3f79-495c-a106-a43368c937ac",
        "colab": {
          "base_uri": "https://localhost:8080/",
          "height": 51
        }
      },
      "source": [
        "n = int(input('정수를 입력하세요 : '))\n",
        "print('n =',n)\n",
        "if n % 2 == 0 :\n",
        "  print(n,'은(는) 짝수입니다.')"
      ],
      "execution_count": 40,
      "outputs": [
        {
          "output_type": "stream",
          "text": [
            "정수를 입력하세요 : 75\n",
            "n = 75\n"
          ],
          "name": "stdout"
        }
      ]
    },
    {
      "cell_type": "code",
      "metadata": {
        "id": "4gldoGMgongv",
        "outputId": "b3a95556-67b1-4b59-b0e9-be9318d10bc1",
        "colab": {
          "base_uri": "https://localhost:8080/",
          "height": 69
        }
      },
      "source": [
        "#2.\n",
        "x = int(input('정수를 입력하세요 : '))\n",
        "print('x =',x)\n",
        "if x > 0 :\n",
        "  print(x,'은(는) 자연수입니다.')"
      ],
      "execution_count": 43,
      "outputs": [
        {
          "output_type": "stream",
          "text": [
            "정수를 입력하세요 : 50\n",
            "x = 50\n",
            "50 은(는) 자연수입니다.\n"
          ],
          "name": "stdout"
        }
      ]
    },
    {
      "cell_type": "code",
      "metadata": {
        "id": "VlgQ_hUoo8Pa",
        "outputId": "a50eb7f8-1ba4-4d7f-cd0b-83f9d398c304",
        "colab": {
          "base_uri": "https://localhost:8080/",
          "height": 51
        }
      },
      "source": [
        "x = int(input('정수를 입력하세요 : '))\n",
        "print('x =',x)\n",
        "if x > 0 :\n",
        "  print(x,'은(는) 자연수입니다.')"
      ],
      "execution_count": 45,
      "outputs": [
        {
          "output_type": "stream",
          "text": [
            "정수를 입력하세요 : -10\n",
            "x = -10\n"
          ],
          "name": "stdout"
        }
      ]
    },
    {
      "cell_type": "markdown",
      "metadata": {
        "id": "lXYO3bxqpSfe"
      },
      "source": [
        "#if-else 조건문\n",
        "if_hour_test.py"
      ]
    },
    {
      "cell_type": "code",
      "metadata": {
        "id": "u5pkzKLzo_eL",
        "outputId": "6c953fd0-070f-4e6a-d348-24e4ea289792",
        "colab": {
          "base_uri": "https://localhost:8080/",
          "height": 34
        }
      },
      "source": [
        "hour=10\n",
        "if hour < 12 :\n",
        "  print('오전입니다.')\n",
        "if hour >= 12 :\n",
        "  print('오후입니다.')"
      ],
      "execution_count": 1,
      "outputs": [
        {
          "output_type": "stream",
          "text": [
            "오전입니다.\n"
          ],
          "name": "stdout"
        }
      ]
    },
    {
      "cell_type": "markdown",
      "metadata": {
        "id": "NSeFZNIREVP9"
      },
      "source": [
        "if_else_hour_test.py"
      ]
    },
    {
      "cell_type": "code",
      "metadata": {
        "id": "OyoWZOQkERq6",
        "outputId": "3de4349e-2f52-474a-d2a9-aabf750c9e23",
        "colab": {
          "base_uri": "https://localhost:8080/",
          "height": 34
        }
      },
      "source": [
        "hour=14\n",
        "if hour < 12 :\n",
        "  print('오전입니다.')\n",
        "else :\n",
        "  print('오후입니다.')"
      ],
      "execution_count": 4,
      "outputs": [
        {
          "output_type": "stream",
          "text": [
            "오후입니다.\n"
          ],
          "name": "stdout"
        }
      ]
    },
    {
      "cell_type": "markdown",
      "metadata": {
        "id": "0zyH08OSEsbE"
      },
      "source": [
        "if_else_minus_test.py"
      ]
    },
    {
      "cell_type": "code",
      "metadata": {
        "id": "OAGsobzhEeeq",
        "outputId": "74b01789-3ee4-4541-c0f5-1d09cba3c409",
        "colab": {
          "base_uri": "https://localhost:8080/",
          "height": 34
        }
      },
      "source": [
        "num=-10\n",
        "if num<0 :\n",
        "  print(num,'은(는) 음수입니다.')\n",
        "else :\n",
        "  print(num,'은(는) 음수가 아닙니다.')"
      ],
      "execution_count": 5,
      "outputs": [
        {
          "output_type": "stream",
          "text": [
            "-10 은(는) 음수입니다.\n"
          ],
          "name": "stdout"
        }
      ]
    },
    {
      "cell_type": "markdown",
      "metadata": {
        "id": "y9XEgBUCE-aA"
      },
      "source": [
        "if_else_even_test.py"
      ]
    },
    {
      "cell_type": "code",
      "metadata": {
        "id": "LQyXj7kIE4hY",
        "outputId": "7050c793-87f2-48b0-c202-de514f2c5ae4",
        "colab": {
          "base_uri": "https://localhost:8080/",
          "height": 34
        }
      },
      "source": [
        "num=10\n",
        "if num % 2 == 0 :\n",
        "  print(num, '은(는) 짝수입니다.')\n",
        "else :\n",
        "  print(num, '은(는) 홀수입니다.')"
      ],
      "execution_count": 6,
      "outputs": [
        {
          "output_type": "stream",
          "text": [
            "10 은(는) 짝수입니다.\n"
          ],
          "name": "stdout"
        }
      ]
    },
    {
      "cell_type": "markdown",
      "metadata": {
        "id": "9o5ysJRyFUY0"
      },
      "source": [
        "if_block.py"
      ]
    },
    {
      "cell_type": "code",
      "metadata": {
        "id": "NPjeCDYAFOP3",
        "outputId": "de51e42b-331e-4b1d-c671-fdda3cd6e10a",
        "colab": {
          "base_uri": "https://localhost:8080/",
          "height": 51
        }
      },
      "source": [
        "num = 100\n",
        "if num < 0 :\n",
        "  print(num, '은(는) 음수입니다.')\n",
        "else :\n",
        "  print(num, '은(는) 음수가 아닙니다.')\n",
        "\n",
        "  if num % 2 == 0 :\n",
        "    print(num, '은(는) 짝수입니다.')\n",
        "  else : \n",
        "    print(num, '은(는) 홀수입니다.')"
      ],
      "execution_count": 9,
      "outputs": [
        {
          "output_type": "stream",
          "text": [
            "100 은(는) 음수가 아닙니다.\n",
            "100 은(는) 짝수입니다.\n"
          ],
          "name": "stdout"
        }
      ]
    },
    {
      "cell_type": "markdown",
      "metadata": {
        "id": "SuhZUKuzGIJg"
      },
      "source": [
        "LAB 3-3 : if 조건문의 응용"
      ]
    },
    {
      "cell_type": "code",
      "metadata": {
        "id": "qscPQXR9Fq0Q",
        "outputId": "c5717051-1ec3-4dc4-d655-61538486da5f",
        "colab": {
          "base_uri": "https://localhost:8080/",
          "height": 69
        }
      },
      "source": [
        "#1. \n",
        "game_score = int(input('게임점수를 입력하시오 : '))\n",
        "print('game_score =',game_score)\n",
        "if game_score >= 1000 :\n",
        "  print('고수입니다.')\n",
        "else :\n",
        "  print('입문자입니다.')"
      ],
      "execution_count": 13,
      "outputs": [
        {
          "output_type": "stream",
          "text": [
            "게임점수를 입력하시오 : 800\n",
            "game_score = 800\n",
            "입문자입니다.\n"
          ],
          "name": "stdout"
        }
      ]
    },
    {
      "cell_type": "code",
      "metadata": {
        "id": "ddVVWD-kGZAs",
        "outputId": "4bd86e8a-73cf-42c7-dc5a-5efb4df482dd",
        "colab": {
          "base_uri": "https://localhost:8080/",
          "height": 69
        }
      },
      "source": [
        "game_score = int(input('게임점수를 입력하시오 : '))\n",
        "print('game_score =',game_score)\n",
        "if game_score >= 1000 :\n",
        "  print('고수입니다.')\n",
        "else :\n",
        "  print('입문자입니다.')"
      ],
      "execution_count": 15,
      "outputs": [
        {
          "output_type": "stream",
          "text": [
            "게임점수를 입력하시오 : 1300\n",
            "game_score = 1300\n",
            "고수입니다.\n"
          ],
          "name": "stdout"
        }
      ]
    },
    {
      "cell_type": "code",
      "metadata": {
        "id": "XQljCR44Guxq",
        "outputId": "be8cb8db-3b61-429f-b622-d3c96c809b42",
        "colab": {
          "base_uri": "https://localhost:8080/",
          "height": 69
        }
      },
      "source": [
        "#2.\n",
        "n1 = int(input('한 정수를 입력하시오 : '))\n",
        "n2 = int(input('다른 정수를 입력하시오 : '))\n",
        "if n1 == n2 :\n",
        "  print('두 값이 일치합니다.')\n",
        "else : \n",
        "  print('두 값이 일치하지 않습니다.')"
      ],
      "execution_count": 16,
      "outputs": [
        {
          "output_type": "stream",
          "text": [
            "한 정수를 입력하시오 : 100\n",
            "다른 정수를 입력하시오 : 200\n",
            "두 값이 일치하지 않습니다.\n"
          ],
          "name": "stdout"
        }
      ]
    },
    {
      "cell_type": "code",
      "metadata": {
        "id": "NphtDG7vHDxt",
        "outputId": "33a99677-f154-4022-9f05-64928cf04a57",
        "colab": {
          "base_uri": "https://localhost:8080/",
          "height": 69
        }
      },
      "source": [
        "n1 = int(input('한 정수를 입력하시오 : '))\n",
        "n2 = int(input('다른 정수를 입력하시오 : '))\n",
        "if n1 == n2 :\n",
        "  print('두 값이 일치합니다.')\n",
        "else : \n",
        "  print('두 값이 일치하지 않습니다.')"
      ],
      "execution_count": 17,
      "outputs": [
        {
          "output_type": "stream",
          "text": [
            "한 정수를 입력하시오 : 300\n",
            "다른 정수를 입력하시오 : 300\n",
            "두 값이 일치합니다.\n"
          ],
          "name": "stdout"
        }
      ]
    },
    {
      "cell_type": "code",
      "metadata": {
        "id": "lGtU1e0lHIjL",
        "outputId": "24790eb9-709f-4d61-cf50-56ee07373350",
        "colab": {
          "base_uri": "https://localhost:8080/",
          "height": 69
        }
      },
      "source": [
        "#3.\n",
        "a = int(input('당신은 성인인가요(성인이면 1, 미성년이면 0): '))\n",
        "if a==0 :\n",
        "  print('당신은 미성년자입니다.')\n",
        "else :\n",
        "  b= int(input('결혼을 하셨나요(기혼이면 1, 미혼이면 0): '))\n",
        "  if b==1 :\n",
        "    print('당신은 결혼한 성인입니다.')\n",
        "  else :\n",
        "    print('당신은 결혼하지 않은 성인입니다.')"
      ],
      "execution_count": 21,
      "outputs": [
        {
          "output_type": "stream",
          "text": [
            "당신은 성인인가요(성인이면 1, 미성년이면 0): 1\n",
            "결혼을 하셨나요(기혼이면 1, 미혼이면 0): 0\n",
            "당신은 결혼하지 않은 성인입니다.\n"
          ],
          "name": "stdout"
        }
      ]
    },
    {
      "cell_type": "markdown",
      "metadata": {
        "id": "GLNxTdvHIMi_"
      },
      "source": [
        "대화창 실습 : 조건식 실습"
      ]
    },
    {
      "cell_type": "code",
      "metadata": {
        "id": "cGE6fgzbH5jz",
        "outputId": "0c841c05-d0a0-4722-8f1d-8281688d32d7",
        "colab": {
          "base_uri": "https://localhost:8080/",
          "height": 137
        }
      },
      "source": [
        "print(0<10)\n",
        "print(4>10)\n",
        "print(3<=10)\n",
        "print(15>=10)\n",
        "print(1==2)\n",
        "print(True or False)\n",
        "print(True and False)"
      ],
      "execution_count": 22,
      "outputs": [
        {
          "output_type": "stream",
          "text": [
            "True\n",
            "False\n",
            "True\n",
            "True\n",
            "False\n",
            "True\n",
            "False\n"
          ],
          "name": "stdout"
        }
      ]
    },
    {
      "cell_type": "markdown",
      "metadata": {
        "id": "nCMWF3OZJKfz"
      },
      "source": [
        "if_and_or_test.py"
      ]
    },
    {
      "cell_type": "code",
      "metadata": {
        "id": "mWWlBlqfIlmS",
        "outputId": "c5a42c26-8e4f-4e0d-9bdd-bc570268d16c",
        "colab": {
          "base_uri": "https://localhost:8080/",
          "height": 51
        }
      },
      "source": [
        "a=10\n",
        "b=14\n",
        "if (a%2==0) and (b%2==0) :\n",
        "  print('두 수 모두 짝수입니다.')\n",
        "if (a%2==0) or (b%2==0) :\n",
        "  print('두 수 중 하나 이상이 짝수입니다.')"
      ],
      "execution_count": 23,
      "outputs": [
        {
          "output_type": "stream",
          "text": [
            "두 수 모두 짝수입니다.\n",
            "두 수 중 하나 이상이 짝수입니다.\n"
          ],
          "name": "stdout"
        }
      ]
    },
    {
      "cell_type": "markdown",
      "metadata": {
        "id": "VK8ukV-fJpuF"
      },
      "source": [
        "LAB 3-4 : 복합 조건식의 이해"
      ]
    },
    {
      "cell_type": "code",
      "metadata": {
        "id": "OW5z-XebJmEG",
        "outputId": "4ccb3945-989f-4b2a-8f66-08ffdc370571",
        "colab": {
          "base_uri": "https://localhost:8080/",
          "height": 34
        }
      },
      "source": [
        "#1.\n",
        "num=2\n",
        "print(num>1 and num<10)"
      ],
      "execution_count": 26,
      "outputs": [
        {
          "output_type": "stream",
          "text": [
            "True\n"
          ],
          "name": "stdout"
        }
      ]
    },
    {
      "cell_type": "code",
      "metadata": {
        "id": "vO1Ys6-TKFH4"
      },
      "source": [
        "#2.\n",
        "age=9\n",
        "if 10 < age < 19 :\n",
        "  print('청소년입니다.')"
      ],
      "execution_count": 28,
      "outputs": []
    },
    {
      "cell_type": "code",
      "metadata": {
        "id": "e3gn9bzXd0LY",
        "outputId": "5716a3a7-9a7e-40fb-9a9e-8e22fd6f6bf6",
        "colab": {
          "base_uri": "https://localhost:8080/",
          "height": 34
        }
      },
      "source": [
        "age=12\n",
        "if 10 < age < 19 :\n",
        "  print('청소년입니다.')"
      ],
      "execution_count": 30,
      "outputs": [
        {
          "output_type": "stream",
          "text": [
            "청소년입니다.\n"
          ],
          "name": "stdout"
        }
      ]
    },
    {
      "cell_type": "markdown",
      "metadata": {
        "id": "tvYiQnLTeAeu"
      },
      "source": [
        "if_leapyear_test.py"
      ]
    },
    {
      "cell_type": "code",
      "metadata": {
        "id": "AMiC76Avd33c",
        "outputId": "34eaf7f1-ba6a-46e8-b62f-c8f6c4e959d4",
        "colab": {
          "base_uri": "https://localhost:8080/",
          "height": 51
        }
      },
      "source": [
        "year = int(input('연도를 입력하세요 : '))\n",
        "is_leap_year = ((year % 4 == 0) and (year % 100 !=0) or (year % 400 == 0))\n",
        "print(year, '년은 윤년입니까?', is_leap_year)"
      ],
      "execution_count": 32,
      "outputs": [
        {
          "output_type": "stream",
          "text": [
            "연도를 입력하세요 : 2000\n",
            "2000 년은 윤년입니까? True\n"
          ],
          "name": "stdout"
        }
      ]
    },
    {
      "cell_type": "markdown",
      "metadata": {
        "id": "I2jPoBWAfD5V"
      },
      "source": [
        "#if-elif-else 문\n",
        "if_grade1.py"
      ]
    },
    {
      "cell_type": "code",
      "metadata": {
        "id": "hdkoSljDeFYh",
        "outputId": "c166e76e-bd49-4236-f3fb-7b1608db849c",
        "colab": {
          "base_uri": "https://localhost:8080/",
          "height": 51
        }
      },
      "source": [
        "score = int(input('점수를 입력하세요 : '))\n",
        "if score >= 90 :\n",
        "  grade = 'A'\n",
        "if score < 90 and score >= 80 :\n",
        "  grade = 'B'\n",
        "if score < 80 and score >= 70 :\n",
        "  grade = 'C'\n",
        "if score < 70 and score >= 60 :\n",
        "  grade = 'D'\n",
        "if score < 60 :\n",
        "  grade = 'F'\n",
        "print('당신의 등급은 :', grade)"
      ],
      "execution_count": 33,
      "outputs": [
        {
          "output_type": "stream",
          "text": [
            "점수를 입력하세요 : 77\n",
            "당신의 등급은 : C\n"
          ],
          "name": "stdout"
        }
      ]
    },
    {
      "cell_type": "markdown",
      "metadata": {
        "id": "gBxnoxvJgd6o"
      },
      "source": [
        "if_grade2.py"
      ]
    },
    {
      "cell_type": "code",
      "metadata": {
        "id": "upsVxmmxgaOx",
        "outputId": "8bb15bf7-aff4-4447-d53d-3f0c8bdc5233",
        "colab": {
          "base_uri": "https://localhost:8080/",
          "height": 51
        }
      },
      "source": [
        "score = int(input('점수를 입력하세요 : '))\n",
        "if score >= 90 :\n",
        "  grade = 'A'\n",
        "else :\n",
        "  if score >= 80 :\n",
        "    grade = 'B'\n",
        "  else :\n",
        "    if score >= 70 :\n",
        "      grade = 'C'\n",
        "    else :\n",
        "      if score >= 60 :\n",
        "        grade = 'D'\n",
        "      else :\n",
        "        grade = 'F'\n",
        "print('당신의 등급은 :', grade)"
      ],
      "execution_count": 34,
      "outputs": [
        {
          "output_type": "stream",
          "text": [
            "점수를 입력하세요 : 82\n",
            "당신의 등급은 : B\n"
          ],
          "name": "stdout"
        }
      ]
    },
    {
      "cell_type": "markdown",
      "metadata": {
        "id": "qGufw_hCg4jJ"
      },
      "source": [
        "if_elif_grade.py"
      ]
    },
    {
      "cell_type": "code",
      "metadata": {
        "id": "8NAsV-DGg0mN",
        "outputId": "a5a10ba2-9bd4-4bfe-fcfa-95b6cba8b147",
        "colab": {
          "base_uri": "https://localhost:8080/",
          "height": 51
        }
      },
      "source": [
        "score = int(input('점수를 입력하세요 : '))\n",
        "if score >= 90 :\n",
        "  grade = 'A'\n",
        "elif score >= 80 :\n",
        "  grade = 'B'\n",
        "elif score >= 70 :\n",
        "  grade = 'C'\n",
        "elif score >= 60 :\n",
        "  grade = 'D'\n",
        "else :\n",
        "  grade = 'F'\n",
        "print('당신의 등급은 :',grade)"
      ],
      "execution_count": 35,
      "outputs": [
        {
          "output_type": "stream",
          "text": [
            "점수를 입력하세요 : 99\n",
            "당신의 등급은 : A\n"
          ],
          "name": "stdout"
        }
      ]
    },
    {
      "cell_type": "markdown",
      "metadata": {
        "id": "De6FxR_ChUWe"
      },
      "source": [
        "LAB 3-5 : if-elif-else 문을 사용한 다중 조건식"
      ]
    },
    {
      "cell_type": "code",
      "metadata": {
        "id": "SF6eOfHnhNJV",
        "outputId": "268ade2e-988c-4911-dfdd-235ff00cc12c",
        "colab": {
          "base_uri": "https://localhost:8080/",
          "height": 51
        }
      },
      "source": [
        "#1.\n",
        "speed = int(input('자동차의 속도를 입력하세요(단위 : km/h ): '))\n",
        "if speed >= 100 :\n",
        "  print('고속')\n",
        "elif speed >=60 :\n",
        "  print('중속')\n",
        "else :\n",
        "  print('저속')"
      ],
      "execution_count": 36,
      "outputs": [
        {
          "output_type": "stream",
          "text": [
            "자동차의 속도를 입력하세요(단위 : km/h ): 13\n",
            "저속\n"
          ],
          "name": "stdout"
        }
      ]
    },
    {
      "cell_type": "markdown",
      "metadata": {
        "id": "qQR8ExZ-h29i"
      },
      "source": [
        "#for 반복문\n",
        "print_welcome_with_for2.py"
      ]
    },
    {
      "cell_type": "code",
      "metadata": {
        "id": "sLZXTmQmhuq5",
        "outputId": "0eadc198-e64b-4247-d61e-6e687411eb46",
        "colab": {
          "base_uri": "https://localhost:8080/",
          "height": 186
        }
      },
      "source": [
        "for i in range(10):\n",
        "  print(i,'Welcome to everyone!!')"
      ],
      "execution_count": 37,
      "outputs": [
        {
          "output_type": "stream",
          "text": [
            "0 Welcome to everyone!!\n",
            "1 Welcome to everyone!!\n",
            "2 Welcome to everyone!!\n",
            "3 Welcome to everyone!!\n",
            "4 Welcome to everyone!!\n",
            "5 Welcome to everyone!!\n",
            "6 Welcome to everyone!!\n",
            "7 Welcome to everyone!!\n",
            "8 Welcome to everyone!!\n",
            "9 Welcome to everyone!!\n"
          ],
          "name": "stdout"
        }
      ]
    },
    {
      "cell_type": "markdown",
      "metadata": {
        "id": "lNfG6zy0kY11"
      },
      "source": [
        "LAB 3-6 : 반복문을 이용해서 다음 코드를 작성해 보자"
      ]
    },
    {
      "cell_type": "code",
      "metadata": {
        "id": "6PYmqviYkUvB",
        "outputId": "869c9bdd-6eca-4e60-a412-ee28b81df717",
        "colab": {
          "base_uri": "https://localhost:8080/",
          "height": 101
        }
      },
      "source": [
        "#1.\n",
        "for _ in range(5) :\n",
        "  print('Hello, Python!')"
      ],
      "execution_count": 42,
      "outputs": [
        {
          "output_type": "stream",
          "text": [
            "Hello, Python!\n",
            "Hello, Python!\n",
            "Hello, Python!\n",
            "Hello, Python!\n",
            "Hello, Python!\n"
          ],
          "name": "stdout"
        }
      ]
    },
    {
      "cell_type": "code",
      "metadata": {
        "id": "IU6CvQLeldhB",
        "outputId": "0cd6af6e-fb04-4c91-ba23-7d3c4cb518bc",
        "colab": {
          "base_uri": "https://localhost:8080/",
          "height": 101
        }
      },
      "source": [
        "#2.\n",
        "for i in range(5) :\n",
        "  print(i)"
      ],
      "execution_count": 44,
      "outputs": [
        {
          "output_type": "stream",
          "text": [
            "0\n",
            "1\n",
            "2\n",
            "3\n",
            "4\n"
          ],
          "name": "stdout"
        }
      ]
    },
    {
      "cell_type": "markdown",
      "metadata": {
        "id": "fg8p56mYl9D2"
      },
      "source": [
        "대화창 실습 : range() 함수의 활용과 리스트"
      ]
    },
    {
      "cell_type": "code",
      "metadata": {
        "id": "Dy6Ef2RYmCFv",
        "outputId": "83d6aef5-d8a2-4ea9-f424-25c35c1e753c",
        "colab": {
          "base_uri": "https://localhost:8080/",
          "height": 34
        }
      },
      "source": [
        "list(range(5))"
      ],
      "execution_count": 46,
      "outputs": [
        {
          "output_type": "execute_result",
          "data": {
            "text/plain": [
              "[0, 1, 2, 3, 4]"
            ]
          },
          "metadata": {
            "tags": []
          },
          "execution_count": 46
        }
      ]
    },
    {
      "cell_type": "code",
      "metadata": {
        "id": "roBUUeNamEJR",
        "outputId": "a7f7949b-f17b-416f-83f6-0acd2eb7672d",
        "colab": {
          "base_uri": "https://localhost:8080/",
          "height": 34
        }
      },
      "source": [
        "list(range(0,5))"
      ],
      "execution_count": 49,
      "outputs": [
        {
          "output_type": "execute_result",
          "data": {
            "text/plain": [
              "[0, 1, 2, 3, 4]"
            ]
          },
          "metadata": {
            "tags": []
          },
          "execution_count": 49
        }
      ]
    },
    {
      "cell_type": "code",
      "metadata": {
        "id": "bw6Jz7txmIhQ",
        "outputId": "9708447c-8042-485a-a588-40e53d01b6c7",
        "colab": {
          "base_uri": "https://localhost:8080/",
          "height": 34
        }
      },
      "source": [
        "list(range(0,5,1))"
      ],
      "execution_count": 50,
      "outputs": [
        {
          "output_type": "execute_result",
          "data": {
            "text/plain": [
              "[0, 1, 2, 3, 4]"
            ]
          },
          "metadata": {
            "tags": []
          },
          "execution_count": 50
        }
      ]
    },
    {
      "cell_type": "code",
      "metadata": {
        "id": "CHfTVrt6mLIK",
        "outputId": "1306d543-0319-40e9-d6f1-d9b042cdacd2",
        "colab": {
          "base_uri": "https://localhost:8080/",
          "height": 34
        }
      },
      "source": [
        "list(range(0,5,2))"
      ],
      "execution_count": 51,
      "outputs": [
        {
          "output_type": "execute_result",
          "data": {
            "text/plain": [
              "[0, 2, 4]"
            ]
          },
          "metadata": {
            "tags": []
          },
          "execution_count": 51
        }
      ]
    },
    {
      "cell_type": "code",
      "metadata": {
        "id": "i3rNybW1mPGu",
        "outputId": "a9889cc7-9c0e-47fe-bbe2-6f7732040b9b",
        "colab": {
          "base_uri": "https://localhost:8080/",
          "height": 34
        }
      },
      "source": [
        "list(range(2,5))  #==list(range(2,5,1))"
      ],
      "execution_count": 53,
      "outputs": [
        {
          "output_type": "execute_result",
          "data": {
            "text/plain": [
              "[2, 3, 4]"
            ]
          },
          "metadata": {
            "tags": []
          },
          "execution_count": 53
        }
      ]
    },
    {
      "cell_type": "code",
      "metadata": {
        "id": "-MzYvLcTmRHD",
        "outputId": "02b97f81-9e97-4f5f-98b1-adbb2d36db1f",
        "colab": {
          "base_uri": "https://localhost:8080/",
          "height": 34
        }
      },
      "source": [
        "list(range(0,10,2))"
      ],
      "execution_count": 55,
      "outputs": [
        {
          "output_type": "execute_result",
          "data": {
            "text/plain": [
              "[0, 2, 4, 6, 8]"
            ]
          },
          "metadata": {
            "tags": []
          },
          "execution_count": 55
        }
      ]
    },
    {
      "cell_type": "code",
      "metadata": {
        "id": "tTSK1_ElmkHK",
        "outputId": "9d653bcb-6c99-4e5c-835e-10dd6cd0ef6b",
        "colab": {
          "base_uri": "https://localhost:8080/",
          "height": 34
        }
      },
      "source": [
        "list(range(1,10,2))"
      ],
      "execution_count": 56,
      "outputs": [
        {
          "output_type": "execute_result",
          "data": {
            "text/plain": [
              "[1, 3, 5, 7, 9]"
            ]
          },
          "metadata": {
            "tags": []
          },
          "execution_count": 56
        }
      ]
    },
    {
      "cell_type": "code",
      "metadata": {
        "id": "vM3t3nw8mqtL",
        "outputId": "06961425-c773-4d91-dc99-c06b7fdfdab4",
        "colab": {
          "base_uri": "https://localhost:8080/",
          "height": 34
        }
      },
      "source": [
        "list(range(-2,-10,-2))"
      ],
      "execution_count": 57,
      "outputs": [
        {
          "output_type": "execute_result",
          "data": {
            "text/plain": [
              "[-2, -4, -6, -8]"
            ]
          },
          "metadata": {
            "tags": []
          },
          "execution_count": 57
        }
      ]
    },
    {
      "cell_type": "markdown",
      "metadata": {
        "id": "0gxwUtsznaaF"
      },
      "source": [
        "LAB 3-7 : range() 함수의 응용"
      ]
    },
    {
      "cell_type": "code",
      "metadata": {
        "id": "66vmY0otngCb",
        "outputId": "5ec773ac-68e5-4c33-e56e-f8ca3529daf7",
        "colab": {
          "base_uri": "https://localhost:8080/",
          "height": 1000
        }
      },
      "source": [
        "#1.\n",
        "list(range(1,101,1))"
      ],
      "execution_count": 69,
      "outputs": [
        {
          "output_type": "execute_result",
          "data": {
            "text/plain": [
              "[1,\n",
              " 2,\n",
              " 3,\n",
              " 4,\n",
              " 5,\n",
              " 6,\n",
              " 7,\n",
              " 8,\n",
              " 9,\n",
              " 10,\n",
              " 11,\n",
              " 12,\n",
              " 13,\n",
              " 14,\n",
              " 15,\n",
              " 16,\n",
              " 17,\n",
              " 18,\n",
              " 19,\n",
              " 20,\n",
              " 21,\n",
              " 22,\n",
              " 23,\n",
              " 24,\n",
              " 25,\n",
              " 26,\n",
              " 27,\n",
              " 28,\n",
              " 29,\n",
              " 30,\n",
              " 31,\n",
              " 32,\n",
              " 33,\n",
              " 34,\n",
              " 35,\n",
              " 36,\n",
              " 37,\n",
              " 38,\n",
              " 39,\n",
              " 40,\n",
              " 41,\n",
              " 42,\n",
              " 43,\n",
              " 44,\n",
              " 45,\n",
              " 46,\n",
              " 47,\n",
              " 48,\n",
              " 49,\n",
              " 50,\n",
              " 51,\n",
              " 52,\n",
              " 53,\n",
              " 54,\n",
              " 55,\n",
              " 56,\n",
              " 57,\n",
              " 58,\n",
              " 59,\n",
              " 60,\n",
              " 61,\n",
              " 62,\n",
              " 63,\n",
              " 64,\n",
              " 65,\n",
              " 66,\n",
              " 67,\n",
              " 68,\n",
              " 69,\n",
              " 70,\n",
              " 71,\n",
              " 72,\n",
              " 73,\n",
              " 74,\n",
              " 75,\n",
              " 76,\n",
              " 77,\n",
              " 78,\n",
              " 79,\n",
              " 80,\n",
              " 81,\n",
              " 82,\n",
              " 83,\n",
              " 84,\n",
              " 85,\n",
              " 86,\n",
              " 87,\n",
              " 88,\n",
              " 89,\n",
              " 90,\n",
              " 91,\n",
              " 92,\n",
              " 93,\n",
              " 94,\n",
              " 95,\n",
              " 96,\n",
              " 97,\n",
              " 98,\n",
              " 99,\n",
              " 100]"
            ]
          },
          "metadata": {
            "tags": []
          },
          "execution_count": 69
        }
      ]
    },
    {
      "cell_type": "code",
      "metadata": {
        "id": "E9EnlkYknliX",
        "outputId": "fd171a6b-f50e-4e9b-d095-d1c603dfdfde",
        "colab": {
          "base_uri": "https://localhost:8080/",
          "height": 861
        }
      },
      "source": [
        "#2.\n",
        "list(range(2,101,2))"
      ],
      "execution_count": 71,
      "outputs": [
        {
          "output_type": "execute_result",
          "data": {
            "text/plain": [
              "[2,\n",
              " 4,\n",
              " 6,\n",
              " 8,\n",
              " 10,\n",
              " 12,\n",
              " 14,\n",
              " 16,\n",
              " 18,\n",
              " 20,\n",
              " 22,\n",
              " 24,\n",
              " 26,\n",
              " 28,\n",
              " 30,\n",
              " 32,\n",
              " 34,\n",
              " 36,\n",
              " 38,\n",
              " 40,\n",
              " 42,\n",
              " 44,\n",
              " 46,\n",
              " 48,\n",
              " 50,\n",
              " 52,\n",
              " 54,\n",
              " 56,\n",
              " 58,\n",
              " 60,\n",
              " 62,\n",
              " 64,\n",
              " 66,\n",
              " 68,\n",
              " 70,\n",
              " 72,\n",
              " 74,\n",
              " 76,\n",
              " 78,\n",
              " 80,\n",
              " 82,\n",
              " 84,\n",
              " 86,\n",
              " 88,\n",
              " 90,\n",
              " 92,\n",
              " 94,\n",
              " 96,\n",
              " 98,\n",
              " 100]"
            ]
          },
          "metadata": {
            "tags": []
          },
          "execution_count": 71
        }
      ]
    },
    {
      "cell_type": "code",
      "metadata": {
        "id": "ovphseHaoDca",
        "outputId": "d2c13629-60e5-4c2d-c8a3-a8eb41f4b453",
        "colab": {
          "base_uri": "https://localhost:8080/",
          "height": 861
        }
      },
      "source": [
        "#3.\n",
        "list(range(1,101,2))"
      ],
      "execution_count": 72,
      "outputs": [
        {
          "output_type": "execute_result",
          "data": {
            "text/plain": [
              "[1,\n",
              " 3,\n",
              " 5,\n",
              " 7,\n",
              " 9,\n",
              " 11,\n",
              " 13,\n",
              " 15,\n",
              " 17,\n",
              " 19,\n",
              " 21,\n",
              " 23,\n",
              " 25,\n",
              " 27,\n",
              " 29,\n",
              " 31,\n",
              " 33,\n",
              " 35,\n",
              " 37,\n",
              " 39,\n",
              " 41,\n",
              " 43,\n",
              " 45,\n",
              " 47,\n",
              " 49,\n",
              " 51,\n",
              " 53,\n",
              " 55,\n",
              " 57,\n",
              " 59,\n",
              " 61,\n",
              " 63,\n",
              " 65,\n",
              " 67,\n",
              " 69,\n",
              " 71,\n",
              " 73,\n",
              " 75,\n",
              " 77,\n",
              " 79,\n",
              " 81,\n",
              " 83,\n",
              " 85,\n",
              " 87,\n",
              " 89,\n",
              " 91,\n",
              " 93,\n",
              " 95,\n",
              " 97,\n",
              " 99]"
            ]
          },
          "metadata": {
            "tags": []
          },
          "execution_count": 72
        }
      ]
    },
    {
      "cell_type": "code",
      "metadata": {
        "id": "JOWV1iUMoLG3",
        "outputId": "0f5f77ce-3dd3-4944-8dc7-db7008142e19",
        "colab": {
          "base_uri": "https://localhost:8080/",
          "height": 1000
        }
      },
      "source": [
        "#4.\n",
        "list(range(-1,-100,-1))"
      ],
      "execution_count": 75,
      "outputs": [
        {
          "output_type": "execute_result",
          "data": {
            "text/plain": [
              "[-1,\n",
              " -2,\n",
              " -3,\n",
              " -4,\n",
              " -5,\n",
              " -6,\n",
              " -7,\n",
              " -8,\n",
              " -9,\n",
              " -10,\n",
              " -11,\n",
              " -12,\n",
              " -13,\n",
              " -14,\n",
              " -15,\n",
              " -16,\n",
              " -17,\n",
              " -18,\n",
              " -19,\n",
              " -20,\n",
              " -21,\n",
              " -22,\n",
              " -23,\n",
              " -24,\n",
              " -25,\n",
              " -26,\n",
              " -27,\n",
              " -28,\n",
              " -29,\n",
              " -30,\n",
              " -31,\n",
              " -32,\n",
              " -33,\n",
              " -34,\n",
              " -35,\n",
              " -36,\n",
              " -37,\n",
              " -38,\n",
              " -39,\n",
              " -40,\n",
              " -41,\n",
              " -42,\n",
              " -43,\n",
              " -44,\n",
              " -45,\n",
              " -46,\n",
              " -47,\n",
              " -48,\n",
              " -49,\n",
              " -50,\n",
              " -51,\n",
              " -52,\n",
              " -53,\n",
              " -54,\n",
              " -55,\n",
              " -56,\n",
              " -57,\n",
              " -58,\n",
              " -59,\n",
              " -60,\n",
              " -61,\n",
              " -62,\n",
              " -63,\n",
              " -64,\n",
              " -65,\n",
              " -66,\n",
              " -67,\n",
              " -68,\n",
              " -69,\n",
              " -70,\n",
              " -71,\n",
              " -72,\n",
              " -73,\n",
              " -74,\n",
              " -75,\n",
              " -76,\n",
              " -77,\n",
              " -78,\n",
              " -79,\n",
              " -80,\n",
              " -81,\n",
              " -82,\n",
              " -83,\n",
              " -84,\n",
              " -85,\n",
              " -86,\n",
              " -87,\n",
              " -88,\n",
              " -89,\n",
              " -90,\n",
              " -91,\n",
              " -92,\n",
              " -93,\n",
              " -94,\n",
              " -95,\n",
              " -96,\n",
              " -97,\n",
              " -98,\n",
              " -99]"
            ]
          },
          "metadata": {
            "tags": []
          },
          "execution_count": 75
        }
      ]
    },
    {
      "cell_type": "markdown",
      "metadata": {
        "id": "sl75GdSeoo9a"
      },
      "source": [
        "for_in_range_test1.py"
      ]
    },
    {
      "cell_type": "code",
      "metadata": {
        "id": "gH5p-_DkoufM",
        "outputId": "99be5036-9979-41d5-cec1-5f56d359cf73",
        "colab": {
          "base_uri": "https://localhost:8080/",
          "height": 101
        }
      },
      "source": [
        "for i in range(5) :\n",
        "  print(i)"
      ],
      "execution_count": 76,
      "outputs": [
        {
          "output_type": "stream",
          "text": [
            "0\n",
            "1\n",
            "2\n",
            "3\n",
            "4\n"
          ],
          "name": "stdout"
        }
      ]
    },
    {
      "cell_type": "markdown",
      "metadata": {
        "id": "6m81Qofco5YN"
      },
      "source": [
        "for_in_range_test2.py"
      ]
    },
    {
      "cell_type": "code",
      "metadata": {
        "id": "WqPg7FbGoyNV",
        "outputId": "8c2d7144-c236-4a24-d205-a7d406f06212",
        "colab": {
          "base_uri": "https://localhost:8080/",
          "height": 34
        }
      },
      "source": [
        "for i in range(5) :\n",
        "  print(i,end=' ')   #끝문자를 '\\n'에서 ' '으로 변경\n",
        "\n",
        "for i in range(0,5) :\n",
        "  print(i, end=' ')"
      ],
      "execution_count": 80,
      "outputs": [
        {
          "output_type": "stream",
          "text": [
            "0 1 2 3 4 0 1 2 3 4 "
          ],
          "name": "stdout"
        }
      ]
    },
    {
      "cell_type": "markdown",
      "metadata": {
        "id": "RXwUVONcpkLU"
      },
      "source": [
        "for_in_range_test3.py"
      ]
    },
    {
      "cell_type": "code",
      "metadata": {
        "id": "czA_UEAQo-62",
        "outputId": "e5226a0c-9e3b-4229-8c34-e41dcce58b66",
        "colab": {
          "base_uri": "https://localhost:8080/",
          "height": 51
        }
      },
      "source": [
        "\n",
        "for i in range(5) :\n",
        "  print(i, end=' ')\n",
        "print()   #끝문자가 '\\n'이므로 줄 바꿈을 함.\n",
        "\n",
        "for i in range(0,5) :\n",
        "  print(i,end=' ')\n",
        "print()"
      ],
      "execution_count": 88,
      "outputs": [
        {
          "output_type": "stream",
          "text": [
            "0 1 2 3 4 \n",
            "0 1 2 3 4 \n"
          ],
          "name": "stdout"
        }
      ]
    },
    {
      "cell_type": "markdown",
      "metadata": {
        "id": "PFQ-sL38rf1P"
      },
      "source": [
        "for_in_range_test4.py"
      ]
    },
    {
      "cell_type": "code",
      "metadata": {
        "id": "aPV5y97bqvS1",
        "outputId": "d98923aa-1b1d-4a13-e08b-931757730d24",
        "colab": {
          "base_uri": "https://localhost:8080/",
          "height": 68
        }
      },
      "source": [
        "#표현식 1\n",
        "for i in range(2,5) :\n",
        "  print(i, end=' ')\n",
        "print()\n",
        "\n",
        "#표현식2\n",
        "for i in range(0,10,2) :\n",
        "  print(i, end=' ')\n",
        "print()\n",
        "\n",
        "#표현식3\n",
        "for i in range(-2,-10,-2) :\n",
        "  print(i, end=' ')"
      ],
      "execution_count": 90,
      "outputs": [
        {
          "output_type": "stream",
          "text": [
            "2 3 4 \n",
            "0 2 4 6 8 \n",
            "-2 -4 -6 -8 "
          ],
          "name": "stdout"
        }
      ]
    },
    {
      "cell_type": "markdown",
      "metadata": {
        "id": "uTxBy2vQsE-z"
      },
      "source": [
        "for_sum_ex1.py"
      ]
    },
    {
      "cell_type": "code",
      "metadata": {
        "id": "-K6937Hhr3fy",
        "outputId": "55d3e508-e9fe-49aa-ed4b-8fbc470c43e6",
        "colab": {
          "base_uri": "https://localhost:8080/",
          "height": 372
        }
      },
      "source": [
        "s=0\n",
        "for i in range(1,11) :\n",
        "  s=s+i\n",
        "  print('i =',i)\n",
        "  print('sum =',s)\n",
        "\n",
        "print('1에서 10까지의 합:',s)"
      ],
      "execution_count": 100,
      "outputs": [
        {
          "output_type": "stream",
          "text": [
            "i = 1\n",
            "sum = 1\n",
            "i = 2\n",
            "sum = 3\n",
            "i = 3\n",
            "sum = 6\n",
            "i = 4\n",
            "sum = 10\n",
            "i = 5\n",
            "sum = 15\n",
            "i = 6\n",
            "sum = 21\n",
            "i = 7\n",
            "sum = 28\n",
            "i = 8\n",
            "sum = 36\n",
            "i = 9\n",
            "sum = 45\n",
            "i = 10\n",
            "sum = 55\n",
            "1에서 10까지의 합: 55\n"
          ],
          "name": "stdout"
        }
      ]
    },
    {
      "cell_type": "markdown",
      "metadata": {
        "id": "ZbVVoCGUtwfF"
      },
      "source": [
        "for_sum_ex2.py"
      ]
    },
    {
      "cell_type": "code",
      "metadata": {
        "id": "KQOlIIDHtT5L",
        "outputId": "298e0c3d-a2bb-4810-d83e-9ca8ba23ebb8",
        "colab": {
          "base_uri": "https://localhost:8080/",
          "height": 203
        }
      },
      "source": [
        "s=0\n",
        "for i in range(1,11) :\n",
        "  s+=i\n",
        "  print('i={}, s={}'.format(i,s))\n",
        "\n",
        "print('1에서 10까지의 합: ',s)"
      ],
      "execution_count": 101,
      "outputs": [
        {
          "output_type": "stream",
          "text": [
            "i=1, s=1\n",
            "i=2, s=3\n",
            "i=3, s=6\n",
            "i=4, s=10\n",
            "i=5, s=15\n",
            "i=6, s=21\n",
            "i=7, s=28\n",
            "i=8, s=36\n",
            "i=9, s=45\n",
            "i=10, s=55\n",
            "1에서 10까지의 합:  55\n"
          ],
          "name": "stdout"
        }
      ]
    },
    {
      "cell_type": "markdown",
      "metadata": {
        "id": "fu7Mwa0aulNI"
      },
      "source": [
        "LAB 3-8 : 누적 덧셈의 응용"
      ]
    },
    {
      "cell_type": "code",
      "metadata": {
        "id": "ClPK5Vy8t47L",
        "outputId": "e0ae9543-24da-4b00-9caa-4a67f71a5d06",
        "colab": {
          "base_uri": "https://localhost:8080/",
          "height": 34
        }
      },
      "source": [
        "#1.\n",
        "s=0\n",
        "for i in range(1, 101, 1) :\n",
        "  s+=i\n",
        "print('1에서 100까지의 합 :', s)"
      ],
      "execution_count": 103,
      "outputs": [
        {
          "output_type": "stream",
          "text": [
            "1에서 100까지의 합 : 5050\n"
          ],
          "name": "stdout"
        }
      ]
    },
    {
      "cell_type": "code",
      "metadata": {
        "id": "WDcLXQOxu6NG",
        "outputId": "f59f6019-a25e-4504-a083-b207fe603162",
        "colab": {
          "base_uri": "https://localhost:8080/",
          "height": 34
        }
      },
      "source": [
        "#2.\n",
        "s=0\n",
        "for i in range(0,101,2) :\n",
        "  s+=i\n",
        "print('1에서 100까지 짝수의 합 :', s)"
      ],
      "execution_count": 106,
      "outputs": [
        {
          "output_type": "stream",
          "text": [
            "1에서 100까지 짝수의 합 : 2550\n"
          ],
          "name": "stdout"
        }
      ]
    },
    {
      "cell_type": "code",
      "metadata": {
        "id": "5br3x5mLvND7",
        "outputId": "c5441acd-a37f-4125-8239-98d64abae8e6",
        "colab": {
          "base_uri": "https://localhost:8080/",
          "height": 34
        }
      },
      "source": [
        "#3.\n",
        "s=0\n",
        "for i in range(1, 101, 2) :\n",
        "  s+=i\n",
        "print('1에서 100까지 홀수의 합 :', s)"
      ],
      "execution_count": 107,
      "outputs": [
        {
          "output_type": "stream",
          "text": [
            "1에서 100까지 홀수의 합 : 2500\n"
          ],
          "name": "stdout"
        }
      ]
    },
    {
      "cell_type": "markdown",
      "metadata": {
        "id": "tt1xCWTzvtFB"
      },
      "source": [
        "for_sum_input1.py"
      ]
    },
    {
      "cell_type": "code",
      "metadata": {
        "id": "yOuYcV8VvaB2",
        "outputId": "a0e697f3-c8a8-4718-b4fa-7bcd0f763188",
        "colab": {
          "base_uri": "https://localhost:8080/",
          "height": 51
        }
      },
      "source": [
        "n=int(input('합계를 구할 수를 입력하세요 : '))\n",
        "s=0\n",
        "\n",
        "for i in range(0,n) :\n",
        "  s=s+(i+1)\n",
        "\n",
        "print('1부터 {}까지의 합은 {}'.format(n,s))"
      ],
      "execution_count": 108,
      "outputs": [
        {
          "output_type": "stream",
          "text": [
            "합계를 구할 수를 입력하세요 : 100\n",
            "1부터 100까지의 합은 5050\n"
          ],
          "name": "stdout"
        }
      ]
    },
    {
      "cell_type": "markdown",
      "metadata": {
        "id": "zF-ZnJffwRaA"
      },
      "source": [
        "for_sum_input2.py"
      ]
    },
    {
      "cell_type": "code",
      "metadata": {
        "id": "vEX9xJz6wLSz",
        "outputId": "72169cce-6ee2-4cd8-a9ba-be2d2028081c",
        "colab": {
          "base_uri": "https://localhost:8080/",
          "height": 51
        }
      },
      "source": [
        "n=int(input('합계를 구할 수를 입력하세요 : '))\n",
        "s=0\n",
        "\n",
        "for i in range(1,n+1) :\n",
        "  s=s+i\n",
        "\n",
        "print('1부터 {}까지의 합은 {}'.format(n,s))"
      ],
      "execution_count": 110,
      "outputs": [
        {
          "output_type": "stream",
          "text": [
            "합계를 구할 수를 입력하세요 : 100\n",
            "1부터 100까지의 합은 5050\n"
          ],
          "name": "stdout"
        }
      ]
    },
    {
      "cell_type": "markdown",
      "metadata": {
        "id": "nG39hRItxaIi"
      },
      "source": [
        "for_factorial.py"
      ]
    },
    {
      "cell_type": "code",
      "metadata": {
        "id": "5U8VgzomxEVT",
        "outputId": "bb80dc8f-0352-42d1-fc74-e4431512a616",
        "colab": {
          "base_uri": "https://localhost:8080/",
          "height": 51
        }
      },
      "source": [
        "n=int(input('수를 입력하세요 : '))\n",
        "fact=1\n",
        "for i in range(1,n+1) :\n",
        "  fact *= i\n",
        "\n",
        "print('{}! = {}'.format(n,fact))"
      ],
      "execution_count": 114,
      "outputs": [
        {
          "output_type": "stream",
          "text": [
            "수를 입력하세요 : 5\n",
            "5! = 120\n"
          ],
          "name": "stdout"
        }
      ]
    },
    {
      "cell_type": "markdown",
      "metadata": {
        "id": "EVNYJFdQyvER"
      },
      "source": [
        "for_in_numbers.py"
      ]
    },
    {
      "cell_type": "code",
      "metadata": {
        "id": "hXlgrhBIxjLm",
        "outputId": "fbe450cd-0053-4100-bcf7-a1251e5b9bc4",
        "colab": {
          "base_uri": "https://localhost:8080/",
          "height": 34
        }
      },
      "source": [
        "numbers = [11,22,33,44,55,66]\n",
        "\n",
        "for n in numbers :\n",
        "  print(n,end=' ')"
      ],
      "execution_count": 115,
      "outputs": [
        {
          "output_type": "stream",
          "text": [
            "11 22 33 44 55 66 "
          ],
          "name": "stdout"
        }
      ]
    },
    {
      "cell_type": "markdown",
      "metadata": {
        "id": "SpeZYYkHzYzw"
      },
      "source": [
        "for_in_f_numbers.py"
      ]
    },
    {
      "cell_type": "code",
      "metadata": {
        "id": "vLi7tbnhzTfF",
        "outputId": "f541f8d8-3e6d-4a68-f612-3424cc0ae05b",
        "colab": {
          "base_uri": "https://localhost:8080/",
          "height": 34
        }
      },
      "source": [
        "numbers = [1.1,2.5,3.7,5.6,9.2,11.3,6.8]\n",
        "\n",
        "for n in numbers :\n",
        "  print(n,end=' ')"
      ],
      "execution_count": 116,
      "outputs": [
        {
          "output_type": "stream",
          "text": [
            "1.1 2.5 3.7 5.6 9.2 11.3 6.8 "
          ],
          "name": "stdout"
        }
      ]
    },
    {
      "cell_type": "markdown",
      "metadata": {
        "id": "oBEdIsO4zpzc"
      },
      "source": [
        "for_in_str_list.py"
      ]
    },
    {
      "cell_type": "code",
      "metadata": {
        "id": "HB4j0zJ5zhZM",
        "outputId": "c96a8a5c-39fe-40f5-8945-359022049271",
        "colab": {
          "base_uri": "https://localhost:8080/",
          "height": 34
        }
      },
      "source": [
        "summer_fruits = ['수박', '참외', '체리', '포도']\n",
        "\n",
        "for fruit in summer_fruits :\n",
        "  print(fruit, end=' ')"
      ],
      "execution_count": 117,
      "outputs": [
        {
          "output_type": "stream",
          "text": [
            "수박 참외 체리 포도 "
          ],
          "name": "stdout"
        }
      ]
    },
    {
      "cell_type": "markdown",
      "metadata": {
        "id": "Q9xysiVDz7tr"
      },
      "source": [
        "for_sum1.py"
      ]
    },
    {
      "cell_type": "code",
      "metadata": {
        "id": "1GJVsBbpz4qH",
        "outputId": "d0de85d5-91f9-49b1-f73a-8490e926b4c9",
        "colab": {
          "base_uri": "https://localhost:8080/",
          "height": 34
        }
      },
      "source": [
        "numbers = [10, 20, 30, 40, 50]\n",
        "s=0\n",
        "for n in numbers :\n",
        "  s+=n\n",
        "print('리스트 항목 값의 합 :', s)"
      ],
      "execution_count": 119,
      "outputs": [
        {
          "output_type": "stream",
          "text": [
            "리스트 항목 값의 합 : 150\n"
          ],
          "name": "stdout"
        }
      ]
    },
    {
      "cell_type": "markdown",
      "metadata": {
        "id": "XVT7ldwj0UjK"
      },
      "source": [
        "for_sum2.py"
      ]
    },
    {
      "cell_type": "code",
      "metadata": {
        "id": "G_3PhwnT0Hjd",
        "outputId": "f0f86ac0-ca44-4b6d-a34c-d684db64aaca",
        "colab": {
          "base_uri": "https://localhost:8080/",
          "height": 34
        }
      },
      "source": [
        "numbers = [10, 20, 30, 40, 50]\n",
        "\n",
        "print('리스트 항목 값의 합 :', sum(numbers))   #sum()함수 사용"
      ],
      "execution_count": 120,
      "outputs": [
        {
          "output_type": "stream",
          "text": [
            "리스트 항목 값의 합 : 150\n"
          ],
          "name": "stdout"
        }
      ]
    },
    {
      "cell_type": "markdown",
      "metadata": {
        "id": "WQJtovrz0luG"
      },
      "source": [
        "대화창 실습 : 대화형 모드를 통한 1에서 10까지의 합"
      ]
    },
    {
      "cell_type": "code",
      "metadata": {
        "id": "gqXVPSe70hV_",
        "outputId": "9351b805-8bad-45ff-c5e3-7e26f42976e5",
        "colab": {
          "base_uri": "https://localhost:8080/",
          "height": 34
        }
      },
      "source": [
        "print('1에서 100까지의 합 :', sum(range(1,101)))"
      ],
      "execution_count": 122,
      "outputs": [
        {
          "output_type": "stream",
          "text": [
            "1에서 100까지의 합 : 5050\n"
          ],
          "name": "stdout"
        }
      ]
    },
    {
      "cell_type": "markdown",
      "metadata": {
        "id": "-x7j_Nnh1Hqm"
      },
      "source": [
        "대화창 실습 : 대화형 모드를 통한 str 자료형의 리스트화"
      ]
    },
    {
      "cell_type": "code",
      "metadata": {
        "id": "qqmsRz1V0k0i",
        "outputId": "f0ee3003-6eef-459b-8c55-2392c91be644",
        "colab": {
          "base_uri": "https://localhost:8080/",
          "height": 51
        }
      },
      "source": [
        "st = 'Hello'\n",
        "print(st)\n",
        "print(list(st))"
      ],
      "execution_count": 125,
      "outputs": [
        {
          "output_type": "stream",
          "text": [
            "Hello\n",
            "['H', 'e', 'l', 'l', 'o']\n"
          ],
          "name": "stdout"
        }
      ]
    },
    {
      "cell_type": "markdown",
      "metadata": {
        "id": "YS1bAbe91mqy"
      },
      "source": [
        "for_in_hello.py"
      ]
    },
    {
      "cell_type": "code",
      "metadata": {
        "id": "g_cCBtT11cU5",
        "outputId": "daaaa402-4b30-41b0-9211-5c5bc27bb1fe",
        "colab": {
          "base_uri": "https://localhost:8080/",
          "height": 34
        }
      },
      "source": [
        "for ch in 'Hello' :\n",
        "  print(ch, end=' ')"
      ],
      "execution_count": 126,
      "outputs": [
        {
          "output_type": "stream",
          "text": [
            "H e l l o "
          ],
          "name": "stdout"
        }
      ]
    },
    {
      "cell_type": "markdown",
      "metadata": {
        "id": "bpt1Qrbq17BR"
      },
      "source": [
        "#중첩 for 루프\n",
        "double_for.py"
      ]
    },
    {
      "cell_type": "code",
      "metadata": {
        "id": "KNusRShW1sgY",
        "outputId": "767cc78c-c2cd-42e7-dbff-c9918d791969",
        "colab": {
          "base_uri": "https://localhost:8080/",
          "height": 152
        }
      },
      "source": [
        "#구구단 표\n",
        "\n",
        "for i in range(2,10) :\n",
        "  for j in range(1,10) :\n",
        "    print('{}*{}={:2d}'.format(i,j,i*j), end=' ')\n",
        "  print()"
      ],
      "execution_count": 136,
      "outputs": [
        {
          "output_type": "stream",
          "text": [
            "2*1= 2 2*2= 4 2*3= 6 2*4= 8 2*5=10 2*6=12 2*7=14 2*8=16 2*9=18 \n",
            "3*1= 3 3*2= 6 3*3= 9 3*4=12 3*5=15 3*6=18 3*7=21 3*8=24 3*9=27 \n",
            "4*1= 4 4*2= 8 4*3=12 4*4=16 4*5=20 4*6=24 4*7=28 4*8=32 4*9=36 \n",
            "5*1= 5 5*2=10 5*3=15 5*4=20 5*5=25 5*6=30 5*7=35 5*8=40 5*9=45 \n",
            "6*1= 6 6*2=12 6*3=18 6*4=24 6*5=30 6*6=36 6*7=42 6*8=48 6*9=54 \n",
            "7*1= 7 7*2=14 7*3=21 7*4=28 7*5=35 7*6=42 7*7=49 7*8=56 7*9=63 \n",
            "8*1= 8 8*2=16 8*3=24 8*4=32 8*5=40 8*6=48 8*7=56 8*8=64 8*9=72 \n",
            "9*1= 9 9*2=18 9*3=27 9*4=36 9*5=45 9*6=54 9*7=63 9*8=72 9*9=81 \n"
          ],
          "name": "stdout"
        }
      ]
    },
    {
      "cell_type": "markdown",
      "metadata": {
        "id": "PmcSHb-h36Rf"
      },
      "source": [
        "double_for_pattern.py"
      ]
    },
    {
      "cell_type": "code",
      "metadata": {
        "id": "Onp5AOEY2oS2",
        "outputId": "d39f0e5b-fee5-4a45-8526-e045ef36b814",
        "colab": {
          "base_uri": "https://localhost:8080/",
          "height": 135
        }
      },
      "source": [
        "n=7\n",
        "\n",
        "for i in range(n) :\n",
        "  st=''\n",
        "  for j in range(i) :\n",
        "    st=st+' '   #공백을 i개 추가함\n",
        "  print(st+'#')"
      ],
      "execution_count": 138,
      "outputs": [
        {
          "output_type": "stream",
          "text": [
            "#\n",
            " #\n",
            "  #\n",
            "   #\n",
            "    #\n",
            "     #\n",
            "      #\n"
          ],
          "name": "stdout"
        }
      ]
    },
    {
      "cell_type": "markdown",
      "metadata": {
        "id": "OXiV96-k5o0Q"
      },
      "source": [
        "for_pattern.py"
      ]
    },
    {
      "cell_type": "code",
      "metadata": {
        "id": "Xujs8eDr5ali",
        "outputId": "b0f08e74-2aa8-49e0-91e6-c2723868030f",
        "colab": {
          "base_uri": "https://localhost:8080/",
          "height": 135
        }
      },
      "source": [
        "n=7\n",
        "\n",
        "for i in range(n) :\n",
        "  print(' '*i + '#')"
      ],
      "execution_count": 143,
      "outputs": [
        {
          "output_type": "stream",
          "text": [
            "#\n",
            " #\n",
            "  #\n",
            "   #\n",
            "    #\n",
            "     #\n",
            "      #\n"
          ],
          "name": "stdout"
        }
      ]
    },
    {
      "cell_type": "markdown",
      "metadata": {
        "id": "7SdWxjeW6ihQ"
      },
      "source": [
        "LAB 3-9 : 패턴 출력 응용"
      ]
    },
    {
      "cell_type": "code",
      "metadata": {
        "id": "a1S2Vj9t52SS",
        "outputId": "800f7e1a-b729-4e0b-c009-36d0ea1e885e",
        "colab": {
          "base_uri": "https://localhost:8080/",
          "height": 135
        }
      },
      "source": [
        "#1.\n",
        "\n",
        "n=7\n",
        "for i in range(n-1,-1,-1) :\n",
        "  st=''\n",
        "  for j in range(i) :\n",
        "    st=st+' '\n",
        "  print(st+'#')"
      ],
      "execution_count": 148,
      "outputs": [
        {
          "output_type": "stream",
          "text": [
            "      #\n",
            "     #\n",
            "    #\n",
            "   #\n",
            "  #\n",
            " #\n",
            "#\n"
          ],
          "name": "stdout"
        }
      ]
    },
    {
      "cell_type": "markdown",
      "metadata": {
        "id": "3aiJwZ_J8Q01"
      },
      "source": [
        "pattern_test1.py"
      ]
    },
    {
      "cell_type": "code",
      "metadata": {
        "id": "R0yURMRh63SZ",
        "outputId": "b3daefc1-846a-425e-8751-f13a091bf04e",
        "colab": {
          "base_uri": "https://localhost:8080/",
          "height": 34
        }
      },
      "source": [
        "n=5\n",
        "for i in range(n) :\n",
        "  print(n-(i+1), end=' ')"
      ],
      "execution_count": 149,
      "outputs": [
        {
          "output_type": "stream",
          "text": [
            "4 3 2 1 0 "
          ],
          "name": "stdout"
        }
      ]
    },
    {
      "cell_type": "markdown",
      "metadata": {
        "id": "J0DOQZvWFlji"
      },
      "source": [
        "pattern_test2.py"
      ]
    },
    {
      "cell_type": "code",
      "metadata": {
        "id": "5aA0_PzV8tyX",
        "outputId": "dd09faed-0ee4-4d86-ec01-57c985e0a1d2",
        "colab": {
          "base_uri": "https://localhost:8080/",
          "height": 34
        }
      },
      "source": [
        "n=5\n",
        "for i in range(n) :\n",
        "  print(2*i+1, end=' ')"
      ],
      "execution_count": 150,
      "outputs": [
        {
          "output_type": "stream",
          "text": [
            "1 3 5 7 9 "
          ],
          "name": "stdout"
        }
      ]
    },
    {
      "cell_type": "markdown",
      "metadata": {
        "id": "iwmyaxOiGD-h"
      },
      "source": [
        "triangle_pattern.py"
      ]
    },
    {
      "cell_type": "code",
      "metadata": {
        "id": "8goep6cVFyA7",
        "outputId": "10ec28a0-f0a9-4a76-bbfb-38de0729e040",
        "colab": {
          "base_uri": "https://localhost:8080/",
          "height": 101
        }
      },
      "source": [
        "#1 (안 보고 작성)\n",
        "n=5\n",
        "for i in range(n) :\n",
        "  st=''\n",
        "  plus = ''\n",
        "  for j in range(n-i-1) :   #공백 추가\n",
        "    st=st + ' '\n",
        "  for j in range(i*2+1) :   # '+' 추가\n",
        "    plus += '+'\n",
        "  print(st,plus,sep='')"
      ],
      "execution_count": 153,
      "outputs": [
        {
          "output_type": "stream",
          "text": [
            "    +\n",
            "   +++\n",
            "  +++++\n",
            " +++++++\n",
            "+++++++++\n"
          ],
          "name": "stdout"
        }
      ]
    },
    {
      "cell_type": "code",
      "metadata": {
        "id": "A9cHYHltHING",
        "outputId": "02e78189-78a1-45aa-c893-473c6dd72e9b",
        "colab": {
          "base_uri": "https://localhost:8080/",
          "height": 101
        }
      },
      "source": [
        "#2 \n",
        "n=5\n",
        "for i in range(n) :\n",
        "  for j in range(n-i-1) :   #공백을 출력함\n",
        "    print(' ', end='')\n",
        "  for j in range(2*i+1) :   #'+'를 출력함\n",
        "    print('+', end='')\n",
        "  print()"
      ],
      "execution_count": 154,
      "outputs": [
        {
          "output_type": "stream",
          "text": [
            "    +\n",
            "   +++\n",
            "  +++++\n",
            " +++++++\n",
            "+++++++++\n"
          ],
          "name": "stdout"
        }
      ]
    },
    {
      "cell_type": "code",
      "metadata": {
        "id": "UMJjui0iIezJ",
        "outputId": "cbf6dd7d-96cd-418f-dbf7-ee6ec4590670",
        "colab": {
          "base_uri": "https://localhost:8080/",
          "height": 101
        }
      },
      "source": [
        "#3\n",
        "n=5\n",
        "for i in range(n) :\n",
        "  print(' '*(n-i-1), end='')\n",
        "  print('+'*(2*i+1))"
      ],
      "execution_count": 158,
      "outputs": [
        {
          "output_type": "stream",
          "text": [
            "    +\n",
            "   +++\n",
            "  +++++\n",
            " +++++++\n",
            "+++++++++\n"
          ],
          "name": "stdout"
        }
      ]
    },
    {
      "cell_type": "markdown",
      "metadata": {
        "id": "fRgVz9g-KDCB"
      },
      "source": [
        "소수 구하기"
      ]
    },
    {
      "cell_type": "code",
      "metadata": {
        "id": "fB1dGtayJl2V",
        "outputId": "13d9ebb6-7693-445f-bb68-6b19f1cf87ed",
        "colab": {
          "base_uri": "https://localhost:8080/",
          "height": 51
        }
      },
      "source": [
        "n = int(input('수를 입력하세요 : '))\n",
        "is_prime = True\n",
        "for num in range(2,n) :\n",
        "  if n % num == 0 :\n",
        "    is_prime = False\n",
        "print(n,'is prime :',is_prime)"
      ],
      "execution_count": 161,
      "outputs": [
        {
          "output_type": "stream",
          "text": [
            "수를 입력하세요 : 11\n",
            "11 is prime : True\n"
          ],
          "name": "stdout"
        }
      ]
    },
    {
      "cell_type": "markdown",
      "metadata": {
        "id": "ADuLN0dhM9wC"
      },
      "source": [
        "get_primes.py"
      ]
    },
    {
      "cell_type": "code",
      "metadata": {
        "id": "capIqqqINBNc",
        "outputId": "eeab2235-4879-4663-c9dc-89b1aa42f7c2",
        "colab": {
          "base_uri": "https://localhost:8080/",
          "height": 34
        }
      },
      "source": [
        "primes = []\n",
        "for n in range(2,101) :\n",
        "  is_prime = True\n",
        "\n",
        "  for num in range(2,n) :\n",
        "    if n% num == 0 :\n",
        "      is_prime = False\n",
        "\n",
        "  if is_prime :\n",
        "    primes.append(n)   # primes 리스트에 n을 추가\n",
        "\n",
        "print(primes)"
      ],
      "execution_count": 166,
      "outputs": [
        {
          "output_type": "stream",
          "text": [
            "[2, 3, 5, 7, 11, 13, 17, 19, 23, 29, 31, 37, 41, 43, 47, 53, 59, 61, 67, 71, 73, 79, 83, 89, 97]\n"
          ],
          "name": "stdout"
        }
      ]
    },
    {
      "cell_type": "markdown",
      "metadata": {
        "id": "ctLeAl_POkKw"
      },
      "source": [
        "#while 반복문\n",
        "print_welcome_with_while.py"
      ]
    },
    {
      "cell_type": "code",
      "metadata": {
        "id": "NIz1W8lFNlQx",
        "outputId": "b1d9cf0f-be90-4f92-d163-e51ca949a3c5",
        "colab": {
          "base_uri": "https://localhost:8080/",
          "height": 101
        }
      },
      "source": [
        "i=0\n",
        "while i<5 :\n",
        "  print('Welcome to everyone!!')\n",
        "  i+=1"
      ],
      "execution_count": 167,
      "outputs": [
        {
          "output_type": "stream",
          "text": [
            "Welcome to everyone!!\n",
            "Welcome to everyone!!\n",
            "Welcome to everyone!!\n",
            "Welcome to everyone!!\n",
            "Welcome to everyone!!\n"
          ],
          "name": "stdout"
        }
      ]
    },
    {
      "cell_type": "markdown",
      "metadata": {
        "id": "wg8RMC98PahQ"
      },
      "source": [
        "while_sum_input.py"
      ]
    },
    {
      "cell_type": "code",
      "metadata": {
        "id": "W1Lw1bbSPUJn",
        "outputId": "0f4546f8-db8a-47a6-bd47-56683b309ff5",
        "colab": {
          "base_uri": "https://localhost:8080/",
          "height": 51
        }
      },
      "source": [
        "n = int(input('합계를 구할 수를 입력하세요 : '))\n",
        "s = 0\n",
        "i = 1\n",
        "while i <= n :\n",
        "  s += i\n",
        "  i += 1\n",
        "print('1부터 {}까지의 합은 {}'.format(n,s))"
      ],
      "execution_count": 168,
      "outputs": [
        {
          "output_type": "stream",
          "text": [
            "합계를 구할 수를 입력하세요 : 100\n",
            "1부터 100까지의 합은 5050\n"
          ],
          "name": "stdout"
        }
      ]
    },
    {
      "cell_type": "markdown",
      "metadata": {
        "id": "NilZojA4P-vZ"
      },
      "source": [
        "rsp_input.py"
      ]
    },
    {
      "cell_type": "code",
      "metadata": {
        "id": "kQ0r3EhePyXF",
        "outputId": "8585efd3-8822-4cd4-b1bd-4d91c7f17d7a",
        "colab": {
          "base_uri": "https://localhost:8080/",
          "height": 101
        }
      },
      "source": [
        "selected = None\n",
        "while selected not in ['가위','바위','보'] :\n",
        "  selected = input('가위, 바위, 보 중에서 선택하세요> ')\n",
        "print('선택한 값은:', selected)"
      ],
      "execution_count": 169,
      "outputs": [
        {
          "output_type": "stream",
          "text": [
            "가위, 바위, 보 중에서 선택하세요> 묵\n",
            "가위, 바위, 보 중에서 선택하세요> 찌\n",
            "가위, 바위, 보 중에서 선택하세요> 빠\n",
            "가위, 바위, 보 중에서 선택하세요> 가위\n",
            "선택한 값은: 가위\n"
          ],
          "name": "stdout"
        }
      ]
    },
    {
      "cell_type": "markdown",
      "metadata": {
        "id": "80xgrY2fQkI1"
      },
      "source": [
        "for_sum_input2_1.py"
      ]
    },
    {
      "cell_type": "code",
      "metadata": {
        "id": "e3DsY-wMQc4V",
        "outputId": "f92761e8-aefa-4682-c0b8-a8b6b00b8637",
        "colab": {
          "base_uri": "https://localhost:8080/",
          "height": 84
        }
      },
      "source": [
        "n=-1\n",
        "while n <= 0 :   #양수가 입력될 때까지 input() 문을 반복 수행함\n",
        "  n = int(input('합계를 구할 양의 정수를 입력하세요 : '))\n",
        "s=0\n",
        "for i in range(1,n+1) :\n",
        "  s +=i\n",
        "print('1부터 {}까지의 합은 {}'.format(n,s))"
      ],
      "execution_count": 171,
      "outputs": [
        {
          "output_type": "stream",
          "text": [
            "합계를 구할 양의 정수를 입력하세요 : -10\n",
            "합계를 구할 양의 정수를 입력하세요 : 0\n",
            "합계를 구할 양의 정수를 입력하세요 : 10\n",
            "1부터 10까지의 합은 55\n"
          ],
          "name": "stdout"
        }
      ]
    },
    {
      "cell_type": "markdown",
      "metadata": {
        "id": "7VoAxEGDRPQj"
      },
      "source": [
        "#break와 continue\n",
        "skip_vowel_break.py"
      ]
    },
    {
      "cell_type": "code",
      "metadata": {
        "id": "XUHqH5h3RC2V",
        "outputId": "e481d4b2-c833-4109-edfd-3c0149fdd5be",
        "colab": {
          "base_uri": "https://localhost:8080/",
          "height": 68
        }
      },
      "source": [
        "st = 'Programming'\n",
        "\n",
        "for ch in st :\n",
        "  if ch in ['a','e','i','o','u'] :\n",
        "    break    # 모음일 경우 반복문을 종료한다.\n",
        "  print(ch)\n",
        "print('The end')"
      ],
      "execution_count": 172,
      "outputs": [
        {
          "output_type": "stream",
          "text": [
            "P\n",
            "r\n",
            "The end\n"
          ],
          "name": "stdout"
        }
      ]
    },
    {
      "cell_type": "markdown",
      "metadata": {
        "id": "SInaRkNtR0Oj"
      },
      "source": [
        "skip_vowel_break.py"
      ]
    },
    {
      "cell_type": "code",
      "metadata": {
        "id": "jX_6mJiDRrvp",
        "outputId": "8db0a153-a9ad-4c3e-83e8-e969eac792ee",
        "colab": {
          "base_uri": "https://localhost:8080/",
          "height": 169
        }
      },
      "source": [
        "st = 'Programming'\n",
        "\n",
        "for ch in st :\n",
        "  if ch in ['a','e','i','o','u'] :\n",
        "    continue   # 모음일 경우 아래 출력을 건너뛴다.\n",
        "  print(ch)\n",
        "print('The end')"
      ],
      "execution_count": 177,
      "outputs": [
        {
          "output_type": "stream",
          "text": [
            "P\n",
            "r\n",
            "g\n",
            "r\n",
            "m\n",
            "m\n",
            "n\n",
            "g\n",
            "The end\n"
          ],
          "name": "stdout"
        }
      ]
    }
  ]
}