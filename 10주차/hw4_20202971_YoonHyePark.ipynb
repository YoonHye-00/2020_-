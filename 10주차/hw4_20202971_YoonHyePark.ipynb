{
  "nbformat": 4,
  "nbformat_minor": 0,
  "metadata": {
    "colab": {
      "name": "hw4_20202971_YoonHyePark",
      "provenance": [],
      "collapsed_sections": []
    },
    "kernelspec": {
      "name": "python3",
      "display_name": "Python 3"
    }
  },
  "cells": [
    {
      "cell_type": "markdown",
      "metadata": {
        "id": "dyu64cPT-Kec"
      },
      "source": [
        "<으뜸 파이썬 연습문제>\n",
        "\n",
        "4.1 ~ 4.28"
      ]
    },
    {
      "cell_type": "code",
      "metadata": {
        "id": "BYOguf2hHH6G",
        "outputId": "4ab5f0b2-21a6-46b6-e325-d52c7f0b1bbc",
        "colab": {
          "base_uri": "https://localhost:8080/"
        }
      },
      "source": [
        "#4.1\n",
        "\n",
        "def my_greet() :\n",
        "    print('환영합니다.')\n",
        "\n",
        "my_greet()\n",
        "my_greet()"
      ],
      "execution_count": 1,
      "outputs": [
        {
          "output_type": "stream",
          "text": [
            "환영합니다.\n",
            "환영합니다.\n"
          ],
          "name": "stdout"
        }
      ]
    },
    {
      "cell_type": "code",
      "metadata": {
        "id": "iCbf8JuNHR1g",
        "outputId": "7c65c058-3384-4fba-a5fb-ca327555cb58",
        "colab": {
          "base_uri": "https://localhost:8080/"
        }
      },
      "source": [
        "#4.2\n",
        "\n",
        "def square(n) :\n",
        "    return n**2\n",
        "\n",
        "print('3의 제곱은 :', square(3))\n",
        "print('4의 제곱은 :', square(4))"
      ],
      "execution_count": 3,
      "outputs": [
        {
          "output_type": "stream",
          "text": [
            "3의 제곱은 : 9\n",
            "4의 제곱은 : 16\n"
          ],
          "name": "stdout"
        }
      ]
    },
    {
      "cell_type": "code",
      "metadata": {
        "id": "cWM2X9OBHjnO",
        "outputId": "764ea3b3-2a77-4824-db41-00da59d6ca6b",
        "colab": {
          "base_uri": "https://localhost:8080/"
        }
      },
      "source": [
        "#4.3\n",
        "\n",
        "def max2(m,n) :\n",
        "    if m >= n :\n",
        "        return m\n",
        "    else :\n",
        "        return n\n",
        "\n",
        "def min2(m,n) :\n",
        "    if m <= n :\n",
        "        return m\n",
        "    else :\n",
        "        return n\n",
        "\n",
        "print('100과 200중 큰 수는 :',max2(100,200))\n",
        "print('100과 200중 작은 수는 :', min2(100,200))"
      ],
      "execution_count": 4,
      "outputs": [
        {
          "output_type": "stream",
          "text": [
            "100과 200중 큰 수는 : 200\n",
            "100과 200중 작은 수는 : 100\n"
          ],
          "name": "stdout"
        }
      ]
    },
    {
      "cell_type": "code",
      "metadata": {
        "id": "qnrQnNwWIGGE",
        "outputId": "aca84aef-3e5e-4cf3-976a-bb9b893f4c04",
        "colab": {
          "base_uri": "https://localhost:8080/"
        }
      },
      "source": [
        "#4.4\n",
        "\n",
        "def mile2km(m) :\n",
        "    for i in range(1,m+1,1) :\n",
        "        print('{} 마일 = {} 킬로미터'.format(i,i*1.61))\n",
        "\n",
        "mile2km(5)"
      ],
      "execution_count": 5,
      "outputs": [
        {
          "output_type": "stream",
          "text": [
            "1 마일 = 1.61 킬로미터\n",
            "2 마일 = 3.22 킬로미터\n",
            "3 마일 = 4.83 킬로미터\n",
            "4 마일 = 6.44 킬로미터\n",
            "5 마일 = 8.05 킬로미터\n"
          ],
          "name": "stdout"
        }
      ]
    },
    {
      "cell_type": "code",
      "metadata": {
        "id": "WQXMxTKCIlch",
        "outputId": "a02ddc23-8447-4b45-cb0f-42573f1cadd2",
        "colab": {
          "base_uri": "https://localhost:8080/"
        }
      },
      "source": [
        "#4.5\n",
        "\n",
        "def inch2cm(inch) :\n",
        "    for i in range(1,inch+1,1) :\n",
        "        print('{} 인치 = {} 센티미터'.format(i,i*2.54))\n",
        "    \n",
        "inch2cm(5)"
      ],
      "execution_count": 7,
      "outputs": [
        {
          "output_type": "stream",
          "text": [
            "1 인치 = 2.54 센티미터\n",
            "2 인치 = 5.08 센티미터\n",
            "3 인치 = 7.62 센티미터\n",
            "4 인치 = 10.16 센티미터\n",
            "5 인치 = 12.7 센티미터\n"
          ],
          "name": "stdout"
        }
      ]
    },
    {
      "cell_type": "code",
      "metadata": {
        "id": "tbB-59T0I2w8",
        "outputId": "4600f0a7-35f0-4a52-f0a6-10a59e8da4af",
        "colab": {
          "base_uri": "https://localhost:8080/"
        }
      },
      "source": [
        "#4.6\n",
        "\n",
        "def cel2fah(cel) :\n",
        "    for i in range(10,cel+1, 10) :\n",
        "        print('섭씨 {} 도 = 화씨 {} 도'.format(i,(9/5)*i+32))\n",
        "\n",
        "cel2fah(50)"
      ],
      "execution_count": 8,
      "outputs": [
        {
          "output_type": "stream",
          "text": [
            "섭씨 10 도 = 화씨 50.0 도\n",
            "섭씨 20 도 = 화씨 68.0 도\n",
            "섭씨 30 도 = 화씨 86.0 도\n",
            "섭씨 40 도 = 화씨 104.0 도\n",
            "섭씨 50 도 = 화씨 122.0 도\n"
          ],
          "name": "stdout"
        }
      ]
    },
    {
      "cell_type": "code",
      "metadata": {
        "id": "KX-nK6zbJS3-",
        "outputId": "d1d647d6-7178-4c59-9264-33764d2d0a68",
        "colab": {
          "base_uri": "https://localhost:8080/"
        }
      },
      "source": [
        "#4.7\n",
        "\n",
        "def mean3(a,b,c) :\n",
        "    return (a+b+c)/3\n",
        "\n",
        "def max3(a,b,c) :\n",
        "    return max(a,b,c,)\n",
        "\n",
        "def min3(a,b,c) :\n",
        "    return min(a,b,c) \n",
        "\n",
        "n = [int(x) for x in input('세 수를 입력하시오 : ').split()]\n",
        "n.sort()    # 리스트를 오름차순으로 정렬\n",
        "a,b,c = tuple(n)    \n",
        "\n",
        "print('{}, {}, {}의 평균값은 {}'.format(a,b,c,mean3(a,b,c)))\n",
        "print('{}, {}, {}의 최댓값은 {}'.format(a,b,c,max3(a,b,c)))\n",
        "print('{}, {}, {}의 최솟값은 {}'.format(a,b,c,min3(a,b,c)))\n",
        "    "
      ],
      "execution_count": 10,
      "outputs": [
        {
          "output_type": "stream",
          "text": [
            "세 수를 입력하시오 : 10 30 20\n",
            "10, 20, 30의 평균값은 20.0\n",
            "10, 20, 30의 최댓값은 30\n",
            "10, 20, 30의 최솟값은 10\n"
          ],
          "name": "stdout"
        }
      ]
    },
    {
      "cell_type": "code",
      "metadata": {
        "id": "38JFIGONAD-p",
        "outputId": "9c3c3d86-6f46-497b-c65c-e42246fc204c",
        "colab": {
          "base_uri": "https://localhost:8080/"
        }
      },
      "source": [
        "#4.8\n",
        "\n",
        "def mean6(a,b,c,d,e,f) :\n",
        "    return (mean3(a,b,c)+mean3(d,e,f))*(1/2)\n",
        "\n",
        "def max6(a,b,c,d,e,f) :\n",
        "    return max(max3(a,b,c),max3(d,e,f))\n",
        "\n",
        "def min6(a,b,c,d,e,f) :\n",
        "    return min(min3(a,b,c),min3(d,e,f))\n",
        "\n",
        "a,b,c,d,e,f = map(int, input('여섯 개의 수를 입력하시오 : ').split())\n",
        "print('평균값은', mean6(a,b,c,d,e,f))\n",
        "print('최댓값은', max6(a,b,c,d,e,f))\n",
        "print('최솟값은', min6(a,b,c,d,e,f))"
      ],
      "execution_count": 14,
      "outputs": [
        {
          "output_type": "stream",
          "text": [
            "여섯 개의 수를 입력하시오 : 100 20 30 45 260 370\n",
            "평균값은 137.5\n",
            "최댓값은 370\n",
            "최솟값은 20\n"
          ],
          "name": "stdout"
        }
      ]
    },
    {
      "cell_type": "code",
      "metadata": {
        "id": "vwJix7b1ITZ4",
        "outputId": "a20293e7-b3c2-49fb-d294-eb5a8976f72f",
        "colab": {
          "base_uri": "https://localhost:8080/"
        }
      },
      "source": [
        "#4.9\n",
        "\n",
        "def mean_of_n(nums) :\n",
        "    sum1 = 0\n",
        "    for n in nums :\n",
        "        sum1 += n\n",
        "    return sum1/len(nums)\n",
        "\n",
        "def max_of_n(nums) :\n",
        "    return max(nums)\n",
        "\n",
        "def min_of_n(nums) :\n",
        "    return min(nums)\n",
        "\n",
        "nums = [int(x) for x in input('정수를 여러 개 입력하시오 : ').split()]\n",
        "\n",
        "print('평균값은 {:.1f}'.format(mean_of_n(nums)))\n",
        "print('최댓값은', max_of_n(nums))\n",
        "print('최솟값은', min_of_n(nums))"
      ],
      "execution_count": 51,
      "outputs": [
        {
          "output_type": "stream",
          "text": [
            "정수를 여러 개 입력하시오 : 3 45 32 5 7 8 4 44 5 90 17\n",
            "평균값은 23.6\n",
            "최댓값은 90\n",
            "최솟값은 3\n"
          ],
          "name": "stdout"
        }
      ]
    },
    {
      "cell_type": "code",
      "metadata": {
        "id": "mkAkLUyjUERJ",
        "outputId": "ff43af02-4ddf-4c41-cc78-09a175a11080",
        "colab": {
          "base_uri": "https://localhost:8080/"
        }
      },
      "source": [
        "#4.10\n",
        "\n",
        "x1 = int(input('x1 좌표를 입력하시오 : '))\n",
        "y1 = int(input('y1 좌표를 입력하시오 : '))\n",
        "x2 = int(input('x2 좌표를 입력하시오 : '))\n",
        "y2 = int(input('y2 좌표를 입력하시오 : '))\n",
        "\n",
        "def distance(x1,y1,x2,y2) :\n",
        "    d = ((x1-x2)**2+(y1-y2)**2)**0.5\n",
        "    return d\n",
        "print('두 점의 거리 :',distance(x1,y1,x2,y2))\n"
      ],
      "execution_count": 54,
      "outputs": [
        {
          "output_type": "stream",
          "text": [
            "x1 좌표를 입력하시오 : 0\n",
            "y1 좌표를 입력하시오 : 0\n",
            "x2 좌표를 입력하시오 : 3\n",
            "y2 좌표를 입력하시오 : 4\n",
            "두 점의 거리 : 5.0\n"
          ],
          "name": "stdout"
        }
      ]
    },
    {
      "cell_type": "code",
      "metadata": {
        "id": "L0pSKPkMZ4cI",
        "outputId": "a1fa34ea-6d51-40d0-d848-c68262a459ae",
        "colab": {
          "base_uri": "https://localhost:8080/"
        }
      },
      "source": [
        "#4.11\n",
        "\n",
        "x1 = int(input('x1 좌표를 입력하시오 : '))\n",
        "y1 = int(input('y1 좌표를 입력하시오 : '))\n",
        "x2 = int(input('x2 좌표를 입력하시오 : '))\n",
        "y2 = int(input('y2 좌표를 입력하시오 : '))\n",
        "\n",
        "def area(x1,y1,x2,y2) :\n",
        "    width = x2 - x1\n",
        "    height = y2 - y1\n",
        "    area = (0.5)*width*height\n",
        "    return area\n",
        "\n",
        "print('직각삼각형의 면적은 :',area(x1,y1,x2,y2))"
      ],
      "execution_count": 55,
      "outputs": [
        {
          "output_type": "stream",
          "text": [
            "x1 좌표를 입력하시오 : 0\n",
            "y1 좌표를 입력하시오 : 0\n",
            "x2 좌표를 입력하시오 : 3\n",
            "y2 좌표를 입력하시오 : 4\n",
            "직각삼각형의 면적은 : 6.0\n"
          ],
          "name": "stdout"
        }
      ]
    },
    {
      "cell_type": "code",
      "metadata": {
        "id": "qISPfYnfb6JA",
        "outputId": "3d4d38e1-1428-4931-b991-23c25b386bcf",
        "colab": {
          "base_uri": "https://localhost:8080/"
        }
      },
      "source": [
        "#4.12\n",
        "\n",
        "def cal_area(width, height) :\n",
        "    return width*height*0.5\n",
        "\n",
        "width = int(input('밑변을 입력하시오 : '))\n",
        "height = int(input('높이를 입력하시오 : '))\n",
        "print('삼각형의 면적 :',cal_area(width,height))"
      ],
      "execution_count": 56,
      "outputs": [
        {
          "output_type": "stream",
          "text": [
            "밑변을 입력하시오 : 20\n",
            "높이를 입력하시오 : 15\n",
            "삼각형의 면적 : 150.0\n"
          ],
          "name": "stdout"
        }
      ]
    },
    {
      "cell_type": "code",
      "metadata": {
        "id": "DQrAMpjvcjHM"
      },
      "source": [
        "#4.13\n",
        "\n",
        "def cube(s) :     # 정육면체의 부피를 구하는 함수\n",
        "    print('모서리의 길이가 {}인 정육면체의 부피 : {}'.format(s,s**3))\n",
        "  \n",
        "def rec(w,h,l) :        # 직육면체의 부피를 구하는 함수\n",
        "    print('가로, 세로, 길이가 각각 {}, {}, {}인 직육면체의 부피 : {}'.format(w,h,l,l*w*h))\n",
        "\n",
        "def cone(r,h) :         # 원뿔의 부피를 구하는 함수\n",
        "    print('반지름과 높이가 각각 {}, {}인 원뿔의 부피 : {}'.format(r,h,(1/3)*3.14*(r**2)*h))\n",
        "\n",
        "def sphere(r) :         # 구의 부피를 구하는 함수\n",
        "    print('반지름이 {}인 구의 부피 : {}'.format(r, (4/3)*3.14*r**3))\n",
        "\n",
        "def cylinder(r,h) :     # 원기둥의 부피를 구하는 함수\n",
        "    print('반지름과 높이가 각각 {}, {}인 원기둥의 부피 : {}'.format(r,h,3.14*(r**2)*h))"
      ],
      "execution_count": 72,
      "outputs": []
    },
    {
      "cell_type": "code",
      "metadata": {
        "id": "1nXFhwlwkT3S",
        "outputId": "cea04fe8-cf1d-4262-a26d-4cba83916022",
        "colab": {
          "base_uri": "https://localhost:8080/"
        }
      },
      "source": [
        "#(1)\n",
        "cube(12)\n",
        "\n",
        "#(2)\n",
        "cube(20)\n",
        "\n",
        "#(3)\n",
        "rec(3,5,6)\n",
        "\n",
        "#(4)\n",
        "cone(20,10)\n",
        "\n",
        "#(5)\n",
        "sphere(15)\n",
        "\n",
        "#(6)\n",
        "cylinder(20,10)"
      ],
      "execution_count": 73,
      "outputs": [
        {
          "output_type": "stream",
          "text": [
            "모서리의 길이가 12인 정육면체의 부피 : 1728\n",
            "모서리의 길이가 20인 정육면체의 부피 : 8000\n",
            "가로, 세로, 길이가 각각 3, 5, 6인 직육면체의 부피 : 90\n",
            "반지름과 높이가 각각 20, 10인 원뿔의 부피 : 4186.666666666666\n",
            "반지름이 15인 구의 부피 : 14130.0\n",
            "반지름과 높이가 각각 20, 10인 원기둥의 부피 : 12560.0\n"
          ],
          "name": "stdout"
        }
      ]
    },
    {
      "cell_type": "code",
      "metadata": {
        "id": "yZK-G2WSo4J6",
        "outputId": "ba182f64-cd76-45cd-aec2-33ee5f4e6971",
        "colab": {
          "base_uri": "https://localhost:8080/"
        }
      },
      "source": [
        "#4.14\n",
        "\n",
        "def sort3(num1,num2,num3) :\n",
        "    a=[num1,num2,num3]\n",
        "    a.sort()\n",
        "    print('정렬된 리스트는 다음과 같습니다. :', a[0], a[1], a[2])\n",
        "\n",
        "print('세 수를 입력하세요 :')\n",
        "num1 = int(input())\n",
        "num2 = int(input())\n",
        "num3 = int(input()) \n",
        "\n",
        "sort3(num1,num2,num3)"
      ],
      "execution_count": 76,
      "outputs": [
        {
          "output_type": "stream",
          "text": [
            "세 수를 입력하세요 :\n",
            "3\n",
            "2\n",
            "5\n",
            "정렬된 리스트는 다음과 같습니다. : 2 3 5\n"
          ],
          "name": "stdout"
        }
      ]
    },
    {
      "cell_type": "code",
      "metadata": {
        "id": "ThXpMJK9qEeC",
        "outputId": "92200d81-98f9-4de0-d4b4-c088e6d4f519",
        "colab": {
          "base_uri": "https://localhost:8080/"
        }
      },
      "source": [
        "#4.15\n",
        "\n",
        "def my_sort(*nums) :\n",
        "    a = list(nums)\n",
        "    a.sort()\n",
        "    print(a)\n",
        "\n",
        "my_sort(45, 3, 4, 56, 5)\n",
        "print()\n",
        "my_sort(9,8,7,6,5,4,3)"
      ],
      "execution_count": 81,
      "outputs": [
        {
          "output_type": "stream",
          "text": [
            "[3, 4, 5, 45, 56]\n",
            "\n",
            "[3, 4, 5, 6, 7, 8, 9]\n"
          ],
          "name": "stdout"
        }
      ]
    },
    {
      "cell_type": "code",
      "metadata": {
        "id": "FtYp8MtLrN8E",
        "outputId": "35ccf14d-1403-444b-e2c1-24a982289417",
        "colab": {
          "base_uri": "https://localhost:8080/"
        }
      },
      "source": [
        "#4.16\n",
        "\n",
        "n = [int(x) for x in input('쉼표로 구분된 정수를 여러 개 입력하시오 : ').split(',')]   # 임의의 개수만큼 정수를 리스트에 입력받음\n",
        "print('입력된 정수의 리스트 :',n)\n",
        "n.sort()\n",
        "\n",
        "print('정렬된 정수의 리스트 :',end=' ')\n",
        "for i in n :\n",
        "    print(i,end=' ')"
      ],
      "execution_count": 85,
      "outputs": [
        {
          "output_type": "stream",
          "text": [
            "쉼표로 구분된 정수를 여러 개 입력하시오 : 56,67,89,34,24,300,99\n",
            "입력된 정수의 리스트 : [56, 67, 89, 34, 24, 300, 99]\n",
            "정렬된 정수의 리스트 : 24 34 56 67 89 99 300 "
          ],
          "name": "stdout"
        }
      ]
    },
    {
      "cell_type": "code",
      "metadata": {
        "id": "Hooggh5Tsnw_",
        "outputId": "ca506359-dafe-439d-df2b-996c18941134",
        "colab": {
          "base_uri": "https://localhost:8080/"
        }
      },
      "source": [
        "#4.17\n",
        "\n",
        "def sum_range(n1,n2) :\n",
        "    sum1 = 0\n",
        "    for i in range(n1,n2+1,1) :\n",
        "        sum1 += i\n",
        "    print('{}에서 {:3}까지의 정수의 합 : {:4}'.format(n1,n2,sum1))\n",
        "\n",
        "sum_range(10,20)\n",
        "sum_range(40,100)\n",
        "\n"
      ],
      "execution_count": 88,
      "outputs": [
        {
          "output_type": "stream",
          "text": [
            "10에서  20까지의 정수의 합 :  165\n",
            "40에서 100까지의 정수의 합 : 4270\n"
          ],
          "name": "stdout"
        }
      ]
    },
    {
      "cell_type": "code",
      "metadata": {
        "id": "i9A3LYq3uJCn",
        "outputId": "e64ac59c-d79a-4f84-b98d-40849b2e153e",
        "colab": {
          "base_uri": "https://localhost:8080/"
        }
      },
      "source": [
        "#4.18\n",
        "\n",
        "def lcm(a,b) :       # a에서 b까지 정수들의 최소공배수를 구하는 함수\n",
        "    lists=[]\n",
        "    for i in range(a,b+1,1) :\n",
        "        lists.append(i)\n",
        "    \n",
        "    n=1\n",
        "    while 1 :\n",
        "        check = [] \n",
        "        for j in lists :\n",
        "           if n%j !=0 :         # n을 a에서 b까지의 정수들로 나누었을 때 나머지가 0이 아니면 빈 check 리스트에 1을 추가시킴\n",
        "               check.append(1)\n",
        "        \n",
        "        if len(check) == 0 :    # n을 a에서 b까지의 정수들로 모두 나누어봤을 때 check리스트가 여전히 비어 있으면 n은 a에서 b까지 정수들의 공배수\n",
        "            print('{}에서 {}까지의 정수들의 최소 공배수는 : {}'.format(a,b,n))\n",
        "            break\n",
        "        n += 1                  # check 리스트가 빈 리스트가 아니라면 (n+1)인 경우로 수행을 다시 시작\n",
        "\n",
        "a = int(input('범위의 시작 정수 : '))\n",
        "b = int(input('범위의 마지막 정수 : '))\n",
        "lcm(a,b)"
      ],
      "execution_count": 100,
      "outputs": [
        {
          "output_type": "stream",
          "text": [
            "범위의 시작 정수 : 3\n",
            "범위의 마지막 정수 : 5\n",
            "3에서 5까지의 정수들의 최소 공배수는 : 60\n"
          ],
          "name": "stdout"
        }
      ]
    },
    {
      "cell_type": "code",
      "metadata": {
        "id": "3hPxttFuwwLV",
        "outputId": "6dfcdcbb-7081-4b57-aef5-b3f741a12686",
        "colab": {
          "base_uri": "https://localhost:8080/"
        }
      },
      "source": [
        "#4.19\n",
        "\n",
        "def fibo(n) :\n",
        "    if n == 0 or n==1 :\n",
        "        return 1\n",
        "    \n",
        "    elif n<0 :\n",
        "        return\n",
        "\n",
        "    else :\n",
        "        return (fibo(n-1) + fibo(n-2))\n",
        "        \n",
        "\n",
        "n = int(input('fibo(n)의 n을 입력하세요 : '))\n",
        "print('fibo({}) = {}'.format(n,fibo(n)))"
      ],
      "execution_count": 119,
      "outputs": [
        {
          "output_type": "stream",
          "text": [
            "fibo(n)의 n을 입력하세요 : 4\n",
            "fibo(4) = 5\n"
          ],
          "name": "stdout"
        }
      ]
    },
    {
      "cell_type": "code",
      "metadata": {
        "id": "dej0CN7O0F89",
        "outputId": "12932d55-5451-41c7-b6f0-f2316b232563",
        "colab": {
          "base_uri": "https://localhost:8080/"
        }
      },
      "source": [
        "#4.20\n",
        "\n",
        "def fibo(n) :\n",
        "    if n == 0 or n==1 :\n",
        "        return 1\n",
        "    \n",
        "    elif n<0 :\n",
        "        return\n",
        "\n",
        "    else :\n",
        "        return (fibo(n-1) + fibo(n-2))\n",
        "\n",
        "for i in range(16) :\n",
        "    print('fibo({:3}) = {:4}'.format(i,fibo(i)))"
      ],
      "execution_count": 121,
      "outputs": [
        {
          "output_type": "stream",
          "text": [
            "fibo(  0) =    1\n",
            "fibo(  1) =    1\n",
            "fibo(  2) =    2\n",
            "fibo(  3) =    3\n",
            "fibo(  4) =    5\n",
            "fibo(  5) =    8\n",
            "fibo(  6) =   13\n",
            "fibo(  7) =   21\n",
            "fibo(  8) =   34\n",
            "fibo(  9) =   55\n",
            "fibo( 10) =   89\n",
            "fibo( 11) =  144\n",
            "fibo( 12) =  233\n",
            "fibo( 13) =  377\n",
            "fibo( 14) =  610\n",
            "fibo( 15) =  987\n"
          ],
          "name": "stdout"
        }
      ]
    },
    {
      "cell_type": "code",
      "metadata": {
        "id": "hQFfFULB33Z5",
        "outputId": "f80ca870-1f23-4d3f-9454-e162201aed6e",
        "colab": {
          "base_uri": "https://localhost:8080/"
        }
      },
      "source": [
        "#4.21\n",
        "\n",
        "def rnumber(n) :\n",
        "    year = n[0:2]      # 년도 정의\n",
        "\n",
        "    if n[2] == '0' :   # 월 정의\n",
        "        month = n[3]\n",
        "    else :\n",
        "        month = n[2:4]\n",
        "\n",
        "    if n[4] == '0' :   # 일 정의\n",
        "        day = n[5]\n",
        "    else :\n",
        "        day = n[4:6]\n",
        "    \n",
        "    if n[0] == ('5' or '6' or '7' or '8' or '9') :\n",
        "        print('19{}년 {}월 {}일'.format(year,month,day))\n",
        "    else :\n",
        "        print('20{}년 {}월 {}일'.format(year,month,day))\n",
        "\n",
        "n = input('주민등록번호 첫 6숫자 형식 입력 : ')\n",
        "rnumber(n)"
      ],
      "execution_count": 163,
      "outputs": [
        {
          "output_type": "stream",
          "text": [
            "주민등록번호 첫 6숫자 형식 입력 : 011123\n",
            "2001년 11월 23일\n"
          ],
          "name": "stdout"
        }
      ]
    },
    {
      "cell_type": "code",
      "metadata": {
        "id": "PJ_fLtK79Ad9",
        "outputId": "d4385e41-ff23-43ca-bbb5-583fb1a0e56e",
        "colab": {
          "base_uri": "https://localhost:8080/"
        }
      },
      "source": [
        "#4.22\n",
        "\n",
        "def rnumber_front(y,m,d) :\n",
        "    ylist = list(str(y))\n",
        "    y_f = ylist[0]+ylist[1]      #년도 정의\n",
        "\n",
        "    birth = y_f+str(m)+str(d)    #생년월일 정의\n",
        "    return birth\n",
        "\n",
        "import datetime as d\n",
        "date = d.datetime.now()\n",
        "y,m,d = date.year, date.month, date.day\n",
        "\n",
        "print('현재 시간은 {}년 {}월 {}일입니다.'.format(y,m,d))\n",
        "print('지금 태어난 아이의 주민등록번호 앞자리는 :',rnumber_front(y,m,d))"
      ],
      "execution_count": 154,
      "outputs": [
        {
          "output_type": "stream",
          "text": [
            "현재 시간은 2020년 11월 4일입니다.\n",
            "지금 태어난 아이의 주민등록번호 앞자리는 : 20114\n"
          ],
          "name": "stdout"
        }
      ]
    },
    {
      "cell_type": "code",
      "metadata": {
        "id": "sSjhMxEJ_dZX",
        "outputId": "957a45ff-c2a9-49a7-e357-e423ef94f7b9",
        "colab": {
          "base_uri": "https://localhost:8080/"
        }
      },
      "source": [
        "#4.23\n",
        "\n",
        "def area_and_circumference(r) :\n",
        "    import math as m\n",
        "    area = m.pi*r**2\n",
        "    circum = 2*m.pi*r\n",
        "    print('넓이 : {:7.3f}, 둘레 : {:7.3f}'.format(area,circum))\n",
        "\n",
        "while 1 :\n",
        "    r = int(input('반지름을 입력하시오 : '))\n",
        "    if r>0 :\n",
        "        area_and_circumference(r)\n",
        "    if r<=0 :\n",
        "        print('프로그램을 종료합니다.')\n",
        "        break"
      ],
      "execution_count": 161,
      "outputs": [
        {
          "output_type": "stream",
          "text": [
            "반지름을 입력하시오 : 6\n",
            "넓이 : 113.097, 둘레 :  37.699\n",
            "반지름을 입력하시오 : 22\n",
            "넓이 : 1520.531, 둘레 : 138.230\n",
            "반지름을 입력하시오 : 4\n",
            "넓이 :  50.265, 둘레 :  25.133\n",
            "반지름을 입력하시오 : -1\n",
            "프로그램을 종료합니다.\n"
          ],
          "name": "stdout"
        }
      ]
    },
    {
      "cell_type": "code",
      "metadata": {
        "id": "A77spw7cBncX",
        "outputId": "a9e77a7d-b32f-48ea-aec1-5e1d0a506824",
        "colab": {
          "base_uri": "https://localhost:8080/"
        }
      },
      "source": [
        "#4.24\n",
        "\n",
        "writing = input('여러 단어로 이루어진 글을 입력하세요 : ')\n",
        "\n",
        "w1 = writing.replace(':',' ')    # ':'을 공백으로 변환\n",
        "w2 = w1.replace('.', ' ')        # '.'을 공백으로 변환\n",
        "w3 = w2.replace(',',' ')         # ','를 공백으로 변환. 최종적으로 w3는 ':', '.', ','가 모두 공백으로 변환된 상태\n",
        "\n",
        "w = w3.split()\n",
        "w.sort()\n",
        "print('정렬 결과 :',w)"
      ],
      "execution_count": 222,
      "outputs": [
        {
          "output_type": "stream",
          "text": [
            "여러 단어로 이루어진 글을 입력하세요 : 임의의 문장을 입력:출력, 이것은 테스트 문장. 가:가나:나:나나:다람쥐 : 마린보이\n",
            "정렬 결과 : ['가', '가나', '나', '나나', '다람쥐', '마린보이', '문장', '문장을', '이것은', '임의의', '입력', '출력', '테스트']\n"
          ],
          "name": "stdout"
        }
      ]
    },
    {
      "cell_type": "code",
      "metadata": {
        "id": "eI89ZBBvGtw1",
        "outputId": "d65b2b55-76b7-4a0e-fd8a-099b68ac948e",
        "colab": {
          "base_uri": "https://localhost:8080/"
        }
      },
      "source": [
        "#4.25\n",
        "\n",
        "def change(n) :\n",
        "    n1 = n.replace('-','')    # 하이픈 제거\n",
        "    n2 = n1.replace(' ','')   # 공백 제거\n",
        "    C = n2.upper()            # 대문자로 변경\n",
        "    return C\n",
        "\n",
        "\n",
        "def count(C) :                # 문자 'N'이 나타나는 횟수\n",
        "    number_N = C.count('N')\n",
        "    print('{} : {}개의 N이 나타남'.format(C,number_N)) \n",
        "\n",
        "s1 = 'Kang Young Min'\n",
        "s2 = ' Kang Young-Min'\n",
        "s3 = 'Park Dong Min'\n",
        "s4 = ' Park Dong-Yun'\n",
        "\n",
        "print('{}(은)는 {}(으)로 수정됨'.format(s1, change(s1)))\n",
        "print('{}(은)는 {}(으)로 수정됨'.format(s2, change(s2)))\n",
        "print('{}(은)는 {}(으)로 수정됨'.format(s3, change(s3)))\n",
        "print('{}(은)는 {}(으)로 수정됨'.format(s4, change(s4)))\n",
        "\n",
        "count(change(s1))\n",
        "count(change(s2))\n",
        "count(change(s3))\n",
        "count(change(s4))"
      ],
      "execution_count": 259,
      "outputs": [
        {
          "output_type": "stream",
          "text": [
            "Kang Young Min(은)는 KANGYOUNGMIN(으)로 수정됨\n",
            " Kang Young-Min(은)는 KANGYOUNGMIN(으)로 수정됨\n",
            "Park Dong Min(은)는 PARKDONGMIN(으)로 수정됨\n",
            " Park Dong-Yun(은)는 PARKDONGYUN(으)로 수정됨\n",
            "KANGYOUNGMIN : 3개의 N이 나타남\n",
            "KANGYOUNGMIN : 3개의 N이 나타남\n",
            "PARKDONGMIN : 2개의 N이 나타남\n",
            "PARKDONGYUN : 2개의 N이 나타남\n"
          ],
          "name": "stdout"
        }
      ]
    },
    {
      "cell_type": "code",
      "metadata": {
        "id": "6aD61NtCbtNg",
        "outputId": "1b7c6c7a-be51-49c9-f098-01ea314df77a",
        "colab": {
          "base_uri": "https://localhost:8080/"
        }
      },
      "source": [
        "#4.26\n",
        "\n",
        "given_string = 'Park(Java City), Kim(C city), Kang(Bython city), Lee(Bython city), Hong(Ruby city), Cho(Bython city), Koo(C city), Ryu(C++ city)'\n",
        "\n",
        "print('주어진 문자열 :')\n",
        "print(given_string)\n",
        "print()\n",
        "\n",
        "Count = given_string.count('Bython')\n",
        "modified_string = given_string.replace('Bython','Python')\n",
        "\n",
        "print('수정된 문자열 :')\n",
        "print(modified_string)\n",
        "print('Bythoh 문자열은 모두 %d번 수정했습니다.' %Count)"
      ],
      "execution_count": 262,
      "outputs": [
        {
          "output_type": "stream",
          "text": [
            "주어진 문자열 :\n",
            "Park(Java City), Kim(C city), Kang(Bython city), Lee(Bython city), Hong(Ruby city), Cho(Bython city), Koo(C city), Ryu(C++ city)\n",
            "\n",
            "수정된 문자열 :\n",
            "Park(Java City), Kim(C city), Kang(Python city), Lee(Python city), Hong(Ruby city), Cho(Python city), Koo(C city), Ryu(C++ city)\n",
            "Bythoh 문자열은 모두 3번 수정했습니다.\n"
          ],
          "name": "stdout"
        }
      ]
    },
    {
      "cell_type": "code",
      "metadata": {
        "id": "opBTsvR9eUC3",
        "outputId": "7633fac5-8c56-450b-db38-bb315d1a9086",
        "colab": {
          "base_uri": "https://localhost:8080/"
        }
      },
      "source": [
        "#4.27\n",
        "\n",
        "def unit_fraction(frac) :\n",
        "    x = 1/frac\n",
        "    \n",
        "    k = round(x)   # x를 반올림 함\n",
        "    print('가장 가까운 단위 분수는 1/{}이며, 이 값은 {}입니다.'.format(k,1/k))\n",
        "\n",
        "frac = float(input('1보다 작고 0보다 큰 소수를 입력하세요 : '))\n",
        "unit_fraction(frac)\n"
      ],
      "execution_count": 269,
      "outputs": [
        {
          "output_type": "stream",
          "text": [
            "1보다 작고 0보다 큰 소수를 입력하세요 : 0.0732\n",
            "가장 가까운 단위 분수는 1/14이며, 이 값은 0.07142857142857142입니다.\n"
          ],
          "name": "stdout"
        }
      ]
    },
    {
      "cell_type": "code",
      "metadata": {
        "id": "JkFUCJD5k7TG",
        "outputId": "e78eaa04-4d82-4f78-f897-d48892e391cd",
        "colab": {
          "base_uri": "https://localhost:8080/"
        }
      },
      "source": [
        "#4.28\n",
        "\n",
        "def factorial(k) :                    # (1)\n",
        "    if k <= 1 :\n",
        "        return 1\n",
        "    else :\n",
        "        return k * factorial(k-1) \n",
        "\n",
        "def euler(n) :                        # (2)\n",
        "    sum1=0\n",
        "    for i in range(n+1) :\n",
        "        sum1 += 1/factorial(i)\n",
        "    return sum1\n",
        "\n",
        "print('euler( 5) = {:.5f}'.format(euler(5)))      # (3)\n",
        "print('euler(20) = {:.5f}'.format(euler(20)))      "
      ],
      "execution_count": 271,
      "outputs": [
        {
          "output_type": "stream",
          "text": [
            "euler( 5) = 2.71667\n",
            "euler(20) = 2.71828\n"
          ],
          "name": "stdout"
        }
      ]
    }
  ]
}