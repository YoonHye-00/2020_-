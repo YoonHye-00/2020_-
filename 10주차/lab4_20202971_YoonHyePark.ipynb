{
  "nbformat": 4,
  "nbformat_minor": 0,
  "metadata": {
    "colab": {
      "name": "lab4_20202971_YoonHyePark",
      "provenance": [],
      "collapsed_sections": []
    },
    "kernelspec": {
      "name": "python3",
      "display_name": "Python 3"
    }
  },
  "cells": [
    {
      "cell_type": "markdown",
      "metadata": {
        "id": "MMoWX6Hws53W"
      },
      "source": [
        "<4장 함수와 입출력>\n",
        "\n",
        "#함수의 역할\n",
        "\n",
        "print_star_func.py"
      ]
    },
    {
      "cell_type": "code",
      "metadata": {
        "id": "_DxDh8-qwEno",
        "outputId": "fbe9765e-23fa-4eba-c6b4-1f3778637d56",
        "colab": {
          "base_uri": "https://localhost:8080/"
        }
      },
      "source": [
        "def print_star() :\n",
        "    print('*************************')\n",
        "\n",
        "print_star()"
      ],
      "execution_count": null,
      "outputs": [
        {
          "output_type": "stream",
          "text": [
            "*************************\n"
          ],
          "name": "stdout"
        }
      ]
    },
    {
      "cell_type": "markdown",
      "metadata": {
        "id": "cb0BPCwOz0Tf"
      },
      "source": [
        "print_star_4.py"
      ]
    },
    {
      "cell_type": "code",
      "metadata": {
        "id": "ltfmTjhezkxJ",
        "outputId": "f55819c0-0fe4-4302-b1ea-05d538372942",
        "colab": {
          "base_uri": "https://localhost:8080/"
        }
      },
      "source": [
        "def print_star() :\n",
        "    print('**************************')\n",
        "\n",
        "print_star()\n",
        "print_star()\n",
        "print_star()\n",
        "print_star()"
      ],
      "execution_count": null,
      "outputs": [
        {
          "output_type": "stream",
          "text": [
            "**************************\n",
            "**************************\n",
            "**************************\n",
            "**************************\n"
          ],
          "name": "stdout"
        }
      ]
    },
    {
      "cell_type": "markdown",
      "metadata": {
        "id": "qFAxCVIT0DCA"
      },
      "source": [
        "LAB 4-1 : 함수의 정의와 호출"
      ]
    },
    {
      "cell_type": "code",
      "metadata": {
        "id": "ltSIXcQt0ADH"
      },
      "source": [
        "#1.\n",
        "def print_star() :\n",
        "    print('*************************')"
      ],
      "execution_count": null,
      "outputs": []
    },
    {
      "cell_type": "code",
      "metadata": {
        "id": "2K6drs0V0TsZ",
        "outputId": "e227157e-4df5-4cfb-8acd-287654394547",
        "colab": {
          "base_uri": "https://localhost:8080/"
        }
      },
      "source": [
        "#2.\n",
        "print_star()\n",
        "print_star()\n",
        "print_star()\n",
        "print_star()\n",
        "print_star()\n",
        "print_star()"
      ],
      "execution_count": null,
      "outputs": [
        {
          "output_type": "stream",
          "text": [
            "*************************\n",
            "*************************\n",
            "*************************\n",
            "*************************\n",
            "*************************\n",
            "*************************\n"
          ],
          "name": "stdout"
        }
      ]
    },
    {
      "cell_type": "markdown",
      "metadata": {
        "id": "ezuRVHkX0lyr"
      },
      "source": [
        "print_star3.py"
      ]
    },
    {
      "cell_type": "code",
      "metadata": {
        "id": "jYTJkE6U0omq",
        "outputId": "d9bdb8f4-0242-4a17-972b-88ca13edcdd7",
        "colab": {
          "base_uri": "https://localhost:8080/"
        }
      },
      "source": [
        "def print_star3() :\n",
        "    print('************************')\n",
        "    print('************************')\n",
        "    print('************************')\n",
        "\n",
        "print_star3()\n",
        "print_star3()\n",
        "print_star3()"
      ],
      "execution_count": null,
      "outputs": [
        {
          "output_type": "stream",
          "text": [
            "************************\n",
            "************************\n",
            "************************\n",
            "************************\n",
            "************************\n",
            "************************\n",
            "************************\n",
            "************************\n",
            "************************\n"
          ],
          "name": "stdout"
        }
      ]
    },
    {
      "cell_type": "markdown",
      "metadata": {
        "id": "qfWW-q2Z4wFU"
      },
      "source": [
        "LAB 4-2 : 함수 정의와 호출"
      ]
    },
    {
      "cell_type": "code",
      "metadata": {
        "id": "PhB8BGi_0w-N",
        "outputId": "c3525d2a-8a78-47c2-ffa9-8db25d8ada41",
        "colab": {
          "base_uri": "https://localhost:8080/"
        }
      },
      "source": [
        "def print_star5() :\n",
        "    print('************************')\n",
        "    print('************************')\n",
        "    print('************************')\n",
        "    print('************************')\n",
        "    print('************************')\n",
        "\n",
        "print_star5()\n",
        "print_star5()"
      ],
      "execution_count": null,
      "outputs": [
        {
          "output_type": "stream",
          "text": [
            "************************\n",
            "************************\n",
            "************************\n",
            "************************\n",
            "************************\n",
            "************************\n",
            "************************\n",
            "************************\n",
            "************************\n",
            "************************\n"
          ],
          "name": "stdout"
        }
      ]
    },
    {
      "cell_type": "markdown",
      "metadata": {
        "id": "112yVRFp49xR"
      },
      "source": [
        "print_star_plus.py"
      ]
    },
    {
      "cell_type": "code",
      "metadata": {
        "id": "OR96us0Y47Bk",
        "outputId": "bda5b342-4d97-484e-f341-405d66263a51",
        "colab": {
          "base_uri": "https://localhost:8080/"
        }
      },
      "source": [
        "def print_star() :\n",
        "    print('*************************')\n",
        "\n",
        "def print_plus() :\n",
        "    print('+++++++++++++++++++++++++')\n",
        "\n",
        "print_star()\n",
        "print_plus()\n",
        "print_star()\n",
        "print_plus()"
      ],
      "execution_count": null,
      "outputs": [
        {
          "output_type": "stream",
          "text": [
            "*************************\n",
            "+++++++++++++++++++++++++\n",
            "*************************\n",
            "+++++++++++++++++++++++++\n"
          ],
          "name": "stdout"
        }
      ]
    },
    {
      "cell_type": "markdown",
      "metadata": {
        "id": "iHQ7ovOI5T7B"
      },
      "source": [
        "LAB 4-3 : 함수 정의와 호출"
      ]
    },
    {
      "cell_type": "code",
      "metadata": {
        "id": "CWju967L5RV8"
      },
      "source": [
        "#1.\n",
        "def print_hash() :\n",
        "    print('#########################')"
      ],
      "execution_count": null,
      "outputs": []
    },
    {
      "cell_type": "code",
      "metadata": {
        "id": "15KEiyI65eAd",
        "outputId": "85501b74-7096-4480-abed-dc63e7e5154b",
        "colab": {
          "base_uri": "https://localhost:8080/"
        }
      },
      "source": [
        "#2.\n",
        "print_hash()\n",
        "print_star()\n",
        "print_plus()\n",
        "print_plus()\n",
        "print_star()\n",
        "print_hash()"
      ],
      "execution_count": null,
      "outputs": [
        {
          "output_type": "stream",
          "text": [
            "#########################\n",
            "*************************\n",
            "+++++++++++++++++++++++++\n",
            "+++++++++++++++++++++++++\n",
            "*************************\n",
            "#########################\n"
          ],
          "name": "stdout"
        }
      ]
    },
    {
      "cell_type": "markdown",
      "metadata": {
        "id": "3SezJp-g5wyR"
      },
      "source": [
        "#함수와 매개변수\n",
        "\n",
        "print_star_param.py"
      ]
    },
    {
      "cell_type": "code",
      "metadata": {
        "id": "_SNuAuqE5s1q",
        "outputId": "09b54896-e608-405a-8f90-3f9891b53877",
        "colab": {
          "base_uri": "https://localhost:8080/"
        }
      },
      "source": [
        "def print_star(n) :\n",
        "    for _ in range(n) :\n",
        "        print('*************************')\n",
        "\n",
        "print_star(4)"
      ],
      "execution_count": null,
      "outputs": [
        {
          "output_type": "stream",
          "text": [
            "*************************\n",
            "*************************\n",
            "*************************\n",
            "*************************\n"
          ],
          "name": "stdout"
        }
      ]
    },
    {
      "cell_type": "markdown",
      "metadata": {
        "id": "QoKrzwoZ7wvd"
      },
      "source": [
        "LAB 4-4 : 다양한 별표와 패턴 출력"
      ]
    },
    {
      "cell_type": "code",
      "metadata": {
        "id": "m1y_RvPB7lkJ",
        "outputId": "8750be04-7ed4-466f-fffc-fe7da5adbe2b",
        "colab": {
          "base_uri": "https://localhost:8080/"
        }
      },
      "source": [
        "#1.\n",
        "def print_star(n) :\n",
        "    for _ in range(n) :\n",
        "        print('*************************')\n",
        "\n",
        "print_star(10)"
      ],
      "execution_count": null,
      "outputs": [
        {
          "output_type": "stream",
          "text": [
            "*************************\n",
            "*************************\n",
            "*************************\n",
            "*************************\n",
            "*************************\n",
            "*************************\n",
            "*************************\n",
            "*************************\n",
            "*************************\n",
            "*************************\n"
          ],
          "name": "stdout"
        }
      ]
    },
    {
      "cell_type": "code",
      "metadata": {
        "id": "Zw_ZBvbr8De6",
        "outputId": "55bcc675-2ad3-499b-9042-5cf4e2f950ac",
        "colab": {
          "base_uri": "https://localhost:8080/"
        }
      },
      "source": [
        "#2.\n",
        "def print_hash(n) :\n",
        "    for _ in range(n) :\n",
        "        print('#########################')\n",
        "\n",
        "print_hash(10)"
      ],
      "execution_count": null,
      "outputs": [
        {
          "output_type": "stream",
          "text": [
            "#########################\n",
            "#########################\n",
            "#########################\n",
            "#########################\n",
            "#########################\n",
            "#########################\n",
            "#########################\n",
            "#########################\n",
            "#########################\n",
            "#########################\n"
          ],
          "name": "stdout"
        }
      ]
    },
    {
      "cell_type": "code",
      "metadata": {
        "id": "Xmq-GEps8Ppk",
        "outputId": "8476514f-7371-48af-aa3e-aec603682470",
        "colab": {
          "base_uri": "https://localhost:8080/"
        }
      },
      "source": [
        "#3.\n",
        "print_hash(6)"
      ],
      "execution_count": null,
      "outputs": [
        {
          "output_type": "stream",
          "text": [
            "#########################\n",
            "#########################\n",
            "#########################\n",
            "#########################\n",
            "#########################\n",
            "#########################\n"
          ],
          "name": "stdout"
        }
      ]
    },
    {
      "cell_type": "code",
      "metadata": {
        "id": "OvxZZU588WTv",
        "outputId": "d6f3a2ad-f60b-456c-abde-219f645d2417",
        "colab": {
          "base_uri": "https://localhost:8080/"
        }
      },
      "source": [
        "#4.\n",
        "def print_hash(n) :\n",
        "    for i in range(n) :\n",
        "        print(i,'#########################')\n",
        "\n",
        "print_hash(6)"
      ],
      "execution_count": null,
      "outputs": [
        {
          "output_type": "stream",
          "text": [
            "0 #########################\n",
            "1 #########################\n",
            "2 #########################\n",
            "3 #########################\n",
            "4 #########################\n",
            "5 #########################\n"
          ],
          "name": "stdout"
        }
      ]
    },
    {
      "cell_type": "markdown",
      "metadata": {
        "id": "OfBPHs2P9Sqo"
      },
      "source": [
        "print_hello_n_times.py"
      ]
    },
    {
      "cell_type": "code",
      "metadata": {
        "id": "KAIyaDsD8hfL",
        "outputId": "550f46a6-c9cd-4207-fb33-3c502fa0836d",
        "colab": {
          "base_uri": "https://localhost:8080/"
        }
      },
      "source": [
        "def print_hello(n) :\n",
        "    print('Hello ' * n)\n",
        "\n",
        "print('Hello를 두 번 출력합니다.')\n",
        "print_hello(2)\n",
        "print('Hello를 세 번 출력합니다.')\n",
        "print_hello(3)\n",
        "print('Hello를 네 번 출력합니다.')\n",
        "print_hello(4)"
      ],
      "execution_count": null,
      "outputs": [
        {
          "output_type": "stream",
          "text": [
            "Hello를 두 번 출력합니다.\n",
            "Hello Hello \n",
            "Hello를 세 번 출력합니다.\n",
            "Hello Hello Hello \n",
            "Hello를 네 번 출력합니다.\n",
            "Hello Hello Hello Hello \n"
          ],
          "name": "stdout"
        }
      ]
    },
    {
      "cell_type": "markdown",
      "metadata": {
        "id": "9BdkPCbw9zWi"
      },
      "source": [
        "sum_func.py"
      ]
    },
    {
      "cell_type": "code",
      "metadata": {
        "id": "Fqz8Hx1T9v9q",
        "outputId": "4dfdf510-4ec8-44ad-837f-77d3ba1d3bca",
        "colab": {
          "base_uri": "https://localhost:8080/"
        }
      },
      "source": [
        "def print_sum(a,b) :\n",
        "    result = a + b\n",
        "    print(a, '과', b, '의 합은', result, '입니다.')\n",
        "\n",
        "print_sum(10,20)\n",
        "print_sum(100,200)"
      ],
      "execution_count": null,
      "outputs": [
        {
          "output_type": "stream",
          "text": [
            "10 과 20 의 합은 30 입니다.\n",
            "100 과 200 의 합은 300 입니다.\n"
          ],
          "name": "stdout"
        }
      ]
    },
    {
      "cell_type": "markdown",
      "metadata": {
        "id": "ycx8yB8Z-P4X"
      },
      "source": [
        "LAB 4-5 : 두 수 연산을 수행하는 함수"
      ]
    },
    {
      "cell_type": "code",
      "metadata": {
        "id": "2fCPOzLD-Oc8",
        "outputId": "0135750b-3307-4469-8ffc-db0a0b27d056",
        "colab": {
          "base_uri": "https://localhost:8080/"
        }
      },
      "source": [
        "#1.\n",
        "def print_sub(a,b) :\n",
        "    print('{}와 {}의 차는 {}입니다.'.format(a,b,a-b))\n",
        "\n",
        "print_sub(10,20)"
      ],
      "execution_count": null,
      "outputs": [
        {
          "output_type": "stream",
          "text": [
            "10와 20의 차는 -10입니다.\n"
          ],
          "name": "stdout"
        }
      ]
    },
    {
      "cell_type": "code",
      "metadata": {
        "id": "hDBOzfO8A9lN",
        "outputId": "392c9c5c-99d8-4742-8861-9282bd71152d",
        "colab": {
          "base_uri": "https://localhost:8080/"
        }
      },
      "source": [
        "#2.\n",
        "def print_mult(a,b) :\n",
        "    print('{}와 {}의 곱은 {}입니다.'.format(a,b,a*b))\n",
        "\n",
        "print_mult(10,20)"
      ],
      "execution_count": null,
      "outputs": [
        {
          "output_type": "stream",
          "text": [
            "10와 20의 곱은 200입니다.\n"
          ],
          "name": "stdout"
        }
      ]
    },
    {
      "cell_type": "markdown",
      "metadata": {
        "id": "3mThIypZBODb"
      },
      "source": [
        "root_ex1.py"
      ]
    },
    {
      "cell_type": "code",
      "metadata": {
        "id": "s0U1ia9DBLJY",
        "outputId": "84d58ad7-a2de-414c-df8b-4f184b3b24d8",
        "colab": {
          "base_uri": "https://localhost:8080/"
        }
      },
      "source": [
        "a=1\n",
        "b=2\n",
        "c=-8\n",
        "\n",
        "# (a * x^2) + (b * x) + c = 0\n",
        "r1 = (-b + (b**2 - 4*a*c)**0.5)/(2*a)\n",
        "r2 = (-b - (b**2 - 4*a*c)**0.5)/(2*a)\n",
        "\n",
        "print('해는',r1,'또는',r2)"
      ],
      "execution_count": null,
      "outputs": [
        {
          "output_type": "stream",
          "text": [
            "해는 2.0 또는 -4.0\n"
          ],
          "name": "stdout"
        }
      ]
    },
    {
      "cell_type": "markdown",
      "metadata": {
        "id": "8l-i5e2cByTj"
      },
      "source": [
        "root_ex3.py"
      ]
    },
    {
      "cell_type": "code",
      "metadata": {
        "id": "VQ3prC9bBuE9",
        "outputId": "b6eb62df-73af-400f-8567-416386682abf",
        "colab": {
          "base_uri": "https://localhost:8080/"
        }
      },
      "source": [
        "def print_root(a,b,c) :\n",
        "    r1 = (-b + (b**2 - 4*a*c)**0.5)/(2*a)\n",
        "    r2 = (-b - (b**2 - 4*a*c)**0.5)/(2*a)\n",
        "    print('해는', r1, '또는', r2)\n",
        "\n",
        "print_root(1,2,-8)\n",
        "print_root(2,-6,-8)\n",
        "\n"
      ],
      "execution_count": null,
      "outputs": [
        {
          "output_type": "stream",
          "text": [
            "해는 2.0 또는 -4.0\n",
            "해는 4.0 또는 -1.0\n"
          ],
          "name": "stdout"
        }
      ]
    },
    {
      "cell_type": "markdown",
      "metadata": {
        "id": "Ej9sdU9T9jIG"
      },
      "source": [
        "LAB 4-6 : 함수의 사용"
      ]
    },
    {
      "cell_type": "code",
      "metadata": {
        "id": "e7GHMp6TDrTW",
        "outputId": "71eebf5d-d16e-41a7-9bda-25243055da77",
        "colab": {
          "base_uri": "https://localhost:8080/"
        }
      },
      "source": [
        "def print_root(a,b,c) :\n",
        "    r1 = (-b + (b**2 - 4*a*c)**0.5)/(2*a)\n",
        "    r2 = (-b - (b**2 - 4*a*c)**0.5)/(2*a)\n",
        "    print('해는', r1, '또는', r2)\n",
        "# 1 - (1).\n",
        "print_root(1,4,-21)\n",
        "\n",
        "# 1 - (2).\n",
        "print_root(1,-6,8)"
      ],
      "execution_count": null,
      "outputs": [
        {
          "output_type": "stream",
          "text": [
            "해는 3.0 또는 -7.0\n",
            "해는 4.0 또는 2.0\n"
          ],
          "name": "stdout"
        }
      ]
    },
    {
      "cell_type": "code",
      "metadata": {
        "id": "hyv49y5S-a13",
        "outputId": "585808fc-b87e-4f43-8513-0b712f17c95c",
        "colab": {
          "base_uri": "https://localhost:8080/"
        }
      },
      "source": [
        "#2. \n",
        "def print_area(width, height) :\n",
        "    print('밑변 {}, 높이 {}인 삼각형의 면적은 : {}'.format(width,height,width*height*0.5))\n",
        "\n",
        "print_area(10,20)"
      ],
      "execution_count": null,
      "outputs": [
        {
          "output_type": "stream",
          "text": [
            "밑변 10, 높이 20인 삼각형의 면적은 : 100.0\n"
          ],
          "name": "stdout"
        }
      ]
    },
    {
      "cell_type": "markdown",
      "metadata": {
        "id": "Eyrz5c-n_6Q8"
      },
      "source": [
        "#반환문 return\n",
        "\n",
        "sum_with_return1.py"
      ]
    },
    {
      "cell_type": "code",
      "metadata": {
        "id": "nbo-y3V2-5mO",
        "outputId": "d9058b78-8e24-43a5-f191-14a5ffcfeb83",
        "colab": {
          "base_uri": "https://localhost:8080/"
        }
      },
      "source": [
        "def get_sum(a,b) :\n",
        "    result = a+b\n",
        "    return result\n",
        "\n",
        "n1 = get_sum(10,20)\n",
        "print('10과 20의 합 =',n1)\n",
        "\n",
        "n2 = get_sum(100,200)\n",
        "print('100과 200의 합 =',n2)"
      ],
      "execution_count": null,
      "outputs": [
        {
          "output_type": "stream",
          "text": [
            "10과 20의 합 = 30\n",
            "100과 200의 합 = 300\n"
          ],
          "name": "stdout"
        }
      ]
    },
    {
      "cell_type": "markdown",
      "metadata": {
        "id": "XcntRlvxKswU"
      },
      "source": [
        "sum_with_return2.py"
      ]
    },
    {
      "cell_type": "code",
      "metadata": {
        "id": "fXg0PbqFKNym",
        "outputId": "cefe0e56-069d-4053-b0f5-ece9e84932d3",
        "colab": {
          "base_uri": "https://localhost:8080/"
        }
      },
      "source": [
        "def get_sum(a,b) :\n",
        "    return a+b\n",
        "    \n",
        "result = get_sum(100,200)\n",
        "print('두 수의 합',result)"
      ],
      "execution_count": null,
      "outputs": [
        {
          "output_type": "stream",
          "text": [
            "두 수의 합 300\n"
          ],
          "name": "stdout"
        }
      ]
    },
    {
      "cell_type": "markdown",
      "metadata": {
        "id": "tTdIaBI2L8Hm"
      },
      "source": [
        "root_func.py"
      ]
    },
    {
      "cell_type": "code",
      "metadata": {
        "id": "0fPbvAW2L2lv",
        "outputId": "b6295ec0-c9d0-49a2-b987-51be50afa679",
        "colab": {
          "base_uri": "https://localhost:8080/"
        }
      },
      "source": [
        "def get_root(a,b,c) :\n",
        "    r1 = (-b + (b**2 - 4*a*c)**0.5) / (2*a)\n",
        "    r2 = (-b - (b**2 - 4*a*c)**0.5) / (2*a)\n",
        "    return r1, r2\n",
        "\n",
        "result1, result2 = get_root(1,2,-8)\n",
        "print('해는',result1,'또는',result2)"
      ],
      "execution_count": null,
      "outputs": [
        {
          "output_type": "stream",
          "text": [
            "해는 2.0 또는 -4.0\n"
          ],
          "name": "stdout"
        }
      ]
    },
    {
      "cell_type": "markdown",
      "metadata": {
        "id": "19h5vilzMdmO"
      },
      "source": [
        "LAB 4-7 : 원의 면적과 둘레를 반환하는 함수"
      ]
    },
    {
      "cell_type": "code",
      "metadata": {
        "id": "Jgfs7WVEMb2u",
        "outputId": "86d5f04f-35ca-4988-cef8-639ffd735e89",
        "colab": {
          "base_uri": "https://localhost:8080/"
        }
      },
      "source": [
        "#1.\n",
        "def circle_area_circum(radius) :\n",
        "    import math as m\n",
        "    return radius**2*m.pi, 2*m.pi*radius\n",
        "\n",
        "radius = 10\n",
        "area, circum = circle_area_circum(radius)\n",
        "print('반지름 {}인 원의 면적은 {:.0f}, 원의 둘레는 {:.1f}'.format(radius, area, circum))"
      ],
      "execution_count": null,
      "outputs": [
        {
          "output_type": "stream",
          "text": [
            "반지름 10인 원의 면적은 314, 원의 둘레는 62.8\n"
          ],
          "name": "stdout"
        }
      ]
    },
    {
      "cell_type": "markdown",
      "metadata": {
        "id": "BDwiFMCFRUQU"
      },
      "source": [
        "LAB 4-8 : 다수의 결과를 반환하는 함수 만들기"
      ]
    },
    {
      "cell_type": "code",
      "metadata": {
        "id": "opUMyToUNrtn",
        "outputId": "5397c9b1-7514-46a0-ff03-0b279cb93edf",
        "colab": {
          "base_uri": "https://localhost:8080/"
        }
      },
      "source": [
        "#1.\n",
        "def multiples(n,m) :\n",
        "    a = []\n",
        "    for i in range(1,m+1,1) :\n",
        "        ri = n*i\n",
        "        a.append(ri)\n",
        "    return tuple(a)\n",
        "\n",
        "r1,r2,r3,r4 = multiples(3,4) \n",
        "print(r1,r2,r3,r4)\n",
        "r1,r2,r3,r4,r5 = multiples(2,5)\n",
        "print(r1,r2,r3,r4,r5)"
      ],
      "execution_count": null,
      "outputs": [
        {
          "output_type": "stream",
          "text": [
            "3 6 9 12\n",
            "2 4 6 8 10\n"
          ],
          "name": "stdout"
        }
      ]
    },
    {
      "cell_type": "markdown",
      "metadata": {
        "id": "V0bBkzb_bBr9"
      },
      "source": [
        "# 전역 변수"
      ]
    },
    {
      "cell_type": "markdown",
      "metadata": {
        "id": "HrQJ0dcKbJfj"
      },
      "source": [
        "sum_func_global1.py"
      ]
    },
    {
      "cell_type": "code",
      "metadata": {
        "id": "PQ5vZeRaSAYE",
        "outputId": "b20c926d-a848-4e02-e124-8d4f187fb790",
        "colab": {
          "base_uri": "https://localhost:8080/"
        }
      },
      "source": [
        "def print_sum() :\n",
        "    result = a+b\n",
        "    print('print_sum() 내부 :',a,'과',b,'의 합은',result,'입니다.')\n",
        "\n",
        "a = 10\n",
        "b = 20\n",
        "print_sum()\n",
        "result = a+b\n",
        "print('print_sum() 외부 :', a,'과',b,'의 합은', result,'입니다.')"
      ],
      "execution_count": null,
      "outputs": [
        {
          "output_type": "stream",
          "text": [
            "print_sum() 내부 : 10 과 20 의 합은 30 입니다.\n",
            "print_sum() 외부 : 10 과 20 의 합은 30 입니다.\n"
          ],
          "name": "stdout"
        }
      ]
    },
    {
      "cell_type": "markdown",
      "metadata": {
        "id": "D0zkDWAAcfbM"
      },
      "source": [
        "sum_func_global2.py"
      ]
    },
    {
      "cell_type": "code",
      "metadata": {
        "id": "_uqbkFY6Zkid",
        "outputId": "4435f1f7-5fc4-49b4-ffbb-0c3ea6d4105a",
        "colab": {
          "base_uri": "https://localhost:8080/"
        }
      },
      "source": [
        "def print_sum() :\n",
        "    a = 100\n",
        "    b = 200\n",
        "    result = a+b\n",
        "    print('print_sum() 내부 :',a,'과',b,'의 합은', result, '입니다.')\n",
        "\n",
        "a=10\n",
        "b=20\n",
        "print_sum()"
      ],
      "execution_count": null,
      "outputs": [
        {
          "output_type": "stream",
          "text": [
            "print_sum() 내부 : 100 과 200 의 합은 300 입니다.\n"
          ],
          "name": "stdout"
        }
      ]
    },
    {
      "cell_type": "markdown",
      "metadata": {
        "id": "-UKySVUi1Ch4"
      },
      "source": [
        "sum_func_global3.py"
      ]
    },
    {
      "cell_type": "code",
      "metadata": {
        "id": "b49uvv3By3Bg",
        "outputId": "a2f62e7e-3b7c-4c57-c30d-cd49a1409ccc",
        "colab": {
          "base_uri": "https://localhost:8080/"
        }
      },
      "source": [
        "def print_sum() :\n",
        "    a = 100\n",
        "    b = 200\n",
        "    result = a+b\n",
        "    print('print_sum() 내부 :',a,'과',b,'의 합은',result,'입니다.')\n",
        "\n",
        "a=10\n",
        "b=20\n",
        "print_sum()\n",
        "result = a+b\n",
        "print('print_sum() 외부 :', a,'과',b,'의 합은', result,'입니다.')"
      ],
      "execution_count": null,
      "outputs": [
        {
          "output_type": "stream",
          "text": [
            "print_sum() 내부 : 100 과 200 의 합은 300 입니다.\n",
            "print_sum() 외부 : 10 과 20 의 합은 30 입니다.\n"
          ],
          "name": "stdout"
        }
      ]
    },
    {
      "cell_type": "markdown",
      "metadata": {
        "id": "T4DnnxmK1h6K"
      },
      "source": [
        "sum_func_global4.py"
      ]
    },
    {
      "cell_type": "code",
      "metadata": {
        "id": "WvkloZw91gJU",
        "outputId": "cad86693-d1e8-49dd-c0b5-f1f5a133bc85",
        "colab": {
          "base_uri": "https://localhost:8080/"
        }
      },
      "source": [
        "def print_sum() :\n",
        "    global a,b\n",
        "    a = 100\n",
        "    b = 200\n",
        "    result = a+b\n",
        "    print('print_sum() 내부 :',a,'과',b,'의 합은',result,'입니다.')\n",
        "\n",
        "a=10\n",
        "b=20\n",
        "print_sum()\n",
        "result = a+b\n",
        "print('print_sum() 외부 :', a,'과',b,'의 합은',result,'입니다.')"
      ],
      "execution_count": null,
      "outputs": [
        {
          "output_type": "stream",
          "text": [
            "print_sum() 내부 : 100 과 200 의 합은 300 입니다.\n",
            "print_sum() 외부 : 100 과 200 의 합은 300 입니다.\n"
          ],
          "name": "stdout"
        }
      ]
    },
    {
      "cell_type": "markdown",
      "metadata": {
        "id": "LoLmAlBQFbI5"
      },
      "source": [
        "#함수의 인자 전달 방식\n",
        "\n",
        "print_star_param_error.py"
      ]
    },
    {
      "cell_type": "code",
      "metadata": {
        "id": "tLGOfXCE1-Px",
        "outputId": "8e51c5e2-3e27-4009-a29c-1888ea28807c",
        "colab": {
          "base_uri": "https://localhost:8080/",
          "height": 196
        }
      },
      "source": [
        "def print_star(n) :       # 인자를 필요로 함\n",
        "    for _ in range(n) :\n",
        "        print('*************************')\n",
        "\n",
        "print_star()              # 인자가 없으므로 에러 발생"
      ],
      "execution_count": null,
      "outputs": [
        {
          "output_type": "error",
          "ename": "TypeError",
          "evalue": "ignored",
          "traceback": [
            "\u001b[0;31m---------------------------------------------------------------------------\u001b[0m",
            "\u001b[0;31mTypeError\u001b[0m                                 Traceback (most recent call last)",
            "\u001b[0;32m<ipython-input-71-d3ae0bbb680d>\u001b[0m in \u001b[0;36m<module>\u001b[0;34m()\u001b[0m\n\u001b[1;32m      3\u001b[0m         \u001b[0mprint\u001b[0m\u001b[0;34m(\u001b[0m\u001b[0;34m'*************************'\u001b[0m\u001b[0;34m)\u001b[0m\u001b[0;34m\u001b[0m\u001b[0;34m\u001b[0m\u001b[0m\n\u001b[1;32m      4\u001b[0m \u001b[0;34m\u001b[0m\u001b[0m\n\u001b[0;32m----> 5\u001b[0;31m \u001b[0mprint_star\u001b[0m\u001b[0;34m(\u001b[0m\u001b[0;34m)\u001b[0m              \u001b[0;31m# 인자가 없으므로 에러 발생\u001b[0m\u001b[0;34m\u001b[0m\u001b[0;34m\u001b[0m\u001b[0m\n\u001b[0m",
            "\u001b[0;31mTypeError\u001b[0m: print_star() missing 1 required positional argument: 'n'"
          ]
        }
      ]
    },
    {
      "cell_type": "markdown",
      "metadata": {
        "id": "4rx8PoHGJ5mS"
      },
      "source": [
        "print_default_param.py"
      ]
    },
    {
      "cell_type": "code",
      "metadata": {
        "id": "tPieyBicJ4q_",
        "outputId": "1d84f7cf-8313-4a1f-c15b-d7a76f073849",
        "colab": {
          "base_uri": "https://localhost:8080/"
        }
      },
      "source": [
        "def print_star(n=1) :    # 매개변수 n의 디폴트 값을 설정해줌\n",
        "    for i in range(n) :\n",
        "        print('****************************')\n",
        "\n",
        "print_star()   # 인자가 없더라도 에러 없이 수행됨 (디폴트 값으로 출력)"
      ],
      "execution_count": null,
      "outputs": [
        {
          "output_type": "stream",
          "text": [
            "****************************\n"
          ],
          "name": "stdout"
        }
      ]
    },
    {
      "cell_type": "markdown",
      "metadata": {
        "id": "w6zcx7XiKNBE"
      },
      "source": [
        "default_param1.py"
      ]
    },
    {
      "cell_type": "code",
      "metadata": {
        "id": "vHev9W--KJ6Q",
        "outputId": "8c5a95f8-70f1-4696-91a1-c022a2c0cc5d",
        "colab": {
          "base_uri": "https://localhost:8080/"
        }
      },
      "source": [
        "def div(a, b=2) :\n",
        "    return a/b\n",
        "\n",
        "print('div(4) =',div(4))\n",
        "print('div(6,3) =',div(6,3))"
      ],
      "execution_count": null,
      "outputs": [
        {
          "output_type": "stream",
          "text": [
            "div(4) = 2.0\n",
            "div(6,3) = 2.0\n"
          ],
          "name": "stdout"
        }
      ]
    },
    {
      "cell_type": "markdown",
      "metadata": {
        "id": "I7oyNAlKL9QT"
      },
      "source": [
        "default_param2.py"
      ]
    },
    {
      "cell_type": "code",
      "metadata": {
        "id": "4SzWZDWtLDoN",
        "outputId": "f13d32a3-c8dd-48ff-ed43-31cfc25f861b",
        "colab": {
          "base_uri": "https://localhost:8080/"
        }
      },
      "source": [
        "def div(a=1,b=2) :\n",
        "    return a/b\n",
        "\n",
        "print('div() =', div())\n",
        "print('div(4) =', div(4))\n",
        "print('div(6,3) =', div(6,3))"
      ],
      "execution_count": null,
      "outputs": [
        {
          "output_type": "stream",
          "text": [
            "div() = 0.5\n",
            "div(4) = 2.0\n",
            "div(6,3) = 2.0\n"
          ],
          "name": "stdout"
        }
      ]
    },
    {
      "cell_type": "markdown",
      "metadata": {
        "id": "-PeNuLHgMOw7"
      },
      "source": [
        "root_func.py"
      ]
    },
    {
      "cell_type": "code",
      "metadata": {
        "id": "hLm8WzHvNjQO",
        "outputId": "94d6d9aa-9029-416b-a03a-28e83b79fdeb",
        "colab": {
          "base_uri": "https://localhost:8080/"
        }
      },
      "source": [
        "def get_root(a,b,c) :\n",
        "    r1 = (-b + (b**2 - 4*a*c)**0.5) / (2*a)\n",
        "    r2 = (-b - (b**2 - 4*a*c)**0.5) / (2*a)\n",
        "    return r1, r2\n",
        "\n",
        "result1, result2 = get_root(1,2,-8)\n",
        "print('해는', result1, '또는', result2)"
      ],
      "execution_count": null,
      "outputs": [
        {
          "output_type": "stream",
          "text": [
            "해는 2.0 또는 -4.0\n"
          ],
          "name": "stdout"
        }
      ]
    },
    {
      "cell_type": "markdown",
      "metadata": {
        "id": "NWoLt4WYPvCv"
      },
      "source": [
        "result1, result2 = get_root(1,-8,b=2)  >> TypeError, b에 이미 할당됐는데 또 할당했기 떄문 \n",
        "\n",
        "\n",
        "def func(a,b,c) :\n",
        "    print(a,b,c)\n",
        "\n",
        "func(1,c=2,b=3) >> 가능  \n",
        "1 3 2\n",
        "\n",
        "func(1,b=2,3) >> SyntaxError, 위치 인자 뒤에 키워드 인자가 와야함"
      ]
    },
    {
      "cell_type": "markdown",
      "metadata": {
        "id": "JsEOo5lbQ3DY"
      },
      "source": [
        "areas_of_shapes.py"
      ]
    },
    {
      "cell_type": "code",
      "metadata": {
        "id": "aSnzbHHzOKxw",
        "outputId": "b8b897fd-0543-45d5-ea85-c8c9f6e6e085",
        "colab": {
          "base_uri": "https://localhost:8080/"
        }
      },
      "source": [
        "def func(shape, width = 1, height = 1, radius = 1) :\n",
        "    if shape == 0 :   # shape 값이 0이면 사각형의 면적을 반환\n",
        "        return width * height\n",
        "    if shape == 1 :   # shape 값이 1이면 원의 면적을 반환\n",
        "        return 3.14 * radius ** 2\n",
        "\n",
        "print('rect area =', func(0, width=10, height=2))\n",
        "print('circle area =', func(1, radius=5))\n",
        "    \n",
        "print('rect area =', func(0, radius=5))"
      ],
      "execution_count": null,
      "outputs": [
        {
          "output_type": "stream",
          "text": [
            "rect area = 20\n",
            "circle area = 78.5\n",
            "rect area = 1\n"
          ],
          "name": "stdout"
        }
      ]
    },
    {
      "cell_type": "markdown",
      "metadata": {
        "id": "4ZzetPQ-TJYy"
      },
      "source": [
        "LAB 4-9 : 키워드 인자"
      ]
    },
    {
      "cell_type": "code",
      "metadata": {
        "id": "sR_y03bjRvBq",
        "outputId": "6c59890f-324f-4771-86a5-c059a2370c27",
        "colab": {
          "base_uri": "https://localhost:8080/"
        }
      },
      "source": [
        "# 1 - (a).\n",
        "def print_name(honorifics, first_name, last_name) :\n",
        "    '''키워드 인자를 이용한 출력용 프로그램'''\n",
        "    print(honorifics, first_name, last_name)\n",
        "\n",
        "print_name(first_name='Gildong', last_name='Hong', honorifics='Dr.')\n",
        "\n",
        "# 1 - (b).\n",
        "print_name('Gildong','Hong','Dr.')"
      ],
      "execution_count": null,
      "outputs": [
        {
          "output_type": "stream",
          "text": [
            "Dr. Gildong Hong\n",
            "Gildong Hong Dr.\n"
          ],
          "name": "stdout"
        }
      ]
    },
    {
      "cell_type": "markdown",
      "metadata": {
        "id": "n00KJ5Aqe-_g"
      },
      "source": [
        "arg_greet1.py"
      ]
    },
    {
      "cell_type": "code",
      "metadata": {
        "id": "VtaN3yYmez3e",
        "outputId": "709060d2-e461-400d-f523-de983b9aaf26",
        "colab": {
          "base_uri": "https://localhost:8080/"
        }
      },
      "source": [
        "def greet1(name) :\n",
        "    print('안녕하세요', name, '씨')\n",
        "greet1('홍길동')"
      ],
      "execution_count": null,
      "outputs": [
        {
          "output_type": "stream",
          "text": [
            "안녕하세요 홍길동 씨\n"
          ],
          "name": "stdout"
        }
      ]
    },
    {
      "cell_type": "markdown",
      "metadata": {
        "id": "hqVxZHYyfK0P"
      },
      "source": [
        "are_greet2.py"
      ]
    },
    {
      "cell_type": "code",
      "metadata": {
        "id": "QDVXqJCXfHp1",
        "outputId": "a8ea4866-5e05-4029-93a5-27e6617847ed",
        "colab": {
          "base_uri": "https://localhost:8080/"
        }
      },
      "source": [
        "def greet2(name1, name2) :\n",
        "    print('안녕하세요',name1,'씨')\n",
        "    print('안녕하세요', name2, '씨')\n",
        "\n",
        "greet2('홍길동','홍길순')"
      ],
      "execution_count": null,
      "outputs": [
        {
          "output_type": "stream",
          "text": [
            "안녕하세요 홍길동 씨\n",
            "안녕하세요 홍길순 씨\n"
          ],
          "name": "stdout"
        }
      ]
    },
    {
      "cell_type": "markdown",
      "metadata": {
        "id": "gGh6eGrzfYsg"
      },
      "source": [
        "arg_greet.py"
      ]
    },
    {
      "cell_type": "code",
      "metadata": {
        "id": "Gu7S8b3Wh7o4",
        "outputId": "a259f40a-3b4f-4e04-8adc-08ad9d8b4f25",
        "colab": {
          "base_uri": "https://localhost:8080/"
        }
      },
      "source": [
        "def greet(*names) :\n",
        "    for name in names :\n",
        "        print('안녕하세요', name, '씨')\n",
        "\n",
        "greet('홍길동', '양만춘', '이순신')\n",
        "greet('James', 'Thomas')"
      ],
      "execution_count": null,
      "outputs": [
        {
          "output_type": "stream",
          "text": [
            "안녕하세요 홍길동 씨\n",
            "안녕하세요 양만춘 씨\n",
            "안녕하세요 이순신 씨\n",
            "안녕하세요 James 씨\n",
            "안녕하세요 Thomas 씨\n"
          ],
          "name": "stdout"
        }
      ]
    },
    {
      "cell_type": "markdown",
      "metadata": {
        "id": "Mf6pR-L-idyq"
      },
      "source": [
        "arg_foo.py"
      ]
    },
    {
      "cell_type": "code",
      "metadata": {
        "id": "-PywGPCuifuG",
        "outputId": "a7b93d15-e7de-4aca-cd41-1e25338e4b00",
        "colab": {
          "base_uri": "https://localhost:8080/"
        }
      },
      "source": [
        "def foo(*args) :\n",
        "    print('인자의 개수:', len(args))\n",
        "    print('인자들 :', args)\n",
        "\n",
        "foo(10,20,30)"
      ],
      "execution_count": null,
      "outputs": [
        {
          "output_type": "stream",
          "text": [
            "인자의 개수: 3\n",
            "인자들 : (10, 20, 30)\n"
          ],
          "name": "stdout"
        }
      ]
    },
    {
      "cell_type": "markdown",
      "metadata": {
        "id": "z0yZW1y-jDJt"
      },
      "source": [
        "arg_sum_nums.py"
      ]
    },
    {
      "cell_type": "code",
      "metadata": {
        "id": "LsWvdckvirrA",
        "outputId": "a9a36946-3fd9-4194-d8bb-d2e64fb8f7e3",
        "colab": {
          "base_uri": "https://localhost:8080/"
        }
      },
      "source": [
        "def sum_nums(*numbers) :\n",
        "    result = 0\n",
        "    for n in numbers :\n",
        "        result += n\n",
        "    return result\n",
        "\n",
        "print(sum_nums(10,20,30))\n",
        "print(sum_nums(10,20,30,40,50))"
      ],
      "execution_count": null,
      "outputs": [
        {
          "output_type": "stream",
          "text": [
            "60\n",
            "150\n"
          ],
          "name": "stdout"
        }
      ]
    },
    {
      "cell_type": "markdown",
      "metadata": {
        "id": "39OPVPZWj9f6"
      },
      "source": [
        "LAB 4-10 : 가변 인자의 활용"
      ]
    },
    {
      "cell_type": "code",
      "metadata": {
        "id": "IlOdTD8Ljj__",
        "outputId": "26b4e302-57bd-443b-94fa-158215d3da6b",
        "colab": {
          "base_uri": "https://localhost:8080/"
        }
      },
      "source": [
        "#1.\n",
        "def sum_nums(*numbers) :\n",
        "    print('{}개의 인자 {}'.format(len(numbers),numbers))\n",
        "    sum1 = 0\n",
        "    ave1 = 0\n",
        "    for n in numbers :\n",
        "        sum1 += n\n",
        "    ave1 = sum1/len(numbers)\n",
        "    print('합계 : {}, 평균 : {}'.format(sum1, ave1))\n",
        "    print()\n",
        "    \n",
        "sum_nums(10,20,30)\n",
        "sum_nums(10,20,30,40,50)\n"
      ],
      "execution_count": null,
      "outputs": [
        {
          "output_type": "stream",
          "text": [
            "3개의 인자 (10, 20, 30)\n",
            "합계 : 60, 평균 : 20.0\n",
            "\n",
            "5개의 인자 (10, 20, 30, 40, 50)\n",
            "합계 : 150, 평균 : 30.0\n",
            "\n"
          ],
          "name": "stdout"
        }
      ]
    },
    {
      "cell_type": "code",
      "metadata": {
        "id": "Dz64CI2Zlbxx",
        "outputId": "9053c0bf-423e-4d63-b17f-e575cc547014",
        "colab": {
          "base_uri": "https://localhost:8080/"
        }
      },
      "source": [
        "#2.\n",
        "def min_nums(*numbers) :\n",
        "    lists=list(numbers)\n",
        "    lists.sort()   #리스트 정렬\n",
        "    print('최솟값은',lists[0])\n",
        "\n",
        "min_nums(20,40,50,10)"
      ],
      "execution_count": null,
      "outputs": [
        {
          "output_type": "stream",
          "text": [
            "최솟값은 10\n"
          ],
          "name": "stdout"
        }
      ]
    },
    {
      "cell_type": "markdown",
      "metadata": {
        "id": "Wuv24kL2mujF"
      },
      "source": [
        "#재귀함수\n",
        "\n",
        "factorial_recursion.py"
      ]
    },
    {
      "cell_type": "code",
      "metadata": {
        "id": "dZ3Kd4sGmhNS",
        "outputId": "c2b5c867-8d2e-491e-f921-0b3c3afe4c4d",
        "colab": {
          "base_uri": "https://localhost:8080/"
        }
      },
      "source": [
        "def factorial(n) :\n",
        "    if n<=1 :\n",
        "        return 1\n",
        "    else :\n",
        "        return n * factorial(n-1)\n",
        "\n",
        "\n",
        "n=5\n",
        "print('{}! = {}'.format(n, factorial(n)))"
      ],
      "execution_count": null,
      "outputs": [
        {
          "output_type": "stream",
          "text": [
            "5! = 120\n"
          ],
          "name": "stdout"
        }
      ]
    },
    {
      "cell_type": "markdown",
      "metadata": {
        "id": "pvZNVyXgoeFI"
      },
      "source": [
        "fibonacci_recursion.py"
      ]
    },
    {
      "cell_type": "code",
      "metadata": {
        "id": "GniXxsFxn-u3",
        "outputId": "c6f173f1-c950-49b9-d585-8f6747c5a511",
        "colab": {
          "base_uri": "https://localhost:8080/"
        }
      },
      "source": [
        "def fibonacci(n) :\n",
        "    if n<=1 :\n",
        "        return n\n",
        "    else :\n",
        "        return (fibonacci(n-1) + fibonacci(n-2))\n",
        "    \n",
        "nterms = int(input('몇 개의 피보나치수를 원하세요? '))\n",
        "\n",
        "if nterms <= 0 :\n",
        "    print('오류 : 양수를 입력하세요.')\n",
        "else :\n",
        "    print('Fibonacci 수열 : ', end='')\n",
        "    for i in range(nterms) :\n",
        "        print(fibonacci(i), end=' ')\n"
      ],
      "execution_count": null,
      "outputs": [
        {
          "output_type": "stream",
          "text": [
            "몇 개의 피보나치수를 원하세요? 10\n",
            "Fibonacci 수열 : 0 1 1 2 3 5 8 13 21 34 "
          ],
          "name": "stdout"
        }
      ]
    },
    {
      "cell_type": "markdown",
      "metadata": {
        "id": "OGUbxCDdpdPY"
      },
      "source": [
        "#입력함수와 출력함수\n",
        "\n",
        "input_name1.py"
      ]
    },
    {
      "cell_type": "code",
      "metadata": {
        "id": "aqOcYNtLpYeF",
        "outputId": "fe8c5ed4-375e-42aa-beaf-faeaafaa809e",
        "colab": {
          "base_uri": "https://localhost:8080/"
        }
      },
      "source": [
        "print('Enter your name : ')\n",
        "name = input()\n",
        "print('Hello', name, '!')"
      ],
      "execution_count": 103,
      "outputs": [
        {
          "output_type": "stream",
          "text": [
            "Enter your name : \n",
            "Hong GilDong\n",
            "Hello Hong GilDong !\n"
          ],
          "name": "stdout"
        }
      ]
    },
    {
      "cell_type": "markdown",
      "metadata": {
        "id": "Y7Sq-X0jqydF"
      },
      "source": [
        "input_name2.py"
      ]
    },
    {
      "cell_type": "code",
      "metadata": {
        "id": "GkhCJLAcqk1X",
        "outputId": "a9d3f081-59e6-4ebe-8240-75461d866bf1",
        "colab": {
          "base_uri": "https://localhost:8080/"
        }
      },
      "source": [
        "name = input('Enter your name : ')\n",
        "print('Hello', name, '!')"
      ],
      "execution_count": 104,
      "outputs": [
        {
          "output_type": "stream",
          "text": [
            "Enter your name : Hong GilDong\n",
            "Hello Hong GilDong !\n"
          ],
          "name": "stdout"
        }
      ]
    },
    {
      "cell_type": "markdown",
      "metadata": {
        "id": "8edzjqBirRU1"
      },
      "source": [
        "대화창 실습 : input() 함수와 공백 구분자를 사용한 split() 메소드"
      ]
    },
    {
      "cell_type": "code",
      "metadata": {
        "id": "yDNJfretq6S6",
        "outputId": "69a6847c-8df9-4ad6-dbcc-58d4e4654345",
        "colab": {
          "base_uri": "https://localhost:8080/"
        }
      },
      "source": [
        "s1, s2 = input('문자열 2개를 입력하세요 : ').split()\n",
        "print(s1)\n",
        "print(s2)"
      ],
      "execution_count": 105,
      "outputs": [
        {
          "output_type": "stream",
          "text": [
            "문자열 2개를 입력하세요 : Hello Python\n",
            "Hello\n",
            "Python\n"
          ],
          "name": "stdout"
        }
      ]
    },
    {
      "cell_type": "markdown",
      "metadata": {
        "id": "7TuSg2-etPYz"
      },
      "source": [
        "대화창 실습 : 공백 구분자를 사용한 input() 실습 + map함수"
      ]
    },
    {
      "cell_type": "code",
      "metadata": {
        "id": "Zu3UfhNkrh5g",
        "outputId": "2010d019-47d7-4438-ff30-748c976c8de8",
        "colab": {
          "base_uri": "https://localhost:8080/"
        }
      },
      "source": [
        "num1, num2, num3 = input('세 정수를 입력하세요 : ').split()\n",
        "num1, num2, num3 = int(num1), int(num2), int(num3)\n",
        "print(num1, num2, num3)\n",
        "\n",
        "num1, num2, num3 = map(int, input('세 정수를 입력하세요: ').split())\n",
        "print(num1,num2,num3)\n",
        "\n",
        "num1, num2, num3 = input('세 정수를 , 로 구분하여 입력하세요 : ').split(',')\n",
        "num1, num2, num3 = int(num1), int(num2), int(num3)\n",
        "print(num1, num2, num3)"
      ],
      "execution_count": 110,
      "outputs": [
        {
          "output_type": "stream",
          "text": [
            "세 정수를 입력하세요 : 100 200 300\n",
            "100 200 300\n",
            "세 정수를 입력하세요: 100 200 300\n",
            "100 200 300\n",
            "세 정수를 , 로 구분하여 입력하세요 : 100, 200, 300\n",
            "100 200 300\n"
          ],
          "name": "stdout"
        }
      ]
    },
    {
      "cell_type": "markdown",
      "metadata": {
        "id": "862aW95It7oc"
      },
      "source": [
        "대화창 실습 : 여러가지 문자열 메소드"
      ]
    },
    {
      "cell_type": "code",
      "metadata": {
        "id": "kGiMFMq8ttFA",
        "outputId": "f06a3fab-63b1-4dc4-ea82-1319a6648148",
        "colab": {
          "base_uri": "https://localhost:8080/",
          "height": 36
        }
      },
      "source": [
        "'hello'.upper()"
      ],
      "execution_count": 112,
      "outputs": [
        {
          "output_type": "execute_result",
          "data": {
            "application/vnd.google.colaboratory.intrinsic+json": {
              "type": "string"
            },
            "text/plain": [
              "'HELLO'"
            ]
          },
          "metadata": {
            "tags": []
          },
          "execution_count": 112
        }
      ]
    },
    {
      "cell_type": "code",
      "metadata": {
        "id": "8QPU_ZXfuSPo",
        "outputId": "9d0fefd6-992f-4aee-ea25-aefe26f5c634",
        "colab": {
          "base_uri": "https://localhost:8080/",
          "height": 36
        }
      },
      "source": [
        "'Hello'.lower()"
      ],
      "execution_count": 113,
      "outputs": [
        {
          "output_type": "execute_result",
          "data": {
            "application/vnd.google.colaboratory.intrinsic+json": {
              "type": "string"
            },
            "text/plain": [
              "'hello'"
            ]
          },
          "metadata": {
            "tags": []
          },
          "execution_count": 113
        }
      ]
    },
    {
      "cell_type": "code",
      "metadata": {
        "id": "X8ZKniuDudaY",
        "outputId": "d0a48a5d-68cd-4af7-b801-77ed706a352e",
        "colab": {
          "base_uri": "https://localhost:8080/"
        }
      },
      "source": [
        "'Guido Van Rossum'.split()"
      ],
      "execution_count": 120,
      "outputs": [
        {
          "output_type": "execute_result",
          "data": {
            "text/plain": [
              "['Guido', 'Van', 'Rossum']"
            ]
          },
          "metadata": {
            "tags": []
          },
          "execution_count": 120
        }
      ]
    },
    {
      "cell_type": "code",
      "metadata": {
        "id": "om4iECu5uqps",
        "outputId": "0f57e47e-d7d8-4505-e7dd-a0307c182947",
        "colab": {
          "base_uri": "https://localhost:8080/"
        }
      },
      "source": [
        "'Apple,Banana,Orange'.split(',')"
      ],
      "execution_count": 121,
      "outputs": [
        {
          "output_type": "execute_result",
          "data": {
            "text/plain": [
              "['Apple', 'Banana', 'Orange']"
            ]
          },
          "metadata": {
            "tags": []
          },
          "execution_count": 121
        }
      ]
    },
    {
      "cell_type": "code",
      "metadata": {
        "id": "eGajCIm0uuUL",
        "outputId": "6fb8db60-284d-4772-c49f-2fbef0e1a6c0",
        "colab": {
          "base_uri": "https://localhost:8080/"
        }
      },
      "source": [
        "'Apple|Banana|Orange|Kiwi'.split('|')"
      ],
      "execution_count": 116,
      "outputs": [
        {
          "output_type": "execute_result",
          "data": {
            "text/plain": [
              "['Apple', 'Banana', 'Orange', 'Kiwi']"
            ]
          },
          "metadata": {
            "tags": []
          },
          "execution_count": 116
        }
      ]
    },
    {
      "cell_type": "markdown",
      "metadata": {
        "id": "77A4bCd5u-2I"
      },
      "source": [
        "대화창 실습 : format() 메소드와 플레이스홀더의 인덱스"
      ]
    },
    {
      "cell_type": "code",
      "metadata": {
        "id": "5wIoh6_Suv_k",
        "outputId": "60b74529-dfca-4d00-fc98-274c166bec4e",
        "colab": {
          "base_uri": "https://localhost:8080/"
        }
      },
      "source": [
        "print('{} Python!'.format('Hello'))\n",
        "print('{} Python!'.format('Hi'))\n",
        "print('{0} Python!'.format('Hello'))"
      ],
      "execution_count": 124,
      "outputs": [
        {
          "output_type": "stream",
          "text": [
            "Hello Python!\n",
            "Hi Python!\n",
            "Hello Python!\n"
          ],
          "name": "stdout"
        }
      ]
    },
    {
      "cell_type": "markdown",
      "metadata": {
        "id": "hRT41zUE0dDU"
      },
      "source": [
        "대화창 실습 : format() 메소드와 플레이스홀더"
      ]
    },
    {
      "cell_type": "code",
      "metadata": {
        "id": "YUGpv0bp0WYn",
        "outputId": "695dc1ae-ac84-4b9b-9441-9e3af0f4e116",
        "colab": {
          "base_uri": "https://localhost:8080/"
        }
      },
      "source": [
        "print('I like {} and {}'.format('Python', 'Java'))\n",
        "print('I like {0} and {1}'.format('Python','Java'))\n",
        "print('I like {1} and {0}'.format('Python','Java'))"
      ],
      "execution_count": 126,
      "outputs": [
        {
          "output_type": "stream",
          "text": [
            "I like Python and Java\n",
            "I like Python and Java\n",
            "I like Java and Python\n"
          ],
          "name": "stdout"
        }
      ]
    },
    {
      "cell_type": "markdown",
      "metadata": {
        "id": "45y4XKqE06lZ"
      },
      "source": [
        "대화창 실습 : format() 메소드와 플레이스홀더의 인덱스 사용법"
      ]
    },
    {
      "cell_type": "code",
      "metadata": {
        "id": "PrgyP_W70xpG",
        "outputId": "a5b6f480-dc6b-463b-e345-9522bce89aaf",
        "colab": {
          "base_uri": "https://localhost:8080/"
        }
      },
      "source": [
        "print('{0}, {0}, {0}! Python'.format('Hello'))\n",
        "print('{0}, {0}, {0}! Python'.format('Hello','Hi'))\n",
        "print('{0} {1}, {0} {1}, {0} {1}!'.format('Hello', 'Python'))\n",
        "print('{0} {1}, {0} {1}, {0} {1}!'.format(100,200))  \n"
      ],
      "execution_count": 128,
      "outputs": [
        {
          "output_type": "stream",
          "text": [
            "Hello, Hello, Hello! Python\n",
            "Hello, Hello, Hello! Python\n",
            "Hello Python, Hello Python, Hello Python!\n",
            "100 200, 100 200, 100 200!\n"
          ],
          "name": "stdout"
        }
      ]
    },
    {
      "cell_type": "markdown",
      "metadata": {
        "id": "03eu1JE45xbK"
      },
      "source": [
        "대화창 실습 : 플레이스홀더 내의 객체 출력"
      ]
    },
    {
      "cell_type": "code",
      "metadata": {
        "id": "gCvyY80k5mxu",
        "outputId": "9d46521d-1d30-45eb-b4aa-56b2d661310a",
        "colab": {
          "base_uri": "https://localhost:8080/"
        }
      },
      "source": [
        "greet = 'Hello'\n",
        "print('{} World!'.format(greet))"
      ],
      "execution_count": 130,
      "outputs": [
        {
          "output_type": "stream",
          "text": [
            "Hello World!\n"
          ],
          "name": "stdout"
        }
      ]
    },
    {
      "cell_type": "markdown",
      "metadata": {
        "id": "NFHNvqRZ56-w"
      },
      "source": [
        "print_format1.py"
      ]
    },
    {
      "cell_type": "code",
      "metadata": {
        "id": "vrj1nlKK55ck",
        "outputId": "7f80d279-1da3-4626-d684-d5f6cf21d0d7",
        "colab": {
          "base_uri": "https://localhost:8080/"
        }
      },
      "source": [
        "name = 'Hong GilDong'\n",
        "print('My name is {}!'.format(name))"
      ],
      "execution_count": 132,
      "outputs": [
        {
          "output_type": "stream",
          "text": [
            "My name is Hong GilDong!\n"
          ],
          "name": "stdout"
        }
      ]
    },
    {
      "cell_type": "markdown",
      "metadata": {
        "id": "ebq33QBV6FLc"
      },
      "source": [
        "print_format2.py"
      ]
    },
    {
      "cell_type": "code",
      "metadata": {
        "id": "JK1eztXr5_ug",
        "outputId": "1b5ad75a-8a62-4f19-93eb-5941afa28f43",
        "colab": {
          "base_uri": "https://localhost:8080/"
        }
      },
      "source": [
        "name = input('당신의 이름을 입력해주세요 : ')\n",
        "age = input('나이를 입력해주세요 : ')\n",
        "job = input('직업을 입력해주세요 : ')\n",
        "\n",
        "print('당신의 이름은 {}, 나이는 {}살, 직업은 {}입니다.'.format(name,age,job))"
      ],
      "execution_count": 133,
      "outputs": [
        {
          "output_type": "stream",
          "text": [
            "당신의 이름을 입력해주세요 : 김철수\n",
            "나이를 입력해주세요 : 21\n",
            "직업을 입력해주세요 : 학생\n",
            "당신의 이름은 김철수, 나이는 21살, 직업은 학생입니다.\n"
          ],
          "name": "stdout"
        }
      ]
    },
    {
      "cell_type": "markdown",
      "metadata": {
        "id": "Ay2Gwkul6eDs"
      },
      "source": [
        "LAB 4-11 : format() 메소드의 활용"
      ]
    },
    {
      "cell_type": "code",
      "metadata": {
        "id": "Pawr3UAQ6XYc",
        "outputId": "b4b55e82-969b-4668-ecdb-e851b3d54137",
        "colab": {
          "base_uri": "https://localhost:8080/"
        }
      },
      "source": [
        "#1-(a).\n",
        "name = input('당신의 이름을 입력해주세요 : ')\n",
        "age = input('나이를 입력해주세요 : ')\n",
        "job = input('직업을 입력해주세요 : ')\n",
        "place = input('사는 곳을 입력해 주세요 : ')\n",
        "\n",
        "print('당신의 이름은 {}, 나이는 {}살, 직업은 {}, 사는 곳은 {}입니다.'.format(name,age,job,place))"
      ],
      "execution_count": 134,
      "outputs": [
        {
          "output_type": "stream",
          "text": [
            "당신의 이름을 입력해주세요 : 김철수\n",
            "나이를 입력해주세요 : 21\n",
            "직업을 입력해주세요 : 학생\n",
            "사는 곳을 입력해 주세요 : 창원시\n",
            "당신의 이름은 김철수, 나이는 21살, 직업은 학생, 사는 곳은 창원시입니다.\n"
          ],
          "name": "stdout"
        }
      ]
    },
    {
      "cell_type": "code",
      "metadata": {
        "id": "40dva2G669Ow",
        "outputId": "4cfe6150-4d7e-4f20-931b-1f519e258c5d",
        "colab": {
          "base_uri": "https://localhost:8080/"
        }
      },
      "source": [
        "#1-(b)\n",
        "name = input('당신의 이름을 입력해주세요 : ')\n",
        "age = input('나이를 입력해주세요 : ')\n",
        "job = input('직업을 입력해주세요 : ')\n",
        "place = input('사는 곳을 입력해 주세요 : ')\n",
        "\n",
        "print('당신의 이름은',name,',','나이는',age,'살',',','직업은',job,',','사는 곳은',place,'입니다.')"
      ],
      "execution_count": 137,
      "outputs": [
        {
          "output_type": "stream",
          "text": [
            "당신의 이름을 입력해주세요 : 김철수\n",
            "나이를 입력해주세요 : 21\n",
            "직업을 입력해주세요 : 학생\n",
            "사는 곳을 입력해 주세요 : 창원시\n",
            "당신의 이름은 김철수 , 나이는 21 살 , 직업은 학생 , 사는 곳은 창원시 입니다.\n"
          ],
          "name": "stdout"
        }
      ]
    },
    {
      "cell_type": "markdown",
      "metadata": {
        "id": "7A5FNdq-7s2x"
      },
      "source": [
        "#고급 format() 메소드\n",
        "\n",
        "대화창 실습 : 출력 간의 크기 지정을 통한 정수 포매팅"
      ]
    },
    {
      "cell_type": "code",
      "metadata": {
        "id": "-NRrxmV57PBe",
        "outputId": "22c5e954-3237-4483-c0eb-0fcd433eda7b",
        "colab": {
          "base_uri": "https://localhost:8080/"
        }
      },
      "source": [
        "for i in range(2,15,2) :\n",
        "    print('{0:3d} {1:4d} {2:5d}'.format(i,i*i,i*i*i))"
      ],
      "execution_count": 138,
      "outputs": [
        {
          "output_type": "stream",
          "text": [
            "  2    4     8\n",
            "  4   16    64\n",
            "  6   36   216\n",
            "  8   64   512\n",
            " 10  100  1000\n",
            " 12  144  1728\n",
            " 14  196  2744\n"
          ],
          "name": "stdout"
        }
      ]
    },
    {
      "cell_type": "markdown",
      "metadata": {
        "id": "H1D2paRi8J9_"
      },
      "source": [
        "대화창 실습 : 소수점 아래 자리수를 조절하는 실수 포매팅"
      ]
    },
    {
      "cell_type": "code",
      "metadata": {
        "id": "J_JYiAus8HZ3",
        "outputId": "ecbf98c6-5c35-4904-f7dd-63ca42e12eff",
        "colab": {
          "base_uri": "https://localhost:8080/"
        }
      },
      "source": [
        "print('소수점 두 자리로 표현한 원주율 = {0:10.2f}'.format(3.1415926))\n",
        "print('소수점 세 자리로 표현한 원주율 = {0:10.3f}'.format(3.1415926))\n",
        "print('소수점 네 자리로 표현한 원주율 = {0:10.4f}'.format(3.1415926))"
      ],
      "execution_count": 140,
      "outputs": [
        {
          "output_type": "stream",
          "text": [
            "소수점 두 자리로 표현한 원주율 =       3.14\n",
            "소수점 세 자리로 표현한 원주율 =      3.142\n",
            "소수점 네 자리로 표현한 원주율 =     3.1416\n"
          ],
          "name": "stdout"
        }
      ]
    },
    {
      "cell_type": "markdown",
      "metadata": {
        "id": "68qn_JFa8j1n"
      },
      "source": [
        "대화창 실습 : 실수 표현을 위한 포매팅에서 소수점"
      ]
    },
    {
      "cell_type": "code",
      "metadata": {
        "id": "udIDCHLd8ej9",
        "outputId": "0b553c51-99ac-4388-9498-d676c78105d8",
        "colab": {
          "base_uri": "https://localhost:8080/"
        }
      },
      "source": [
        "print('1/3은 {:.3f}'.format(1/3))"
      ],
      "execution_count": 141,
      "outputs": [
        {
          "output_type": "stream",
          "text": [
            "1/3은 0.333\n"
          ],
          "name": "stdout"
        }
      ]
    },
    {
      "cell_type": "markdown",
      "metadata": {
        "id": "SaKIoYs18vbC"
      },
      "source": [
        "대화창 실습 : 1000단위 쉼표 출력방법"
      ]
    },
    {
      "cell_type": "code",
      "metadata": {
        "id": "Lb8hPJ308tZ0",
        "outputId": "9edf1728-620a-42bc-e0cf-051d7548b4d5",
        "colab": {
          "base_uri": "https://localhost:8080/"
        }
      },
      "source": [
        "print('{:,}'.format(1234567890))"
      ],
      "execution_count": 142,
      "outputs": [
        {
          "output_type": "stream",
          "text": [
            "1,234,567,890\n"
          ],
          "name": "stdout"
        }
      ]
    },
    {
      "cell_type": "markdown",
      "metadata": {
        "id": "s2ug5PsF843o"
      },
      "source": [
        "대화창 실습 : 플레이스홀더 내에 키-값 형식으로 인자를 전달하는 방법"
      ]
    },
    {
      "cell_type": "code",
      "metadata": {
        "id": "Re_05_AT823K",
        "outputId": "6c08725c-2f00-45aa-bf8f-87d6fe8b468c",
        "colab": {
          "base_uri": "https://localhost:8080/"
        }
      },
      "source": [
        "print('위도 : {0}, 경도 : {1}'.format('35.17N','129.07E'))\n",
        "print('위도 : {lat}, 경도 : {long}'.format(lat='35.17N',long='129.07E'))"
      ],
      "execution_count": 144,
      "outputs": [
        {
          "output_type": "stream",
          "text": [
            "위도 : 35.17N, 경도 : 129.07E\n",
            "위도 : 35.17N, 경도 : 129.07E\n"
          ],
          "name": "stdout"
        }
      ]
    },
    {
      "cell_type": "markdown",
      "metadata": {
        "id": "MsW7UXll9VEQ"
      },
      "source": [
        "#문자열의 다양한 메소드\n",
        "\n",
        "대화창 실습 : 문자열의 다양한 메소드"
      ]
    },
    {
      "cell_type": "code",
      "metadata": {
        "id": "phkgm8Nz9ELI",
        "outputId": "b39193fc-d74e-42ac-9873-b6496fa900eb",
        "colab": {
          "base_uri": "https://localhost:8080/",
          "height": 36
        }
      },
      "source": [
        "'abc'.upper()"
      ],
      "execution_count": 145,
      "outputs": [
        {
          "output_type": "execute_result",
          "data": {
            "application/vnd.google.colaboratory.intrinsic+json": {
              "type": "string"
            },
            "text/plain": [
              "'ABC'"
            ]
          },
          "metadata": {
            "tags": []
          },
          "execution_count": 145
        }
      ]
    },
    {
      "cell_type": "code",
      "metadata": {
        "id": "ihbRjssm-MCg",
        "outputId": "e7fb1eaa-6f6e-4196-ad61-e22b54bd45b9",
        "colab": {
          "base_uri": "https://localhost:8080/",
          "height": 36
        }
      },
      "source": [
        "'ABC'.lower()"
      ],
      "execution_count": 146,
      "outputs": [
        {
          "output_type": "execute_result",
          "data": {
            "application/vnd.google.colaboratory.intrinsic+json": {
              "type": "string"
            },
            "text/plain": [
              "'abc'"
            ]
          },
          "metadata": {
            "tags": []
          },
          "execution_count": 146
        }
      ]
    },
    {
      "cell_type": "code",
      "metadata": {
        "id": "wdsy8HDB-NsG",
        "outputId": "9f1023b3-7725-48d4-c7f5-2c53d601e77c",
        "colab": {
          "base_uri": "https://localhost:8080/"
        }
      },
      "source": [
        "'hobby'.count('h')"
      ],
      "execution_count": 147,
      "outputs": [
        {
          "output_type": "execute_result",
          "data": {
            "text/plain": [
              "1"
            ]
          },
          "metadata": {
            "tags": []
          },
          "execution_count": 147
        }
      ]
    },
    {
      "cell_type": "code",
      "metadata": {
        "id": "_426Sg50-PvC",
        "outputId": "da33d66d-8c09-481c-e394-a69850df4a44",
        "colab": {
          "base_uri": "https://localhost:8080/"
        }
      },
      "source": [
        "'hobby'.count('b')"
      ],
      "execution_count": 149,
      "outputs": [
        {
          "output_type": "execute_result",
          "data": {
            "text/plain": [
              "2"
            ]
          },
          "metadata": {
            "tags": []
          },
          "execution_count": 149
        }
      ]
    },
    {
      "cell_type": "code",
      "metadata": {
        "id": "3cEDjZnQ-Rxg",
        "outputId": "a6bc74bf-a6da-4dd7-bbfb-a00f3be78f1f",
        "colab": {
          "base_uri": "https://localhost:8080/"
        }
      },
      "source": [
        "'hobby'.find('h')"
      ],
      "execution_count": 150,
      "outputs": [
        {
          "output_type": "execute_result",
          "data": {
            "text/plain": [
              "0"
            ]
          },
          "metadata": {
            "tags": []
          },
          "execution_count": 150
        }
      ]
    },
    {
      "cell_type": "code",
      "metadata": {
        "id": "MWPWQkL6-Tn0",
        "outputId": "c1378bdb-c802-48fa-eeb1-4bf0299ebc80",
        "colab": {
          "base_uri": "https://localhost:8080/"
        }
      },
      "source": [
        "'hobby'.find('b')"
      ],
      "execution_count": 151,
      "outputs": [
        {
          "output_type": "execute_result",
          "data": {
            "text/plain": [
              "2"
            ]
          },
          "metadata": {
            "tags": []
          },
          "execution_count": 151
        }
      ]
    },
    {
      "cell_type": "markdown",
      "metadata": {
        "id": "kMVuYeSy-aMr"
      },
      "source": [
        "대화창 실습 : 문자열의 메소드 실습"
      ]
    },
    {
      "cell_type": "code",
      "metadata": {
        "id": "KqrDw5fe-Vnk",
        "outputId": "e7281df2-ff0d-451b-92ff-7aec53123707",
        "colab": {
          "base_uri": "https://localhost:8080/",
          "height": 36
        }
      },
      "source": [
        "','.join('ABCD')"
      ],
      "execution_count": 152,
      "outputs": [
        {
          "output_type": "execute_result",
          "data": {
            "application/vnd.google.colaboratory.intrinsic+json": {
              "type": "string"
            },
            "text/plain": [
              "'A,B,C,D'"
            ]
          },
          "metadata": {
            "tags": []
          },
          "execution_count": 152
        }
      ]
    },
    {
      "cell_type": "code",
      "metadata": {
        "id": "7QxrI2qf-kHK",
        "outputId": "7fd90b3a-c7b8-4181-8adb-8ae7a6d1993e",
        "colab": {
          "base_uri": "https://localhost:8080/",
          "height": 36
        }
      },
      "source": [
        "' hello '.rstrip()   #오른쪽 공백 지우기"
      ],
      "execution_count": 153,
      "outputs": [
        {
          "output_type": "execute_result",
          "data": {
            "application/vnd.google.colaboratory.intrinsic+json": {
              "type": "string"
            },
            "text/plain": [
              "' hello'"
            ]
          },
          "metadata": {
            "tags": []
          },
          "execution_count": 153
        }
      ]
    },
    {
      "cell_type": "code",
      "metadata": {
        "id": "Bg5YKEPR-msQ",
        "outputId": "520ea0c8-afa0-4e89-c17b-9019ba5e169f",
        "colab": {
          "base_uri": "https://localhost:8080/",
          "height": 36
        }
      },
      "source": [
        "' hello '.lstrip()"
      ],
      "execution_count": 154,
      "outputs": [
        {
          "output_type": "execute_result",
          "data": {
            "application/vnd.google.colaboratory.intrinsic+json": {
              "type": "string"
            },
            "text/plain": [
              "'hello '"
            ]
          },
          "metadata": {
            "tags": []
          },
          "execution_count": 154
        }
      ]
    },
    {
      "cell_type": "code",
      "metadata": {
        "id": "goWAeSu--os2",
        "outputId": "7557b578-75d4-4034-ad6d-85b44193956b",
        "colab": {
          "base_uri": "https://localhost:8080/",
          "height": 36
        }
      },
      "source": [
        "' hello '.strip()    #공백 지우기"
      ],
      "execution_count": 155,
      "outputs": [
        {
          "output_type": "execute_result",
          "data": {
            "application/vnd.google.colaboratory.intrinsic+json": {
              "type": "string"
            },
            "text/plain": [
              "'hello'"
            ]
          },
          "metadata": {
            "tags": []
          },
          "execution_count": 155
        }
      ]
    },
    {
      "cell_type": "code",
      "metadata": {
        "id": "71YXKpP1-pq5",
        "outputId": "c16ffe04-6fbd-469e-88fd-76a57bfbe563",
        "colab": {
          "base_uri": "https://localhost:8080/",
          "height": 36
        }
      },
      "source": [
        "s1 = 'Long live the King!'\n",
        "s1.replace('King','Queen')    #문자열 교환"
      ],
      "execution_count": 157,
      "outputs": [
        {
          "output_type": "execute_result",
          "data": {
            "application/vnd.google.colaboratory.intrinsic+json": {
              "type": "string"
            },
            "text/plain": [
              "'Long live the Queen!'"
            ]
          },
          "metadata": {
            "tags": []
          },
          "execution_count": 157
        }
      ]
    },
    {
      "cell_type": "code",
      "metadata": {
        "id": "47JdDYDy-3sx",
        "outputId": "97681609-7ed4-4e86-b0e8-ae49c4a84872",
        "colab": {
          "base_uri": "https://localhost:8080/",
          "height": 36
        }
      },
      "source": [
        "s1.title()     #타이틀 문자열로 변환"
      ],
      "execution_count": 159,
      "outputs": [
        {
          "output_type": "execute_result",
          "data": {
            "application/vnd.google.colaboratory.intrinsic+json": {
              "type": "string"
            },
            "text/plain": [
              "'Long Live The King!'"
            ]
          },
          "metadata": {
            "tags": []
          },
          "execution_count": 159
        }
      ]
    },
    {
      "cell_type": "code",
      "metadata": {
        "id": "Wn6wSNWm-8U2",
        "outputId": "ef695379-fc9c-4fd7-decc-faaada4cccde",
        "colab": {
          "base_uri": "https://localhost:8080/",
          "height": 36
        }
      },
      "source": [
        "s1.capitalize()   #첫 문자만 대문자로 변환"
      ],
      "execution_count": 160,
      "outputs": [
        {
          "output_type": "execute_result",
          "data": {
            "application/vnd.google.colaboratory.intrinsic+json": {
              "type": "string"
            },
            "text/plain": [
              "'Long live the king!'"
            ]
          },
          "metadata": {
            "tags": []
          },
          "execution_count": 160
        }
      ]
    },
    {
      "cell_type": "code",
      "metadata": {
        "id": "GbRa9rZ2_F4A",
        "outputId": "edfcf9f2-9008-4377-dc7f-57d22cde4423",
        "colab": {
          "base_uri": "https://localhost:8080/"
        }
      },
      "source": [
        "s2 = 'X:Y:Z'\n",
        "s2.split(':')   #':'를 구분자로 하여 s2 문자를 리스트로 분리"
      ],
      "execution_count": 161,
      "outputs": [
        {
          "output_type": "execute_result",
          "data": {
            "text/plain": [
              "['X', 'Y', 'Z']"
            ]
          },
          "metadata": {
            "tags": []
          },
          "execution_count": 161
        }
      ]
    },
    {
      "cell_type": "code",
      "metadata": {
        "id": "Ae9FlDtr_Tl4",
        "outputId": "74ed481d-64f4-46fc-fcee-f044b96836b6",
        "colab": {
          "base_uri": "https://localhost:8080/",
          "height": 36
        }
      },
      "source": [
        "'Hello ' + 'Python!'"
      ],
      "execution_count": 163,
      "outputs": [
        {
          "output_type": "execute_result",
          "data": {
            "application/vnd.google.colaboratory.intrinsic+json": {
              "type": "string"
            },
            "text/plain": [
              "'Hello Python!'"
            ]
          },
          "metadata": {
            "tags": []
          },
          "execution_count": 163
        }
      ]
    },
    {
      "cell_type": "markdown",
      "metadata": {
        "id": "vwPMmNM1Bz91"
      },
      "source": [
        "LAB 4-12 : 문자열의 여러 메소드 활용"
      ]
    },
    {
      "cell_type": "code",
      "metadata": {
        "id": "xQ-nWz49_XJv",
        "outputId": "05cb0a33-2475-4542-e87f-292547404200",
        "colab": {
          "base_uri": "https://localhost:8080/",
          "height": 36
        }
      },
      "source": [
        "#1.\n",
        "'_'.join('ABCD')"
      ],
      "execution_count": 165,
      "outputs": [
        {
          "output_type": "execute_result",
          "data": {
            "application/vnd.google.colaboratory.intrinsic+json": {
              "type": "string"
            },
            "text/plain": [
              "'A_B_C_D'"
            ]
          },
          "metadata": {
            "tags": []
          },
          "execution_count": 165
        }
      ]
    },
    {
      "cell_type": "code",
      "metadata": {
        "id": "S9KzAT7qB7Yi",
        "outputId": "dc2e11eb-8df4-45eb-bd20-6345d4068323",
        "colab": {
          "base_uri": "https://localhost:8080/",
          "height": 36
        }
      },
      "source": [
        "#2.\n",
        "s = 'My favorite thing is monsters.'\n",
        "s.replace('monsters','cartoons')"
      ],
      "execution_count": 166,
      "outputs": [
        {
          "output_type": "execute_result",
          "data": {
            "application/vnd.google.colaboratory.intrinsic+json": {
              "type": "string"
            },
            "text/plain": [
              "'My favorite thing is cartoons.'"
            ]
          },
          "metadata": {
            "tags": []
          },
          "execution_count": 166
        }
      ]
    },
    {
      "cell_type": "markdown",
      "metadata": {
        "id": "EUVe132FCL6l"
      },
      "source": [
        "#내장함수\n",
        "\n",
        "대화창 실습 : 대화형 모드를 통한 여러 가지 내장 함수 실습"
      ]
    },
    {
      "cell_type": "code",
      "metadata": {
        "id": "1SD4qKvCCJ2H",
        "outputId": "60018eed-c010-40c5-ff3a-f1e53f537fe0",
        "colab": {
          "base_uri": "https://localhost:8080/"
        }
      },
      "source": [
        "abs(-100)     # 절대값을 반환하는 함수"
      ],
      "execution_count": 167,
      "outputs": [
        {
          "output_type": "execute_result",
          "data": {
            "text/plain": [
              "100"
            ]
          },
          "metadata": {
            "tags": []
          },
          "execution_count": 167
        }
      ]
    },
    {
      "cell_type": "code",
      "metadata": {
        "id": "I6IMZM48CWIo",
        "outputId": "c2203a7e-b216-445e-9347-1492b246c829",
        "colab": {
          "base_uri": "https://localhost:8080/"
        }
      },
      "source": [
        "min(200,100,300,400)   # 최솟값 반환"
      ],
      "execution_count": 168,
      "outputs": [
        {
          "output_type": "execute_result",
          "data": {
            "text/plain": [
              "100"
            ]
          },
          "metadata": {
            "tags": []
          },
          "execution_count": 168
        }
      ]
    },
    {
      "cell_type": "code",
      "metadata": {
        "id": "MGsFI8PQCexf",
        "outputId": "7cc2effe-1f92-4223-8bf5-93c170eb3a2d",
        "colab": {
          "base_uri": "https://localhost:8080/"
        }
      },
      "source": [
        "max(200,100,300,400)"
      ],
      "execution_count": 169,
      "outputs": [
        {
          "output_type": "execute_result",
          "data": {
            "text/plain": [
              "400"
            ]
          },
          "metadata": {
            "tags": []
          },
          "execution_count": 169
        }
      ]
    },
    {
      "cell_type": "code",
      "metadata": {
        "id": "FWLPPABVCikd",
        "outputId": "e2eee803-3acb-4b43-8dc7-d33aacabae0c",
        "colab": {
          "base_uri": "https://localhost:8080/"
        }
      },
      "source": [
        "str1 = 'FOO'\n",
        "len(str1)"
      ],
      "execution_count": 170,
      "outputs": [
        {
          "output_type": "execute_result",
          "data": {
            "text/plain": [
              "3"
            ]
          },
          "metadata": {
            "tags": []
          },
          "execution_count": 170
        }
      ]
    },
    {
      "cell_type": "code",
      "metadata": {
        "id": "iP8Pki9BCmPi",
        "outputId": "6b343f81-585d-43fc-da57-4646f85593fb",
        "colab": {
          "base_uri": "https://localhost:8080/"
        }
      },
      "source": [
        "eval('100+200+300')    # 문자열을 수치값과 연산자로 변환하여 평가"
      ],
      "execution_count": 171,
      "outputs": [
        {
          "output_type": "execute_result",
          "data": {
            "text/plain": [
              "600"
            ]
          },
          "metadata": {
            "tags": []
          },
          "execution_count": 171
        }
      ]
    },
    {
      "cell_type": "code",
      "metadata": {
        "id": "7QJZ6q6FCsC8",
        "outputId": "c3ee8882-e1e2-490b-a9fc-022de86b006d",
        "colab": {
          "base_uri": "https://localhost:8080/"
        }
      },
      "source": [
        "sorted('EABFD')       # 문자열을 정렬"
      ],
      "execution_count": 172,
      "outputs": [
        {
          "output_type": "execute_result",
          "data": {
            "text/plain": [
              "['A', 'B', 'D', 'E', 'F']"
            ]
          },
          "metadata": {
            "tags": []
          },
          "execution_count": 172
        }
      ]
    },
    {
      "cell_type": "code",
      "metadata": {
        "id": "YqV8mN_vCwP_",
        "outputId": "88757873-008c-42d0-cf68-8b12881b5a6e",
        "colab": {
          "base_uri": "https://localhost:8080/"
        }
      },
      "source": [
        "list = [200, 100, 300, 400]\n",
        "sorted(list)"
      ],
      "execution_count": 173,
      "outputs": [
        {
          "output_type": "execute_result",
          "data": {
            "text/plain": [
              "[100, 200, 300, 400]"
            ]
          },
          "metadata": {
            "tags": []
          },
          "execution_count": 173
        }
      ]
    },
    {
      "cell_type": "code",
      "metadata": {
        "id": "OVtaW3jEC132",
        "outputId": "fff25303-8997-46c1-9116-5e9f24ec6179",
        "colab": {
          "base_uri": "https://localhost:8080/"
        }
      },
      "source": [
        "sorted(list, reverse=True)"
      ],
      "execution_count": 174,
      "outputs": [
        {
          "output_type": "execute_result",
          "data": {
            "text/plain": [
              "[400, 300, 200, 100]"
            ]
          },
          "metadata": {
            "tags": []
          },
          "execution_count": 174
        }
      ]
    },
    {
      "cell_type": "markdown",
      "metadata": {
        "id": "u8MDVNbbDZsr"
      },
      "source": [
        "대화창 실습 : 대화형 모드를 통한 id() 함수 실습"
      ]
    },
    {
      "cell_type": "code",
      "metadata": {
        "id": "rFLA9ye1C96H",
        "outputId": "6253f1fc-96b4-46ea-e466-5bb5db3cf054",
        "colab": {
          "base_uri": "https://localhost:8080/"
        }
      },
      "source": [
        "a_str = 'Hello Python!'\n",
        "id(a_str)"
      ],
      "execution_count": 181,
      "outputs": [
        {
          "output_type": "execute_result",
          "data": {
            "text/plain": [
              "140595877953904"
            ]
          },
          "metadata": {
            "tags": []
          },
          "execution_count": 181
        }
      ]
    },
    {
      "cell_type": "code",
      "metadata": {
        "id": "J04uzHWuDgt6",
        "outputId": "70fd7cf7-f83b-4b65-de11-47a4d6bac6d6",
        "colab": {
          "base_uri": "https://localhost:8080/"
        }
      },
      "source": [
        "n=300\n",
        "id(n)"
      ],
      "execution_count": 177,
      "outputs": [
        {
          "output_type": "execute_result",
          "data": {
            "text/plain": [
              "140595877991760"
            ]
          },
          "metadata": {
            "tags": []
          },
          "execution_count": 177
        }
      ]
    },
    {
      "cell_type": "markdown",
      "metadata": {
        "id": "chZcRJPiD_kC"
      },
      "source": [
        "대화창 실습 : 여러가지 자료형에 대한 type() 함수의 적용"
      ]
    },
    {
      "cell_type": "code",
      "metadata": {
        "id": "keALkL4DDjKq",
        "outputId": "a801f068-343b-4240-a2d4-902dfc4886f6",
        "colab": {
          "base_uri": "https://localhost:8080/"
        }
      },
      "source": [
        "type(123)"
      ],
      "execution_count": 182,
      "outputs": [
        {
          "output_type": "execute_result",
          "data": {
            "text/plain": [
              "int"
            ]
          },
          "metadata": {
            "tags": []
          },
          "execution_count": 182
        }
      ]
    },
    {
      "cell_type": "code",
      "metadata": {
        "id": "R3BxjPwaDubU",
        "outputId": "58c7b2e4-b868-4d51-ab08-bef58bda0f4f",
        "colab": {
          "base_uri": "https://localhost:8080/"
        }
      },
      "source": [
        "type('Hello String!')"
      ],
      "execution_count": 183,
      "outputs": [
        {
          "output_type": "execute_result",
          "data": {
            "text/plain": [
              "str"
            ]
          },
          "metadata": {
            "tags": []
          },
          "execution_count": 183
        }
      ]
    },
    {
      "cell_type": "code",
      "metadata": {
        "id": "Nd-zeqPgEFzg",
        "outputId": "88575766-98b0-4a29-e6b7-c269fa4ad4fe",
        "colab": {
          "base_uri": "https://localhost:8080/"
        }
      },
      "source": [
        "type(120.3)"
      ],
      "execution_count": 184,
      "outputs": [
        {
          "output_type": "execute_result",
          "data": {
            "text/plain": [
              "float"
            ]
          },
          "metadata": {
            "tags": []
          },
          "execution_count": 184
        }
      ]
    },
    {
      "cell_type": "code",
      "metadata": {
        "id": "WuewbEKPEHKk",
        "outputId": "e54d0ca8-b28f-410d-c8dd-ea9c78286fae",
        "colab": {
          "base_uri": "https://localhost:8080/"
        }
      },
      "source": [
        "type([100,200,300])"
      ],
      "execution_count": 185,
      "outputs": [
        {
          "output_type": "execute_result",
          "data": {
            "text/plain": [
              "list"
            ]
          },
          "metadata": {
            "tags": []
          },
          "execution_count": 185
        }
      ]
    },
    {
      "cell_type": "markdown",
      "metadata": {
        "id": "6a5nmLWWEKu5"
      },
      "source": [
        "대화창 실습 : 수식을 가진 문자열과 eval() 함수"
      ]
    },
    {
      "cell_type": "code",
      "metadata": {
        "id": "OIrd8wq6EJja",
        "outputId": "938a2687-1aab-4d24-e993-c9b51454eb9a",
        "colab": {
          "base_uri": "https://localhost:8080/"
        }
      },
      "source": [
        "eval('10+20')"
      ],
      "execution_count": 186,
      "outputs": [
        {
          "output_type": "execute_result",
          "data": {
            "text/plain": [
              "30"
            ]
          },
          "metadata": {
            "tags": []
          },
          "execution_count": 186
        }
      ]
    },
    {
      "cell_type": "code",
      "metadata": {
        "id": "frxpYAfDEPrv",
        "outputId": "3ebd947e-ad2d-44f5-ab77-c4b18dc55cd8",
        "colab": {
          "base_uri": "https://localhost:8080/"
        }
      },
      "source": [
        "eval('(5*20)/2')"
      ],
      "execution_count": 187,
      "outputs": [
        {
          "output_type": "execute_result",
          "data": {
            "text/plain": [
              "50.0"
            ]
          },
          "metadata": {
            "tags": []
          },
          "execution_count": 187
        }
      ]
    },
    {
      "cell_type": "code",
      "metadata": {
        "id": "9EK23uAjETCT",
        "outputId": "e54d351b-d570-4303-9ee5-b15c406a85f8",
        "colab": {
          "base_uri": "https://localhost:8080/",
          "height": 36
        }
      },
      "source": [
        "chr(65)     # 유니코드 값 65인 알파벳 A"
      ],
      "execution_count": 188,
      "outputs": [
        {
          "output_type": "execute_result",
          "data": {
            "application/vnd.google.colaboratory.intrinsic+json": {
              "type": "string"
            },
            "text/plain": [
              "'A'"
            ]
          },
          "metadata": {
            "tags": []
          },
          "execution_count": 188
        }
      ]
    },
    {
      "cell_type": "code",
      "metadata": {
        "id": "5PjTnqQ2EUza",
        "outputId": "22364a4c-1c95-4598-8cd2-3ecee26ad25e",
        "colab": {
          "base_uri": "https://localhost:8080/"
        }
      },
      "source": [
        "ord('A')     # 알파벳 A의 유니코드 값 65"
      ],
      "execution_count": 189,
      "outputs": [
        {
          "output_type": "execute_result",
          "data": {
            "text/plain": [
              "65"
            ]
          },
          "metadata": {
            "tags": []
          },
          "execution_count": 189
        }
      ]
    }
  ]
}