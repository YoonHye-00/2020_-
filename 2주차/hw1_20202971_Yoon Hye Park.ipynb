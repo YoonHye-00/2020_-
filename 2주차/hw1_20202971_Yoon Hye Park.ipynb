{
  "nbformat": 4,
  "nbformat_minor": 0,
  "metadata": {
    "colab": {
      "name": "Untitled5.ipynb",
      "provenance": []
    },
    "kernelspec": {
      "name": "python3",
      "display_name": "Python 3"
    }
  },
  "cells": [
    {
      "cell_type": "code",
      "metadata": {
        "id": "dzDa-tHNs2uW",
        "colab_type": "code",
        "colab": {
          "base_uri": "https://localhost:8080/",
          "height": 228
        },
        "outputId": "687e3793-77c1-401f-d72f-51c081ddb4e7"
      },
      "source": [
        "print(100)\n",
        "print(100+200)\n",
        "print('100+200')\n",
        "print(100,200)\n",
        "print('100','200')\n",
        "print('100''200')\n",
        "print('Hello Python!')\n",
        "print('Hello','Python','!')\n",
        "print('Hello'+'Python'+'!')\n",
        "print('Hello''Python''!')\n",
        "print('**********')\n",
        "print('*'*10)"
      ],
      "execution_count": 2,
      "outputs": [
        {
          "output_type": "stream",
          "text": [
            "100\n",
            "300\n",
            "100+200\n",
            "100 200\n",
            "100 200\n",
            "100200\n",
            "Hello Python!\n",
            "Hello Python !\n",
            "HelloPython!\n",
            "HelloPython!\n",
            "**********\n",
            "**********\n"
          ],
          "name": "stdout"
        }
      ]
    },
    {
      "cell_type": "code",
      "metadata": {
        "id": "Rf7bgkEqtC3r",
        "colab_type": "code",
        "colab": {
          "base_uri": "https://localhost:8080/",
          "height": 169
        },
        "outputId": "a18ba48d-2d7b-40e4-ac6c-53df93be454c"
      },
      "source": [
        "Print('Hello Python!')\n"
      ],
      "execution_count": 3,
      "outputs": [
        {
          "output_type": "error",
          "ename": "NameError",
          "evalue": "ignored",
          "traceback": [
            "\u001b[0;31m---------------------------------------------------------------------------\u001b[0m",
            "\u001b[0;31mNameError\u001b[0m                                 Traceback (most recent call last)",
            "\u001b[0;32m<ipython-input-3-3630f070b056>\u001b[0m in \u001b[0;36m<module>\u001b[0;34m()\u001b[0m\n\u001b[0;32m----> 1\u001b[0;31m \u001b[0mPrint\u001b[0m\u001b[0;34m(\u001b[0m\u001b[0;34m'Hello Python!'\u001b[0m\u001b[0;34m)\u001b[0m\u001b[0;34m\u001b[0m\u001b[0;34m\u001b[0m\u001b[0m\n\u001b[0m",
            "\u001b[0;31mNameError\u001b[0m: name 'Print' is not defined"
          ]
        }
      ]
    },
    {
      "cell_type": "code",
      "metadata": {
        "id": "EHPyvlU7Gwu1",
        "colab_type": "code",
        "colab": {
          "base_uri": "https://localhost:8080/",
          "height": 34
        },
        "outputId": "2277af5c-899a-4e52-f7c2-32bf903bbe45"
      },
      "source": [
        "print('Hello Python!')"
      ],
      "execution_count": 5,
      "outputs": [
        {
          "output_type": "stream",
          "text": [
            "Hello Python!\n"
          ],
          "name": "stdout"
        }
      ]
    },
    {
      "cell_type": "code",
      "metadata": {
        "id": "eYXjxLBUHQZ2",
        "colab_type": "code",
        "colab": {
          "base_uri": "https://localhost:8080/",
          "height": 134
        },
        "outputId": "2fc16994-fc0f-49b3-8c82-04564fa488b7"
      },
      "source": [
        "print(\"Hello Python!')"
      ],
      "execution_count": 7,
      "outputs": [
        {
          "output_type": "error",
          "ename": "SyntaxError",
          "evalue": "ignored",
          "traceback": [
            "\u001b[0;36m  File \u001b[0;32m\"<ipython-input-7-000552d4ba70>\"\u001b[0;36m, line \u001b[0;32m1\u001b[0m\n\u001b[0;31m    print(\"Hello Python!')\u001b[0m\n\u001b[0m                          ^\u001b[0m\n\u001b[0;31mSyntaxError\u001b[0m\u001b[0;31m:\u001b[0m EOL while scanning string literal\n"
          ]
        }
      ]
    },
    {
      "cell_type": "code",
      "metadata": {
        "id": "QfR_vcP4HWJK",
        "colab_type": "code",
        "colab": {
          "base_uri": "https://localhost:8080/",
          "height": 34
        },
        "outputId": "ebcddf66-0551-43ff-eee4-4c5d348c24ba"
      },
      "source": [
        "print(\"Hello Python!\")"
      ],
      "execution_count": 9,
      "outputs": [
        {
          "output_type": "stream",
          "text": [
            "Hello Python!\n"
          ],
          "name": "stdout"
        }
      ]
    },
    {
      "cell_type": "code",
      "metadata": {
        "id": "BNRb2Mr4HbtI",
        "colab_type": "code",
        "colab": {
          "base_uri": "https://localhost:8080/",
          "height": 134
        },
        "outputId": "caff312e-0561-46b0-9c83-f15dd1ff62a1"
      },
      "source": [
        "print(Hello Python!)"
      ],
      "execution_count": 10,
      "outputs": [
        {
          "output_type": "error",
          "ename": "SyntaxError",
          "evalue": "ignored",
          "traceback": [
            "\u001b[0;36m  File \u001b[0;32m\"<ipython-input-10-bcd1e4a04da8>\"\u001b[0;36m, line \u001b[0;32m1\u001b[0m\n\u001b[0;31m    print(Hello Python!)\u001b[0m\n\u001b[0m                     ^\u001b[0m\n\u001b[0;31mSyntaxError\u001b[0m\u001b[0;31m:\u001b[0m invalid syntax\n"
          ]
        }
      ]
    },
    {
      "cell_type": "code",
      "metadata": {
        "id": "MIGPrJ96Iswx",
        "colab_type": "code",
        "colab": {
          "base_uri": "https://localhost:8080/",
          "height": 34
        },
        "outputId": "4728c1d5-bec8-486d-f954-c27c1230d746"
      },
      "source": [
        "print('Hello Python!')"
      ],
      "execution_count": 11,
      "outputs": [
        {
          "output_type": "stream",
          "text": [
            "Hello Python!\n"
          ],
          "name": "stdout"
        }
      ]
    },
    {
      "cell_type": "code",
      "metadata": {
        "id": "iPXx9YoXI_76",
        "colab_type": "code",
        "colab": {
          "base_uri": "https://localhost:8080/",
          "height": 169
        },
        "outputId": "b5bea676-3546-47df-f56f-3c316bc48e4e"
      },
      "source": [
        "print(100+'200')"
      ],
      "execution_count": 12,
      "outputs": [
        {
          "output_type": "error",
          "ename": "TypeError",
          "evalue": "ignored",
          "traceback": [
            "\u001b[0;31m---------------------------------------------------------------------------\u001b[0m",
            "\u001b[0;31mTypeError\u001b[0m                                 Traceback (most recent call last)",
            "\u001b[0;32m<ipython-input-12-9e753126b84d>\u001b[0m in \u001b[0;36m<module>\u001b[0;34m()\u001b[0m\n\u001b[0;32m----> 1\u001b[0;31m \u001b[0mprint\u001b[0m\u001b[0;34m(\u001b[0m\u001b[0;36m100\u001b[0m\u001b[0;34m+\u001b[0m\u001b[0;34m'200'\u001b[0m\u001b[0;34m)\u001b[0m\u001b[0;34m\u001b[0m\u001b[0;34m\u001b[0m\u001b[0m\n\u001b[0m",
            "\u001b[0;31mTypeError\u001b[0m: unsupported operand type(s) for +: 'int' and 'str'"
          ]
        }
      ]
    },
    {
      "cell_type": "code",
      "metadata": {
        "id": "sztQwq8TJDAO",
        "colab_type": "code",
        "colab": {
          "base_uri": "https://localhost:8080/",
          "height": 34
        },
        "outputId": "f1529534-f9f3-4678-ef8c-2dd4ebb872b7"
      },
      "source": [
        "print(100+200)"
      ],
      "execution_count": 15,
      "outputs": [
        {
          "output_type": "stream",
          "text": [
            "300\n"
          ],
          "name": "stdout"
        }
      ]
    },
    {
      "cell_type": "code",
      "metadata": {
        "id": "lZ6RSvnFJIbL",
        "colab_type": "code",
        "colab": {
          "base_uri": "https://localhost:8080/",
          "height": 105
        },
        "outputId": "a8c5cc5c-f5f7-4958-a33b-592fddacf9a3"
      },
      "source": [
        "print('Welcome to Python!!')\n",
        "print('Welcome to Python!!')\n",
        "print('Welcome to Python!!')\n",
        "print('Welcome to Python!!')\n",
        "print('Welcome to Python!!')"
      ],
      "execution_count": 16,
      "outputs": [
        {
          "output_type": "stream",
          "text": [
            "Welcome to Python!!\n",
            "Welcome to Python!!\n",
            "Welcome to Python!!\n",
            "Welcome to Python!!\n",
            "Welcome to Python!!\n"
          ],
          "name": "stdout"
        }
      ]
    },
    {
      "cell_type": "code",
      "metadata": {
        "id": "FgUFB95XJVBG",
        "colab_type": "code",
        "colab": {
          "base_uri": "https://localhost:8080/",
          "height": 105
        },
        "outputId": "d28ac29a-d35a-4f3b-fb42-5468020e5623"
      },
      "source": [
        "print('*'*33)\n",
        "print('안녕하세요~')\n",
        "print('저는 박윤혜입니다.')\n",
        "print('숭실대학교 it융합학과 1학년입니다')\n",
        "print('*'*33)"
      ],
      "execution_count": 20,
      "outputs": [
        {
          "output_type": "stream",
          "text": [
            "*********************************\n",
            "안녕하세요~\n",
            "저는 박윤혜입니다.\n",
            "숭실대학교 it융합학과 1학년입니다\n",
            "*********************************\n"
          ],
          "name": "stdout"
        }
      ]
    },
    {
      "cell_type": "code",
      "metadata": {
        "id": "e00LQtGLLEyf",
        "colab_type": "code",
        "colab": {
          "base_uri": "https://localhost:8080/",
          "height": 87
        },
        "outputId": "8439090d-59ad-4bbc-8e93-95bced0d5282"
      },
      "source": [
        "print('','','','*')\n",
        "print('','','***')\n",
        "print('','*****')\n",
        "print('*******')"
      ],
      "execution_count": 25,
      "outputs": [
        {
          "output_type": "stream",
          "text": [
            "   *\n",
            "  ***\n",
            " *****\n",
            "*******\n"
          ],
          "name": "stdout"
        }
      ]
    },
    {
      "cell_type": "code",
      "metadata": {
        "id": "f_x59B6DLkpd",
        "colab_type": "code",
        "colab": {
          "base_uri": "https://localhost:8080/",
          "height": 87
        },
        "outputId": "8e1ab5ef-13a6-4500-d6e8-c39b0d6f6420"
      },
      "source": [
        "print('*'*7)\n",
        "print('','*'*5)\n",
        "print('','','*'*3)\n",
        "print('','','','*')"
      ],
      "execution_count": 26,
      "outputs": [
        {
          "output_type": "stream",
          "text": [
            "*******\n",
            " *****\n",
            "  ***\n",
            "   *\n"
          ],
          "name": "stdout"
        }
      ]
    },
    {
      "cell_type": "code",
      "metadata": {
        "id": "oqvK_8-bMGCW",
        "colab_type": "code",
        "colab": {
          "base_uri": "https://localhost:8080/",
          "height": 34
        },
        "outputId": "5f397e40-27bd-4b3a-e208-55b32fe76317"
      },
      "source": [
        "400-200"
      ],
      "execution_count": 27,
      "outputs": [
        {
          "output_type": "execute_result",
          "data": {
            "text/plain": [
              "200"
            ]
          },
          "metadata": {
            "tags": []
          },
          "execution_count": 27
        }
      ]
    },
    {
      "cell_type": "code",
      "metadata": {
        "id": "Vq1ZGPPJMMPK",
        "colab_type": "code",
        "colab": {
          "base_uri": "https://localhost:8080/",
          "height": 34
        },
        "outputId": "894b8001-3a1f-43f3-cb9b-f259101c2136"
      },
      "source": [
        "45*89"
      ],
      "execution_count": 28,
      "outputs": [
        {
          "output_type": "execute_result",
          "data": {
            "text/plain": [
              "4005"
            ]
          },
          "metadata": {
            "tags": []
          },
          "execution_count": 28
        }
      ]
    },
    {
      "cell_type": "code",
      "metadata": {
        "id": "G4pvX_qnMO7W",
        "colab_type": "code",
        "colab": {
          "base_uri": "https://localhost:8080/",
          "height": 34
        },
        "outputId": "1d09a7f9-e736-4c57-cfce-3224da268392"
      },
      "source": [
        "32/8"
      ],
      "execution_count": 29,
      "outputs": [
        {
          "output_type": "execute_result",
          "data": {
            "text/plain": [
              "4.0"
            ]
          },
          "metadata": {
            "tags": []
          },
          "execution_count": 29
        }
      ]
    },
    {
      "cell_type": "code",
      "metadata": {
        "id": "eVGm6mEdMQap",
        "colab_type": "code",
        "colab": {
          "base_uri": "https://localhost:8080/",
          "height": 34
        },
        "outputId": "4d401f26-90f0-422a-9a1d-98ffb5696a9c"
      },
      "source": [
        "9*3"
      ],
      "execution_count": 30,
      "outputs": [
        {
          "output_type": "execute_result",
          "data": {
            "text/plain": [
              "27"
            ]
          },
          "metadata": {
            "tags": []
          },
          "execution_count": 30
        }
      ]
    },
    {
      "cell_type": "code",
      "metadata": {
        "id": "k1TFcefxMRW4",
        "colab_type": "code",
        "colab": {
          "base_uri": "https://localhost:8080/",
          "height": 34
        },
        "outputId": "02728290-e21f-481d-bfc6-8a7cb09aee86"
      },
      "source": [
        "9**3"
      ],
      "execution_count": 31,
      "outputs": [
        {
          "output_type": "execute_result",
          "data": {
            "text/plain": [
              "729"
            ]
          },
          "metadata": {
            "tags": []
          },
          "execution_count": 31
        }
      ]
    },
    {
      "cell_type": "code",
      "metadata": {
        "id": "U6dQWi7sMSxU",
        "colab_type": "code",
        "colab": {
          "base_uri": "https://localhost:8080/",
          "height": 34
        },
        "outputId": "62cd8463-057a-4e0b-af23-9296cae95ff2"
      },
      "source": [
        "9/3"
      ],
      "execution_count": 32,
      "outputs": [
        {
          "output_type": "execute_result",
          "data": {
            "text/plain": [
              "3.0"
            ]
          },
          "metadata": {
            "tags": []
          },
          "execution_count": 32
        }
      ]
    },
    {
      "cell_type": "code",
      "metadata": {
        "id": "dTlzD_bjMWxb",
        "colab_type": "code",
        "colab": {
          "base_uri": "https://localhost:8080/",
          "height": 34
        },
        "outputId": "f23e02d8-af29-4e27-e288-fbb857cc257f"
      },
      "source": [
        "9//3"
      ],
      "execution_count": 33,
      "outputs": [
        {
          "output_type": "execute_result",
          "data": {
            "text/plain": [
              "3"
            ]
          },
          "metadata": {
            "tags": []
          },
          "execution_count": 33
        }
      ]
    },
    {
      "cell_type": "code",
      "metadata": {
        "id": "o6cYPPQVMXS1",
        "colab_type": "code",
        "colab": {
          "base_uri": "https://localhost:8080/",
          "height": 34
        },
        "outputId": "1408c4fa-1b56-4fad-bc7a-c6b6f5ed3585"
      },
      "source": [
        "9%3"
      ],
      "execution_count": 34,
      "outputs": [
        {
          "output_type": "execute_result",
          "data": {
            "text/plain": [
              "0"
            ]
          },
          "metadata": {
            "tags": []
          },
          "execution_count": 34
        }
      ]
    },
    {
      "cell_type": "code",
      "metadata": {
        "id": "B1WVbeWoMZmi",
        "colab_type": "code",
        "colab": {
          "base_uri": "https://localhost:8080/",
          "height": 34
        },
        "outputId": "94a5af0d-c7b4-40de-8c66-4ba86fa8c9b5"
      },
      "source": [
        "자연수_합=1+2+3+4+5+6+7+8+9+10\n",
        "자연수_합"
      ],
      "execution_count": 57,
      "outputs": [
        {
          "output_type": "execute_result",
          "data": {
            "text/plain": [
              "55"
            ]
          },
          "metadata": {
            "tags": []
          },
          "execution_count": 57
        }
      ]
    },
    {
      "cell_type": "code",
      "metadata": {
        "id": "7c8FMjoUNTxa",
        "colab_type": "code",
        "colab": {
          "base_uri": "https://localhost:8080/",
          "height": 34
        },
        "outputId": "80de3f11-3130-40cf-c418-308dc33eb2a5"
      },
      "source": [
        "원_둘레=2*3.14*5\n",
        "원_둘레"
      ],
      "execution_count": 55,
      "outputs": [
        {
          "output_type": "execute_result",
          "data": {
            "text/plain": [
              "31.400000000000002"
            ]
          },
          "metadata": {
            "tags": []
          },
          "execution_count": 55
        }
      ]
    },
    {
      "cell_type": "code",
      "metadata": {
        "id": "2XyUKLXeNZeE",
        "colab_type": "code",
        "colab": {
          "base_uri": "https://localhost:8080/",
          "height": 34
        },
        "outputId": "f18d9192-a183-44e5-9524-4e229097bf25"
      },
      "source": [
        "정사각형_둘레=25*4\n",
        "정사각형_둘레"
      ],
      "execution_count": 54,
      "outputs": [
        {
          "output_type": "execute_result",
          "data": {
            "text/plain": [
              "100"
            ]
          },
          "metadata": {
            "tags": []
          },
          "execution_count": 54
        }
      ]
    },
    {
      "cell_type": "code",
      "metadata": {
        "id": "NqrMb-BQNd1V",
        "colab_type": "code",
        "colab": {
          "base_uri": "https://localhost:8080/",
          "height": 34
        },
        "outputId": "247e789f-0e9d-4098-b777-437bc4e8d641"
      },
      "source": [
        "정사각형_면적=25*25\n",
        "정사각형_면적"
      ],
      "execution_count": 51,
      "outputs": [
        {
          "output_type": "execute_result",
          "data": {
            "text/plain": [
              "625"
            ]
          },
          "metadata": {
            "tags": []
          },
          "execution_count": 51
        }
      ]
    },
    {
      "cell_type": "code",
      "metadata": {
        "id": "8YJW_UsMNiJB",
        "colab_type": "code",
        "colab": {
          "base_uri": "https://localhost:8080/",
          "height": 34
        },
        "outputId": "136c20cc-6c19-4b4d-ea80-45a63e081c29"
      },
      "source": [
        "직사각형_둘레=10*2+30*2\n",
        "직사각형_둘레"
      ],
      "execution_count": 52,
      "outputs": [
        {
          "output_type": "execute_result",
          "data": {
            "text/plain": [
              "80"
            ]
          },
          "metadata": {
            "tags": []
          },
          "execution_count": 52
        }
      ]
    },
    {
      "cell_type": "code",
      "metadata": {
        "id": "AeFoCLttNmqf",
        "colab_type": "code",
        "colab": {
          "base_uri": "https://localhost:8080/",
          "height": 34
        },
        "outputId": "2d04eef2-3e89-4d9c-88d4-aaee0d4326e2"
      },
      "source": [
        "직사각형_면적=10*30\n",
        "직사각형_면적"
      ],
      "execution_count": 53,
      "outputs": [
        {
          "output_type": "execute_result",
          "data": {
            "text/plain": [
              "300"
            ]
          },
          "metadata": {
            "tags": []
          },
          "execution_count": 53
        }
      ]
    },
    {
      "cell_type": "code",
      "metadata": {
        "id": "Gi3nZnl9ONth",
        "colab_type": "code",
        "colab": {
          "base_uri": "https://localhost:8080/",
          "height": 34
        },
        "outputId": "dbec9d6e-3e05-46a0-b1a4-728f3edad274"
      },
      "source": [
        "주행거리=80*1.5\n",
        "주행거리"
      ],
      "execution_count": 46,
      "outputs": [
        {
          "output_type": "execute_result",
          "data": {
            "text/plain": [
              "120.0"
            ]
          },
          "metadata": {
            "tags": []
          },
          "execution_count": 46
        }
      ]
    },
    {
      "cell_type": "code",
      "metadata": {
        "id": "5cW4IblxO4OM",
        "colab_type": "code",
        "colab": {
          "base_uri": "https://localhost:8080/",
          "height": 34
        },
        "outputId": "fc91c72e-3163-4f0a-e9c3-2e7e2ae3e969"
      },
      "source": [
        "이동거리=190\n",
        "시간=2\n",
        "평균_속력=이동거리/시간\n",
        "평균_속력\n"
      ],
      "execution_count": 59,
      "outputs": [
        {
          "output_type": "execute_result",
          "data": {
            "text/plain": [
              "95.0"
            ]
          },
          "metadata": {
            "tags": []
          },
          "execution_count": 59
        }
      ]
    },
    {
      "cell_type": "code",
      "metadata": {
        "id": "8YWK2wbPP8We",
        "colab_type": "code",
        "colab": {
          "base_uri": "https://localhost:8080/",
          "height": 52
        },
        "outputId": "b85f155b-3f26-450d-c20b-e73898765c55"
      },
      "source": [
        "빛의_속력=299_792\n",
        "태양과_지구의_평균_거리=149_597_870\n",
        "시간=태양과_지구의_평균_거리/빛의_속력\n",
        "print(시간,'초',sep='')\n",
        "print(시간*(1/60),'분',sep='')"
      ],
      "execution_count": 73,
      "outputs": [
        {
          "output_type": "stream",
          "text": [
            "499.00554384373163초\n",
            "8.316759064062193분\n"
          ],
          "name": "stdout"
        }
      ]
    },
    {
      "cell_type": "code",
      "metadata": {
        "id": "GaXW9_scQjeC",
        "colab_type": "code",
        "colab": {
          "base_uri": "https://localhost:8080/",
          "height": 34
        },
        "outputId": "4e6083fd-0a6d-4919-eaaa-6df555629ff8"
      },
      "source": [
        "3*2*1"
      ],
      "execution_count": 89,
      "outputs": [
        {
          "output_type": "execute_result",
          "data": {
            "text/plain": [
              "6"
            ]
          },
          "metadata": {
            "tags": []
          },
          "execution_count": 89
        }
      ]
    },
    {
      "cell_type": "code",
      "metadata": {
        "id": "lXeIgJwGSKcs",
        "colab_type": "code",
        "colab": {
          "base_uri": "https://localhost:8080/",
          "height": 34
        },
        "outputId": "5363d69c-f269-42cd-cdd1-5dbaf2035ae4"
      },
      "source": [
        "5*4*3*2*1"
      ],
      "execution_count": 83,
      "outputs": [
        {
          "output_type": "execute_result",
          "data": {
            "text/plain": [
              "120"
            ]
          },
          "metadata": {
            "tags": []
          },
          "execution_count": 83
        }
      ]
    },
    {
      "cell_type": "code",
      "metadata": {
        "id": "FTJjRqTcSo6N",
        "colab_type": "code",
        "colab": {
          "base_uri": "https://localhost:8080/",
          "height": 34
        },
        "outputId": "3814394a-0b31-41f4-c1c9-85fad33df63a"
      },
      "source": [
        "12*11*10*9*8*7*6*5*4*3*2*1"
      ],
      "execution_count": 84,
      "outputs": [
        {
          "output_type": "execute_result",
          "data": {
            "text/plain": [
              "479001600"
            ]
          },
          "metadata": {
            "tags": []
          },
          "execution_count": 84
        }
      ]
    },
    {
      "cell_type": "code",
      "metadata": {
        "id": "iFlJNMRoSsNA",
        "colab_type": "code",
        "colab": {
          "base_uri": "https://localhost:8080/",
          "height": 34
        },
        "outputId": "ca94c877-72fc-4d2c-d0ab-14e672d15434"
      },
      "source": [
        "20*19*18*17*16*15*14*13*12*11*10*9*8*7*6*5*4*3*2*1"
      ],
      "execution_count": 90,
      "outputs": [
        {
          "output_type": "execute_result",
          "data": {
            "text/plain": [
              "2432902008176640000"
            ]
          },
          "metadata": {
            "tags": []
          },
          "execution_count": 90
        }
      ]
    },
    {
      "cell_type": "code",
      "metadata": {
        "id": "4QGenKfBV6CW",
        "colab_type": "code",
        "colab": {
          "base_uri": "https://localhost:8080/",
          "height": 34
        },
        "outputId": "85cba950-3e37-4fcc-91e6-bdcad768a7b2"
      },
      "source": [
        "print('100과 200의 평균값 :',(100+200)/2)"
      ],
      "execution_count": 91,
      "outputs": [
        {
          "output_type": "stream",
          "text": [
            "100과 200의 평균값 : 150.0\n"
          ],
          "name": "stdout"
        }
      ]
    },
    {
      "cell_type": "code",
      "metadata": {
        "id": "VmlHRZB_WE2N",
        "colab_type": "code",
        "colab": {
          "base_uri": "https://localhost:8080/",
          "height": 87
        },
        "outputId": "6d8b087c-def3-4be7-b2c7-4eb8eb03092c"
      },
      "source": [
        "print('50+30=',50+30)\n",
        "print('50-30=',50-30)\n",
        "print('50*30=',50*30)\n",
        "print('50/30=',50/30)"
      ],
      "execution_count": 92,
      "outputs": [
        {
          "output_type": "stream",
          "text": [
            "50+30= 80\n",
            "50-30= 20\n",
            "50*30= 1500\n",
            "50/30= 1.6666666666666667\n"
          ],
          "name": "stdout"
        }
      ]
    },
    {
      "cell_type": "code",
      "metadata": {
        "id": "ucQa5s_qWVTP",
        "colab_type": "code",
        "colab": {
          "base_uri": "https://localhost:8080/",
          "height": 87
        },
        "outputId": "41089824-78dd-4898-bfd8-080bd2f716b1"
      },
      "source": [
        "print('4+5=',4+5)\n",
        "print('4-5=',4-5)\n",
        "print('4*5=',4*5)\n",
        "print('4/5=',4/5)"
      ],
      "execution_count": 93,
      "outputs": [
        {
          "output_type": "stream",
          "text": [
            "4+5= 9\n",
            "4-5= -1\n",
            "4*5= 20\n",
            "4/5= 0.8\n"
          ],
          "name": "stdout"
        }
      ]
    },
    {
      "cell_type": "code",
      "metadata": {
        "id": "xtcnmLbwWtWs",
        "colab_type": "code",
        "colab": {
          "base_uri": "https://localhost:8080/",
          "height": 87
        },
        "outputId": "a3caa149-e783-40db-ace8-5218a3fcee07"
      },
      "source": [
        "print('10+20=',10+20)\n",
        "print('10-20=',10-20)\n",
        "print('10*20=',10*20)\n",
        "print('10/20=',10/20)"
      ],
      "execution_count": 94,
      "outputs": [
        {
          "output_type": "stream",
          "text": [
            "10+20= 30\n",
            "10-20= -10\n",
            "10*20= 200\n",
            "10/20= 0.5\n"
          ],
          "name": "stdout"
        }
      ]
    },
    {
      "cell_type": "code",
      "metadata": {
        "id": "A-Ul21YoW6mH",
        "colab_type": "code",
        "colab": {
          "base_uri": "https://localhost:8080/",
          "height": 87
        },
        "outputId": "c58605da-18e7-42fb-c992-c1c0c2a37d97"
      },
      "source": [
        "print('6000+3000=',6000+3000)\n",
        "print('6000-3000=',6000-3000)\n",
        "print('6000*3000=',6000*3000)\n",
        "print('6000/3000=',6000/3000)"
      ],
      "execution_count": 95,
      "outputs": [
        {
          "output_type": "stream",
          "text": [
            "6000+3000= 9000\n",
            "6000-3000= 3000\n",
            "6000*3000= 18000000\n",
            "6000/3000= 2.0\n"
          ],
          "name": "stdout"
        }
      ]
    },
    {
      "cell_type": "code",
      "metadata": {
        "id": "ZDpIYnMeXIsh",
        "colab_type": "code",
        "colab": {
          "base_uri": "https://localhost:8080/",
          "height": 87
        },
        "outputId": "e60a080f-f502-40ce-de95-74eca4945286"
      },
      "source": [
        "print('60000000+50000000=',60000000+50000000)\n",
        "print('60000000-50000000=',60000000-50000000)\n",
        "print('60000000*50000000=',60000000*50000000)\n",
        "print('60000000/50000000=',60000000/50000000)"
      ],
      "execution_count": 96,
      "outputs": [
        {
          "output_type": "stream",
          "text": [
            "60000000+50000000= 110000000\n",
            "60000000-50000000= 10000000\n",
            "60000000*50000000= 3000000000000000\n",
            "60000000/50000000= 1.2\n"
          ],
          "name": "stdout"
        }
      ]
    },
    {
      "cell_type": "code",
      "metadata": {
        "id": "w5VPmxstXoJc",
        "colab_type": "code",
        "colab": {}
      },
      "source": [
        ""
      ],
      "execution_count": null,
      "outputs": []
    }
  ]
}