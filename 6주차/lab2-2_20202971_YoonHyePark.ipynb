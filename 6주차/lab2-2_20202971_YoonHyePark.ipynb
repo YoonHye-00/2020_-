{
  "nbformat": 4,
  "nbformat_minor": 0,
  "metadata": {
    "colab": {
      "name": "lab2-2_20202971_Yoon_Hye_Park",
      "provenance": [],
      "collapsed_sections": []
    },
    "kernelspec": {
      "name": "python3",
      "display_name": "Python 3"
    }
  },
  "cells": [
    {
      "cell_type": "markdown",
      "metadata": {
        "id": "k95gYOXTZU28"
      },
      "source": [
        "대화창 실습 : 복소수 표현 실습"
      ]
    },
    {
      "cell_type": "code",
      "metadata": {
        "id": "NbGoKF7eYaLa",
        "outputId": "0f008886-b4e1-4e51-b78d-21f8a76ebea3",
        "colab": {
          "base_uri": "https://localhost:8080/",
          "height": 34
        }
      },
      "source": [
        "c1=2+3j \n",
        "c1.real #c1의 실수부 출력"
      ],
      "execution_count": 5,
      "outputs": [
        {
          "output_type": "execute_result",
          "data": {
            "text/plain": [
              "2.0"
            ]
          },
          "metadata": {
            "tags": []
          },
          "execution_count": 5
        }
      ]
    },
    {
      "cell_type": "code",
      "metadata": {
        "id": "xewvXSQUZdrY",
        "outputId": "c8f0112f-6de3-4b87-9bc7-de91acc39399",
        "colab": {
          "base_uri": "https://localhost:8080/",
          "height": 34
        }
      },
      "source": [
        "c1.imag #c1의 허수부 출력"
      ],
      "execution_count": 7,
      "outputs": [
        {
          "output_type": "execute_result",
          "data": {
            "text/plain": [
              "3.0"
            ]
          },
          "metadata": {
            "tags": []
          },
          "execution_count": 7
        }
      ]
    },
    {
      "cell_type": "code",
      "metadata": {
        "id": "8YkH3hI0Zekm",
        "outputId": "b411313b-8f16-48fc-d733-50ecceb732ed",
        "colab": {
          "base_uri": "https://localhost:8080/",
          "height": 34
        }
      },
      "source": [
        "c2=5+6j\n",
        "c3=c1+c2\n",
        "c3"
      ],
      "execution_count": 8,
      "outputs": [
        {
          "output_type": "execute_result",
          "data": {
            "text/plain": [
              "(7+9j)"
            ]
          },
          "metadata": {
            "tags": []
          },
          "execution_count": 8
        }
      ]
    },
    {
      "cell_type": "markdown",
      "metadata": {
        "id": "q8epyf9_Zvao"
      },
      "source": [
        "대화창 실습  : 켤레 복소수 표현과 크기 구하기"
      ]
    },
    {
      "cell_type": "code",
      "metadata": {
        "id": "8foqeOkGZy86",
        "outputId": "e42c1955-25c6-4f2f-a530-efd92bc63b2e",
        "colab": {
          "base_uri": "https://localhost:8080/",
          "height": 34
        }
      },
      "source": [
        "c1=2+3j\n",
        "c2=c1.conjugate()\n",
        "c2"
      ],
      "execution_count": 9,
      "outputs": [
        {
          "output_type": "execute_result",
          "data": {
            "text/plain": [
              "(2-3j)"
            ]
          },
          "metadata": {
            "tags": []
          },
          "execution_count": 9
        }
      ]
    },
    {
      "cell_type": "code",
      "metadata": {
        "id": "11x1MHJBZ3g-",
        "outputId": "ec77e7b4-0523-4674-983e-a00219154013",
        "colab": {
          "base_uri": "https://localhost:8080/",
          "height": 34
        }
      },
      "source": [
        "abs(c1) #c1의 크기"
      ],
      "execution_count": 10,
      "outputs": [
        {
          "output_type": "execute_result",
          "data": {
            "text/plain": [
              "3.605551275463989"
            ]
          },
          "metadata": {
            "tags": []
          },
          "execution_count": 10
        }
      ]
    },
    {
      "cell_type": "code",
      "metadata": {
        "id": "JOaDOmDbaASu",
        "outputId": "e265cc8b-4c22-4be0-b05d-ad2019c32aad",
        "colab": {
          "base_uri": "https://localhost:8080/",
          "height": 34
        }
      },
      "source": [
        "(2**2 + 3**2) **0.5 #c1의 크기"
      ],
      "execution_count": 12,
      "outputs": [
        {
          "output_type": "execute_result",
          "data": {
            "text/plain": [
              "3.605551275463989"
            ]
          },
          "metadata": {
            "tags": []
          },
          "execution_count": 12
        }
      ]
    },
    {
      "cell_type": "code",
      "metadata": {
        "id": "eIH5ZVqGaQFv",
        "outputId": "eb405d52-5ab5-4363-b0b5-52fd7fba7113",
        "colab": {
          "base_uri": "https://localhost:8080/",
          "height": 51
        }
      },
      "source": [
        "c3=c1*c2\n",
        "print(c3)\n",
        "print(abs(c1)*abs(c1)) "
      ],
      "execution_count": 16,
      "outputs": [
        {
          "output_type": "stream",
          "text": [
            "(13+0j)\n",
            "12.999999999999998\n"
          ],
          "name": "stdout"
        }
      ]
    },
    {
      "cell_type": "markdown",
      "metadata": {
        "id": "ZV1HR85_a9z1"
      },
      "source": [
        "LAB 2-8 : 복소수의 연산"
      ]
    },
    {
      "cell_type": "code",
      "metadata": {
        "id": "HMM9Kd9ZbBgh",
        "outputId": "8994f338-23bd-4368-c9fb-334c15654020",
        "colab": {
          "base_uri": "https://localhost:8080/",
          "height": 86
        }
      },
      "source": [
        "a=8+2j \n",
        "b=4+3j\n",
        "print(a+b)\n",
        "print(a-b)\n",
        "print(a*b)\n",
        "print(a/b)"
      ],
      "execution_count": 22,
      "outputs": [
        {
          "output_type": "stream",
          "text": [
            "(12+5j)\n",
            "(4-1j)\n",
            "(26+32j)\n",
            "(1.52-0.64j)\n"
          ],
          "name": "stdout"
        }
      ]
    },
    {
      "cell_type": "markdown",
      "metadata": {
        "id": "M7UtMKF-bi4v"
      },
      "source": [
        "대화창 실습 : 다중 할당과 동시 할당"
      ]
    },
    {
      "cell_type": "code",
      "metadata": {
        "id": "ZehLxbL_bmuM",
        "outputId": "469e05ba-22c4-4beb-aa5b-22daa6d852c0",
        "colab": {
          "base_uri": "https://localhost:8080/",
          "height": 34
        }
      },
      "source": [
        "num1=num2=num3=200  #다중 할당문\n",
        "print(num1,num2,num3)"
      ],
      "execution_count": 23,
      "outputs": [
        {
          "output_type": "stream",
          "text": [
            "200 200 200\n"
          ],
          "name": "stdout"
        }
      ]
    },
    {
      "cell_type": "code",
      "metadata": {
        "id": "C50LRd8Gbo-K",
        "outputId": "fd3b2e70-7aee-43d1-9aa0-c95e7b676d57",
        "colab": {
          "base_uri": "https://localhost:8080/",
          "height": 34
        }
      },
      "source": [
        "num4, num5=300, 400 #동시 할당문\n",
        "print(num4, num5)"
      ],
      "execution_count": 28,
      "outputs": [
        {
          "output_type": "stream",
          "text": [
            "300 400\n"
          ],
          "name": "stdout"
        }
      ]
    },
    {
      "cell_type": "markdown",
      "metadata": {
        "id": "zwNiRCoNcJxG"
      },
      "source": [
        "대화창 실습 : 할당 연산 연습"
      ]
    },
    {
      "cell_type": "code",
      "metadata": {
        "id": "gt6dqYoZb99x",
        "outputId": "bbcaacdd-4adc-4229-de71-8ac8d3aca91a",
        "colab": {
          "base_uri": "https://localhost:8080/",
          "height": 34
        }
      },
      "source": [
        "result1=10*20\n",
        "result1"
      ],
      "execution_count": 29,
      "outputs": [
        {
          "output_type": "execute_result",
          "data": {
            "text/plain": [
              "200"
            ]
          },
          "metadata": {
            "tags": []
          },
          "execution_count": 29
        }
      ]
    },
    {
      "cell_type": "code",
      "metadata": {
        "id": "u1HEScu4cQR7",
        "outputId": "437038ad-40dd-4af1-aab1-130310f549ad",
        "colab": {
          "base_uri": "https://localhost:8080/",
          "height": 34
        }
      },
      "source": [
        "result2=(2*3)-(4**2)/2\n",
        "result2"
      ],
      "execution_count": 32,
      "outputs": [
        {
          "output_type": "execute_result",
          "data": {
            "text/plain": [
              "-2.0"
            ]
          },
          "metadata": {
            "tags": []
          },
          "execution_count": 32
        }
      ]
    },
    {
      "cell_type": "code",
      "metadata": {
        "id": "TiYRHISlcV2r",
        "outputId": "2b92089a-9f2e-4763-b5fd-2a5125c4fa86",
        "colab": {
          "base_uri": "https://localhost:8080/",
          "height": 34
        }
      },
      "source": [
        "#300=300 >> SyntaxError : can't assign to literal\n",
        "300==300"
      ],
      "execution_count": 41,
      "outputs": [
        {
          "output_type": "execute_result",
          "data": {
            "text/plain": [
              "True"
            ]
          },
          "metadata": {
            "tags": []
          },
          "execution_count": 41
        }
      ]
    },
    {
      "cell_type": "code",
      "metadata": {
        "id": "FvjDbHGEeEJd",
        "outputId": "0e84aff1-2aa6-46f0-b19f-58cfe11d61f1",
        "colab": {
          "base_uri": "https://localhost:8080/",
          "height": 36
        }
      },
      "source": [
        "str='world'\n",
        "str"
      ],
      "execution_count": 42,
      "outputs": [
        {
          "output_type": "execute_result",
          "data": {
            "application/vnd.google.colaboratory.intrinsic+json": {
              "type": "string"
            },
            "text/plain": [
              "'world'"
            ]
          },
          "metadata": {
            "tags": []
          },
          "execution_count": 42
        }
      ]
    },
    {
      "cell_type": "code",
      "metadata": {
        "id": "BrAGtWtPeE1O"
      },
      "source": [
        "# 'hello'=str >> SyntaxError : can't assign to literal"
      ],
      "execution_count": 43,
      "outputs": []
    },
    {
      "cell_type": "markdown",
      "metadata": {
        "id": "NPFxHJUefPZX"
      },
      "source": [
        "대화창 실습 : 할당 연산자와 사칙연산"
      ]
    },
    {
      "cell_type": "code",
      "metadata": {
        "id": "lRuzfbQMfUDd",
        "outputId": "182e8add-8153-4b23-8102-e3052f02037e",
        "colab": {
          "base_uri": "https://localhost:8080/",
          "height": 34
        }
      },
      "source": [
        "num=200\n",
        "num=num+100 #num=200+100\n",
        "num"
      ],
      "execution_count": 53,
      "outputs": [
        {
          "output_type": "execute_result",
          "data": {
            "text/plain": [
              "300"
            ]
          },
          "metadata": {
            "tags": []
          },
          "execution_count": 53
        }
      ]
    },
    {
      "cell_type": "code",
      "metadata": {
        "id": "Sb5JYb62fYKs",
        "outputId": "2a600402-0d53-4492-f599-5d88213a4e92",
        "colab": {
          "base_uri": "https://localhost:8080/",
          "height": 34
        }
      },
      "source": [
        "num=num-100\n",
        "num"
      ],
      "execution_count": 54,
      "outputs": [
        {
          "output_type": "execute_result",
          "data": {
            "text/plain": [
              "200"
            ]
          },
          "metadata": {
            "tags": []
          },
          "execution_count": 54
        }
      ]
    },
    {
      "cell_type": "code",
      "metadata": {
        "id": "_fRqtmP7fbdX",
        "outputId": "4f9d03bb-523d-4df1-fce3-0e7262f930f0",
        "colab": {
          "base_uri": "https://localhost:8080/",
          "height": 34
        }
      },
      "source": [
        "num=num*20\n",
        "num"
      ],
      "execution_count": 55,
      "outputs": [
        {
          "output_type": "execute_result",
          "data": {
            "text/plain": [
              "4000"
            ]
          },
          "metadata": {
            "tags": []
          },
          "execution_count": 55
        }
      ]
    },
    {
      "cell_type": "code",
      "metadata": {
        "id": "-PeFEvyOfsbP",
        "outputId": "241d2a94-1673-4472-dca8-6530e1c85989",
        "colab": {
          "base_uri": "https://localhost:8080/",
          "height": 34
        }
      },
      "source": [
        "num=num/2\n",
        "num"
      ],
      "execution_count": 56,
      "outputs": [
        {
          "output_type": "execute_result",
          "data": {
            "text/plain": [
              "2000.0"
            ]
          },
          "metadata": {
            "tags": []
          },
          "execution_count": 56
        }
      ]
    },
    {
      "cell_type": "markdown",
      "metadata": {
        "id": "PSYxoJRcf6G9"
      },
      "source": [
        "대화창 실습 : 복합 대입 연산과 그 수행 결과"
      ]
    },
    {
      "cell_type": "code",
      "metadata": {
        "id": "pKF7ETfSf9QS",
        "outputId": "cae8e881-8288-472c-fa67-d52d53e3b649",
        "colab": {
          "base_uri": "https://localhost:8080/",
          "height": 34
        }
      },
      "source": [
        "num=200\n",
        "num+=100 #num=num+100\n",
        "num"
      ],
      "execution_count": 57,
      "outputs": [
        {
          "output_type": "execute_result",
          "data": {
            "text/plain": [
              "300"
            ]
          },
          "metadata": {
            "tags": []
          },
          "execution_count": 57
        }
      ]
    },
    {
      "cell_type": "code",
      "metadata": {
        "id": "UKyrWcRJf_5r",
        "outputId": "f1b9dd32-663d-4e49-9b1a-7b534c98914f",
        "colab": {
          "base_uri": "https://localhost:8080/",
          "height": 34
        }
      },
      "source": [
        "num-=100\n",
        "num"
      ],
      "execution_count": 58,
      "outputs": [
        {
          "output_type": "execute_result",
          "data": {
            "text/plain": [
              "200"
            ]
          },
          "metadata": {
            "tags": []
          },
          "execution_count": 58
        }
      ]
    },
    {
      "cell_type": "code",
      "metadata": {
        "id": "YKIP0SDGgBdo",
        "outputId": "699305e8-4a64-4fdf-f20d-bea067b41e07",
        "colab": {
          "base_uri": "https://localhost:8080/",
          "height": 34
        }
      },
      "source": [
        "num*=20\n",
        "num"
      ],
      "execution_count": 59,
      "outputs": [
        {
          "output_type": "execute_result",
          "data": {
            "text/plain": [
              "4000"
            ]
          },
          "metadata": {
            "tags": []
          },
          "execution_count": 59
        }
      ]
    },
    {
      "cell_type": "code",
      "metadata": {
        "id": "UMgGQh8_gCnP",
        "outputId": "100c1dba-b390-4373-afdf-247fd918f553",
        "colab": {
          "base_uri": "https://localhost:8080/",
          "height": 34
        }
      },
      "source": [
        "num/=2\n",
        "num"
      ],
      "execution_count": 60,
      "outputs": [
        {
          "output_type": "execute_result",
          "data": {
            "text/plain": [
              "2000.0"
            ]
          },
          "metadata": {
            "tags": []
          },
          "execution_count": 60
        }
      ]
    },
    {
      "cell_type": "markdown",
      "metadata": {
        "id": "sec-qN3jgbN-"
      },
      "source": [
        "대화창 실습 : 비교 연산 ( 비교 결과가 True, False로 출력됨 )"
      ]
    },
    {
      "cell_type": "code",
      "metadata": {
        "id": "nBOm2kKegiAz",
        "outputId": "ad78c991-e26b-4be1-ba16-2eab2b414b41",
        "colab": {
          "base_uri": "https://localhost:8080/",
          "height": 34
        }
      },
      "source": [
        "a,b=100,200\n",
        "a==b"
      ],
      "execution_count": 63,
      "outputs": [
        {
          "output_type": "execute_result",
          "data": {
            "text/plain": [
              "False"
            ]
          },
          "metadata": {
            "tags": []
          },
          "execution_count": 63
        }
      ]
    },
    {
      "cell_type": "code",
      "metadata": {
        "id": "ZJg7ykorglR-",
        "outputId": "27993e7c-e602-4e64-84be-fd3c26714c7b",
        "colab": {
          "base_uri": "https://localhost:8080/",
          "height": 34
        }
      },
      "source": [
        "a!=b"
      ],
      "execution_count": 64,
      "outputs": [
        {
          "output_type": "execute_result",
          "data": {
            "text/plain": [
              "True"
            ]
          },
          "metadata": {
            "tags": []
          },
          "execution_count": 64
        }
      ]
    },
    {
      "cell_type": "code",
      "metadata": {
        "id": "8LpTOfRMgxRv",
        "outputId": "e1789644-92e4-469a-bafb-ed429f24e913",
        "colab": {
          "base_uri": "https://localhost:8080/",
          "height": 34
        }
      },
      "source": [
        "a > b"
      ],
      "execution_count": 65,
      "outputs": [
        {
          "output_type": "execute_result",
          "data": {
            "text/plain": [
              "False"
            ]
          },
          "metadata": {
            "tags": []
          },
          "execution_count": 65
        }
      ]
    },
    {
      "cell_type": "code",
      "metadata": {
        "id": "9p6gm4SBgx7T",
        "outputId": "f1e66fe3-2eb7-4549-c258-0ef641abe6fa",
        "colab": {
          "base_uri": "https://localhost:8080/",
          "height": 34
        }
      },
      "source": [
        "a < b "
      ],
      "execution_count": 70,
      "outputs": [
        {
          "output_type": "execute_result",
          "data": {
            "text/plain": [
              "True"
            ]
          },
          "metadata": {
            "tags": []
          },
          "execution_count": 70
        }
      ]
    },
    {
      "cell_type": "code",
      "metadata": {
        "id": "9Gi_H7HDgzDz",
        "outputId": "34c6622f-cbd8-4430-c15e-6450e87818ce",
        "colab": {
          "base_uri": "https://localhost:8080/",
          "height": 34
        }
      },
      "source": [
        "a >= b"
      ],
      "execution_count": 71,
      "outputs": [
        {
          "output_type": "execute_result",
          "data": {
            "text/plain": [
              "False"
            ]
          },
          "metadata": {
            "tags": []
          },
          "execution_count": 71
        }
      ]
    },
    {
      "cell_type": "markdown",
      "metadata": {
        "id": "xFr7BIckhC-S"
      },
      "source": [
        "대화창 실습 : 부울형 출력 테스트"
      ]
    },
    {
      "cell_type": "code",
      "metadata": {
        "id": "lfRlyn1ThGml",
        "outputId": "2308d83c-31e1-4a7c-edf9-cb11ee468eae",
        "colab": {
          "base_uri": "https://localhost:8080/",
          "height": 34
        }
      },
      "source": [
        "10>20"
      ],
      "execution_count": 72,
      "outputs": [
        {
          "output_type": "execute_result",
          "data": {
            "text/plain": [
              "False"
            ]
          },
          "metadata": {
            "tags": []
          },
          "execution_count": 72
        }
      ]
    },
    {
      "cell_type": "code",
      "metadata": {
        "id": "gGOIJ8ZWhH5x",
        "outputId": "fe1ac1df-d346-4a69-a72d-fee46e968e10",
        "colab": {
          "base_uri": "https://localhost:8080/",
          "height": 34
        }
      },
      "source": [
        "10<20"
      ],
      "execution_count": 73,
      "outputs": [
        {
          "output_type": "execute_result",
          "data": {
            "text/plain": [
              "True"
            ]
          },
          "metadata": {
            "tags": []
          },
          "execution_count": 73
        }
      ]
    },
    {
      "cell_type": "code",
      "metadata": {
        "id": "DoK1_B1JhIm1",
        "outputId": "73ca9166-c030-4aa6-c942-8db5adce5af0",
        "colab": {
          "base_uri": "https://localhost:8080/",
          "height": 34
        }
      },
      "source": [
        "bool(9)"
      ],
      "execution_count": 74,
      "outputs": [
        {
          "output_type": "execute_result",
          "data": {
            "text/plain": [
              "True"
            ]
          },
          "metadata": {
            "tags": []
          },
          "execution_count": 74
        }
      ]
    },
    {
      "cell_type": "code",
      "metadata": {
        "id": "4jr5J2XphK_r",
        "outputId": "cfe27d4b-1d8b-4b92-c367-705a2d58e6f3",
        "colab": {
          "base_uri": "https://localhost:8080/",
          "height": 34
        }
      },
      "source": [
        "bool(-1)"
      ],
      "execution_count": 77,
      "outputs": [
        {
          "output_type": "execute_result",
          "data": {
            "text/plain": [
              "True"
            ]
          },
          "metadata": {
            "tags": []
          },
          "execution_count": 77
        }
      ]
    },
    {
      "cell_type": "code",
      "metadata": {
        "id": "4zArOvsRhZ3s",
        "outputId": "275363f3-4507-42d6-aef8-a400dacc1d2e",
        "colab": {
          "base_uri": "https://localhost:8080/",
          "height": 34
        }
      },
      "source": [
        "bool(0)"
      ],
      "execution_count": 78,
      "outputs": [
        {
          "output_type": "execute_result",
          "data": {
            "text/plain": [
              "False"
            ]
          },
          "metadata": {
            "tags": []
          },
          "execution_count": 78
        }
      ]
    },
    {
      "cell_type": "code",
      "metadata": {
        "id": "r0MzJpkohmX6",
        "outputId": "86a49525-9e80-4635-f28c-e91c660d48a1",
        "colab": {
          "base_uri": "https://localhost:8080/",
          "height": 34
        }
      },
      "source": [
        "bool(None)"
      ],
      "execution_count": 79,
      "outputs": [
        {
          "output_type": "execute_result",
          "data": {
            "text/plain": [
              "False"
            ]
          },
          "metadata": {
            "tags": []
          },
          "execution_count": 79
        }
      ]
    },
    {
      "cell_type": "code",
      "metadata": {
        "id": "VmWlcL0Whnao",
        "outputId": "721ae7c4-f5c9-4200-a127-3bfaa615f86e",
        "colab": {
          "base_uri": "https://localhost:8080/",
          "height": 34
        }
      },
      "source": [
        "bool('')"
      ],
      "execution_count": 80,
      "outputs": [
        {
          "output_type": "execute_result",
          "data": {
            "text/plain": [
              "False"
            ]
          },
          "metadata": {
            "tags": []
          },
          "execution_count": 80
        }
      ]
    },
    {
      "cell_type": "code",
      "metadata": {
        "id": "O3-j_ZW0hobp",
        "outputId": "99c8ce9d-f694-4739-f049-92afcff368de",
        "colab": {
          "base_uri": "https://localhost:8080/",
          "height": 34
        }
      },
      "source": [
        "bool('hello')"
      ],
      "execution_count": 81,
      "outputs": [
        {
          "output_type": "execute_result",
          "data": {
            "text/plain": [
              "True"
            ]
          },
          "metadata": {
            "tags": []
          },
          "execution_count": 81
        }
      ]
    },
    {
      "cell_type": "code",
      "metadata": {
        "id": "izD_29SDhpth",
        "outputId": "f130cad5-3f2c-4075-8f8a-d57e45ffe538",
        "colab": {
          "base_uri": "https://localhost:8080/",
          "height": 34
        }
      },
      "source": [
        "bool([])"
      ],
      "execution_count": 82,
      "outputs": [
        {
          "output_type": "execute_result",
          "data": {
            "text/plain": [
              "False"
            ]
          },
          "metadata": {
            "tags": []
          },
          "execution_count": 82
        }
      ]
    },
    {
      "cell_type": "code",
      "metadata": {
        "id": "i7b0BBMHhuhJ",
        "outputId": "2159d5c9-eb3e-4bcc-bf66-f5dc69624aaa",
        "colab": {
          "base_uri": "https://localhost:8080/",
          "height": 34
        }
      },
      "source": [
        "bool([10,20])"
      ],
      "execution_count": 83,
      "outputs": [
        {
          "output_type": "execute_result",
          "data": {
            "text/plain": [
              "True"
            ]
          },
          "metadata": {
            "tags": []
          },
          "execution_count": 83
        }
      ]
    },
    {
      "cell_type": "markdown",
      "metadata": {
        "id": "V6e9vDOnil8g"
      },
      "source": [
        "대화창 실습 : 논리 연산 실습"
      ]
    },
    {
      "cell_type": "code",
      "metadata": {
        "id": "MVpGtGTRioZg",
        "outputId": "7c764ba1-8387-4f62-cdf2-d7b255f68f02",
        "colab": {
          "base_uri": "https://localhost:8080/",
          "height": 69
        }
      },
      "source": [
        "x=True\n",
        "y=False\n",
        "print(x and y)\n",
        "print(x or y)\n",
        "print(not x)"
      ],
      "execution_count": 85,
      "outputs": [
        {
          "output_type": "stream",
          "text": [
            "False\n",
            "True\n",
            "False\n"
          ],
          "name": "stdout"
        }
      ]
    },
    {
      "cell_type": "markdown",
      "metadata": {
        "id": "TEPBBb-IjVzX"
      },
      "source": [
        "대화창 실습 : 정수값의 2진수 출력"
      ]
    },
    {
      "cell_type": "code",
      "metadata": {
        "id": "WwFb8DYYjYq2",
        "outputId": "55d3a21d-f85a-4cb0-f98d-9466d69f0d4a",
        "colab": {
          "base_uri": "https://localhost:8080/",
          "height": 36
        }
      },
      "source": [
        "bin(9) #2진수 형식 출력"
      ],
      "execution_count": 86,
      "outputs": [
        {
          "output_type": "execute_result",
          "data": {
            "application/vnd.google.colaboratory.intrinsic+json": {
              "type": "string"
            },
            "text/plain": [
              "'0b1001'"
            ]
          },
          "metadata": {
            "tags": []
          },
          "execution_count": 86
        }
      ]
    },
    {
      "cell_type": "code",
      "metadata": {
        "id": "JIqffq7cjcFR",
        "outputId": "b0440406-44df-4f08-8c5a-ff7ba3567d83",
        "colab": {
          "base_uri": "https://localhost:8080/",
          "height": 36
        }
      },
      "source": [
        "bin(10)"
      ],
      "execution_count": 89,
      "outputs": [
        {
          "output_type": "execute_result",
          "data": {
            "application/vnd.google.colaboratory.intrinsic+json": {
              "type": "string"
            },
            "text/plain": [
              "'0b1010'"
            ]
          },
          "metadata": {
            "tags": []
          },
          "execution_count": 89
        }
      ]
    },
    {
      "cell_type": "markdown",
      "metadata": {
        "id": "MqT8SeMfjno4"
      },
      "source": [
        "대화창 실습 : 9와 10의 비트 단위 AND, OR, XOR, NOT, 이동 연산"
      ]
    },
    {
      "cell_type": "code",
      "metadata": {
        "id": "aKl4dtuxjjyG",
        "outputId": "2a7137c1-c2d9-47cd-9e2a-afd59edf7089",
        "colab": {
          "base_uri": "https://localhost:8080/",
          "height": 34
        }
      },
      "source": [
        "9&10  #AND"
      ],
      "execution_count": 94,
      "outputs": [
        {
          "output_type": "execute_result",
          "data": {
            "text/plain": [
              "8"
            ]
          },
          "metadata": {
            "tags": []
          },
          "execution_count": 94
        }
      ]
    },
    {
      "cell_type": "code",
      "metadata": {
        "id": "w61_K-nlkrfI",
        "outputId": "bd85b6d4-b7f9-45ea-c555-a05beeac2725",
        "colab": {
          "base_uri": "https://localhost:8080/",
          "height": 36
        }
      },
      "source": [
        "bin(8)"
      ],
      "execution_count": 95,
      "outputs": [
        {
          "output_type": "execute_result",
          "data": {
            "application/vnd.google.colaboratory.intrinsic+json": {
              "type": "string"
            },
            "text/plain": [
              "'0b1000'"
            ]
          },
          "metadata": {
            "tags": []
          },
          "execution_count": 95
        }
      ]
    },
    {
      "cell_type": "code",
      "metadata": {
        "id": "328OddnNkssS",
        "outputId": "212cd0fd-a2c5-45bb-fcb6-59e9d56059ad",
        "colab": {
          "base_uri": "https://localhost:8080/",
          "height": 34
        }
      },
      "source": [
        "9|10  #OR"
      ],
      "execution_count": 96,
      "outputs": [
        {
          "output_type": "execute_result",
          "data": {
            "text/plain": [
              "11"
            ]
          },
          "metadata": {
            "tags": []
          },
          "execution_count": 96
        }
      ]
    },
    {
      "cell_type": "code",
      "metadata": {
        "id": "IcyCTEI6k4Ct",
        "outputId": "23875de4-425a-4e20-f901-73bce380bca5",
        "colab": {
          "base_uri": "https://localhost:8080/",
          "height": 36
        }
      },
      "source": [
        "bin(11)"
      ],
      "execution_count": 97,
      "outputs": [
        {
          "output_type": "execute_result",
          "data": {
            "application/vnd.google.colaboratory.intrinsic+json": {
              "type": "string"
            },
            "text/plain": [
              "'0b1011'"
            ]
          },
          "metadata": {
            "tags": []
          },
          "execution_count": 97
        }
      ]
    },
    {
      "cell_type": "code",
      "metadata": {
        "id": "VfyupwCfk5Mu",
        "outputId": "f7e1809c-0789-480a-9c23-d6a1f55d548a",
        "colab": {
          "base_uri": "https://localhost:8080/",
          "height": 34
        }
      },
      "source": [
        "9^10  #XOR"
      ],
      "execution_count": 98,
      "outputs": [
        {
          "output_type": "execute_result",
          "data": {
            "text/plain": [
              "3"
            ]
          },
          "metadata": {
            "tags": []
          },
          "execution_count": 98
        }
      ]
    },
    {
      "cell_type": "code",
      "metadata": {
        "id": "Cprcc8GolBrn",
        "outputId": "cd1717f8-8ece-4c24-ad61-06147f5828a4",
        "colab": {
          "base_uri": "https://localhost:8080/",
          "height": 36
        }
      },
      "source": [
        "bin(3)"
      ],
      "execution_count": 99,
      "outputs": [
        {
          "output_type": "execute_result",
          "data": {
            "application/vnd.google.colaboratory.intrinsic+json": {
              "type": "string"
            },
            "text/plain": [
              "'0b11'"
            ]
          },
          "metadata": {
            "tags": []
          },
          "execution_count": 99
        }
      ]
    },
    {
      "cell_type": "code",
      "metadata": {
        "id": "qemior96lDR8",
        "outputId": "a5c2fced-6f13-4d1b-986d-80c22ba1b5e1",
        "colab": {
          "base_uri": "https://localhost:8080/",
          "height": 34
        }
      },
      "source": [
        "~9  #NOT"
      ],
      "execution_count": 102,
      "outputs": [
        {
          "output_type": "execute_result",
          "data": {
            "text/plain": [
              "-10"
            ]
          },
          "metadata": {
            "tags": []
          },
          "execution_count": 102
        }
      ]
    },
    {
      "cell_type": "code",
      "metadata": {
        "id": "5kbHQYxmlnL5",
        "outputId": "ecbb53a6-6791-498e-edd9-be1c13aff9e2",
        "colab": {
          "base_uri": "https://localhost:8080/",
          "height": 36
        }
      },
      "source": [
        "bin(-10)"
      ],
      "execution_count": 103,
      "outputs": [
        {
          "output_type": "execute_result",
          "data": {
            "application/vnd.google.colaboratory.intrinsic+json": {
              "type": "string"
            },
            "text/plain": [
              "'-0b1010'"
            ]
          },
          "metadata": {
            "tags": []
          },
          "execution_count": 103
        }
      ]
    },
    {
      "cell_type": "markdown",
      "metadata": {
        "id": "zFVHvNBlmUba"
      },
      "source": [
        "대화창 실습 : 비트 단위 왼쪽 이동 연산 실습"
      ]
    },
    {
      "cell_type": "code",
      "metadata": {
        "id": "exT-PDkYloXs",
        "outputId": "0dcf301d-7225-4f80-c525-ca36f45bf131",
        "colab": {
          "base_uri": "https://localhost:8080/",
          "height": 34
        }
      },
      "source": [
        "4<<1  #한 비트 왼쪽으로 이동 >> 값이 2배가 됨"
      ],
      "execution_count": 104,
      "outputs": [
        {
          "output_type": "execute_result",
          "data": {
            "text/plain": [
              "8"
            ]
          },
          "metadata": {
            "tags": []
          },
          "execution_count": 104
        }
      ]
    },
    {
      "cell_type": "code",
      "metadata": {
        "id": "QoZ_U3FgnOew",
        "outputId": "c623ab71-07e2-4970-a586-e4e3a1f40cef",
        "colab": {
          "base_uri": "https://localhost:8080/",
          "height": 34
        }
      },
      "source": [
        "4<<2"
      ],
      "execution_count": 105,
      "outputs": [
        {
          "output_type": "execute_result",
          "data": {
            "text/plain": [
              "16"
            ]
          },
          "metadata": {
            "tags": []
          },
          "execution_count": 105
        }
      ]
    },
    {
      "cell_type": "code",
      "metadata": {
        "id": "DAF5I4TQnQU4",
        "outputId": "f2ec3076-624f-4e23-d2e9-1c6255bbe3c8",
        "colab": {
          "base_uri": "https://localhost:8080/",
          "height": 34
        }
      },
      "source": [
        "4>>1  #한 비트 오른쪽으로 이동 >> 값이 1/2배가 됨 (나머지는 버림)"
      ],
      "execution_count": 106,
      "outputs": [
        {
          "output_type": "execute_result",
          "data": {
            "text/plain": [
              "2"
            ]
          },
          "metadata": {
            "tags": []
          },
          "execution_count": 106
        }
      ]
    },
    {
      "cell_type": "code",
      "metadata": {
        "id": "3vF_9cYVneQs",
        "outputId": "257d1698-8ea2-419b-ca35-ae228a467eaa",
        "colab": {
          "base_uri": "https://localhost:8080/",
          "height": 34
        }
      },
      "source": [
        "4>>2"
      ],
      "execution_count": 107,
      "outputs": [
        {
          "output_type": "execute_result",
          "data": {
            "text/plain": [
              "1"
            ]
          },
          "metadata": {
            "tags": []
          },
          "execution_count": 107
        }
      ]
    },
    {
      "cell_type": "code",
      "metadata": {
        "id": "Ra89DnrUne_5",
        "outputId": "27d1d418-67cf-4595-a16e-5bd30eb30026",
        "colab": {
          "base_uri": "https://localhost:8080/",
          "height": 34
        }
      },
      "source": [
        "5>>1"
      ],
      "execution_count": 110,
      "outputs": [
        {
          "output_type": "execute_result",
          "data": {
            "text/plain": [
              "2"
            ]
          },
          "metadata": {
            "tags": []
          },
          "execution_count": 110
        }
      ]
    },
    {
      "cell_type": "markdown",
      "metadata": {
        "id": "9JPwTvUlnrYC"
      },
      "source": [
        "LAB 2-9 : 비트 연산 활용"
      ]
    },
    {
      "cell_type": "code",
      "metadata": {
        "id": "xFZuANE_nuLb",
        "outputId": "fd159240-2b16-4aac-88e5-9493473fc44b",
        "colab": {
          "base_uri": "https://localhost:8080/",
          "height": 171
        }
      },
      "source": [
        "a=1024\n",
        "print(a>>1) #(1)\n",
        "\n",
        "print(a>>2) #(2)\n",
        "\n",
        "a=a>>1\n",
        "print(a) #(3)\n",
        "\n",
        "a=a>>1\n",
        "print(a) #(4)\n",
        "\n",
        "a=1\n",
        "print(a<<1) #(5)\n",
        "\n",
        "a=a<<1\n",
        "print(a) #(6)\n",
        "\n",
        "a=a<<1\n",
        "print(a) #(7)\n",
        "\n",
        "a=a<<1\n",
        "print(a) #(8)\n",
        "\n",
        "a=a<<1\n",
        "print(a) #(9)"
      ],
      "execution_count": 112,
      "outputs": [
        {
          "output_type": "stream",
          "text": [
            "512\n",
            "256\n",
            "512\n",
            "256\n",
            "2\n",
            "2\n",
            "4\n",
            "8\n",
            "16\n"
          ],
          "name": "stdout"
        }
      ]
    },
    {
      "cell_type": "markdown",
      "metadata": {
        "id": "wEi9xI7uqxdZ"
      },
      "source": [
        "주석문 사용"
      ]
    },
    {
      "cell_type": "code",
      "metadata": {
        "id": "Sae734CBqzHS",
        "outputId": "b1605b4a-71e9-4f8b-f04f-3e6f52d98484",
        "colab": {
          "base_uri": "https://localhost:8080/",
          "height": 34
        }
      },
      "source": [
        "print('주석은')\n",
        "#print('이 프린트 문을 주석으로 처리하세요')\n",
        "#print('실행되지 않습니다.')"
      ],
      "execution_count": 114,
      "outputs": [
        {
          "output_type": "stream",
          "text": [
            "주석은\n"
          ],
          "name": "stdout"
        }
      ]
    },
    {
      "cell_type": "markdown",
      "metadata": {
        "id": "P75FwaXhq9ti"
      },
      "source": [
        "코드 2-15 : input() 함수를 통해 사용자의 입력받기"
      ]
    },
    {
      "cell_type": "code",
      "metadata": {
        "id": "vvoEqjz6rw1f",
        "outputId": "9462d6c2-65c8-44e8-9be5-31255fe5e599",
        "colab": {
          "base_uri": "https://localhost:8080/",
          "height": 86
        }
      },
      "source": [
        "name=input('이름을 입력하세요 : ')\n",
        "print('이름 :', name)\n",
        "age=int(input('나이를 입력하세요 : ')) #age는 문자열로 입력받아 int형으로 변환\n",
        "print('10년 후 나이 :', age+10)"
      ],
      "execution_count": 115,
      "outputs": [
        {
          "output_type": "stream",
          "text": [
            "이름을 입력하세요 : 박윤혜\n",
            "이름 : 박윤혜\n",
            "나이를 입력하세요 : 21\n",
            "10년 후 나이 : 31\n"
          ],
          "name": "stdout"
        }
      ]
    },
    {
      "cell_type": "markdown",
      "metadata": {
        "id": "vUGhJ_avsPAs"
      },
      "source": [
        "LAB 2-10 : 사용자 입력 받기"
      ]
    },
    {
      "cell_type": "code",
      "metadata": {
        "id": "RpBGhZHKr_A-",
        "outputId": "6be508aa-5fff-4a06-a42c-03788be9c9c3",
        "colab": {
          "base_uri": "https://localhost:8080/",
          "height": 51
        }
      },
      "source": [
        "#1.\n",
        "name = input('이름을 입력하세요 : ')\n",
        "print(name,'님이 입장하셨습니다.')"
      ],
      "execution_count": 117,
      "outputs": [
        {
          "output_type": "stream",
          "text": [
            "이름을 입력하세요 : 박윤혜\n",
            "박윤혜 님이 입장하셨습니다.\n"
          ],
          "name": "stdout"
        }
      ]
    },
    {
      "cell_type": "code",
      "metadata": {
        "id": "p8-8xSlksfze",
        "outputId": "e0082d20-1060-4da0-d1c3-0e90e0172ac6",
        "colab": {
          "base_uri": "https://localhost:8080/",
          "height": 86
        }
      },
      "source": [
        "#2.\n",
        "m=int(input('숫자 m을 입력하세요 : '))\n",
        "n=int(input('숫자 n을 입력하세요 : '))\n",
        "print('m+n=', m+n)\n",
        "print('m-n=', m-n)"
      ],
      "execution_count": 119,
      "outputs": [
        {
          "output_type": "stream",
          "text": [
            "숫자 m을 입력하세요 : 30\n",
            "숫자 n을 입력하세요 : 50\n",
            "m+n= 80\n",
            "m-n= -20\n"
          ],
          "name": "stdout"
        }
      ]
    },
    {
      "cell_type": "code",
      "metadata": {
        "id": "NXdJm5tLs4Vd",
        "outputId": "f05767fe-93d7-4ce8-9d7e-25aa46dff590",
        "colab": {
          "base_uri": "https://localhost:8080/",
          "height": 51
        }
      },
      "source": [
        "#3.\n",
        "r=int(input('반지름을 입력하세요 : '))\n",
        "S=3.14 * r**2 #원의 면적\n",
        "print(S)"
      ],
      "execution_count": 121,
      "outputs": [
        {
          "output_type": "stream",
          "text": [
            "반지름을 입력하세요 : 5\n",
            "78.5\n"
          ],
          "name": "stdout"
        }
      ]
    }
  ]
}