{
  "nbformat": 4,
  "nbformat_minor": 0,
  "metadata": {
    "colab": {
      "name": "hw2_20202971_YoonHyePark",
      "provenance": [],
      "collapsed_sections": []
    },
    "kernelspec": {
      "name": "python3",
      "display_name": "Python 3"
    }
  },
  "cells": [
    {
      "cell_type": "markdown",
      "metadata": {
        "id": "SoKpES_KxrSy"
      },
      "source": [
        "으뜸 파이썬 연습문제"
      ]
    },
    {
      "cell_type": "code",
      "metadata": {
        "id": "RIbcbbjzylAm",
        "outputId": "a2e95e24-c07d-452d-f8ed-549eaa570b4c",
        "colab": {
          "base_uri": "https://localhost:8080/",
          "height": 51
        }
      },
      "source": [
        "#2.2\n",
        "width=30\n",
        "height=60\n",
        "print(width)\n",
        "print(height)"
      ],
      "execution_count": 2,
      "outputs": [
        {
          "output_type": "stream",
          "text": [
            "30\n",
            "60\n"
          ],
          "name": "stdout"
        }
      ]
    },
    {
      "cell_type": "code",
      "metadata": {
        "id": "Xh9zBOiBzEH6",
        "outputId": "665263e8-ef0a-4681-e525-92807355d9b3",
        "colab": {
          "base_uri": "https://localhost:8080/",
          "height": 51
        }
      },
      "source": [
        "#2.5\n",
        "a=int(input('정사각형의 밑변을 입력하시오 : '))  #밑변의 길이\n",
        "S=a**2  #정사각형의 면적\n",
        "print('정사각형의 면적 :',S)"
      ],
      "execution_count": 4,
      "outputs": [
        {
          "output_type": "stream",
          "text": [
            "정사각형의 밑변을 입력하시오 : 40\n",
            "정사각형의 면적 : 1600\n"
          ],
          "name": "stdout"
        }
      ]
    },
    {
      "cell_type": "code",
      "metadata": {
        "id": "d-6d3Fe8zdu8",
        "outputId": "46ca1bcb-ddfb-4d33-a08b-b5a0ad9ca0c6",
        "colab": {
          "base_uri": "https://localhost:8080/",
          "height": 34
        }
      },
      "source": [
        "#2.6\n",
        "print('1에서 10까지의 합 :',1+2+3+4+5+6+7+8+9+10)"
      ],
      "execution_count": 5,
      "outputs": [
        {
          "output_type": "stream",
          "text": [
            "1에서 10까지의 합 : 55\n"
          ],
          "name": "stdout"
        }
      ]
    },
    {
      "cell_type": "code",
      "metadata": {
        "id": "ffNvr-oVzwkm",
        "outputId": "41cf6b4a-3a6b-437d-b386-c08aa03edd82",
        "colab": {
          "base_uri": "https://localhost:8080/",
          "height": 34
        }
      },
      "source": [
        "#2.7\n",
        "print('10! =', 10*9*8*7*6*5*4*3*2*1)"
      ],
      "execution_count": 6,
      "outputs": [
        {
          "output_type": "stream",
          "text": [
            "10! = 3628800\n"
          ],
          "name": "stdout"
        }
      ]
    },
    {
      "cell_type": "code",
      "metadata": {
        "id": "9ISsc1shz6w9",
        "outputId": "1b265c42-f544-48d1-a7ba-d791376e91e9",
        "colab": {
          "base_uri": "https://localhost:8080/",
          "height": 120
        }
      },
      "source": [
        "#2.8\n",
        "n=2\n",
        "print('a','\\tn','\\ta**n') \n",
        "for a in range(2,7,1) :\n",
        "  print(a,'\\t',n,'\\t',a**n, sep='')"
      ],
      "execution_count": 20,
      "outputs": [
        {
          "output_type": "stream",
          "text": [
            "a \tn \ta**n\n",
            "2\t2\t4\n",
            "3\t2\t9\n",
            "4\t2\t16\n",
            "5\t2\t25\n",
            "6\t2\t36\n"
          ],
          "name": "stdout"
        }
      ]
    },
    {
      "cell_type": "code",
      "metadata": {
        "id": "lQ6T5wFo0532",
        "outputId": "8acf3f81-c07a-4102-9af9-73bc62321ae0",
        "colab": {
          "base_uri": "https://localhost:8080/",
          "height": 137
        }
      },
      "source": [
        "#2.9\n",
        "print('섭씨','\\t화씨')\n",
        "for c in range(0,60,10) :\n",
        "  f=(9/5)*c+32  #화씨온도 = (9/5)* 섭씨온도 +32\n",
        "  print(c,'\\t',f,sep='')"
      ],
      "execution_count": 73,
      "outputs": [
        {
          "output_type": "stream",
          "text": [
            "섭씨 \t화씨\n",
            "0\t32.0\n",
            "10\t50.0\n",
            "20\t68.0\n",
            "30\t86.0\n",
            "40\t104.0\n",
            "50\t122.0\n"
          ],
          "name": "stdout"
        }
      ]
    },
    {
      "cell_type": "code",
      "metadata": {
        "id": "soJdmDZJ2enx",
        "outputId": "4575f392-169a-4f98-f0e1-e759441570f0",
        "colab": {
          "base_uri": "https://localhost:8080/",
          "height": 51
        }
      },
      "source": [
        "#2.10\n",
        "c=int(input('섭씨온도를 입력하세요 :'))\n",
        "f=(9/5)*c+32  #화씨온도 = (9/5)* 섭씨온도+32\n",
        "print('섭씨 %d 도는 화씨 %.1f 도 입니다.' %(c,f))"
      ],
      "execution_count": 39,
      "outputs": [
        {
          "output_type": "stream",
          "text": [
            "섭씨온도를 입력하세요 :30\n",
            "섭씨 30 도는 화씨 86.0 도 입니다.\n"
          ],
          "name": "stdout"
        }
      ]
    },
    {
      "cell_type": "code",
      "metadata": {
        "id": "yzQDOQvY280L",
        "outputId": "0a7257bf-0d45-44d3-98e8-42905d1cbcc3",
        "colab": {
          "base_uri": "https://localhost:8080/",
          "height": 51
        }
      },
      "source": [
        "#2.11\n",
        "f=int(input('화씨 온도를 입력하세요 :'))\n",
        "c=(5/9)*(f-32)  #섭씨온도 = (5/9)* (화씨온도-32)\n",
        "print('화씨 %d 도는 섭씨 %.1f 도 입니다.' %(f,c))"
      ],
      "execution_count": 44,
      "outputs": [
        {
          "output_type": "stream",
          "text": [
            "화씨 온도를 입력하세요 :86\n",
            "화씨 86 도는 섭씨 30.0 도 입니다.\n"
          ],
          "name": "stdout"
        }
      ]
    },
    {
      "cell_type": "code",
      "metadata": {
        "id": "O0_tCLca4EPc",
        "outputId": "dba08a9a-ea13-4a00-eab1-33f7cecb7602",
        "colab": {
          "base_uri": "https://localhost:8080/",
          "height": 34
        }
      },
      "source": [
        "#2.12\n",
        "radius=11 #반지름 값\n",
        "PI=3.141592 #원주율\n",
        "l=2*PI*radius #원의 둘레\n",
        "S=PI*radius**2 #원의 면적\n",
        "print('원의 반지름 = %d, 원의 둘레 = %f, 원의 면적 = %f' %(radius,l,S))"
      ],
      "execution_count": 74,
      "outputs": [
        {
          "output_type": "stream",
          "text": [
            "원의 반지름 = 11, 원의 둘레 = 69.115024, 원의 면적 = 380.132632\n"
          ],
          "name": "stdout"
        }
      ]
    },
    {
      "cell_type": "code",
      "metadata": {
        "id": "aHXrDDM_7bD-",
        "outputId": "51d012af-8966-430b-8167-27c3a713b025",
        "colab": {
          "base_uri": "https://localhost:8080/",
          "height": 51
        }
      },
      "source": [
        "#2.13\n",
        "r=int(input('원의 반지름을 입력하세요 : ')) #반지름 값 입력\n",
        "PI=3.141592 #원주율\n",
        "l=2*PI*r #원의 둘레\n",
        "S=PI*r**2 #원의 넓이\n",
        "print('원의 둘레 = %f, 원의 면적 = %f' %(l,S))"
      ],
      "execution_count": 52,
      "outputs": [
        {
          "output_type": "stream",
          "text": [
            "원의 반지름을 입력하세요 : 11\n",
            "원의 둘레 = 69.115024, 원의 면적 = 380.132632\n"
          ],
          "name": "stdout"
        }
      ]
    },
    {
      "cell_type": "code",
      "metadata": {
        "id": "jUB10Gjd8HB8",
        "outputId": "9635e47c-02de-4fec-e0be-e3a53db6b7ba",
        "colab": {
          "base_uri": "https://localhost:8080/",
          "height": 171
        }
      },
      "source": [
        "#2.14\n",
        "for i in range(2,11,1) :\n",
        "  print('%d의 제곱근 =' %i, i**0.5)"
      ],
      "execution_count": 59,
      "outputs": [
        {
          "output_type": "stream",
          "text": [
            "2의 제곱근 = 1.4142135623730951\n",
            "3의 제곱근 = 1.7320508075688772\n",
            "4의 제곱근 = 2.0\n",
            "5의 제곱근 = 2.23606797749979\n",
            "6의 제곱근 = 2.449489742783178\n",
            "7의 제곱근 = 2.6457513110645907\n",
            "8의 제곱근 = 2.8284271247461903\n",
            "9의 제곱근 = 3.0\n",
            "10의 제곱근 = 3.1622776601683795\n"
          ],
          "name": "stdout"
        }
      ]
    },
    {
      "cell_type": "code",
      "metadata": {
        "id": "5GsnfbOl8duN",
        "outputId": "efa9fd8e-5660-481d-97a3-04da6f61b71b",
        "colab": {
          "base_uri": "https://localhost:8080/",
          "height": 69
        }
      },
      "source": [
        "#2.15\n",
        "a=int(input('밑변을 입력하세요 :')) #밑변 입력\n",
        "b=int(input('높이를 입력하세요 :')) #높이 입력\n",
        "c=(a**2+b**2)**0.5\n",
        "print('빗변 :',c)"
      ],
      "execution_count": 62,
      "outputs": [
        {
          "output_type": "stream",
          "text": [
            "밑변을 입력하세요 :5\n",
            "높이를 입력하세요 :12\n",
            "빗변 : 13.0\n"
          ],
          "name": "stdout"
        }
      ]
    },
    {
      "cell_type": "code",
      "metadata": {
        "id": "yKkkrVUe8kSm",
        "outputId": "c53c27df-22c9-466f-d1bb-64b470eecc57",
        "colab": {
          "base_uri": "https://localhost:8080/",
          "height": 51
        }
      },
      "source": [
        "#2.16 - (1)\n",
        "a=1+2j #회전하기 전 복소수 값\n",
        "b=(0+1j)*a #90도 회전한 후 복소수 값\n",
        "print('회전하기 전:',a)\n",
        "print('90도 회전한 후 :',b)"
      ],
      "execution_count": 71,
      "outputs": [
        {
          "output_type": "stream",
          "text": [
            "회전하기 전: (1+2j)\n",
            "90도 회전한 후 : (-2+1j)\n"
          ],
          "name": "stdout"
        }
      ]
    },
    {
      "cell_type": "code",
      "metadata": {
        "id": "j25HlBgn-9iT",
        "outputId": "6e1828bb-ae96-4202-d6a2-a89ff6734958",
        "colab": {
          "base_uri": "https://localhost:8080/",
          "height": 51
        }
      },
      "source": [
        "#2.16 - (2)\n",
        "a=1+2j #회전하기 전 복소수 값\n",
        "b=(3**0.5/2+0.5j)*a #30도 회전한 후 복소수 값\n",
        "print('회전하기 전:',a)\n",
        "print('30도 회전한 후 :', b)"
      ],
      "execution_count": 72,
      "outputs": [
        {
          "output_type": "stream",
          "text": [
            "회전하기 전: (1+2j)\n",
            "30도 회전한 후 : (-0.1339745962155614+2.232050807568877j)\n"
          ],
          "name": "stdout"
        }
      ]
    },
    {
      "cell_type": "code",
      "metadata": {
        "id": "VgOAPouE_RYT",
        "outputId": "16e0adb0-4662-4b2e-a2d6-2b60687634dc",
        "colab": {
          "base_uri": "https://localhost:8080/",
          "height": 34
        }
      },
      "source": [
        "#2.17\n",
        "print(2<<0, 2<<1, 2<<2, 2<<3, 2<<4, 2<<5, 2<<6, 2<<7, 2<<8, 2<<9)"
      ],
      "execution_count": 76,
      "outputs": [
        {
          "output_type": "stream",
          "text": [
            "2 4 8 16 32 64 128 256 512 1024\n"
          ],
          "name": "stdout"
        }
      ]
    },
    {
      "cell_type": "code",
      "metadata": {
        "id": "ytkUeKpgAmhW",
        "outputId": "7338e427-1c46-4ec1-cefa-0955729f3c14",
        "colab": {
          "base_uri": "https://localhost:8080/",
          "height": 51
        }
      },
      "source": [
        "#2.18\n",
        "n=int(input('정수를 입력하세요 :'))\n",
        "print('이 수가 짝수인가요?',n%2==0) #n이 짝수이면 True, 홀수이면 False 출력"
      ],
      "execution_count": 77,
      "outputs": [
        {
          "output_type": "stream",
          "text": [
            "정수를 입력하세요 :20\n",
            "이 수가 짝수인가요? True\n"
          ],
          "name": "stdout"
        }
      ]
    },
    {
      "cell_type": "code",
      "metadata": {
        "id": "V7CxOreWBXRk",
        "outputId": "fabc6058-f625-46ec-c396-bfc238c38491",
        "colab": {
          "base_uri": "https://localhost:8080/",
          "height": 51
        }
      },
      "source": [
        "n=int(input('정수를 입력하세요 :'))\n",
        "print('이 수가 짝수인가요?',n%2==0) #n이 짝수이면 True, 홀수이면 False 출력"
      ],
      "execution_count": 78,
      "outputs": [
        {
          "output_type": "stream",
          "text": [
            "정수를 입력하세요 :21\n",
            "이 수가 짝수인가요? False\n"
          ],
          "name": "stdout"
        }
      ]
    },
    {
      "cell_type": "code",
      "metadata": {
        "id": "_ihVfpFOBk4I",
        "outputId": "b9715087-dbc3-47b3-f6da-4028a4e9e84f",
        "colab": {
          "base_uri": "https://localhost:8080/",
          "height": 86
        }
      },
      "source": [
        "#2.19\n",
        "for i in range(2) :\n",
        "  n=int(input('정수를 입력하세요 : '))\n",
        "  print('입력된 정수는 0에서 100의 범위 안에 있는 짝수인가요?', n%2==0 and 0<=n<=100)\n"
      ],
      "execution_count": 83,
      "outputs": [
        {
          "output_type": "stream",
          "text": [
            "정수를 입력하세요 : 120\n",
            "입력된 정수는 0에서 100의 범위 안에 있는 짝수인가요? False\n",
            "정수를 입력하세요 : 88\n",
            "입력된 정수는 0에서 100의 범위 안에 있는 짝수인가요? True\n"
          ],
          "name": "stdout"
        }
      ]
    },
    {
      "cell_type": "code",
      "metadata": {
        "id": "0pjvJF5XCQ9o",
        "outputId": "7283940d-e6a1-4486-9d13-dff1fd7f999e",
        "colab": {
          "base_uri": "https://localhost:8080/",
          "height": 69
        }
      },
      "source": [
        "#2.20\n",
        "a, b= bin(5), bin(6)\n",
        "print('%s & %s = %s' %(a,b,bin(5&6)))\n",
        "print('%s | %s = %s' %(a,b,bin(5|6)))\n",
        "print('%s ^ %s = %s' %(a,b,bin(5^6)))"
      ],
      "execution_count": 90,
      "outputs": [
        {
          "output_type": "stream",
          "text": [
            "0b101 & 0b110 = 0b100\n",
            "0b101 | 0b110 = 0b111\n",
            "0b101 ^ 0b110 = 0b11\n"
          ],
          "name": "stdout"
        }
      ]
    },
    {
      "cell_type": "code",
      "metadata": {
        "id": "pbj80bmrC6jb",
        "outputId": "d999ec70-9260-4fef-db53-42b066c5a095",
        "colab": {
          "base_uri": "https://localhost:8080/",
          "height": 69
        }
      },
      "source": [
        "#2.21\n",
        "n=int(input('정수를 입력하시오 :'))\n",
        "print('%d 의 2진수 값 : %s'%(n,bin(n)))\n",
        "print('%d 의 2진수 값에 대한 비트단위 부정값 : %s' %(n,bin(~n)))\n"
      ],
      "execution_count": 98,
      "outputs": [
        {
          "output_type": "stream",
          "text": [
            "정수를 입력하시오 :9\n",
            "9 의 2진수 값 : 0b1001\n",
            "9 의 2진수 값에 대한 비트단위 부정값 : -0b1010\n"
          ],
          "name": "stdout"
        }
      ]
    },
    {
      "cell_type": "code",
      "metadata": {
        "id": "ibbnjg8qEtEN",
        "outputId": "74b7491e-fb80-40cc-c37a-8ce779f9966d",
        "colab": {
          "base_uri": "https://localhost:8080/",
          "height": 86
        }
      },
      "source": [
        "#2.22\n",
        "a=int(input('정수 a를 입력하시오 : '))\n",
        "b=int(input('정수 b를 입력하시오 : '))\n",
        "print('a / b의 몫 : ',a//b)\n",
        "print('a / b의 나머지 : ', a%b)"
      ],
      "execution_count": 100,
      "outputs": [
        {
          "output_type": "stream",
          "text": [
            "정수 a를 입력하시오 : 202\n",
            "정수 b를 입력하시오 : 50\n",
            "a / b의 몫 :  4\n",
            "a / b의 나머지 :  2\n"
          ],
          "name": "stdout"
        }
      ]
    },
    {
      "cell_type": "code",
      "metadata": {
        "id": "97uWE7afDL6I",
        "outputId": "46ced970-08d3-4c56-f186-fa36f8d1da8e",
        "colab": {
          "base_uri": "https://localhost:8080/",
          "height": 86
        }
      },
      "source": [
        "#2.23\n",
        "n=int(input('세 자리 정수를 입력하세요 : '))\n",
        "print('백의 자리 : ', n//100)\n",
        "print('십의 자리 : ', (n%100)//10)\n",
        "print('일의 자리 : ', (n%100)%10)"
      ],
      "execution_count": 102,
      "outputs": [
        {
          "output_type": "stream",
          "text": [
            "세 자리 정수를 입력하세요 : 349\n",
            "백의 자리 :  3\n",
            "십의 자리 :  4\n",
            "일의 자리 :  9\n"
          ],
          "name": "stdout"
        }
      ]
    },
    {
      "cell_type": "code",
      "metadata": {
        "id": "hkDCMekxGQjf",
        "outputId": "e9db3381-c604-4727-edb3-af04ef2dea21",
        "colab": {
          "base_uri": "https://localhost:8080/",
          "height": 86
        }
      },
      "source": [
        "#2.24\n",
        "n=int(input('세 자리 정수를 입력하세요 : '))\n",
        "print((n%100)%10)\n",
        "print((n%100)//10)\n",
        "print(n//100)"
      ],
      "execution_count": 105,
      "outputs": [
        {
          "output_type": "stream",
          "text": [
            "세 자리 정수를 입력하세요 : 349\n",
            "9\n",
            "4\n",
            "3\n"
          ],
          "name": "stdout"
        }
      ]
    }
  ]
}