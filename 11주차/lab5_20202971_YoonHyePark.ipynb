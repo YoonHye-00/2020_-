{
  "nbformat": 4,
  "nbformat_minor": 0,
  "metadata": {
    "colab": {
      "name": "lab5_20202971_YoonHyePark",
      "provenance": []
    },
    "kernelspec": {
      "name": "python3",
      "display_name": "Python 3"
    }
  },
  "cells": [
    {
      "cell_type": "markdown",
      "metadata": {
        "id": "885c4YvRJNyJ"
      },
      "source": [
        "#리스트"
      ]
    },
    {
      "cell_type": "markdown",
      "metadata": {
        "id": "pQV9TxAcQ4OP"
      },
      "source": [
        "대화창 실습 : 수치 값을 가진 리스트 만들기"
      ]
    },
    {
      "cell_type": "code",
      "metadata": {
        "id": "1c-YZDaXJL3e",
        "outputId": "16d9f537-238e-4806-a608-d5ca0fd03114",
        "colab": {
          "base_uri": "https://localhost:8080/"
        }
      },
      "source": [
        "score_list = [87, 84, 95, 67, 88, 94, 63]\n",
        "score_list"
      ],
      "execution_count": 9,
      "outputs": [
        {
          "output_type": "execute_result",
          "data": {
            "text/plain": [
              "[87, 84, 95, 67, 88, 94, 63]"
            ]
          },
          "metadata": {
            "tags": []
          },
          "execution_count": 9
        }
      ]
    },
    {
      "cell_type": "code",
      "metadata": {
        "id": "xaDIPKqETMBB",
        "outputId": "74a9c3b1-82d6-468d-e8e9-dcc5a00f3254",
        "colab": {
          "base_uri": "https://localhost:8080/"
        }
      },
      "source": [
        "print(score_list[0],score_list[3])"
      ],
      "execution_count": 12,
      "outputs": [
        {
          "output_type": "stream",
          "text": [
            "87 67\n"
          ],
          "name": "stdout"
        }
      ]
    },
    {
      "cell_type": "markdown",
      "metadata": {
        "id": "UkVxII7fT8gv"
      },
      "source": [
        "대화창 실습 : 문자열과 복합 자료값을 가진 리스트 만들기"
      ]
    },
    {
      "cell_type": "code",
      "metadata": {
        "id": "7YlTk3lOTPcA",
        "outputId": "fa4e0280-b942-4683-ef5c-938c68c92a82",
        "colab": {
          "base_uri": "https://localhost:8080/"
        }
      },
      "source": [
        "fruits = ['banana', 'apple', 'orange', 'kiwi']\n",
        "fruits"
      ],
      "execution_count": 13,
      "outputs": [
        {
          "output_type": "execute_result",
          "data": {
            "text/plain": [
              "['banana', 'apple', 'orange', 'kiwi']"
            ]
          },
          "metadata": {
            "tags": []
          },
          "execution_count": 13
        }
      ]
    },
    {
      "cell_type": "code",
      "metadata": {
        "id": "y51QqqufUGkO",
        "outputId": "7185ae9e-fe85-4d0a-ce56-f969fb2bb53b",
        "colab": {
          "base_uri": "https://localhost:8080/"
        }
      },
      "source": [
        "mixed_list = [100,200,'apple',400]\n",
        "mixed_list"
      ],
      "execution_count": 14,
      "outputs": [
        {
          "output_type": "execute_result",
          "data": {
            "text/plain": [
              "[100, 200, 'apple', 400]"
            ]
          },
          "metadata": {
            "tags": []
          },
          "execution_count": 14
        }
      ]
    },
    {
      "cell_type": "markdown",
      "metadata": {
        "id": "mQ2lNImqUTpp"
      },
      "source": [
        "대화창 실습 : 다양한 방법으로 리스트 만들기"
      ]
    },
    {
      "cell_type": "code",
      "metadata": {
        "id": "YyM3h00CULYK"
      },
      "source": [
        "# 빈 리스트 생성하기\n",
        "list1 = list()\n",
        "list2 = []"
      ],
      "execution_count": 15,
      "outputs": []
    },
    {
      "cell_type": "code",
      "metadata": {
        "id": "9xsaGHGUUl8x",
        "outputId": "2c52f6ae-6e5a-440b-d9f4-6db1d8b3a7c3",
        "colab": {
          "base_uri": "https://localhost:8080/"
        }
      },
      "source": [
        "# 튜플로부터 리스트 생성\n",
        "list3 = list((1,2,3))\n",
        "list3"
      ],
      "execution_count": 17,
      "outputs": [
        {
          "output_type": "execute_result",
          "data": {
            "text/plain": [
              "[1, 2, 3]"
            ]
          },
          "metadata": {
            "tags": []
          },
          "execution_count": 17
        }
      ]
    },
    {
      "cell_type": "code",
      "metadata": {
        "id": "iWRsDq-AUqfC",
        "outputId": "1b1ee7df-d9da-4e96-b479-2e04354b6413",
        "colab": {
          "base_uri": "https://localhost:8080/"
        }
      },
      "source": [
        "# range()함수로부터 리스트 생성\n",
        "list4 = list(range(1,10))\n",
        "list4"
      ],
      "execution_count": 18,
      "outputs": [
        {
          "output_type": "execute_result",
          "data": {
            "text/plain": [
              "[1, 2, 3, 4, 5, 6, 7, 8, 9]"
            ]
          },
          "metadata": {
            "tags": []
          },
          "execution_count": 18
        }
      ]
    },
    {
      "cell_type": "code",
      "metadata": {
        "id": "7uDBH1DGUydS",
        "outputId": "18732e43-b734-4602-87a1-caa5d6c049b2",
        "colab": {
          "base_uri": "https://localhost:8080/"
        }
      },
      "source": [
        "# 문자열로부터 리스트 생성\n",
        "list5 = list('ABCDEF')\n",
        "list5"
      ],
      "execution_count": 19,
      "outputs": [
        {
          "output_type": "execute_result",
          "data": {
            "text/plain": [
              "['A', 'B', 'C', 'D', 'E', 'F']"
            ]
          },
          "metadata": {
            "tags": []
          },
          "execution_count": 19
        }
      ]
    },
    {
      "cell_type": "markdown",
      "metadata": {
        "id": "eyCpMDajU6tl"
      },
      "source": [
        "LAB 5-1 : 리스트의 생성"
      ]
    },
    {
      "cell_type": "code",
      "metadata": {
        "id": "4XHJHEATU4HP",
        "outputId": "554bf978-a4c1-42f6-dbab-1a2bcfb4955d",
        "colab": {
          "base_uri": "https://localhost:8080/"
        }
      },
      "source": [
        "#1.\n",
        "even_list = [2,4,6,8,10]\n",
        "print('even_list =',even_list)"
      ],
      "execution_count": 22,
      "outputs": [
        {
          "output_type": "stream",
          "text": [
            "even_list = [2, 4, 6, 8, 10]\n"
          ],
          "name": "stdout"
        }
      ]
    },
    {
      "cell_type": "code",
      "metadata": {
        "id": "TdPG-7R1VFsR",
        "outputId": "14145702-dbf8-45ba-8cc7-5aba4332bb4b",
        "colab": {
          "base_uri": "https://localhost:8080/"
        }
      },
      "source": [
        "#2.\n",
        "even_list = list(range(2,11,2))\n",
        "print('even_list =',even_list)"
      ],
      "execution_count": 23,
      "outputs": [
        {
          "output_type": "stream",
          "text": [
            "even_list = [2, 4, 6, 8, 10]\n"
          ],
          "name": "stdout"
        }
      ]
    },
    {
      "cell_type": "code",
      "metadata": {
        "id": "T72u6eWNVQhl",
        "outputId": "b38e3beb-ff07-4ff4-e3eb-60b26a7d113f",
        "colab": {
          "base_uri": "https://localhost:8080/"
        }
      },
      "source": [
        "#3.\n",
        "nations = ['Korea', 'China', 'India', 'Nepal']\n",
        "print('nations =',nations)"
      ],
      "execution_count": 24,
      "outputs": [
        {
          "output_type": "stream",
          "text": [
            "nations = ['Korea', 'China', 'India', 'Nepal']\n"
          ],
          "name": "stdout"
        }
      ]
    },
    {
      "cell_type": "code",
      "metadata": {
        "id": "dpawvL-MVZQ8",
        "outputId": "c2821be7-703c-4f62-a410-cbed372e8f1c",
        "colab": {
          "base_uri": "https://localhost:8080/"
        }
      },
      "source": [
        "#4.\n",
        "friends = ['지수','소은','예은','윤채','혜미']\n",
        "print('friends =',friends)"
      ],
      "execution_count": 26,
      "outputs": [
        {
          "output_type": "stream",
          "text": [
            "friends = ['지수', '소은', '예은', '윤채', '혜미']\n"
          ],
          "name": "stdout"
        }
      ]
    },
    {
      "cell_type": "code",
      "metadata": {
        "id": "RHHaRNZ9VoYN",
        "outputId": "517d0977-5b52-431e-e27a-18ee95bb2456",
        "colab": {
          "base_uri": "https://localhost:8080/"
        }
      },
      "source": [
        "#5.\n",
        "string = list('XYZ')\n",
        "print('string =',string)"
      ],
      "execution_count": 28,
      "outputs": [
        {
          "output_type": "stream",
          "text": [
            "string = ['X', 'Y', 'Z']\n"
          ],
          "name": "stdout"
        }
      ]
    },
    {
      "cell_type": "markdown",
      "metadata": {
        "id": "kfHyFhMXWgDQ"
      },
      "source": [
        "대화창 실습 : 6개의 원소를 가지는 리스트 만들기"
      ]
    },
    {
      "cell_type": "code",
      "metadata": {
        "id": "VslhH76aWAq-",
        "outputId": "8a4e265c-e0dd-4c66-b78b-099d833f22f9",
        "colab": {
          "base_uri": "https://localhost:8080/"
        }
      },
      "source": [
        "n_list = [11,22,33,44,55,66]\n",
        "n_list"
      ],
      "execution_count": 29,
      "outputs": [
        {
          "output_type": "execute_result",
          "data": {
            "text/plain": [
              "[11, 22, 33, 44, 55, 66]"
            ]
          },
          "metadata": {
            "tags": []
          },
          "execution_count": 29
        }
      ]
    },
    {
      "cell_type": "code",
      "metadata": {
        "id": "K6bC2oztWmoG",
        "outputId": "c92e6f65-b284-43a0-8d88-0f5e99a123c0",
        "colab": {
          "base_uri": "https://localhost:8080/"
        }
      },
      "source": [
        "len(n_list)"
      ],
      "execution_count": 30,
      "outputs": [
        {
          "output_type": "execute_result",
          "data": {
            "text/plain": [
              "6"
            ]
          },
          "metadata": {
            "tags": []
          },
          "execution_count": 30
        }
      ]
    },
    {
      "cell_type": "code",
      "metadata": {
        "id": "DdHlRw1oWnoz",
        "outputId": "6bea5dcb-3a72-416d-f693-b0351cac8f03",
        "colab": {
          "base_uri": "https://localhost:8080/"
        }
      },
      "source": [
        "n_list[0]"
      ],
      "execution_count": 31,
      "outputs": [
        {
          "output_type": "execute_result",
          "data": {
            "text/plain": [
              "11"
            ]
          },
          "metadata": {
            "tags": []
          },
          "execution_count": 31
        }
      ]
    },
    {
      "cell_type": "code",
      "metadata": {
        "id": "jGySH28iWpNa",
        "outputId": "a177431b-4f9f-4035-bc21-fae243abd2f3",
        "colab": {
          "base_uri": "https://localhost:8080/"
        }
      },
      "source": [
        "n_list[1]"
      ],
      "execution_count": 32,
      "outputs": [
        {
          "output_type": "execute_result",
          "data": {
            "text/plain": [
              "22"
            ]
          },
          "metadata": {
            "tags": []
          },
          "execution_count": 32
        }
      ]
    },
    {
      "cell_type": "markdown",
      "metadata": {
        "id": "7ia9eRylWs2K"
      },
      "source": [
        "대화창 실습 : 리스트 인덱스를 통한 요소의 접근"
      ]
    },
    {
      "cell_type": "code",
      "metadata": {
        "id": "Er9i4s2mWp9q",
        "outputId": "f3b50e34-4602-4519-92d8-a3225f928c4c",
        "colab": {
          "base_uri": "https://localhost:8080/"
        }
      },
      "source": [
        "n_list = [11,22,33,44,55,66]\n",
        "n_list[5]       #n_list[6] >> IndexError : list index out of range"
      ],
      "execution_count": 34,
      "outputs": [
        {
          "output_type": "execute_result",
          "data": {
            "text/plain": [
              "66"
            ]
          },
          "metadata": {
            "tags": []
          },
          "execution_count": 34
        }
      ]
    },
    {
      "cell_type": "markdown",
      "metadata": {
        "id": "T8NCOZZnXVNV"
      },
      "source": [
        "대화창 실습 : 리스트의 음수 인덱스 사용법"
      ]
    },
    {
      "cell_type": "code",
      "metadata": {
        "id": "xHiK2XxlWy99",
        "outputId": "c91ef765-1efe-40dd-8de7-d641ba71a241",
        "colab": {
          "base_uri": "https://localhost:8080/"
        }
      },
      "source": [
        "n_list = [11,22,33,44,55,66]\n",
        "n_list[-1]    #리스트의 마지막 요소 값"
      ],
      "execution_count": 35,
      "outputs": [
        {
          "output_type": "execute_result",
          "data": {
            "text/plain": [
              "66"
            ]
          },
          "metadata": {
            "tags": []
          },
          "execution_count": 35
        }
      ]
    },
    {
      "cell_type": "code",
      "metadata": {
        "id": "7lRIjg2wXdPM",
        "outputId": "ca281e54-1e25-4f86-abae-6ad9246a738e",
        "colab": {
          "base_uri": "https://localhost:8080/"
        }
      },
      "source": [
        "n_list[-2]"
      ],
      "execution_count": 36,
      "outputs": [
        {
          "output_type": "execute_result",
          "data": {
            "text/plain": [
              "55"
            ]
          },
          "metadata": {
            "tags": []
          },
          "execution_count": 36
        }
      ]
    },
    {
      "cell_type": "code",
      "metadata": {
        "id": "d9o28GadXetp",
        "outputId": "45ff0cad-42c4-4611-a6ba-09390c5f9063",
        "colab": {
          "base_uri": "https://localhost:8080/"
        }
      },
      "source": [
        "n_list[-3]"
      ],
      "execution_count": 37,
      "outputs": [
        {
          "output_type": "execute_result",
          "data": {
            "text/plain": [
              "44"
            ]
          },
          "metadata": {
            "tags": []
          },
          "execution_count": 37
        }
      ]
    },
    {
      "cell_type": "markdown",
      "metadata": {
        "id": "4F3ThfF3XikG"
      },
      "source": [
        "LAB 5-2 : 리스트의 생성과 인덱싱"
      ]
    },
    {
      "cell_type": "code",
      "metadata": {
        "id": "95HPH4KKXgDx",
        "outputId": "6c59161e-ab32-48f9-b18b-450b6ce2d013",
        "colab": {
          "base_uri": "https://localhost:8080/"
        }
      },
      "source": [
        "#1.\n",
        "prime_list = [2,3,5,7]\n",
        "print('prime_list의 첫 원소 :',prime_list[0])"
      ],
      "execution_count": 38,
      "outputs": [
        {
          "output_type": "stream",
          "text": [
            "prime_list의 첫 원소 : 2\n"
          ],
          "name": "stdout"
        }
      ]
    },
    {
      "cell_type": "code",
      "metadata": {
        "id": "jKS8DkZ7f6gl",
        "outputId": "e7bca39a-e101-420d-da8f-2c1ff169514f",
        "colab": {
          "base_uri": "https://localhost:8080/"
        }
      },
      "source": [
        "#2.\n",
        "print('prime_list의 마지막 원소 :',prime_list[3])"
      ],
      "execution_count": 39,
      "outputs": [
        {
          "output_type": "stream",
          "text": [
            "prime_list의 마지막 원소 : 7\n"
          ],
          "name": "stdout"
        }
      ]
    },
    {
      "cell_type": "code",
      "metadata": {
        "id": "hbcEwt1egDZ9",
        "outputId": "2015e0d4-cfeb-42a8-9a8a-869c8ee8918d",
        "colab": {
          "base_uri": "https://localhost:8080/"
        }
      },
      "source": [
        "#3.\n",
        "print('prime_list의 마지막 원소 :',prime_list[-1])"
      ],
      "execution_count": 40,
      "outputs": [
        {
          "output_type": "stream",
          "text": [
            "prime_list의 마지막 원소 : 7\n"
          ],
          "name": "stdout"
        }
      ]
    },
    {
      "cell_type": "code",
      "metadata": {
        "id": "yZEJcK0TgIjg",
        "outputId": "17105cb6-bb21-47c1-e4e2-2dba29059499",
        "colab": {
          "base_uri": "https://localhost:8080/"
        }
      },
      "source": [
        "#4.\n",
        "nations = ['Korea','China','Russia','Malaysia']\n",
        "print('nations의 첫 원소 :',nations[0])"
      ],
      "execution_count": 41,
      "outputs": [
        {
          "output_type": "stream",
          "text": [
            "nations의 첫 원소 : Korea\n"
          ],
          "name": "stdout"
        }
      ]
    },
    {
      "cell_type": "code",
      "metadata": {
        "id": "dvbY4JR1gVJ-",
        "outputId": "9839b2af-f767-4fdb-def9-2dda9cfc01bc",
        "colab": {
          "base_uri": "https://localhost:8080/"
        }
      },
      "source": [
        "#5.\n",
        "print('nations의 마지막 원소 :',nations[-1])"
      ],
      "execution_count": 43,
      "outputs": [
        {
          "output_type": "stream",
          "text": [
            "nations의 마지막 원소 : Malaysia\n"
          ],
          "name": "stdout"
        }
      ]
    },
    {
      "cell_type": "code",
      "metadata": {
        "id": "eF37_dotgolQ",
        "outputId": "6356c83e-269c-40eb-afb2-95d95c9462ab",
        "colab": {
          "base_uri": "https://localhost:8080/"
        }
      },
      "source": [
        "#6.\n",
        "print('nations의 마지막 원소 :',nations[len(nations)-1])"
      ],
      "execution_count": 45,
      "outputs": [
        {
          "output_type": "stream",
          "text": [
            "nations의 마지막 원소 : Malaysia\n"
          ],
          "name": "stdout"
        }
      ]
    },
    {
      "cell_type": "markdown",
      "metadata": {
        "id": "Pc8jqzBYg0pj"
      },
      "source": [
        "대화창 실습 : 리스트의 append() 메소드를 사용한 항목의 추가"
      ]
    },
    {
      "cell_type": "code",
      "metadata": {
        "id": "kCoErzLwgxH6",
        "outputId": "593ee39c-f5cf-453f-c508-efbb35d35a39",
        "colab": {
          "base_uri": "https://localhost:8080/"
        }
      },
      "source": [
        "a_list = ['a','b','c','d','e']\n",
        "a_list.append('f')\n",
        "a_list"
      ],
      "execution_count": 46,
      "outputs": [
        {
          "output_type": "execute_result",
          "data": {
            "text/plain": [
              "['a', 'b', 'c', 'd', 'e', 'f']"
            ]
          },
          "metadata": {
            "tags": []
          },
          "execution_count": 46
        }
      ]
    },
    {
      "cell_type": "code",
      "metadata": {
        "id": "30b_gt3ThWwV",
        "outputId": "39dc84de-7143-4af2-a2fe-f44d6fbe0976",
        "colab": {
          "base_uri": "https://localhost:8080/"
        }
      },
      "source": [
        "n_list = [10,20,30,40]\n",
        "n_list.append(50)\n",
        "n_list"
      ],
      "execution_count": 47,
      "outputs": [
        {
          "output_type": "execute_result",
          "data": {
            "text/plain": [
              "[10, 20, 30, 40, 50]"
            ]
          },
          "metadata": {
            "tags": []
          },
          "execution_count": 47
        }
      ]
    },
    {
      "cell_type": "markdown",
      "metadata": {
        "id": "nFjO1og5hoLw"
      },
      "source": [
        "list_del_ex.py"
      ]
    },
    {
      "cell_type": "code",
      "metadata": {
        "id": "TlDCj4cxhbiG",
        "outputId": "5c9145fa-89db-4d16-89b3-daaa0dfc1ebc",
        "colab": {
          "base_uri": "https://localhost:8080/"
        }
      },
      "source": [
        "n_list = [11,22,33,44,55,66]\n",
        "print(n_list)\n",
        "\n",
        "print()\n",
        "del n_list[3]\n",
        "print(n_list)"
      ],
      "execution_count": 48,
      "outputs": [
        {
          "output_type": "stream",
          "text": [
            "[11, 22, 33, 44, 55, 66]\n",
            "\n",
            "[11, 22, 33, 55, 66]\n"
          ],
          "name": "stdout"
        }
      ]
    },
    {
      "cell_type": "markdown",
      "metadata": {
        "id": "BK2F8AE2h5GR"
      },
      "source": [
        "list_remove_ex1.py"
      ]
    },
    {
      "cell_type": "code",
      "metadata": {
        "id": "FXptCsIjhwkQ",
        "outputId": "be908872-d4c7-42b0-af25-2a4bce2147af",
        "colab": {
          "base_uri": "https://localhost:8080/"
        }
      },
      "source": [
        "n_list = [11,22,33,44,55,66]\n",
        "print(n_list)\n",
        "\n",
        "n_list.remove(44)\n",
        "print(n_list)"
      ],
      "execution_count": 49,
      "outputs": [
        {
          "output_type": "stream",
          "text": [
            "[11, 22, 33, 44, 55, 66]\n",
            "[11, 22, 33, 55, 66]\n"
          ],
          "name": "stdout"
        }
      ]
    },
    {
      "cell_type": "markdown",
      "metadata": {
        "id": "Drm2C91tjEO7"
      },
      "source": [
        "대화창 실습 : 멤버 연산자 in과 리스트"
      ]
    },
    {
      "cell_type": "code",
      "metadata": {
        "id": "NPmRt96Iid8J"
      },
      "source": [
        "a_list = [10,20,30,40]"
      ],
      "execution_count": 50,
      "outputs": []
    },
    {
      "cell_type": "code",
      "metadata": {
        "id": "rCMJ9g3WjaUq",
        "outputId": "87bb4406-824e-4a79-df08-4f996ffd97d5",
        "colab": {
          "base_uri": "https://localhost:8080/"
        }
      },
      "source": [
        "10 in a_list"
      ],
      "execution_count": 51,
      "outputs": [
        {
          "output_type": "execute_result",
          "data": {
            "text/plain": [
              "True"
            ]
          },
          "metadata": {
            "tags": []
          },
          "execution_count": 51
        }
      ]
    },
    {
      "cell_type": "code",
      "metadata": {
        "id": "YLAw0V3djblO",
        "outputId": "9cafa37d-5dc7-46b9-921c-9d6cbcbac796",
        "colab": {
          "base_uri": "https://localhost:8080/"
        }
      },
      "source": [
        "50 in a_list"
      ],
      "execution_count": 52,
      "outputs": [
        {
          "output_type": "execute_result",
          "data": {
            "text/plain": [
              "False"
            ]
          },
          "metadata": {
            "tags": []
          },
          "execution_count": 52
        }
      ]
    },
    {
      "cell_type": "code",
      "metadata": {
        "id": "iPjdXHKejc52",
        "outputId": "edf34d73-98fb-49b4-f9b2-40227abc4ff4",
        "colab": {
          "base_uri": "https://localhost:8080/"
        }
      },
      "source": [
        "10 not in a_list"
      ],
      "execution_count": 55,
      "outputs": [
        {
          "output_type": "execute_result",
          "data": {
            "text/plain": [
              "False"
            ]
          },
          "metadata": {
            "tags": []
          },
          "execution_count": 55
        }
      ]
    },
    {
      "cell_type": "code",
      "metadata": {
        "id": "drOzUAV5jdzS",
        "outputId": "efa5cdfa-71b2-4bfc-cb04-3dfd7550e3e5",
        "colab": {
          "base_uri": "https://localhost:8080/"
        }
      },
      "source": [
        "50 not in a_list"
      ],
      "execution_count": 54,
      "outputs": [
        {
          "output_type": "execute_result",
          "data": {
            "text/plain": [
              "True"
            ]
          },
          "metadata": {
            "tags": []
          },
          "execution_count": 54
        }
      ]
    },
    {
      "cell_type": "markdown",
      "metadata": {
        "id": "Mzr7DbFNjmok"
      },
      "source": [
        "value_in_list.py"
      ]
    },
    {
      "cell_type": "code",
      "metadata": {
        "id": "k8NAKjQJjfB-",
        "outputId": "675907f2-9642-40e8-e555-1dcf92c406d8",
        "colab": {
          "base_uri": "https://localhost:8080/"
        }
      },
      "source": [
        "n_list = [11,22,33,44,55,66]\n",
        "print(88 in n_list)\n",
        "print(55 in n_list)"
      ],
      "execution_count": 56,
      "outputs": [
        {
          "output_type": "stream",
          "text": [
            "False\n",
            "True\n"
          ],
          "name": "stdout"
        }
      ]
    },
    {
      "cell_type": "markdown",
      "metadata": {
        "id": "14eayXQjjwGH"
      },
      "source": [
        "list_remove_ex3.py"
      ]
    },
    {
      "cell_type": "code",
      "metadata": {
        "id": "o705T5eXjutw",
        "outputId": "16be178d-06d5-43dd-9398-2bb353b49500",
        "colab": {
          "base_uri": "https://localhost:8080/"
        }
      },
      "source": [
        "n_list = [11,22,33,44,55,66]\n",
        "if (55 in n_list) :\n",
        "    n_list.remove(55)\n",
        "if (88 in n_list) :\n",
        "    n_list.remove(88)\n",
        "print(n_list)"
      ],
      "execution_count": 57,
      "outputs": [
        {
          "output_type": "stream",
          "text": [
            "[11, 22, 33, 44, 66]\n"
          ],
          "name": "stdout"
        }
      ]
    },
    {
      "cell_type": "markdown",
      "metadata": {
        "id": "L_tURCd5kDDk"
      },
      "source": [
        "LAB 5-3 : 리스트의 삽입과 삭제, in 연산자"
      ]
    },
    {
      "cell_type": "code",
      "metadata": {
        "id": "vsjzrY8Bj-iF",
        "outputId": "f382f06b-3593-4780-f54c-cd2d7f305951",
        "colab": {
          "base_uri": "https://localhost:8080/"
        }
      },
      "source": [
        "#1.\n",
        "prime_list = [2,3,5,7]\n",
        "print('소수 목록 :',prime_list)\n",
        "prime_list.append(11)\n",
        "print('추가 후 소수 목록 :',prime_list)"
      ],
      "execution_count": 58,
      "outputs": [
        {
          "output_type": "stream",
          "text": [
            "소수 목록 : [2, 3, 5, 7]\n",
            "추가 후 소수 목록 : [2, 3, 5, 7, 11]\n"
          ],
          "name": "stdout"
        }
      ]
    },
    {
      "cell_type": "code",
      "metadata": {
        "id": "v183GG9R5Mm8",
        "outputId": "7c8b9e46-1423-4434-bcfd-6aaed473af38",
        "colab": {
          "base_uri": "https://localhost:8080/"
        }
      },
      "source": [
        "#2.\n",
        "print('삭제 전 소수 목록 :',prime_list)\n",
        "prime_list.remove(3)\n",
        "print('삭제 후 소수 목록 :',prime_list)"
      ],
      "execution_count": 59,
      "outputs": [
        {
          "output_type": "stream",
          "text": [
            "삭제 전 소수 목록 : [2, 3, 5, 7, 11]\n",
            "삭제 후 소수 목록 : [2, 5, 7, 11]\n"
          ],
          "name": "stdout"
        }
      ]
    },
    {
      "cell_type": "code",
      "metadata": {
        "id": "8vQlNIL95Xg9",
        "outputId": "eab0baa6-82fa-470d-d21d-4a0ac5d72944",
        "colab": {
          "base_uri": "https://localhost:8080/"
        }
      },
      "source": [
        "#3.\n",
        "nations = ['Korea','China','Russia','Malaysia']\n",
        "print('국가 목록 :',nations)\n",
        "nations.append('Nepal')\n",
        "print('추가 후 국가 목록 :',nations)"
      ],
      "execution_count": 60,
      "outputs": [
        {
          "output_type": "stream",
          "text": [
            "국가 목록 : ['Korea', 'China', 'Russia', 'Malaysia']\n",
            "추가 후 국가 목록 : ['Korea', 'China', 'Russia', 'Malaysia', 'Nepal']\n"
          ],
          "name": "stdout"
        }
      ]
    },
    {
      "cell_type": "code",
      "metadata": {
        "id": "Wap7E6MX5nGL",
        "outputId": "6cb41d49-c8f4-4c50-b138-a0e601c6008d",
        "colab": {
          "base_uri": "https://localhost:8080/"
        }
      },
      "source": [
        "#4.\n",
        "def check (n) :\n",
        "    \n",
        "    if n in nations :\n",
        "        print('{} 는(은) 국가 목록에 있습니다.'.format(n))\n",
        "    else :\n",
        "        print('{} 는(은) 국가 목록에 없습니다.'.format(n))\n",
        "\n",
        "check('Japan')\n",
        "check('Russia')"
      ],
      "execution_count": 61,
      "outputs": [
        {
          "output_type": "stream",
          "text": [
            "Japan 는(은) 국가 목록에 없습니다.\n",
            "Russia 는(은) 국가 목록에 있습니다.\n"
          ],
          "name": "stdout"
        }
      ]
    },
    {
      "cell_type": "markdown",
      "metadata": {
        "id": "gR-uhrgq6pyp"
      },
      "source": [
        "대화창 실습 : 리스트와 내장함수 min(), max(), sum()"
      ]
    },
    {
      "cell_type": "code",
      "metadata": {
        "id": "sM194Muu6dpn",
        "outputId": "d342efa2-d3f8-48c7-ce87-ece5013f0b9a",
        "colab": {
          "base_uri": "https://localhost:8080/"
        }
      },
      "source": [
        "list1 = [20, 10, 40, 50, 30]\n",
        "min(list1)"
      ],
      "execution_count": 62,
      "outputs": [
        {
          "output_type": "execute_result",
          "data": {
            "text/plain": [
              "10"
            ]
          },
          "metadata": {
            "tags": []
          },
          "execution_count": 62
        }
      ]
    },
    {
      "cell_type": "code",
      "metadata": {
        "id": "ttwIwNjx61C1",
        "outputId": "f25fd090-f27f-404c-b975-cebf6efaee80",
        "colab": {
          "base_uri": "https://localhost:8080/"
        }
      },
      "source": [
        "max(list1)"
      ],
      "execution_count": 63,
      "outputs": [
        {
          "output_type": "execute_result",
          "data": {
            "text/plain": [
              "50"
            ]
          },
          "metadata": {
            "tags": []
          },
          "execution_count": 63
        }
      ]
    },
    {
      "cell_type": "code",
      "metadata": {
        "id": "aXjjgarT611N",
        "outputId": "97bc7688-3842-4727-91d0-d68fb58654bd",
        "colab": {
          "base_uri": "https://localhost:8080/"
        }
      },
      "source": [
        "sum(list1)"
      ],
      "execution_count": 64,
      "outputs": [
        {
          "output_type": "execute_result",
          "data": {
            "text/plain": [
              "150"
            ]
          },
          "metadata": {
            "tags": []
          },
          "execution_count": 64
        }
      ]
    },
    {
      "cell_type": "markdown",
      "metadata": {
        "id": "VMKJnDZg66vv"
      },
      "source": [
        "대화창 실습 : 문자열 리스트와 내장함수 min(), max()"
      ]
    },
    {
      "cell_type": "code",
      "metadata": {
        "id": "IZAQvGaM63KZ",
        "outputId": "0d820ae6-2444-4843-e82f-e43c9dc77100",
        "colab": {
          "base_uri": "https://localhost:8080/",
          "height": 36
        }
      },
      "source": [
        "fruits = ['banana','orange','apple','kiwi']\n",
        "min(fruits) # 영어사전 순서로 가장 앞에 있는 단어를 변환"
      ],
      "execution_count": 65,
      "outputs": [
        {
          "output_type": "execute_result",
          "data": {
            "application/vnd.google.colaboratory.intrinsic+json": {
              "type": "string"
            },
            "text/plain": [
              "'apple'"
            ]
          },
          "metadata": {
            "tags": []
          },
          "execution_count": 65
        }
      ]
    },
    {
      "cell_type": "code",
      "metadata": {
        "id": "EB43aBQJ7Hlg",
        "outputId": "a3617f25-ceb3-4709-da51-27c5b55b622f",
        "colab": {
          "base_uri": "https://localhost:8080/",
          "height": 36
        }
      },
      "source": [
        "max(fruits)"
      ],
      "execution_count": 66,
      "outputs": [
        {
          "output_type": "execute_result",
          "data": {
            "application/vnd.google.colaboratory.intrinsic+json": {
              "type": "string"
            },
            "text/plain": [
              "'orange'"
            ]
          },
          "metadata": {
            "tags": []
          },
          "execution_count": 66
        }
      ]
    },
    {
      "cell_type": "markdown",
      "metadata": {
        "id": "G5Zxkw3i7NTm"
      },
      "source": [
        "대화창 실습 : 한글 문자열 리스트와 내장함수 min(), max()"
      ]
    },
    {
      "cell_type": "code",
      "metadata": {
        "id": "AESFYucZ7I-E",
        "outputId": "73a2da9f-c216-4b8b-df2e-52c896f212fb",
        "colab": {
          "base_uri": "https://localhost:8080/",
          "height": 36
        }
      },
      "source": [
        "k_fruits = ['사과','오렌지','포도','바나나']\n",
        "min(k_fruits)"
      ],
      "execution_count": 67,
      "outputs": [
        {
          "output_type": "execute_result",
          "data": {
            "application/vnd.google.colaboratory.intrinsic+json": {
              "type": "string"
            },
            "text/plain": [
              "'바나나'"
            ]
          },
          "metadata": {
            "tags": []
          },
          "execution_count": 67
        }
      ]
    },
    {
      "cell_type": "code",
      "metadata": {
        "id": "aNY17GHh8RND",
        "outputId": "e3725f5e-1c3a-41d2-dd43-9ff8c15d552b",
        "colab": {
          "base_uri": "https://localhost:8080/",
          "height": 36
        }
      },
      "source": [
        "max(k_fruits)"
      ],
      "execution_count": 68,
      "outputs": [
        {
          "output_type": "execute_result",
          "data": {
            "application/vnd.google.colaboratory.intrinsic+json": {
              "type": "string"
            },
            "text/plain": [
              "'포도'"
            ]
          },
          "metadata": {
            "tags": []
          },
          "execution_count": 68
        }
      ]
    },
    {
      "cell_type": "markdown",
      "metadata": {
        "id": "eoCviCyS8ToU"
      },
      "source": [
        "LAB 5-4 : 리스트의 min()과 max(), sum(), len() 함수"
      ]
    },
    {
      "cell_type": "code",
      "metadata": {
        "id": "Z8G5a7GL8Sfb",
        "outputId": "64f1732b-cfdc-4a37-d1e2-c0d003fd5405",
        "colab": {
          "base_uri": "https://localhost:8080/"
        }
      },
      "source": [
        "#1.\n",
        "prime_list = [2,3,5,7]\n",
        "print('1에서 10까지의 소수 :',prime_list)\n",
        "print('최솟값 :',min(prime_list))\n",
        "print('최댓값 :',max(prime_list))\n",
        "print('합계 :',sum(prime_list))\n",
        "print('평균 :',sum(prime_list)/len(prime_list))"
      ],
      "execution_count": 70,
      "outputs": [
        {
          "output_type": "stream",
          "text": [
            "1에서 10까지의 소수 : [2, 3, 5, 7]\n",
            "최솟값 : 2\n",
            "최댓값 : 7\n",
            "합계 : 17\n",
            "평균 : 4.25\n"
          ],
          "name": "stdout"
        }
      ]
    },
    {
      "cell_type": "code",
      "metadata": {
        "id": "8kYib8PN8vP4",
        "outputId": "1441fa09-dfa6-4a37-9285-f528e4cdc3d4",
        "colab": {
          "base_uri": "https://localhost:8080/"
        }
      },
      "source": [
        "#2.\n",
        "nations = ['Korea','China','Russia','Malaysia']\n",
        "print('국가 목록 :',nations)\n",
        "print('사전에 가장 먼저 나오는 나라 :',min(nations))\n",
        "print('사전에 가장 뒤에 나오는 나라 :',max(nations))"
      ],
      "execution_count": 71,
      "outputs": [
        {
          "output_type": "stream",
          "text": [
            "국가 목록 : ['Korea', 'China', 'Russia', 'Malaysia']\n",
            "사전에 가장 먼저 나오는 나라 : China\n",
            "사전에 가장 뒤에 나오는 나라 : Russia\n"
          ],
          "name": "stdout"
        }
      ]
    },
    {
      "cell_type": "markdown",
      "metadata": {
        "id": "2bEpuP2H9IUU"
      },
      "source": [
        "대화창 실습 : 리스트와 sort() 메소드"
      ]
    },
    {
      "cell_type": "code",
      "metadata": {
        "id": "KfcHx8BT9GCX",
        "outputId": "8697d923-deb4-4dad-97f4-916bd6727d92",
        "colab": {
          "base_uri": "https://localhost:8080/"
        }
      },
      "source": [
        "list1 = [20,10,40,50,30]\n",
        "list1.sort()\n",
        "list1"
      ],
      "execution_count": 73,
      "outputs": [
        {
          "output_type": "execute_result",
          "data": {
            "text/plain": [
              "[10, 20, 30, 40, 50]"
            ]
          },
          "metadata": {
            "tags": []
          },
          "execution_count": 73
        }
      ]
    },
    {
      "cell_type": "code",
      "metadata": {
        "id": "hOy6GGIr9Sa5",
        "outputId": "f1a03212-dee8-4999-c055-47c5c6488c5e",
        "colab": {
          "base_uri": "https://localhost:8080/"
        }
      },
      "source": [
        "list1.sort(reverse=True)\n",
        "list1"
      ],
      "execution_count": 78,
      "outputs": [
        {
          "output_type": "execute_result",
          "data": {
            "text/plain": [
              "[50, 40, 30, 20, 10]"
            ]
          },
          "metadata": {
            "tags": []
          },
          "execution_count": 78
        }
      ]
    },
    {
      "cell_type": "markdown",
      "metadata": {
        "id": "kMxadSHO-a7S"
      },
      "source": [
        "대화창 실습 : 원소의 인덱스를 반환하는 index() 메소드"
      ]
    },
    {
      "cell_type": "code",
      "metadata": {
        "id": "ipnOa4ms9Xw3",
        "outputId": "c77284a6-7bbd-4594-b339-271b592615b4",
        "colab": {
          "base_uri": "https://localhost:8080/"
        }
      },
      "source": [
        "a_list = ['a','b','c','d','e']\n",
        "a_list.index('a') "
      ],
      "execution_count": 79,
      "outputs": [
        {
          "output_type": "execute_result",
          "data": {
            "text/plain": [
              "0"
            ]
          },
          "metadata": {
            "tags": []
          },
          "execution_count": 79
        }
      ]
    },
    {
      "cell_type": "code",
      "metadata": {
        "id": "pyCObtMc-kx9",
        "outputId": "dcb7d303-4463-4412-b8b4-daaa0f3d49c9",
        "colab": {
          "base_uri": "https://localhost:8080/"
        }
      },
      "source": [
        "a_list.index('b')"
      ],
      "execution_count": 80,
      "outputs": [
        {
          "output_type": "execute_result",
          "data": {
            "text/plain": [
              "1"
            ]
          },
          "metadata": {
            "tags": []
          },
          "execution_count": 80
        }
      ]
    },
    {
      "cell_type": "markdown",
      "metadata": {
        "id": "yOFDxfg9-q1w"
      },
      "source": [
        "대화창 실습 : 리스트의 count() 메소드"
      ]
    },
    {
      "cell_type": "code",
      "metadata": {
        "id": "asZdqKXs-pKQ",
        "outputId": "93bd1c3f-f5f1-48bc-ecc4-5bcc4a7fc963",
        "colab": {
          "base_uri": "https://localhost:8080/"
        }
      },
      "source": [
        "b_list = ['a','b','c','a','b','a']\n",
        "b_list.count('a')"
      ],
      "execution_count": 81,
      "outputs": [
        {
          "output_type": "execute_result",
          "data": {
            "text/plain": [
              "3"
            ]
          },
          "metadata": {
            "tags": []
          },
          "execution_count": 81
        }
      ]
    },
    {
      "cell_type": "code",
      "metadata": {
        "id": "W7x9WtJU-0iW",
        "outputId": "49b38859-4129-4583-bfd0-762c18cc4be7",
        "colab": {
          "base_uri": "https://localhost:8080/"
        }
      },
      "source": [
        "b_list.count('b')"
      ],
      "execution_count": 82,
      "outputs": [
        {
          "output_type": "execute_result",
          "data": {
            "text/plain": [
              "2"
            ]
          },
          "metadata": {
            "tags": []
          },
          "execution_count": 82
        }
      ]
    },
    {
      "cell_type": "code",
      "metadata": {
        "id": "Klh3blHn-5Yq",
        "outputId": "f17c6b69-fe34-4b93-cf38-f81810c20f61",
        "colab": {
          "base_uri": "https://localhost:8080/"
        }
      },
      "source": [
        "b_list.index('b')"
      ],
      "execution_count": 84,
      "outputs": [
        {
          "output_type": "execute_result",
          "data": {
            "text/plain": [
              "1"
            ]
          },
          "metadata": {
            "tags": []
          },
          "execution_count": 84
        }
      ]
    },
    {
      "cell_type": "markdown",
      "metadata": {
        "id": "AhSrO-J3_PZt"
      },
      "source": [
        "대화창 실습 : 리스트의 extend() 메소드"
      ]
    },
    {
      "cell_type": "code",
      "metadata": {
        "id": "l20KfTTy_IZj",
        "outputId": "c6a09b8e-6fdf-48ed-b97f-aa195ff6dbe7",
        "colab": {
          "base_uri": "https://localhost:8080/"
        }
      },
      "source": [
        "list1 = ['a','b','c']\n",
        "list2 = [1,2,3]\n",
        "list1.extend(list2)\n",
        "list1"
      ],
      "execution_count": 85,
      "outputs": [
        {
          "output_type": "execute_result",
          "data": {
            "text/plain": [
              "['a', 'b', 'c', 1, 2, 3]"
            ]
          },
          "metadata": {
            "tags": []
          },
          "execution_count": 85
        }
      ]
    },
    {
      "cell_type": "code",
      "metadata": {
        "id": "8pjhUmYc_X6T",
        "outputId": "959d4e15-32a0-4aea-cb1e-180bb8303350",
        "colab": {
          "base_uri": "https://localhost:8080/"
        }
      },
      "source": [
        "list1.extend('d')\n",
        "list1"
      ],
      "execution_count": 86,
      "outputs": [
        {
          "output_type": "execute_result",
          "data": {
            "text/plain": [
              "['a', 'b', 'c', 1, 2, 3, 'd']"
            ]
          },
          "metadata": {
            "tags": []
          },
          "execution_count": 86
        }
      ]
    },
    {
      "cell_type": "markdown",
      "metadata": {
        "id": "Jewuqlc0_6QE"
      },
      "source": [
        "대화창 실습 : 리스트의 insert() 메소드"
      ]
    },
    {
      "cell_type": "code",
      "metadata": {
        "id": "j_03gZmD_exY",
        "outputId": "286e6508-bd3a-4068-b38c-8c5fa088b2a5",
        "colab": {
          "base_uri": "https://localhost:8080/"
        }
      },
      "source": [
        "list1 = ['a','c','d']\n",
        "list1.insert(1,'b')\n",
        "list1"
      ],
      "execution_count": 87,
      "outputs": [
        {
          "output_type": "execute_result",
          "data": {
            "text/plain": [
              "['a', 'b', 'c', 'd']"
            ]
          },
          "metadata": {
            "tags": []
          },
          "execution_count": 87
        }
      ]
    },
    {
      "cell_type": "markdown",
      "metadata": {
        "id": "AyECzhL2AfDC"
      },
      "source": [
        "대화창 실습 : 리스트의 remove() 메소드"
      ]
    },
    {
      "cell_type": "code",
      "metadata": {
        "id": "uciRFHgbADPg",
        "outputId": "aebf9095-2fe5-4a67-e975-057790ca8325",
        "colab": {
          "base_uri": "https://localhost:8080/"
        }
      },
      "source": [
        "list1 = ['a','b','c','b','d']\n",
        "list1.remove('b')     # 제일 먼저 나타나는 'b' 원소를 삭제\n",
        "list1"
      ],
      "execution_count": 88,
      "outputs": [
        {
          "output_type": "execute_result",
          "data": {
            "text/plain": [
              "['a', 'c', 'b', 'd']"
            ]
          },
          "metadata": {
            "tags": []
          },
          "execution_count": 88
        }
      ]
    },
    {
      "cell_type": "code",
      "metadata": {
        "id": "CTxKalvqApvH",
        "outputId": "5cd905eb-e401-4d54-eb66-6402b96e3216",
        "colab": {
          "base_uri": "https://localhost:8080/"
        }
      },
      "source": [
        "list1.remove('b')\n",
        "list1"
      ],
      "execution_count": 89,
      "outputs": [
        {
          "output_type": "execute_result",
          "data": {
            "text/plain": [
              "['a', 'c', 'd']"
            ]
          },
          "metadata": {
            "tags": []
          },
          "execution_count": 89
        }
      ]
    },
    {
      "cell_type": "markdown",
      "metadata": {
        "id": "oU2yNWjCA1WL"
      },
      "source": [
        "대화창 실습 : 리스트의 pop() 메소드"
      ]
    },
    {
      "cell_type": "code",
      "metadata": {
        "id": "TEaarkOBAswQ",
        "outputId": "070014bf-c8a1-45dc-ef14-3051594b50d9",
        "colab": {
          "base_uri": "https://localhost:8080/",
          "height": 36
        }
      },
      "source": [
        "list1 = ['a','b','c','d']\n",
        "list1.pop()"
      ],
      "execution_count": 90,
      "outputs": [
        {
          "output_type": "execute_result",
          "data": {
            "application/vnd.google.colaboratory.intrinsic+json": {
              "type": "string"
            },
            "text/plain": [
              "'d'"
            ]
          },
          "metadata": {
            "tags": []
          },
          "execution_count": 90
        }
      ]
    },
    {
      "cell_type": "code",
      "metadata": {
        "id": "9pqyXf9BA7Wx",
        "outputId": "bb351e9a-fb5c-4364-abf4-8eba7d13af95",
        "colab": {
          "base_uri": "https://localhost:8080/"
        }
      },
      "source": [
        "list1"
      ],
      "execution_count": 91,
      "outputs": [
        {
          "output_type": "execute_result",
          "data": {
            "text/plain": [
              "['a', 'b', 'c']"
            ]
          },
          "metadata": {
            "tags": []
          },
          "execution_count": 91
        }
      ]
    },
    {
      "cell_type": "code",
      "metadata": {
        "id": "kPYljpIvA8nw",
        "outputId": "3c5434cf-a5c8-4799-8349-70b71f0deddf",
        "colab": {
          "base_uri": "https://localhost:8080/",
          "height": 36
        }
      },
      "source": [
        "list1 = ['a','b','c','d']\n",
        "list1.pop(1)"
      ],
      "execution_count": 92,
      "outputs": [
        {
          "output_type": "execute_result",
          "data": {
            "application/vnd.google.colaboratory.intrinsic+json": {
              "type": "string"
            },
            "text/plain": [
              "'b'"
            ]
          },
          "metadata": {
            "tags": []
          },
          "execution_count": 92
        }
      ]
    },
    {
      "cell_type": "code",
      "metadata": {
        "id": "lUhoLtuLBBrm",
        "outputId": "957603ad-1b00-4572-dfb4-1c0b63895dce",
        "colab": {
          "base_uri": "https://localhost:8080/"
        }
      },
      "source": [
        "list1"
      ],
      "execution_count": 93,
      "outputs": [
        {
          "output_type": "execute_result",
          "data": {
            "text/plain": [
              "['a', 'c', 'd']"
            ]
          },
          "metadata": {
            "tags": []
          },
          "execution_count": 93
        }
      ]
    },
    {
      "cell_type": "markdown",
      "metadata": {
        "id": "8mNd6pxaBGUq"
      },
      "source": [
        "대화창 실습 : remove()와 인덱스를 이용한 마지막 원소의 삭제"
      ]
    },
    {
      "cell_type": "code",
      "metadata": {
        "id": "a3LKC0JmBEub",
        "outputId": "99c41a31-36e5-42cd-de70-3b5972d20397",
        "colab": {
          "base_uri": "https://localhost:8080/"
        }
      },
      "source": [
        "list1 = ['a','b','c','d']\n",
        "list1.remove(list1[-1])\n",
        "list1"
      ],
      "execution_count": 94,
      "outputs": [
        {
          "output_type": "execute_result",
          "data": {
            "text/plain": [
              "['a', 'b', 'c']"
            ]
          },
          "metadata": {
            "tags": []
          },
          "execution_count": 94
        }
      ]
    },
    {
      "cell_type": "markdown",
      "metadata": {
        "id": "YYTIAsHWBmSn"
      },
      "source": [
        "대화창 실습 : 리스트의 reverse() 메소드"
      ]
    },
    {
      "cell_type": "code",
      "metadata": {
        "id": "sh98LcBdBRuj",
        "outputId": "7dfe2189-483d-4a87-dd6b-f1b56910968c",
        "colab": {
          "base_uri": "https://localhost:8080/"
        }
      },
      "source": [
        "list1 = [10,20,30,40]\n",
        "list1.reverse()\n",
        "list1"
      ],
      "execution_count": 95,
      "outputs": [
        {
          "output_type": "execute_result",
          "data": {
            "text/plain": [
              "[40, 30, 20, 10]"
            ]
          },
          "metadata": {
            "tags": []
          },
          "execution_count": 95
        }
      ]
    },
    {
      "cell_type": "markdown",
      "metadata": {
        "id": "2jCaAdpFB89b"
      },
      "source": [
        "LAB 5-5 : 리스트 메소드의 응용"
      ]
    },
    {
      "cell_type": "code",
      "metadata": {
        "id": "Azm8DALIBszv",
        "outputId": "50d89d2d-d080-479e-f7c3-441b0fde182f",
        "colab": {
          "base_uri": "https://localhost:8080/"
        }
      },
      "source": [
        "#1 -(1)\n",
        "a = [1,2,3]\n",
        "b = [10,20,30]\n",
        "a.append(b)\n",
        "a"
      ],
      "execution_count": 98,
      "outputs": [
        {
          "output_type": "execute_result",
          "data": {
            "text/plain": [
              "[1, 2, 3, [10, 20, 30]]"
            ]
          },
          "metadata": {
            "tags": []
          },
          "execution_count": 98
        }
      ]
    },
    {
      "cell_type": "code",
      "metadata": {
        "id": "Y2Zvczm9MKqi",
        "outputId": "71197e3e-5896-446f-f237-9ea1811d84a3",
        "colab": {
          "base_uri": "https://localhost:8080/"
        }
      },
      "source": [
        "#1 - (2)\n",
        "a = [1,2,3]\n",
        "b = [10,20,30]\n",
        "a.extend(b)\n",
        "a"
      ],
      "execution_count": 99,
      "outputs": [
        {
          "output_type": "execute_result",
          "data": {
            "text/plain": [
              "[1, 2, 3, 10, 20, 30]"
            ]
          },
          "metadata": {
            "tags": []
          },
          "execution_count": 99
        }
      ]
    },
    {
      "cell_type": "code",
      "metadata": {
        "id": "Or8J9tHjMapc",
        "outputId": "8d1d5040-2842-4e0f-bb6f-a4f68a369974",
        "colab": {
          "base_uri": "https://localhost:8080/"
        }
      },
      "source": [
        "#2.\n",
        "nlist = [1,2,3,4,5,6,7,8,9,10]\n",
        "print('nlist =',nlist)"
      ],
      "execution_count": 100,
      "outputs": [
        {
          "output_type": "stream",
          "text": [
            "nlist = [1, 2, 3, 4, 5, 6, 7, 8, 9, 10]\n"
          ],
          "name": "stdout"
        }
      ]
    },
    {
      "cell_type": "code",
      "metadata": {
        "id": "zUZJ_-TPMhuE",
        "outputId": "4efbb499-2e0c-4d71-94f1-6814830c2140",
        "colab": {
          "base_uri": "https://localhost:8080/"
        }
      },
      "source": [
        "#3.\n",
        "nlist.insert(0,0)\n",
        "print('nlist =',nlist)"
      ],
      "execution_count": 101,
      "outputs": [
        {
          "output_type": "stream",
          "text": [
            "nlist = [0, 1, 2, 3, 4, 5, 6, 7, 8, 9, 10]\n"
          ],
          "name": "stdout"
        }
      ]
    },
    {
      "cell_type": "code",
      "metadata": {
        "id": "jSrWXorfMqLz",
        "outputId": "3089d73d-bbe4-426c-f729-088b022330d9",
        "colab": {
          "base_uri": "https://localhost:8080/"
        }
      },
      "source": [
        "#4.\n",
        "nlist.reverse()\n",
        "print('nlist =',nlist)"
      ],
      "execution_count": 102,
      "outputs": [
        {
          "output_type": "stream",
          "text": [
            "nlist = [10, 9, 8, 7, 6, 5, 4, 3, 2, 1, 0]\n"
          ],
          "name": "stdout"
        }
      ]
    },
    {
      "cell_type": "code",
      "metadata": {
        "id": "m7-2FQPuMvTV",
        "outputId": "deeb4d83-955c-4009-f95a-384c97512fd0",
        "colab": {
          "base_uri": "https://localhost:8080/"
        }
      },
      "source": [
        "#5.\n",
        "print('마지막 원소 =',nlist.pop())\n",
        "print('nlist =',nlist)"
      ],
      "execution_count": 103,
      "outputs": [
        {
          "output_type": "stream",
          "text": [
            "마지막 원소 = 0\n",
            "nlist = [10, 9, 8, 7, 6, 5, 4, 3, 2, 1]\n"
          ],
          "name": "stdout"
        }
      ]
    },
    {
      "cell_type": "markdown",
      "metadata": {
        "id": "Fh-x_1SeM-sd"
      },
      "source": [
        "list_plus_ex1.py"
      ]
    },
    {
      "cell_type": "code",
      "metadata": {
        "id": "Zsd_X37wM4oS",
        "outputId": "7278ceda-1eed-4c98-a8c0-2b7f5ff3e7fe",
        "colab": {
          "base_uri": "https://localhost:8080/"
        }
      },
      "source": [
        "list1 = [11,22,33,44]\n",
        "list2 = [55,66]\n",
        "print(list1)\n",
        "print(list1 + list2)"
      ],
      "execution_count": 105,
      "outputs": [
        {
          "output_type": "stream",
          "text": [
            "[11, 22, 33, 44]\n",
            "[11, 22, 33, 44, 55, 66]\n"
          ],
          "name": "stdout"
        }
      ]
    },
    {
      "cell_type": "markdown",
      "metadata": {
        "id": "0kYGGDPYNXmT"
      },
      "source": [
        "list_plus_ex2.py"
      ]
    },
    {
      "cell_type": "code",
      "metadata": {
        "id": "oM3FtWRMNSJo",
        "outputId": "cd4da8fe-0b3a-4e34-b409-f2dc5ea7f8ef",
        "colab": {
          "base_uri": "https://localhost:8080/"
        }
      },
      "source": [
        "list1 = [11,22,33,44]\n",
        "list2 = [55,66]\n",
        "list3 = list1 + list2\n",
        "print(list3)"
      ],
      "execution_count": 107,
      "outputs": [
        {
          "output_type": "stream",
          "text": [
            "[11, 22, 33, 44, 55, 66]\n"
          ],
          "name": "stdout"
        }
      ]
    },
    {
      "cell_type": "markdown",
      "metadata": {
        "id": "m3ZDMdmpNjKK"
      },
      "source": [
        "대화창 실습 : * 연산자를 이용한 반복 리스트 (리스트 사이의 *, -, / 연산은 사용 불가)"
      ]
    },
    {
      "cell_type": "code",
      "metadata": {
        "id": "H65kItdfNeo5",
        "outputId": "9b842160-959c-4e67-8681-29d14f06b4a8",
        "colab": {
          "base_uri": "https://localhost:8080/"
        }
      },
      "source": [
        "list1 = [1,2,3,4]\n",
        "list1 * 2"
      ],
      "execution_count": 108,
      "outputs": [
        {
          "output_type": "execute_result",
          "data": {
            "text/plain": [
              "[1, 2, 3, 4, 1, 2, 3, 4]"
            ]
          },
          "metadata": {
            "tags": []
          },
          "execution_count": 108
        }
      ]
    },
    {
      "cell_type": "code",
      "metadata": {
        "id": "pL_iBQzCNpoK",
        "outputId": "9e9ba07b-edba-47ce-86e6-10e2e0f3587f",
        "colab": {
          "base_uri": "https://localhost:8080/"
        }
      },
      "source": [
        "list2 = list1 *3\n",
        "list2"
      ],
      "execution_count": 109,
      "outputs": [
        {
          "output_type": "execute_result",
          "data": {
            "text/plain": [
              "[1, 2, 3, 4, 1, 2, 3, 4, 1, 2, 3, 4]"
            ]
          },
          "metadata": {
            "tags": []
          },
          "execution_count": 109
        }
      ]
    },
    {
      "cell_type": "markdown",
      "metadata": {
        "id": "k9ktNBrrN6-A"
      },
      "source": [
        "list1 = [1,2,3,4]\n",
        "\n",
        "list2 = [10,20,30]\n",
        "\n",
        "list1 * list2 >> TypeError : can't multiply sequence by non-int of type 'list'"
      ]
    },
    {
      "cell_type": "markdown",
      "metadata": {
        "id": "bvTJxspYOM7R"
      },
      "source": [
        "대화창 실습 : == 연산자를 이용한 리스트의 비교"
      ]
    },
    {
      "cell_type": "code",
      "metadata": {
        "id": "qyYlAmDnNvQK",
        "outputId": "4014b040-82b7-470d-b6ee-5b9e03c7c735",
        "colab": {
          "base_uri": "https://localhost:8080/"
        }
      },
      "source": [
        "list1 = [1,2,3,4]\n",
        "list2 = [1,2,3,4]\n",
        "list1 == list2"
      ],
      "execution_count": 110,
      "outputs": [
        {
          "output_type": "execute_result",
          "data": {
            "text/plain": [
              "True"
            ]
          },
          "metadata": {
            "tags": []
          },
          "execution_count": 110
        }
      ]
    },
    {
      "cell_type": "code",
      "metadata": {
        "id": "iJmeWXokOVxb",
        "outputId": "8da5ec3a-8139-45ac-e67e-a72eb7762722",
        "colab": {
          "base_uri": "https://localhost:8080/"
        }
      },
      "source": [
        "list3 = [4,1,2,3]\n",
        "list1 == list3"
      ],
      "execution_count": 111,
      "outputs": [
        {
          "output_type": "execute_result",
          "data": {
            "text/plain": [
              "False"
            ]
          },
          "metadata": {
            "tags": []
          },
          "execution_count": 111
        }
      ]
    },
    {
      "cell_type": "markdown",
      "metadata": {
        "id": "ChtIMJQmOaQq"
      },
      "source": [
        "대화창 실습 : >, < 연산자를 이용한 리스트의 비교"
      ]
    },
    {
      "cell_type": "code",
      "metadata": {
        "id": "AqzSNl2UOcwl",
        "outputId": "7e42c02b-9160-47ad-a936-ee4c268ebeb6",
        "colab": {
          "base_uri": "https://localhost:8080/"
        }
      },
      "source": [
        "list1 = [1,2,3,4]\n",
        "list2 = [2,3,3,4]\n",
        "list1 > list2"
      ],
      "execution_count": 132,
      "outputs": [
        {
          "output_type": "execute_result",
          "data": {
            "text/plain": [
              "False"
            ]
          },
          "metadata": {
            "tags": []
          },
          "execution_count": 132
        }
      ]
    },
    {
      "cell_type": "code",
      "metadata": {
        "id": "rRBKY-kBOYIv",
        "outputId": "7811cd2c-de92-441a-e24d-c0a043ffefe2",
        "colab": {
          "base_uri": "https://localhost:8080/"
        }
      },
      "source": [
        "list1 < list2"
      ],
      "execution_count": 133,
      "outputs": [
        {
          "output_type": "execute_result",
          "data": {
            "text/plain": [
              "True"
            ]
          },
          "metadata": {
            "tags": []
          },
          "execution_count": 133
        }
      ]
    },
    {
      "cell_type": "markdown",
      "metadata": {
        "id": "Gho2NC1YPmk3"
      },
      "source": [
        "LAB 5-6 : 리스트 연산"
      ]
    },
    {
      "cell_type": "code",
      "metadata": {
        "id": "ym-jSEveOtC2",
        "outputId": "f697fca5-9c4f-4c6a-c274-80ddbe292cd6",
        "colab": {
          "base_uri": "https://localhost:8080/"
        }
      },
      "source": [
        "n = int(input('반복할 정수를 입력하시오 : '))\n",
        "print([1,2,3]*n)\n",
        "\n",
        "print()\n",
        "n = int(input('반복할 정수를 입력하시오 : '))\n",
        "print([1,2,3]*n)"
      ],
      "execution_count": 136,
      "outputs": [
        {
          "output_type": "stream",
          "text": [
            "반복할 정수를 입력하시오 : 3\n",
            "[1, 2, 3, 1, 2, 3, 1, 2, 3]\n",
            "\n",
            "반복할 정수를 입력하시오 : 4\n",
            "[1, 2, 3, 1, 2, 3, 1, 2, 3, 1, 2, 3]\n"
          ],
          "name": "stdout"
        }
      ]
    },
    {
      "cell_type": "markdown",
      "metadata": {
        "id": "ifWLsQdLP9SL"
      },
      "source": [
        "list_element_ex1.py"
      ]
    },
    {
      "cell_type": "code",
      "metadata": {
        "id": "NA50GczxP2Z0",
        "outputId": "bc6a56da-0000-40d3-f923-cbd4b084b50f",
        "colab": {
          "base_uri": "https://localhost:8080/"
        }
      },
      "source": [
        "list1 = [10,20,30,40,50]\n",
        "i = 0\n",
        "for n in list1 :\n",
        "    list1[i] = n*10\n",
        "    i += 1\n",
        "\n",
        "print(list1)"
      ],
      "execution_count": 137,
      "outputs": [
        {
          "output_type": "stream",
          "text": [
            "[100, 200, 300, 400, 500]\n"
          ],
          "name": "stdout"
        }
      ]
    },
    {
      "cell_type": "markdown",
      "metadata": {
        "id": "fiMGHDH_QPzu"
      },
      "source": [
        "list_element_ex2.py"
      ]
    },
    {
      "cell_type": "code",
      "metadata": {
        "id": "ZobNeo04QPLZ",
        "outputId": "2372cea6-c220-4687-d0b4-ec76cfa374d9",
        "colab": {
          "base_uri": "https://localhost:8080/"
        }
      },
      "source": [
        "list1 = [10,20,30,40,50]\n",
        "list1 = [n*10 for n in list1]\n",
        "print(list1)"
      ],
      "execution_count": 138,
      "outputs": [
        {
          "output_type": "stream",
          "text": [
            "[100, 200, 300, 400, 500]\n"
          ],
          "name": "stdout"
        }
      ]
    },
    {
      "cell_type": "markdown",
      "metadata": {
        "id": "26AkUB8DQfhm"
      },
      "source": [
        "list_element_ex5.py"
      ]
    },
    {
      "cell_type": "code",
      "metadata": {
        "id": "zKhOVGCbQelb",
        "outputId": "0c864b96-8b02-4f64-d49a-31432501e5e5",
        "colab": {
          "base_uri": "https://localhost:8080/"
        }
      },
      "source": [
        "list1 = [10,20,30,40,50]\n",
        "list1 = list(map(lambda x : x*10, list1))\n",
        "print(list1)"
      ],
      "execution_count": 139,
      "outputs": [
        {
          "output_type": "stream",
          "text": [
            "[100, 200, 300, 400, 500]\n"
          ],
          "name": "stdout"
        }
      ]
    },
    {
      "cell_type": "markdown",
      "metadata": {
        "id": "LHIO7NJFRG1B"
      },
      "source": [
        "대화창 실습 : 리스트와 슬라이싱"
      ]
    },
    {
      "cell_type": "code",
      "metadata": {
        "id": "z6oAxT-FRElR",
        "outputId": "3964250c-2908-4bef-c505-21cad4f7464b",
        "colab": {
          "base_uri": "https://localhost:8080/"
        }
      },
      "source": [
        "a_list = [10,20,30,40,50,60,70,80]\n",
        "a_list[1:5]"
      ],
      "execution_count": 140,
      "outputs": [
        {
          "output_type": "execute_result",
          "data": {
            "text/plain": [
              "[20, 30, 40, 50]"
            ]
          },
          "metadata": {
            "tags": []
          },
          "execution_count": 140
        }
      ]
    },
    {
      "cell_type": "code",
      "metadata": {
        "id": "2FFJzkyGRWbe",
        "outputId": "fdba0ff1-8991-45e4-d84d-32d27803c468",
        "colab": {
          "base_uri": "https://localhost:8080/"
        }
      },
      "source": [
        "a_list[0:1]"
      ],
      "execution_count": 141,
      "outputs": [
        {
          "output_type": "execute_result",
          "data": {
            "text/plain": [
              "[10]"
            ]
          },
          "metadata": {
            "tags": []
          },
          "execution_count": 141
        }
      ]
    },
    {
      "cell_type": "code",
      "metadata": {
        "id": "JtGBaSECRX-D",
        "outputId": "52770bf3-2e2d-4ba8-ab1e-0098e92e1d0b",
        "colab": {
          "base_uri": "https://localhost:8080/"
        }
      },
      "source": [
        "a_list[0:2]"
      ],
      "execution_count": 142,
      "outputs": [
        {
          "output_type": "execute_result",
          "data": {
            "text/plain": [
              "[10, 20]"
            ]
          },
          "metadata": {
            "tags": []
          },
          "execution_count": 142
        }
      ]
    },
    {
      "cell_type": "code",
      "metadata": {
        "id": "JSw4s4eYRZZx",
        "outputId": "ad1f8fc4-c2a2-46da-ef19-415046f6b642",
        "colab": {
          "base_uri": "https://localhost:8080/"
        }
      },
      "source": [
        "a_list[0:5]"
      ],
      "execution_count": 143,
      "outputs": [
        {
          "output_type": "execute_result",
          "data": {
            "text/plain": [
              "[10, 20, 30, 40, 50]"
            ]
          },
          "metadata": {
            "tags": []
          },
          "execution_count": 143
        }
      ]
    },
    {
      "cell_type": "code",
      "metadata": {
        "id": "3nqaQWdaRcNS",
        "outputId": "7089892d-7329-4c4c-bc50-163843283611",
        "colab": {
          "base_uri": "https://localhost:8080/"
        }
      },
      "source": [
        "a_list[1:]"
      ],
      "execution_count": 144,
      "outputs": [
        {
          "output_type": "execute_result",
          "data": {
            "text/plain": [
              "[20, 30, 40, 50, 60, 70, 80]"
            ]
          },
          "metadata": {
            "tags": []
          },
          "execution_count": 144
        }
      ]
    },
    {
      "cell_type": "code",
      "metadata": {
        "id": "xqNkTEHVReRX",
        "outputId": "5f86a035-c80c-445b-e350-25cf65b32444",
        "colab": {
          "base_uri": "https://localhost:8080/"
        }
      },
      "source": [
        "a_list[:5]"
      ],
      "execution_count": 145,
      "outputs": [
        {
          "output_type": "execute_result",
          "data": {
            "text/plain": [
              "[10, 20, 30, 40, 50]"
            ]
          },
          "metadata": {
            "tags": []
          },
          "execution_count": 145
        }
      ]
    },
    {
      "cell_type": "markdown",
      "metadata": {
        "id": "rTlm0QvoSY8I"
      },
      "source": [
        "리스트 슬라이싱"
      ]
    },
    {
      "cell_type": "code",
      "metadata": {
        "id": "Vwn_f6D-UAjY",
        "outputId": "3d9a2fd2-876d-49c4-9b54-4e6e030ccc9e",
        "colab": {
          "base_uri": "https://localhost:8080/"
        }
      },
      "source": [
        "a_list = [10,20,30,40,50,60,70,80]\n",
        "a_list[1:5]"
      ],
      "execution_count": 149,
      "outputs": [
        {
          "output_type": "execute_result",
          "data": {
            "text/plain": [
              "[20, 30, 40, 50]"
            ]
          },
          "metadata": {
            "tags": []
          },
          "execution_count": 149
        }
      ]
    },
    {
      "cell_type": "code",
      "metadata": {
        "id": "UY19qvshUsm9",
        "outputId": "6d09e090-efd7-46eb-85a3-10aeb996c8b1",
        "colab": {
          "base_uri": "https://localhost:8080/"
        }
      },
      "source": [
        "a_list[1:]"
      ],
      "execution_count": 150,
      "outputs": [
        {
          "output_type": "execute_result",
          "data": {
            "text/plain": [
              "[20, 30, 40, 50, 60, 70, 80]"
            ]
          },
          "metadata": {
            "tags": []
          },
          "execution_count": 150
        }
      ]
    },
    {
      "cell_type": "code",
      "metadata": {
        "id": "qVLLAP_9UuYF",
        "outputId": "97e6e0db-77fa-4ec1-e572-5244243ea15d",
        "colab": {
          "base_uri": "https://localhost:8080/"
        }
      },
      "source": [
        "a_list[:]"
      ],
      "execution_count": 151,
      "outputs": [
        {
          "output_type": "execute_result",
          "data": {
            "text/plain": [
              "[10, 20, 30, 40, 50, 60, 70, 80]"
            ]
          },
          "metadata": {
            "tags": []
          },
          "execution_count": 151
        }
      ]
    },
    {
      "cell_type": "code",
      "metadata": {
        "id": "JtJLoCv-UwH6",
        "outputId": "95216ec0-1535-41d7-ca48-d6a43ef0d457",
        "colab": {
          "base_uri": "https://localhost:8080/"
        }
      },
      "source": [
        "a_list[-7:-2]"
      ],
      "execution_count": 152,
      "outputs": [
        {
          "output_type": "execute_result",
          "data": {
            "text/plain": [
              "[20, 30, 40, 50, 60]"
            ]
          },
          "metadata": {
            "tags": []
          },
          "execution_count": 152
        }
      ]
    },
    {
      "cell_type": "code",
      "metadata": {
        "id": "E7429E6QUyOR",
        "outputId": "b193debf-3ae8-4ee9-b5ae-ab93594241dd",
        "colab": {
          "base_uri": "https://localhost:8080/"
        }
      },
      "source": [
        "a_list[-7:]"
      ],
      "execution_count": 154,
      "outputs": [
        {
          "output_type": "execute_result",
          "data": {
            "text/plain": [
              "[20, 30, 40, 50, 60, 70, 80]"
            ]
          },
          "metadata": {
            "tags": []
          },
          "execution_count": 154
        }
      ]
    },
    {
      "cell_type": "code",
      "metadata": {
        "id": "a0IwIiX1U0Ve",
        "outputId": "bef00164-d3b1-49f4-f3f9-27538f900d36",
        "colab": {
          "base_uri": "https://localhost:8080/"
        }
      },
      "source": [
        "a_list[:-2]"
      ],
      "execution_count": 155,
      "outputs": [
        {
          "output_type": "execute_result",
          "data": {
            "text/plain": [
              "[10, 20, 30, 40, 50, 60]"
            ]
          },
          "metadata": {
            "tags": []
          },
          "execution_count": 155
        }
      ]
    },
    {
      "cell_type": "code",
      "metadata": {
        "id": "uXm27t0iU3dE",
        "outputId": "82021044-453f-497f-f369-a35f8861bb14",
        "colab": {
          "base_uri": "https://localhost:8080/"
        }
      },
      "source": [
        "a_list[-2:]"
      ],
      "execution_count": 156,
      "outputs": [
        {
          "output_type": "execute_result",
          "data": {
            "text/plain": [
              "[70, 80]"
            ]
          },
          "metadata": {
            "tags": []
          },
          "execution_count": 156
        }
      ]
    },
    {
      "cell_type": "code",
      "metadata": {
        "id": "ycFC7n0kU6Z9",
        "outputId": "c6d37541-1f5a-4e4f-aca0-bd13f8441d36",
        "colab": {
          "base_uri": "https://localhost:8080/"
        }
      },
      "source": [
        "a_list[:-2] + a_list[-2:]       # a_list[:-2] + a_list[-2:] == a_list[:]"
      ],
      "execution_count": 157,
      "outputs": [
        {
          "output_type": "execute_result",
          "data": {
            "text/plain": [
              "[10, 20, 30, 40, 50, 60, 70, 80]"
            ]
          },
          "metadata": {
            "tags": []
          },
          "execution_count": 157
        }
      ]
    },
    {
      "cell_type": "code",
      "metadata": {
        "id": "yQmSupEWVEBm",
        "outputId": "a0c4b63e-88aa-4dc0-8884-1ead55aedc77",
        "colab": {
          "base_uri": "https://localhost:8080/"
        }
      },
      "source": [
        "a_list[-2:] + a_list[:-2]       # a_list[:-2] + a_list[-2:] != a_list[:]  (순서 중요!)"
      ],
      "execution_count": 159,
      "outputs": [
        {
          "output_type": "execute_result",
          "data": {
            "text/plain": [
              "[70, 80, 10, 20, 30, 40, 50, 60]"
            ]
          },
          "metadata": {
            "tags": []
          },
          "execution_count": 159
        }
      ]
    },
    {
      "cell_type": "code",
      "metadata": {
        "id": "jWh--cPeVKQJ",
        "outputId": "8e2fa0cf-54dd-4749-ba63-783e528b23e8",
        "colab": {
          "base_uri": "https://localhost:8080/"
        }
      },
      "source": [
        "a_list[0:8:3]"
      ],
      "execution_count": 162,
      "outputs": [
        {
          "output_type": "execute_result",
          "data": {
            "text/plain": [
              "[10, 40, 70]"
            ]
          },
          "metadata": {
            "tags": []
          },
          "execution_count": 162
        }
      ]
    },
    {
      "cell_type": "code",
      "metadata": {
        "id": "-FJZNNIlVS5X",
        "outputId": "721ea909-3eb5-4163-8918-4a9990494ff4",
        "colab": {
          "base_uri": "https://localhost:8080/"
        }
      },
      "source": [
        "a_list[::-1]"
      ],
      "execution_count": 163,
      "outputs": [
        {
          "output_type": "execute_result",
          "data": {
            "text/plain": [
              "[80, 70, 60, 50, 40, 30, 20, 10]"
            ]
          },
          "metadata": {
            "tags": []
          },
          "execution_count": 163
        }
      ]
    },
    {
      "cell_type": "markdown",
      "metadata": {
        "id": "wFKKD1wrValq"
      },
      "source": [
        "LAB 5-7 : 리스트의 슬라이싱"
      ]
    },
    {
      "cell_type": "code",
      "metadata": {
        "id": "YAHPgcrgVYs1",
        "outputId": "1437d2ca-5de6-4fcf-9f15-d314f4dce9ae",
        "colab": {
          "base_uri": "https://localhost:8080/"
        }
      },
      "source": [
        "#1.\n",
        "n_list = list(range(15))\n",
        "n_list"
      ],
      "execution_count": 173,
      "outputs": [
        {
          "output_type": "execute_result",
          "data": {
            "text/plain": [
              "[0, 1, 2, 3, 4, 5, 6, 7, 8, 9, 10, 11, 12, 13, 14]"
            ]
          },
          "metadata": {
            "tags": []
          },
          "execution_count": 173
        }
      ]
    },
    {
      "cell_type": "code",
      "metadata": {
        "id": "-OJFw4gMVhGT",
        "outputId": "13aed478-957b-4d90-f279-b0723fcb43d5",
        "colab": {
          "base_uri": "https://localhost:8080/"
        }
      },
      "source": [
        "#2.\n",
        "s_list1 = n_list[0:5]\n",
        "s_list2 = n_list[5:11]\n",
        "s_list3 = n_list[-4:]\n",
        "s_list4 = n_list[2:11:2]\n",
        "s_list5 = n_list[10:5:-1]\n",
        "s_list6 = n_list[10:1:-2]\n",
        "print(s_list1)\n",
        "print(s_list2)\n",
        "print(s_list3)\n",
        "print(s_list4)\n",
        "print(s_list5)\n",
        "print(s_list6)"
      ],
      "execution_count": 176,
      "outputs": [
        {
          "output_type": "stream",
          "text": [
            "[0, 1, 2, 3, 4]\n",
            "[5, 6, 7, 8, 9, 10]\n",
            "[11, 12, 13, 14]\n",
            "[2, 4, 6, 8, 10]\n",
            "[10, 9, 8, 7, 6]\n",
            "[10, 8, 6, 4, 2]\n"
          ],
          "name": "stdout"
        }
      ]
    }
  ]
}