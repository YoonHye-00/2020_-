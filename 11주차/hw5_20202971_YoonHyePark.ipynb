{
  "nbformat": 4,
  "nbformat_minor": 0,
  "metadata": {
    "colab": {
      "name": "hw5_20202971_YoonHyePark",
      "provenance": [],
      "collapsed_sections": []
    },
    "kernelspec": {
      "name": "python3",
      "display_name": "Python 3"
    }
  },
  "cells": [
    {
      "cell_type": "markdown",
      "metadata": {
        "id": "R9XWMDX03rso"
      },
      "source": [
        "<으뜸 파이썬 연습문제>\n",
        "\n",
        "5.3~5.24 (5.6, 5.14, 5.16 제외)"
      ]
    },
    {
      "cell_type": "code",
      "metadata": {
        "id": "iVsUZFFT2hwO",
        "outputId": "94f4cd61-aacd-42b9-e244-9faf0f26181f",
        "colab": {
          "base_uri": "https://localhost:8080/"
        }
      },
      "source": [
        "#5.3\n",
        "\n",
        "list1 = [3,5,7]\n",
        "list2 = [2,3,4,5,6]\n",
        "\n",
        "for i in list1 :\n",
        "    for j in list2 :\n",
        "        print('{} * {} = {}'.format(i,j,i*j))"
      ],
      "execution_count": null,
      "outputs": [
        {
          "output_type": "stream",
          "text": [
            "3 * 2 = 6\n",
            "3 * 3 = 9\n",
            "3 * 4 = 12\n",
            "3 * 5 = 15\n",
            "3 * 6 = 18\n",
            "5 * 2 = 10\n",
            "5 * 3 = 15\n",
            "5 * 4 = 20\n",
            "5 * 5 = 25\n",
            "5 * 6 = 30\n",
            "7 * 2 = 14\n",
            "7 * 3 = 21\n",
            "7 * 4 = 28\n",
            "7 * 5 = 35\n",
            "7 * 6 = 42\n"
          ],
          "name": "stdout"
        }
      ]
    },
    {
      "cell_type": "code",
      "metadata": {
        "id": "On1VwjM24h68",
        "outputId": "32561f1e-5f71-4063-d5ab-4c6632f73926",
        "colab": {
          "base_uri": "https://localhost:8080/"
        }
      },
      "source": [
        "#5.4\n",
        "\n",
        "a = [2,3,4,5,6]\n",
        "print('a =',a)\n",
        "\n",
        "l = []\n",
        "for i in range(len(a)) :\n",
        "    l.append(a.pop())\n",
        "print('rev_a =',l)"
      ],
      "execution_count": null,
      "outputs": [
        {
          "output_type": "stream",
          "text": [
            "a = [2, 3, 4, 5, 6]\n",
            "rev_a = [6, 5, 4, 3, 2]\n"
          ],
          "name": "stdout"
        }
      ]
    },
    {
      "cell_type": "code",
      "metadata": {
        "id": "y70Xqn-24-EP",
        "outputId": "fd85d9ef-4d74-465b-9d4d-5e0becb13a4d",
        "colab": {
          "base_uri": "https://localhost:8080/"
        }
      },
      "source": [
        "#5.5\n",
        "\n",
        "list1 = ['I like', 'I love']\n",
        "list2 = ['fan cake.','kiwi juice.','espresso.']\n",
        "\n",
        "for i in list1 :\n",
        "    for j in list2 :\n",
        "        print(i,j)"
      ],
      "execution_count": null,
      "outputs": [
        {
          "output_type": "stream",
          "text": [
            "I like fan cake.\n",
            "I like kiwi juice.\n",
            "I like espresso.\n",
            "I love fan cake.\n",
            "I love kiwi juice.\n",
            "I love espresso.\n"
          ],
          "name": "stdout"
        }
      ]
    },
    {
      "cell_type": "code",
      "metadata": {
        "id": "9fHjqtAH6b3t",
        "outputId": "2a4740e4-c527-4d68-df6a-39fdfdd1ad0d",
        "colab": {
          "base_uri": "https://localhost:8080/"
        }
      },
      "source": [
        "#5.7\n",
        "\n",
        "n_list = [10,20,30,50,60]\n",
        "sum1 = 0\n",
        "for i in n_list :\n",
        "    sum1 += i\n",
        "print('리스트 원소들 :',n_list)\n",
        "print('리스트 원소들의 합 :',sum1)"
      ],
      "execution_count": null,
      "outputs": [
        {
          "output_type": "stream",
          "text": [
            "리스트 원소들 : [10, 20, 30, 50, 60]\n",
            "리스트 원소들의 합 : 170\n"
          ],
          "name": "stdout"
        }
      ]
    },
    {
      "cell_type": "code",
      "metadata": {
        "id": "1kPk0MCN64C-",
        "outputId": "090446c6-022b-4fc8-ea91-9b9f5621fc1f",
        "colab": {
          "base_uri": "https://localhost:8080/"
        }
      },
      "source": [
        "#5.8\n",
        "\n",
        "n_list = [10,20,30,50,60]\n",
        "mul = 1\n",
        "for i in n_list :\n",
        "    mul *= i\n",
        "print('리스트 원소들 :',n_list)\n",
        "print('리스트 원소들의 곱 :',mul)"
      ],
      "execution_count": null,
      "outputs": [
        {
          "output_type": "stream",
          "text": [
            "리스트 원소들 : [10, 20, 30, 50, 60]\n",
            "리스트 원소들의 곱 : 18000000\n"
          ],
          "name": "stdout"
        }
      ]
    },
    {
      "cell_type": "code",
      "metadata": {
        "id": "3b4KC-eu7e-z",
        "outputId": "d7f4cccb-469b-4888-980b-62a2eb24f510",
        "colab": {
          "base_uri": "https://localhost:8080/"
        }
      },
      "source": [
        "#5.9\n",
        "\n",
        "def list_max (*n) :\n",
        "    n_list = list(n)\n",
        "    n_list.sort()\n",
        "    print('리스트 원소들 :',n_list)\n",
        "    print('리스트 원소들 중 최댓값 :',n_list[len(n_list)-1])\n",
        "\n",
        "list_max(10,20,30,50,60)"
      ],
      "execution_count": null,
      "outputs": [
        {
          "output_type": "stream",
          "text": [
            "리스트 원소들 : [10, 20, 30, 50, 60]\n",
            "리스트 원소들 중 최댓값 : 60\n"
          ],
          "name": "stdout"
        }
      ]
    },
    {
      "cell_type": "code",
      "metadata": {
        "id": "aUdwOXvI9FAX",
        "outputId": "38ee195c-1914-4ff2-a654-c286976e5329",
        "colab": {
          "base_uri": "https://localhost:8080/"
        }
      },
      "source": [
        "#5.10\n",
        "\n",
        "def list_min (*n) :\n",
        "    n_list = list(n)\n",
        "    n_list.sort()\n",
        "    print('리스트 원소들 :',n_list)\n",
        "    print('리스트 원소들 중 최솟값 :',n_list[0])\n",
        "\n",
        "list_min(10,20,30,50,60)"
      ],
      "execution_count": null,
      "outputs": [
        {
          "output_type": "stream",
          "text": [
            "리스트 원소들 : [10, 20, 30, 50, 60]\n",
            "리스트 원소들 중 최솟값 : 10\n"
          ],
          "name": "stdout"
        }
      ]
    },
    {
      "cell_type": "code",
      "metadata": {
        "id": "vfgBOA7k_BNx",
        "outputId": "2ad31d82-86c1-4afd-c57c-2f667d76eba2",
        "colab": {
          "base_uri": "https://localhost:8080/"
        }
      },
      "source": [
        "#5.11\n",
        "\n",
        "n_list = [int(x) for x in input('5개의 수를 입력하세요 : ').split()]\n",
        "print('합 :', sum(n_list))\n",
        "print('평균 :', sum(n_list)/len(n_list))\n",
        "print('최댓값 :', max(n_list))\n",
        "print('최솟값 :', min(n_list))  "
      ],
      "execution_count": null,
      "outputs": [
        {
          "output_type": "stream",
          "text": [
            "5개의 수를 입력하세요 : 45 67 20 34 2\n",
            "합 : 168\n",
            "평균 : 33.6\n",
            "최댓값 : 67\n",
            "최솟값 : 2\n"
          ],
          "name": "stdout"
        }
      ]
    },
    {
      "cell_type": "code",
      "metadata": {
        "id": "RmuoGV6c_2My",
        "outputId": "e1277f8f-4096-4253-c0a1-614c4140a05d",
        "colab": {
          "base_uri": "https://localhost:8080/"
        }
      },
      "source": [
        "#5.12\n",
        "def func () :\n",
        "    n = int(input('n을 입력하세요 : '))\n",
        "    n_list = [int(x) for x in input('{}개의 수를 입력하세요 :'.format(n)).split()]\n",
        "    print('합 :', sum(n_list))\n",
        "    print('평균 :', sum(n_list)/len(n_list))\n",
        "    print('최댓값 :', max(n_list))\n",
        "    print('최솟값 :', min(n_list))  \n",
        "\n",
        "func()"
      ],
      "execution_count": null,
      "outputs": [
        {
          "output_type": "stream",
          "text": [
            "n을 입력하세요 : 6\n",
            "6개의 수를 입력하세요 :45 67 20 34 2 100\n",
            "합 : 268\n",
            "평균 : 44.666666666666664\n",
            "최댓값 : 100\n",
            "최솟값 : 2\n"
          ],
          "name": "stdout"
        }
      ]
    },
    {
      "cell_type": "code",
      "metadata": {
        "id": "W7bFP8OhATBD",
        "outputId": "46100dce-71f9-4c67-a7ae-8fbe5d99c7c9",
        "colab": {
          "base_uri": "https://localhost:8080/"
        }
      },
      "source": [
        "#5.12 - (1),(2),(3)\n",
        "\n",
        "for _ in range(3) :\n",
        "    func()\n",
        "    print()"
      ],
      "execution_count": null,
      "outputs": [
        {
          "output_type": "stream",
          "text": [
            "n을 입력하세요 : 3\n",
            "3개의 수를 입력하세요 :1 2 3\n",
            "합 : 6\n",
            "평균 : 2.0\n",
            "최댓값 : 3\n",
            "최솟값 : 1\n",
            "\n",
            "n을 입력하세요 : 5\n",
            "5개의 수를 입력하세요 :10 2 30 3 28\n",
            "합 : 73\n",
            "평균 : 14.6\n",
            "최댓값 : 30\n",
            "최솟값 : 2\n",
            "\n",
            "n을 입력하세요 : 10\n",
            "10개의 수를 입력하세요 :34 56 7 9 23 10 2 30 3 28\n",
            "합 : 202\n",
            "평균 : 20.2\n",
            "최댓값 : 56\n",
            "최솟값 : 2\n",
            "\n"
          ],
          "name": "stdout"
        }
      ]
    },
    {
      "cell_type": "code",
      "metadata": {
        "id": "c5dcfbecBNpR",
        "outputId": "e7afefb7-713a-4bf0-a8e1-fcdb04e27fca",
        "colab": {
          "base_uri": "https://localhost:8080/"
        }
      },
      "source": [
        "#5.13\n",
        "\n",
        "n_list = [int(x) for x in input('10개의 수를 입력하세요 : ').split()]\n",
        "\n",
        "mean = sum(n_list)/len(n_list)\n",
        "sum1 = 0\n",
        "for i in n_list :\n",
        "    sum1 += (i - mean)**2\n",
        "standard_deviation = (sum1/len(n_list))**0.5\n",
        "\n",
        "print('합 :',sum(n_list))\n",
        "print('평균 :',mean)\n",
        "print('표준편차 : {:.2f}'.format(standard_deviation))"
      ],
      "execution_count": null,
      "outputs": [
        {
          "output_type": "stream",
          "text": [
            "10개의 수를 입력하세요 : 45 67 20 34 2 100 23 45 67 89\n",
            "합 : 492\n",
            "평균 : 49.2\n",
            "표준편차 : 29.72\n"
          ],
          "name": "stdout"
        }
      ]
    },
    {
      "cell_type": "code",
      "metadata": {
        "id": "mSuHkuz7B8zL",
        "outputId": "47f4b076-9850-4dbf-bc46-75a14ce3c236",
        "colab": {
          "base_uri": "https://localhost:8080/"
        }
      },
      "source": [
        "#5.15\n",
        "\n",
        "greet = 'Have a beautiful day.'\n",
        "print(greet[0:4])\n",
        "print(greet[7:16])\n",
        "print(greet[-4:-1])"
      ],
      "execution_count": null,
      "outputs": [
        {
          "output_type": "stream",
          "text": [
            "Have\n",
            "beautiful\n",
            "day\n"
          ],
          "name": "stdout"
        }
      ]
    },
    {
      "cell_type": "code",
      "metadata": {
        "id": "UywwyY7cHyOX",
        "outputId": "ae987e78-4784-4a52-cbb8-b4db637ff08e",
        "colab": {
          "base_uri": "https://localhost:8080/"
        }
      },
      "source": [
        "#5.17\n",
        "\n",
        "animals = ['dog','cat','tiger','lion']  #(1)\n",
        "print('animals =',animals)              \n",
        "\n",
        "animals.remove('dog')                   #(2)\n",
        "animals.append('dog')       \n",
        "print('animals =',animals)              \n",
        "\n",
        "animals = ['dog','cat','tiger','lion']  #(3)\n",
        "for i in animals :                  \n",
        "    print('I love {}.'.format(i))"
      ],
      "execution_count": null,
      "outputs": [
        {
          "output_type": "stream",
          "text": [
            "animals = ['dog', 'cat', 'tiger', 'lion']\n",
            "animals = ['cat', 'tiger', 'lion', 'dog']\n",
            "I love dog.\n",
            "I love cat.\n",
            "I love tiger.\n",
            "I love lion.\n"
          ],
          "name": "stdout"
        }
      ]
    },
    {
      "cell_type": "code",
      "metadata": {
        "id": "Af2DkP2lvjAS",
        "outputId": "de649b70-7f22-4f36-b7c2-bf5452226bad",
        "colab": {
          "base_uri": "https://localhost:8080/"
        }
      },
      "source": [
        "#5.18 - (1)\n",
        "\n",
        "s_list = ['abc','bcd','bcdefg','abba','cddc','opq']\n",
        "\n",
        "lists = []\n",
        "for i in s_list :\n",
        "    for j in s_list :\n",
        "        check = (len(i) <= len(j))      \n",
        "        if check == True :      # 한 문자열의 길이가 다른 문자열의 길이와 비교했을 때 작거나 같으면 lists에 1을 추가함\n",
        "            lists.append(1)\n",
        "    if len(lists) == len(s_list) :\n",
        "        print('가장 길이가 짧은 문자열 :',i)\n",
        "        break\n",
        "    else :\n",
        "        lists = []      # lists 초기화"
      ],
      "execution_count": 1,
      "outputs": [
        {
          "output_type": "stream",
          "text": [
            "가장 길이가 짧은 문자열 : abc\n"
          ],
          "name": "stdout"
        }
      ]
    },
    {
      "cell_type": "code",
      "metadata": {
        "id": "w0Zv1KZiyoS3",
        "outputId": "66ca259b-2857-4452-e3ed-a1f7a562fe55",
        "colab": {
          "base_uri": "https://localhost:8080/"
        }
      },
      "source": [
        "#5.18 - (2)\n",
        "\n",
        "s_list = ['abc','bcd','bcdefg','abba','cddc','opq']\n",
        "\n",
        "lists = []\n",
        "for i in s_list :\n",
        "    for j in s_list :\n",
        "        check = (len(i) >= len(j))      \n",
        "        if check == True :      # 한 문자열의 길이가 다른 문자열의 길이와 비교했을 때 크거나 같으면 lists에 1을 추가함\n",
        "            lists.append(1)\n",
        "    if len(lists) == len(s_list) :\n",
        "        print('가장 길이가 긴 문자열 :',i)\n",
        "        break\n",
        "    else :\n",
        "        lists = []      # lists 초기화"
      ],
      "execution_count": null,
      "outputs": [
        {
          "output_type": "stream",
          "text": [
            "가장 길이가 긴 문자열 : bcdefg\n"
          ],
          "name": "stdout"
        }
      ]
    },
    {
      "cell_type": "code",
      "metadata": {
        "id": "CsJFAp_IX55m",
        "outputId": "383d1d82-17be-4b4f-e901-551d9a4b76b5",
        "colab": {
          "base_uri": "https://localhost:8080/"
        }
      },
      "source": [
        "#5.18 - (3)\n",
        "\n",
        "s_list = ['abc','bcd','bcdefg','abba','cddc','opq']\n",
        "\n",
        "s_list.sort(key=len)    # 문자 길이 순으로 정렬\n",
        "check = 0\n",
        "for i in s_list :\n",
        "    if len(s_list[0]) == len(i) :\n",
        "        check += 1\n",
        "    else :\n",
        "        break\n",
        "\n",
        "print('가장 길이가 짧은 문자열 :', end='')\n",
        "for j in range(check) :\n",
        "    print(\" '{}'\".format(s_list[j]), end ='')\n",
        "    if j != (check -1) :\n",
        "        print(',',end='')\n"
      ],
      "execution_count": 141,
      "outputs": [
        {
          "output_type": "stream",
          "text": [
            "가장 길이가 짧은 문자열 : 'abc', 'bcd', 'opq'"
          ],
          "name": "stdout"
        }
      ]
    },
    {
      "cell_type": "code",
      "metadata": {
        "id": "7uh9bxyRigA9",
        "outputId": "0fb84a01-06d1-4261-eeeb-a16111049926",
        "colab": {
          "base_uri": "https://localhost:8080/"
        }
      },
      "source": [
        "#5.19\n",
        "\n",
        "s_list = ['abc', 'bcd', 'abc', 'abba', 'cddc', 'opq', 'opq']\n",
        "\n",
        "new_s_list = []\n",
        "check = 0\n",
        "for i in s_list :\n",
        "    for j in new_s_list :\n",
        "        if i == j :\n",
        "            check += 1\n",
        "    if check == 0 :\n",
        "        new_s_list.append(i)\n",
        "    else :\n",
        "        check = 0   # check 초기화\n",
        "print('s_list =',s_list)\n",
        "print('new_s_list =',new_s_list)"
      ],
      "execution_count": 4,
      "outputs": [
        {
          "output_type": "stream",
          "text": [
            "s_list = ['abc', 'bcd', 'abc', 'abba', 'cddc', 'opq', 'opq']\n",
            "new_s_list = ['abc', 'bcd', 'abba', 'cddc', 'opq']\n"
          ],
          "name": "stdout"
        }
      ]
    },
    {
      "cell_type": "code",
      "metadata": {
        "id": "kyRytJAoInx3",
        "outputId": "61ec5925-dbe9-49d4-8806-6b17e8765778",
        "colab": {
          "base_uri": "https://localhost:8080/"
        }
      },
      "source": [
        "#5.20\n",
        "\n",
        "def output(src) :\n",
        "    if src != '' :\n",
        "        before = src[0]\n",
        "        count = 0 \n",
        "        output = ''\n",
        "        for i in src :\n",
        "            if i == before :\n",
        "                count +=1   # i가 이전 문자와 같으면 1을 더해줌\n",
        "            else :\n",
        "                output += before\n",
        "                output += str(count)\n",
        "                count = 1       # count 초기화\n",
        "            before = i          # before에 이전 문자를 할당해줌    \n",
        "        output += before\n",
        "        output += str(count)\n",
        "\n",
        "        print(\"src ='{}'\".format(src))\n",
        "        print(\"output ='{}'\".format(output))\n",
        "    else :\n",
        "        print(\"src = ''\")\n",
        "        print(\"output = ''\")\n",
        "\n",
        "output('aaaabbb')\n",
        "output('aaaabccccaaaaacccfg')\n",
        "output('')\n",
        "output('a')"
      ],
      "execution_count": 138,
      "outputs": [
        {
          "output_type": "stream",
          "text": [
            "src ='aaaabbb'\n",
            "output ='a4b3'\n",
            "src ='aaaabccccaaaaacccfg'\n",
            "output ='a4b1c4a5c3f1g1'\n",
            "src = ''\n",
            "output = ''\n",
            "src ='a'\n",
            "output ='a1'\n"
          ],
          "name": "stdout"
        }
      ]
    },
    {
      "cell_type": "code",
      "metadata": {
        "id": "qpaAuSFlQW1w",
        "outputId": "f4c026de-5e0b-4a58-b93b-882f3f9ae65e",
        "colab": {
          "base_uri": "https://localhost:8080/"
        }
      },
      "source": [
        "#5.21\n",
        "\n",
        "def decome (src) :\n",
        "    if src != '' :\n",
        "        output = ''\n",
        "        for i in range(0,len(src),2) :\n",
        "                output += src[i] * int(src[i+1])\n",
        "        print(\"src ='{}'\".format(src))\n",
        "        print(\"output ='{}'\".format(output))\n",
        "    else :\n",
        "        print(\"src = ''\")\n",
        "        print(\"output = ''\")\n",
        "\n",
        "decome('a2b3c6a2c3f1g1')"
      ],
      "execution_count": 136,
      "outputs": [
        {
          "output_type": "stream",
          "text": [
            "src ='a2b3c6a2c3f1g1'\n",
            "output ='aabbbccccccaacccfg'\n"
          ],
          "name": "stdout"
        }
      ]
    },
    {
      "cell_type": "code",
      "metadata": {
        "id": "8jGK19JUvJL_",
        "outputId": "6b2afc0a-adb9-4e6b-d927-5a3363210a31",
        "colab": {
          "base_uri": "https://localhost:8080/"
        }
      },
      "source": [
        "#5.22\n",
        "n = int(input('n을 입력하시오 : '))\n",
        "n_list = []\n",
        "for i in range(1,n**2 +1, 1) :\n",
        "    n_list.append(i)\n",
        "\n",
        "def rev_list (x) :\n",
        "    lists = []\n",
        "    lists.extend(x)\n",
        "    lists.reverse()\n",
        "    for i in range(len(lists)) :\n",
        "        print('%3d' %lists[i],end=' ')\n",
        "    print()\n",
        "    \n",
        "def or_list (x) :\n",
        "    lists = []\n",
        "    lists.extend(x)\n",
        "    for i in range(len(lists)) :\n",
        "        print('%3d'%lists[i],end=' ')\n",
        "    print()\n",
        "    \n",
        "for j in range(0,n**2+1,2*n) :\n",
        "    or_list(n_list[j : j+n]) \n",
        "    rev_list(n_list[j+n : j+n*2]) "
      ],
      "execution_count": 118,
      "outputs": [
        {
          "output_type": "stream",
          "text": [
            "n을 입력하시오 : 6\n",
            "  1   2   3   4   5   6 \n",
            " 12  11  10   9   8   7 \n",
            " 13  14  15  16  17  18 \n",
            " 24  23  22  21  20  19 \n",
            " 25  26  27  28  29  30 \n",
            " 36  35  34  33  32  31 \n",
            "\n",
            "\n"
          ],
          "name": "stdout"
        }
      ]
    },
    {
      "cell_type": "code",
      "metadata": {
        "id": "cAsvIODUFEHo",
        "outputId": "976033e9-7a17-4cba-d783-bb8d35869029",
        "colab": {
          "base_uri": "https://localhost:8080/"
        }
      },
      "source": [
        "#5.23 - (1)\n",
        "\n",
        "person1 = ['온달', 20, 1, 180.0, 100.0]\n",
        "person2 = ['이사부', 25, 1, 170.0, 70.0]\n",
        "person3 = ['평강', 22, 0, 169.0, 60.0]\n",
        "person4 = ['혁거세', 40, 1, 150.0, 50.0]\n",
        "\n",
        "def how_many_persons(person_list) :\n",
        "    return len(person_list)/5\n",
        "person_list = person1 + person3 + person4\n",
        "n_persons = int(how_many_persons(person_list))\n",
        "print(str(n_persons) + '명의 정보가 담겨 있습니다.')"
      ],
      "execution_count": 120,
      "outputs": [
        {
          "output_type": "stream",
          "text": [
            "3명의 정보가 담겨 있습니다.\n"
          ],
          "name": "stdout"
        }
      ]
    },
    {
      "cell_type": "code",
      "metadata": {
        "id": "ptF7BDSY8RH0",
        "outputId": "a2fd6b97-76d1-4717-b5c4-516be454eeb5",
        "colab": {
          "base_uri": "https://localhost:8080/"
        }
      },
      "source": [
        "#5.23 - (2)\n",
        "\n",
        "def compute_average_age(person_list) :\n",
        "    sum1 = 0\n",
        "    for i in range(1,len(person_list),5) :\n",
        "        sum1 += person_list[i]\n",
        "    ave = (sum1/how_many_persons(person_list))\n",
        "    return ave\n",
        "person_list = person1 + person2 + person3 + person4\n",
        "average_age = compute_average_age(person_list)\n",
        "\n",
        "print('평균 나이는 '+ str(average_age) + '세입니다.')"
      ],
      "execution_count": 126,
      "outputs": [
        {
          "output_type": "stream",
          "text": [
            "평균 나이는 26.75세입니다.\n"
          ],
          "name": "stdout"
        }
      ]
    },
    {
      "cell_type": "code",
      "metadata": {
        "id": "xVP7wwhi97MC",
        "outputId": "e01a1c75-3766-4977-f8e2-0677431ab676",
        "colab": {
          "base_uri": "https://localhost:8080/"
        }
      },
      "source": [
        "#5.23 - (3)\n",
        "\n",
        "def count_males_females(person_list) :\n",
        "    m_count , fem_count = 0,0\n",
        "    for i in range(2, len(person_list),5) :\n",
        "        if person_list[i] == 1 :\n",
        "            m_count +=1\n",
        "        else :\n",
        "            fem_count +=1\n",
        "    return m_count, fem_count\n",
        "person_list = person1 + person2 + person3 + person4\n",
        "n_male, n_female = count_males_females(person_list)\n",
        "print('리스트에는 남자가',n_male,'명, 여자가',n_female,'명입니다.')"
      ],
      "execution_count": 127,
      "outputs": [
        {
          "output_type": "stream",
          "text": [
            "리스트에는 남자가 3 명, 여자가 1 명입니다.\n"
          ],
          "name": "stdout"
        }
      ]
    },
    {
      "cell_type": "code",
      "metadata": {
        "id": "o8Dut7Ro_Ncu",
        "outputId": "0454ad5b-b8f1-44c1-9364-b105ca78d9a6",
        "colab": {
          "base_uri": "https://localhost:8080/"
        }
      },
      "source": [
        "#5.23 - (4)\n",
        "\n",
        "def display_persons(person_list) :\n",
        "    lists = []\n",
        "    for i in range(int(len(person_list)/5)) :\n",
        "        a = []\n",
        "        for j in range(5) :\n",
        "            a.append(person_list[j+i*5])\n",
        "        lists.append(a)\n",
        "    for k in range(int(len(person_list)/5)) :\n",
        "        print(lists[k])\n",
        "person_list = person1 + person2 + person3 + person4\n",
        "display_persons(person_list)"
      ],
      "execution_count": 175,
      "outputs": [
        {
          "output_type": "stream",
          "text": [
            "['온달', 20, 1, 180.0, 100.0]\n",
            "['이사부', 25, 1, 170.0, 70.0]\n",
            "['평강', 22, 0, 169.0, 60.0]\n",
            "['혁거세', 40, 1, 150.0, 50.0]\n"
          ],
          "name": "stdout"
        }
      ]
    },
    {
      "cell_type": "code",
      "metadata": {
        "id": "4TWzpHj6QZKG",
        "outputId": "b02fab69-598e-4c18-869a-94be0384d69b",
        "colab": {
          "base_uri": "https://localhost:8080/"
        }
      },
      "source": [
        "#5.24\n",
        "\n",
        "lists = []\n",
        "for n in range(1,10001,1) :\n",
        "    for j in range(1,n,1) :\n",
        "        if n % j == 0 :\n",
        "          lists.append(j)\n",
        "    if sum(lists) == n :\n",
        "        print('{}은 완전수입니다.'.format(n))\n",
        "        print('{}의 약수 : {}, 약수의 합 = {}'.format(n,lists,sum(lists))) \n",
        "    lists = [] "
      ],
      "execution_count": 166,
      "outputs": [
        {
          "output_type": "stream",
          "text": [
            "6은 완전수입니다.\n",
            "6의 약수 : [1, 2, 3], 약수의 합 = 6\n",
            "28은 완전수입니다.\n",
            "28의 약수 : [1, 2, 4, 7, 14], 약수의 합 = 28\n",
            "496은 완전수입니다.\n",
            "496의 약수 : [1, 2, 4, 8, 16, 31, 62, 124, 248], 약수의 합 = 496\n",
            "8128은 완전수입니다.\n",
            "8128의 약수 : [1, 2, 4, 8, 16, 32, 64, 127, 254, 508, 1016, 2032, 4064], 약수의 합 = 8128\n"
          ],
          "name": "stdout"
        }
      ]
    }
  ]
}