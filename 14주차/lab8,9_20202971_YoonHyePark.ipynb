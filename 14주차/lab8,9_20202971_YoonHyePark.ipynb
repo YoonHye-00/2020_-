{
  "nbformat": 4,
  "nbformat_minor": 0,
  "metadata": {
    "colab": {
      "name": "lab8,9_20202971_YoonHyePark",
      "provenance": [],
      "collapsed_sections": []
    },
    "kernelspec": {
      "name": "python3",
      "display_name": "Python 3"
    }
  },
  "cells": [
    {
      "cell_type": "markdown",
      "metadata": {
        "id": "KqK-isUlUh8S"
      },
      "source": [
        "#예외 처리와 파일"
      ]
    },
    {
      "cell_type": "markdown",
      "metadata": {
        "id": "94Yzk4tWYn6l"
      },
      "source": [
        "대화창 실습 : 0으로 나누는 오류"
      ]
    },
    {
      "cell_type": "code",
      "metadata": {
        "colab": {
          "base_uri": "https://localhost:8080/",
          "height": 196
        },
        "id": "jCaCobYzUTqL",
        "outputId": "f44c0b25-2dca-4303-f069-e65a81b6770a"
      },
      "source": [
        "a, b = input('두 수를 입력하시오 : ').split()\n",
        "result = int(a)/int(b) "
      ],
      "execution_count": null,
      "outputs": [
        {
          "output_type": "stream",
          "text": [
            "두 수를 입력하시오 : 10 0\n"
          ],
          "name": "stdout"
        },
        {
          "output_type": "error",
          "ename": "ZeroDivisionError",
          "evalue": "ignored",
          "traceback": [
            "\u001b[0;31m---------------------------------------------------------------------------\u001b[0m",
            "\u001b[0;31mZeroDivisionError\u001b[0m                         Traceback (most recent call last)",
            "\u001b[0;32m<ipython-input-4-6f43b8db61f2>\u001b[0m in \u001b[0;36m<module>\u001b[0;34m()\u001b[0m\n\u001b[1;32m      1\u001b[0m \u001b[0ma\u001b[0m\u001b[0;34m,\u001b[0m \u001b[0mb\u001b[0m \u001b[0;34m=\u001b[0m \u001b[0minput\u001b[0m\u001b[0;34m(\u001b[0m\u001b[0;34m'두 수를 입력하시오 : '\u001b[0m\u001b[0;34m)\u001b[0m\u001b[0;34m.\u001b[0m\u001b[0msplit\u001b[0m\u001b[0;34m(\u001b[0m\u001b[0;34m)\u001b[0m\u001b[0;34m\u001b[0m\u001b[0;34m\u001b[0m\u001b[0m\n\u001b[0;32m----> 2\u001b[0;31m \u001b[0mresult\u001b[0m \u001b[0;34m=\u001b[0m \u001b[0mint\u001b[0m\u001b[0;34m(\u001b[0m\u001b[0ma\u001b[0m\u001b[0;34m)\u001b[0m\u001b[0;34m/\u001b[0m\u001b[0mint\u001b[0m\u001b[0;34m(\u001b[0m\u001b[0mb\u001b[0m\u001b[0;34m)\u001b[0m\u001b[0;34m\u001b[0m\u001b[0;34m\u001b[0m\u001b[0m\n\u001b[0m",
            "\u001b[0;31mZeroDivisionError\u001b[0m: division by zero"
          ]
        }
      ]
    },
    {
      "cell_type": "markdown",
      "metadata": {
        "id": "rcnBNhoXljrQ"
      },
      "source": [
        "대화창 실습 : 문자열과 숫자를 덧셈하는 오류"
      ]
    },
    {
      "cell_type": "code",
      "metadata": {
        "colab": {
          "base_uri": "https://localhost:8080/",
          "height": 196
        },
        "id": "fw9NUOowlRmo",
        "outputId": "c1309e5b-a3e7-4628-d559-3216100254a2"
      },
      "source": [
        "a, b = input('두 수를 입력하시오 : ').split()\n",
        "result = int(a)/int(b)"
      ],
      "execution_count": null,
      "outputs": [
        {
          "output_type": "stream",
          "text": [
            "두 수를 입력하시오 : 사백 이백\n"
          ],
          "name": "stdout"
        },
        {
          "output_type": "error",
          "ename": "ValueError",
          "evalue": "ignored",
          "traceback": [
            "\u001b[0;31m---------------------------------------------------------------------------\u001b[0m",
            "\u001b[0;31mValueError\u001b[0m                                Traceback (most recent call last)",
            "\u001b[0;32m<ipython-input-5-e9701229218d>\u001b[0m in \u001b[0;36m<module>\u001b[0;34m()\u001b[0m\n\u001b[1;32m      1\u001b[0m \u001b[0ma\u001b[0m\u001b[0;34m,\u001b[0m \u001b[0mb\u001b[0m \u001b[0;34m=\u001b[0m \u001b[0minput\u001b[0m\u001b[0;34m(\u001b[0m\u001b[0;34m'두 수를 입력하시오 : '\u001b[0m\u001b[0;34m)\u001b[0m\u001b[0;34m.\u001b[0m\u001b[0msplit\u001b[0m\u001b[0;34m(\u001b[0m\u001b[0;34m)\u001b[0m\u001b[0;34m\u001b[0m\u001b[0;34m\u001b[0m\u001b[0m\n\u001b[0;32m----> 2\u001b[0;31m \u001b[0mresult\u001b[0m \u001b[0;34m=\u001b[0m \u001b[0mint\u001b[0m\u001b[0;34m(\u001b[0m\u001b[0ma\u001b[0m\u001b[0;34m)\u001b[0m\u001b[0;34m/\u001b[0m\u001b[0mint\u001b[0m\u001b[0;34m(\u001b[0m\u001b[0mb\u001b[0m\u001b[0;34m)\u001b[0m\u001b[0;34m\u001b[0m\u001b[0;34m\u001b[0m\u001b[0m\n\u001b[0m",
            "\u001b[0;31mValueError\u001b[0m: invalid literal for int() with base 10: '사백'"
          ]
        }
      ]
    },
    {
      "cell_type": "markdown",
      "metadata": {
        "id": "M38Fna_Ilulz"
      },
      "source": [
        "div_with_try_except.py"
      ]
    },
    {
      "cell_type": "code",
      "metadata": {
        "colab": {
          "base_uri": "https://localhost:8080/"
        },
        "id": "mLSuq_rflr6L",
        "outputId": "42c7aae2-1554-4264-cf23-79b76b55a2c0"
      },
      "source": [
        "try :\n",
        "    a, b = input('두 수를 입력하시오 : ').split()\n",
        "    result = int(a)/int(b)\n",
        "    print('{}/{} = {}'.format(a,b,result))\n",
        "except :\n",
        "    print('수가 정확한지 확인하세요.')"
      ],
      "execution_count": null,
      "outputs": [
        {
          "output_type": "stream",
          "text": [
            "두 수를 입력하시오 : 50 2\n",
            "50/2 = 25.0\n"
          ],
          "name": "stdout"
        }
      ]
    },
    {
      "cell_type": "markdown",
      "metadata": {
        "id": "pwjYFG0nmo_v"
      },
      "source": [
        "find_error1.py"
      ]
    },
    {
      "cell_type": "code",
      "metadata": {
        "colab": {
          "base_uri": "https://localhost:8080/"
        },
        "id": "k_AYb_fxmG6b",
        "outputId": "77a0b8a1-9093-43c2-b674-822a8a934c72"
      },
      "source": [
        "try :\n",
        "    b = 2/0\n",
        "    a = 1 + 'hundred'\n",
        "\n",
        "except Exception as e :\n",
        "    print('error :',e)"
      ],
      "execution_count": null,
      "outputs": [
        {
          "output_type": "stream",
          "text": [
            "error : division by zero\n"
          ],
          "name": "stdout"
        }
      ]
    },
    {
      "cell_type": "markdown",
      "metadata": {
        "id": "DTmRwvgdm0XU"
      },
      "source": [
        "find_error2.py"
      ]
    },
    {
      "cell_type": "code",
      "metadata": {
        "colab": {
          "base_uri": "https://localhost:8080/"
        },
        "id": "ySDybRwlm7Zp",
        "outputId": "57a8ad27-ff90-4620-d69d-8f11bd6af5ab"
      },
      "source": [
        "try :\n",
        "    #b = 2/0\n",
        "    a = 1 + 'hundred'\n",
        "\n",
        "except Exception as e :\n",
        "    print('error :',e)"
      ],
      "execution_count": null,
      "outputs": [
        {
          "output_type": "stream",
          "text": [
            "error : unsupported operand type(s) for +: 'int' and 'str'\n"
          ],
          "name": "stdout"
        }
      ]
    },
    {
      "cell_type": "markdown",
      "metadata": {
        "id": "Y-b9VVLNnCIH"
      },
      "source": [
        "LAB 8-1 : 다음 코드는 어떤 예외를 발생시키는가?"
      ]
    },
    {
      "cell_type": "code",
      "metadata": {
        "colab": {
          "base_uri": "https://localhost:8080/",
          "height": 180
        },
        "id": "BaNE3Ebcm9OX",
        "outputId": "f94662bc-3224-4878-aed7-0b416caf0ba4"
      },
      "source": [
        "#1.\n",
        "a = [10, 20, 30]\n",
        "a[3]"
      ],
      "execution_count": null,
      "outputs": [
        {
          "output_type": "error",
          "ename": "IndexError",
          "evalue": "ignored",
          "traceback": [
            "\u001b[0;31m---------------------------------------------------------------------------\u001b[0m",
            "\u001b[0;31mIndexError\u001b[0m                                Traceback (most recent call last)",
            "\u001b[0;32m<ipython-input-11-50dfc6796e4d>\u001b[0m in \u001b[0;36m<module>\u001b[0;34m()\u001b[0m\n\u001b[1;32m      1\u001b[0m \u001b[0ma\u001b[0m \u001b[0;34m=\u001b[0m \u001b[0;34m[\u001b[0m\u001b[0;36m10\u001b[0m\u001b[0;34m,\u001b[0m \u001b[0;36m20\u001b[0m\u001b[0;34m,\u001b[0m \u001b[0;36m30\u001b[0m\u001b[0;34m]\u001b[0m\u001b[0;34m\u001b[0m\u001b[0;34m\u001b[0m\u001b[0m\n\u001b[0;32m----> 2\u001b[0;31m \u001b[0ma\u001b[0m\u001b[0;34m[\u001b[0m\u001b[0;36m3\u001b[0m\u001b[0;34m]\u001b[0m\u001b[0;34m\u001b[0m\u001b[0;34m\u001b[0m\u001b[0m\n\u001b[0m",
            "\u001b[0;31mIndexError\u001b[0m: list index out of range"
          ]
        }
      ]
    },
    {
      "cell_type": "code",
      "metadata": {
        "colab": {
          "base_uri": "https://localhost:8080/",
          "height": 163
        },
        "id": "9wSkwX12nIgq",
        "outputId": "253e7da1-63fd-4c03-d21e-37aa0bb1f284"
      },
      "source": [
        "n = int('20%')"
      ],
      "execution_count": null,
      "outputs": [
        {
          "output_type": "error",
          "ename": "ValueError",
          "evalue": "ignored",
          "traceback": [
            "\u001b[0;31m---------------------------------------------------------------------------\u001b[0m",
            "\u001b[0;31mValueError\u001b[0m                                Traceback (most recent call last)",
            "\u001b[0;32m<ipython-input-12-9ff1c6791fc8>\u001b[0m in \u001b[0;36m<module>\u001b[0;34m()\u001b[0m\n\u001b[0;32m----> 1\u001b[0;31m \u001b[0mn\u001b[0m \u001b[0;34m=\u001b[0m \u001b[0mint\u001b[0m\u001b[0;34m(\u001b[0m\u001b[0;34m'20%'\u001b[0m\u001b[0;34m)\u001b[0m\u001b[0;34m\u001b[0m\u001b[0;34m\u001b[0m\u001b[0m\n\u001b[0m",
            "\u001b[0;31mValueError\u001b[0m: invalid literal for int() with base 10: '20%'"
          ]
        }
      ]
    },
    {
      "cell_type": "code",
      "metadata": {
        "colab": {
          "base_uri": "https://localhost:8080/",
          "height": 163
        },
        "id": "zWGd7WmvnP17",
        "outputId": "29ed80b0-d120-4c58-a6cf-b1708b481c5f"
      },
      "source": [
        "a = 100 + '200'"
      ],
      "execution_count": null,
      "outputs": [
        {
          "output_type": "error",
          "ename": "TypeError",
          "evalue": "ignored",
          "traceback": [
            "\u001b[0;31m---------------------------------------------------------------------------\u001b[0m",
            "\u001b[0;31mTypeError\u001b[0m                                 Traceback (most recent call last)",
            "\u001b[0;32m<ipython-input-13-dbfd44d49627>\u001b[0m in \u001b[0;36m<module>\u001b[0;34m()\u001b[0m\n\u001b[0;32m----> 1\u001b[0;31m \u001b[0ma\u001b[0m \u001b[0;34m=\u001b[0m \u001b[0;36m100\u001b[0m \u001b[0;34m+\u001b[0m \u001b[0;34m'200'\u001b[0m\u001b[0;34m\u001b[0m\u001b[0;34m\u001b[0m\u001b[0m\n\u001b[0m",
            "\u001b[0;31mTypeError\u001b[0m: unsupported operand type(s) for +: 'int' and 'str'"
          ]
        }
      ]
    },
    {
      "cell_type": "code",
      "metadata": {
        "colab": {
          "base_uri": "https://localhost:8080/"
        },
        "id": "UyIcnFc3nbS2",
        "outputId": "199f62c6-0787-424d-df36-b55cf7f56abc"
      },
      "source": [
        "#2.\n",
        "try :\n",
        "    a = [10, 20, 30]\n",
        "    a[3]\n",
        "\n",
        "except Exception as e :\n",
        "    print('error :',e)"
      ],
      "execution_count": null,
      "outputs": [
        {
          "output_type": "stream",
          "text": [
            "error : list index out of range\n"
          ],
          "name": "stdout"
        }
      ]
    },
    {
      "cell_type": "markdown",
      "metadata": {
        "id": "s0q1Ghq_n3oZ"
      },
      "source": [
        "find_error3.py"
      ]
    },
    {
      "cell_type": "code",
      "metadata": {
        "colab": {
          "base_uri": "https://localhost:8080/"
        },
        "id": "c0RtnZmBn0h6",
        "outputId": "eec4ce42-c1f4-4938-a42b-d3b1b8ed77c7"
      },
      "source": [
        "try :\n",
        "    b = 2/0\n",
        "    a = 1 + 'hundred'\n",
        "\n",
        "except ZeroDivisionError :      # 구체적인 예외 명시\n",
        "    print('0으로 나누는 오류')\n",
        "except TypeError :\n",
        "    print('지원되지 않은 연산자를 사용하는 오류')"
      ],
      "execution_count": null,
      "outputs": [
        {
          "output_type": "stream",
          "text": [
            "0으로 나누는 오류\n"
          ],
          "name": "stdout"
        }
      ]
    },
    {
      "cell_type": "markdown",
      "metadata": {
        "id": "AsRu8oFjoQ9f"
      },
      "source": [
        "find_error4.py"
      ]
    },
    {
      "cell_type": "code",
      "metadata": {
        "colab": {
          "base_uri": "https://localhost:8080/"
        },
        "id": "mbZW-nuOoOTj",
        "outputId": "c46cc426-6608-46cf-96fa-4d50ecf552e2"
      },
      "source": [
        "try :\n",
        "    #b = 2/0\n",
        "    a = 1 + 'hundred'\n",
        "\n",
        "except ZeroDivisionError :      # 구체적인 예외 명시\n",
        "    print('0으로 나누는 오류')\n",
        "except TypeError :\n",
        "    print('지원되지 않은 연산자를 사용하는 오류')"
      ],
      "execution_count": null,
      "outputs": [
        {
          "output_type": "stream",
          "text": [
            "지원되지 않은 연산자를 사용하는 오류\n"
          ],
          "name": "stdout"
        }
      ]
    },
    {
      "cell_type": "markdown",
      "metadata": {
        "id": "aTJ2dMbqodb5"
      },
      "source": [
        "find_error5.py"
      ]
    },
    {
      "cell_type": "code",
      "metadata": {
        "colab": {
          "base_uri": "https://localhost:8080/"
        },
        "id": "mAO8Jumwob-U",
        "outputId": "b11d8cce-6e82-4a47-d3d4-32b0a70f0b3f"
      },
      "source": [
        "try :\n",
        "    #b = 2/0\n",
        "    a = 1 + 'hundred'\n",
        "\n",
        "except ZeroDivisionError :      # 구체적인 예외 명시\n",
        "    print('0으로 나누는 오류')\n",
        "except TypeError :\n",
        "    print('지원되지 않은 연산자를 사용하는 오류')\n",
        "except Exception as e :     # 보편적인 예외처리 기능\n",
        "    print('error :',e)\n",
        "    print('나눗셈과 연산자를 다시 확인하세요')"
      ],
      "execution_count": null,
      "outputs": [
        {
          "output_type": "stream",
          "text": [
            "지원되지 않은 연산자를 사용하는 오류\n"
          ],
          "name": "stdout"
        }
      ]
    },
    {
      "cell_type": "markdown",
      "metadata": {
        "id": "dZlvvuywo-je"
      },
      "source": [
        "try_except_else_test.py"
      ]
    },
    {
      "cell_type": "code",
      "metadata": {
        "colab": {
          "base_uri": "https://localhost:8080/"
        },
        "id": "f-VN-qfio0TD",
        "outputId": "c79076d1-3ec4-44c8-a875-dac292fa7718"
      },
      "source": [
        "try :\n",
        "    a, b = input('두 수를 입력하시오 : ').split()\n",
        "    result = int(a)/int(b)\n",
        "except ZeroDivisionError :\n",
        "    print('오류 : 0으로 나눔을 시도했습니다.')\n",
        "except ValueError :\n",
        "    print('오류 : 입력 값이 정수나 실수가 아닙니다.')\n",
        "except :\n",
        "    print('오류 : 10 2와 같이 두 정수를 입력하세요.')\n",
        "else :\n",
        "    print('{}/{} = {}'.format(a,b,result))"
      ],
      "execution_count": null,
      "outputs": [
        {
          "output_type": "stream",
          "text": [
            "두 수를 입력하시오 : 10 2\n",
            "10/2 = 5.0\n"
          ],
          "name": "stdout"
        }
      ]
    },
    {
      "cell_type": "markdown",
      "metadata": {
        "id": "bzFrVFufuLgB"
      },
      "source": [
        "LAB 8-2 : 다음 코드는 어떤 예외를 발생시키는가?"
      ]
    },
    {
      "cell_type": "code",
      "metadata": {
        "colab": {
          "base_uri": "https://localhost:8080/"
        },
        "id": "1AD4i1_OtzBk",
        "outputId": "9c3fec28-1149-48c8-c2bf-b2a6ff99bcb6"
      },
      "source": [
        "#1.\n",
        "try :\n",
        "    10 * (30/0)\n",
        "except ZeroDivisionError :\n",
        "    print('오류 : 0으로 나눔을 시도했습니다.')"
      ],
      "execution_count": null,
      "outputs": [
        {
          "output_type": "stream",
          "text": [
            "오류 : 0으로 나눔을 시도했습니다.\n"
          ],
          "name": "stdout"
        }
      ]
    },
    {
      "cell_type": "code",
      "metadata": {
        "colab": {
          "base_uri": "https://localhost:8080/"
        },
        "id": "pPzW3TkTukIX",
        "outputId": "5f134e0b-dea8-4eae-8aa6-099527d1353e"
      },
      "source": [
        "try :\n",
        "    x = int(input('정수 x를 입력하세요 : '))\n",
        "except ValueError :\n",
        "    print('오류 : 입력 값이 정수가 아닙니다.')"
      ],
      "execution_count": null,
      "outputs": [
        {
          "output_type": "stream",
          "text": [
            "정수 x를 입력하세요 : 4.5\n",
            "오류 : 입력 값이 정수가 아닙니다.\n"
          ],
          "name": "stdout"
        }
      ]
    },
    {
      "cell_type": "code",
      "metadata": {
        "colab": {
          "base_uri": "https://localhost:8080/"
        },
        "id": "iYY2N04Sutc5",
        "outputId": "e36d09f7-9da6-450e-d223-6a18af61a5ad"
      },
      "source": [
        "try :\n",
        "    import sys\n",
        "    f = open('myfile.txt')\n",
        "    s = f.readline()\n",
        "except FileNotFoundError :\n",
        "    print('오류 : 파일을 찾을 수 없습니다.')"
      ],
      "execution_count": null,
      "outputs": [
        {
          "output_type": "stream",
          "text": [
            "오류 : 파일을 찾을 수 없습니다.\n"
          ],
          "name": "stdout"
        }
      ]
    },
    {
      "cell_type": "markdown",
      "metadata": {
        "id": "TvIcC5GHwNNR"
      },
      "source": [
        "divide_func.py"
      ]
    },
    {
      "cell_type": "code",
      "metadata": {
        "colab": {
          "base_uri": "https://localhost:8080/"
        },
        "id": "lbifcmIQvAIK",
        "outputId": "248db1a1-3688-46b5-9d91-bf24126ce6f4"
      },
      "source": [
        "def divide(x,y) :\n",
        "    try :\n",
        "        result = x/y\n",
        "    except ZeroDivisionError :\n",
        "        print('0으로 나누는 오류발생')\n",
        "    else :\n",
        "        print('결과 :',result)\n",
        "    finally :\n",
        "        print('수행완료')\n",
        "\n",
        "print('divide(100,2) 함수 호출 :')\n",
        "divide(100,2)\n",
        "print('divide(100,0) 함수 호출 :')\n",
        "divide(100,0)"
      ],
      "execution_count": null,
      "outputs": [
        {
          "output_type": "stream",
          "text": [
            "divide(100,2) 함수 호출 :\n",
            "결과 : 50.0\n",
            "수행완료\n",
            "divide(100,0) 함수 호출 :\n",
            "0으로 나누는 오류발생\n",
            "수행완료\n"
          ],
          "name": "stdout"
        }
      ]
    },
    {
      "cell_type": "markdown",
      "metadata": {
        "id": "D50TjZxrxEwV"
      },
      "source": [
        "LAB 8-3 : 예외의 생성과 처리"
      ]
    },
    {
      "cell_type": "code",
      "metadata": {
        "colab": {
          "base_uri": "https://localhost:8080/"
        },
        "id": "T_iRO38HwzIZ",
        "outputId": "90cb880b-3ee5-4a8d-cf90-1acca72949e0"
      },
      "source": [
        "#1.\n",
        "a = [1,2,3,4,5]\n",
        "print('a =',a)\n",
        "n = int(input('a의 요소를 하나 선택하시오 : '))\n",
        "number = ['첫','두','세','네','다섯']\n",
        "print('{} 은(는) {} 번째 요소입니다.'.format(n,number[n-1]))"
      ],
      "execution_count": null,
      "outputs": [
        {
          "output_type": "stream",
          "text": [
            "a = [1, 2, 3, 4, 5]\n",
            "a의 요소를 하나 선택하시오 : 1\n",
            "1 은(는) 첫 번째 요소입니다.\n"
          ],
          "name": "stdout"
        }
      ]
    },
    {
      "cell_type": "code",
      "metadata": {
        "colab": {
          "base_uri": "https://localhost:8080/"
        },
        "id": "rvAGg0hhw4tI",
        "outputId": "dd1fee5d-8ac2-4e2a-e692-7eaad13bccd3"
      },
      "source": [
        "#2.\n",
        "try :\n",
        "    a = [1,2,3,4,5]\n",
        "    print('a =',a)\n",
        "    n = int(input('a의 요소를 하나 선택하시오 : '))\n",
        "    number = ['첫','두','세','네','다섯']\n",
        "    print('{} 은(는) {} 번째 요소입니다.'.format(n,number[n-1]))\n",
        "\n",
        "except ValueError :\n",
        "    print('오류 : 입력 값이 정수나 실수가 아님')"
      ],
      "execution_count": null,
      "outputs": [
        {
          "output_type": "stream",
          "text": [
            "a = [1, 2, 3, 4, 5]\n",
            "a의 요소를 하나 선택하시오 : 삼\n",
            "오류 : 입력 값이 정수나 실수가 아님\n"
          ],
          "name": "stdout"
        }
      ]
    },
    {
      "cell_type": "markdown",
      "metadata": {
        "id": "f0XhNyvTyp3d"
      },
      "source": [
        "대화창 실습 : raise문을 이용하여 예외 발생시키기1"
      ]
    },
    {
      "cell_type": "code",
      "metadata": {
        "colab": {
          "base_uri": "https://localhost:8080/",
          "height": 163
        },
        "id": "EJvebjMRyevV",
        "outputId": "b8d8a180-ef7a-4e09-b1f6-f3167e9191bf"
      },
      "source": [
        "raise Exception('Exception raised')"
      ],
      "execution_count": null,
      "outputs": [
        {
          "output_type": "error",
          "ename": "Exception",
          "evalue": "ignored",
          "traceback": [
            "\u001b[0;31m---------------------------------------------------------------------------\u001b[0m",
            "\u001b[0;31mException\u001b[0m                                 Traceback (most recent call last)",
            "\u001b[0;32m<ipython-input-52-5b9fb0675570>\u001b[0m in \u001b[0;36m<module>\u001b[0;34m()\u001b[0m\n\u001b[0;32m----> 1\u001b[0;31m \u001b[0;32mraise\u001b[0m \u001b[0mException\u001b[0m\u001b[0;34m(\u001b[0m\u001b[0;34m'Exception raised'\u001b[0m\u001b[0;34m)\u001b[0m\u001b[0;34m\u001b[0m\u001b[0;34m\u001b[0m\u001b[0m\n\u001b[0m",
            "\u001b[0;31mException\u001b[0m: Exception raised"
          ]
        }
      ]
    },
    {
      "cell_type": "markdown",
      "metadata": {
        "id": "OG1MDvYfzK9D"
      },
      "source": [
        "대화창 실습 : raise문을 이용하여 예외 발생시키기2"
      ]
    },
    {
      "cell_type": "code",
      "metadata": {
        "colab": {
          "base_uri": "https://localhost:8080/",
          "height": 163
        },
        "id": "fjHPYnPuzCgH",
        "outputId": "fb162efc-eb03-4577-b8fc-d2aeca07edd2"
      },
      "source": [
        "raise Exception('예외 발생!')"
      ],
      "execution_count": null,
      "outputs": [
        {
          "output_type": "error",
          "ename": "Exception",
          "evalue": "ignored",
          "traceback": [
            "\u001b[0;31m---------------------------------------------------------------------------\u001b[0m",
            "\u001b[0;31mException\u001b[0m                                 Traceback (most recent call last)",
            "\u001b[0;32m<ipython-input-53-1791d9d0567a>\u001b[0m in \u001b[0;36m<module>\u001b[0;34m()\u001b[0m\n\u001b[0;32m----> 1\u001b[0;31m \u001b[0;32mraise\u001b[0m \u001b[0mException\u001b[0m\u001b[0;34m(\u001b[0m\u001b[0;34m'예외 발생!'\u001b[0m\u001b[0;34m)\u001b[0m\u001b[0;34m\u001b[0m\u001b[0;34m\u001b[0m\u001b[0m\n\u001b[0m",
            "\u001b[0;31mException\u001b[0m: 예외 발생!"
          ]
        }
      ]
    },
    {
      "cell_type": "markdown",
      "metadata": {
        "id": "GTdID4HQzQtR"
      },
      "source": [
        "raise_test.py"
      ]
    },
    {
      "cell_type": "code",
      "metadata": {
        "colab": {
          "base_uri": "https://localhost:8080/"
        },
        "id": "RF73HjVxzJWo",
        "outputId": "6432c032-56f4-4d16-ad23-dff65a5b513b"
      },
      "source": [
        "def get_ans(ans) :\n",
        "    if ans in ['예','아니오'] :\n",
        "        print('정상적인 입력입니다.')\n",
        "    else :\n",
        "        raise ValueError('입력을 확인하세요.')\n",
        "\n",
        "while True :\n",
        "    try :\n",
        "        ans = input('예/아니오 중 하나를 입력하세요 : ')\n",
        "        get_ans(ans)\n",
        "        break\n",
        "    except Exception as e :\n",
        "        print('error :',e)"
      ],
      "execution_count": null,
      "outputs": [
        {
          "output_type": "stream",
          "text": [
            "예/아니오 중 하나를 입력하세요 : 예-쓰\n",
            "error : 입력을 확인하세요.\n",
            "예/아니오 중 하나를 입력하세요 : 노우\n",
            "error : 입력을 확인하세요.\n",
            "예/아니오 중 하나를 입력하세요 : 예\n",
            "정상적인 입력입니다.\n"
          ],
          "name": "stdout"
        }
      ]
    },
    {
      "cell_type": "markdown",
      "metadata": {
        "id": "dfysy1wb1mSu"
      },
      "source": [
        "#클래스와 객체 지향 프로그래밍"
      ]
    },
    {
      "cell_type": "markdown",
      "metadata": {
        "id": "qideVOjw9pjh"
      },
      "source": [
        "대화창 실습 : animals 리스트 객체와 다양한 메소드"
      ]
    },
    {
      "cell_type": "code",
      "metadata": {
        "colab": {
          "base_uri": "https://localhost:8080/"
        },
        "id": "0tcwnoWi9mF9",
        "outputId": "c5d621ae-5e1c-4ad7-fbd3-149dddcdd5d4"
      },
      "source": [
        "animals = ['lion', 'tiger', 'cat', 'dog']\n",
        "animals.sort()\n",
        "animals"
      ],
      "execution_count": 5,
      "outputs": [
        {
          "output_type": "execute_result",
          "data": {
            "text/plain": [
              "['cat', 'dog', 'lion', 'tiger']"
            ]
          },
          "metadata": {
            "tags": []
          },
          "execution_count": 5
        }
      ]
    },
    {
      "cell_type": "code",
      "metadata": {
        "colab": {
          "base_uri": "https://localhost:8080/"
        },
        "id": "h-CcE6Gt90XU",
        "outputId": "fc260fdf-b81d-44f6-93c7-46f53b3f8ed4"
      },
      "source": [
        "animals.append('rabbit')\n",
        "animals"
      ],
      "execution_count": 6,
      "outputs": [
        {
          "output_type": "execute_result",
          "data": {
            "text/plain": [
              "['cat', 'dog', 'lion', 'tiger', 'rabbit']"
            ]
          },
          "metadata": {
            "tags": []
          },
          "execution_count": 6
        }
      ]
    },
    {
      "cell_type": "code",
      "metadata": {
        "colab": {
          "base_uri": "https://localhost:8080/"
        },
        "id": "gQIM0iZ796ya",
        "outputId": "305d28aa-b141-42b4-b528-86a0bacfbcea"
      },
      "source": [
        "animals.reverse()\n",
        "animals"
      ],
      "execution_count": 7,
      "outputs": [
        {
          "output_type": "execute_result",
          "data": {
            "text/plain": [
              "['rabbit', 'tiger', 'lion', 'dog', 'cat']"
            ]
          },
          "metadata": {
            "tags": []
          },
          "execution_count": 7
        }
      ]
    },
    {
      "cell_type": "markdown",
      "metadata": {
        "id": "G5cDmIWf-Cg9"
      },
      "source": [
        "대화창 실습 : 리스트 객체의 pop() 메소드와 스트링 객체의 upper() 메소드"
      ]
    },
    {
      "cell_type": "code",
      "metadata": {
        "colab": {
          "base_uri": "https://localhost:8080/",
          "height": 36
        },
        "id": "6SkDTR0r98u_",
        "outputId": "732c60bf-f7a1-449f-91af-e74ba4904a73"
      },
      "source": [
        "s = animals.pop()\n",
        "s"
      ],
      "execution_count": 8,
      "outputs": [
        {
          "output_type": "execute_result",
          "data": {
            "application/vnd.google.colaboratory.intrinsic+json": {
              "type": "string"
            },
            "text/plain": [
              "'cat'"
            ]
          },
          "metadata": {
            "tags": []
          },
          "execution_count": 8
        }
      ]
    },
    {
      "cell_type": "code",
      "metadata": {
        "colab": {
          "base_uri": "https://localhost:8080/",
          "height": 36
        },
        "id": "Mi2Fj2uU-u1g",
        "outputId": "c8a03c25-37f6-42bf-eef8-84c8535612bd"
      },
      "source": [
        "s.upper()"
      ],
      "execution_count": 9,
      "outputs": [
        {
          "output_type": "execute_result",
          "data": {
            "application/vnd.google.colaboratory.intrinsic+json": {
              "type": "string"
            },
            "text/plain": [
              "'CAT'"
            ]
          },
          "metadata": {
            "tags": []
          },
          "execution_count": 9
        }
      ]
    },
    {
      "cell_type": "code",
      "metadata": {
        "colab": {
          "base_uri": "https://localhost:8080/"
        },
        "id": "Vn8vSU8t-00b",
        "outputId": "565c999d-f456-41d1-9f8f-8c102cbb293d"
      },
      "source": [
        "s.find('a')"
      ],
      "execution_count": 11,
      "outputs": [
        {
          "output_type": "execute_result",
          "data": {
            "text/plain": [
              "1"
            ]
          },
          "metadata": {
            "tags": []
          },
          "execution_count": 11
        }
      ]
    },
    {
      "cell_type": "markdown",
      "metadata": {
        "id": "gApvQmpd_10f"
      },
      "source": [
        "대화창 실습 : type()과 id() 함수"
      ]
    },
    {
      "cell_type": "code",
      "metadata": {
        "colab": {
          "base_uri": "https://localhost:8080/"
        },
        "id": "l7YE5Y_A-12x",
        "outputId": "a561f1e3-4b8d-467b-ff8a-5ace5f8e0d93"
      },
      "source": [
        "animals = ['lion', 'tiger', 'cat', 'dog']\n",
        "type(animals)"
      ],
      "execution_count": 12,
      "outputs": [
        {
          "output_type": "execute_result",
          "data": {
            "text/plain": [
              "list"
            ]
          },
          "metadata": {
            "tags": []
          },
          "execution_count": 12
        }
      ]
    },
    {
      "cell_type": "code",
      "metadata": {
        "colab": {
          "base_uri": "https://localhost:8080/"
        },
        "id": "74vr7tpe_8OM",
        "outputId": "24706bb6-4128-40ad-e6d2-f3fb16f9631b"
      },
      "source": [
        "id(animals)"
      ],
      "execution_count": 13,
      "outputs": [
        {
          "output_type": "execute_result",
          "data": {
            "text/plain": [
              "140192252628936"
            ]
          },
          "metadata": {
            "tags": []
          },
          "execution_count": 13
        }
      ]
    },
    {
      "cell_type": "code",
      "metadata": {
        "colab": {
          "base_uri": "https://localhost:8080/"
        },
        "id": "L1uOgYek_-D7",
        "outputId": "34dc46c8-4905-46a3-fd73-1c455ab592b4"
      },
      "source": [
        "s = 'tiger'\n",
        "type(s)"
      ],
      "execution_count": 14,
      "outputs": [
        {
          "output_type": "execute_result",
          "data": {
            "text/plain": [
              "str"
            ]
          },
          "metadata": {
            "tags": []
          },
          "execution_count": 14
        }
      ]
    },
    {
      "cell_type": "code",
      "metadata": {
        "colab": {
          "base_uri": "https://localhost:8080/"
        },
        "id": "q7x1UbsyABBC",
        "outputId": "d6f2d6e8-d6d5-4f34-e60c-b1930f5bb81e"
      },
      "source": [
        "id(s)"
      ],
      "execution_count": 16,
      "outputs": [
        {
          "output_type": "execute_result",
          "data": {
            "text/plain": [
              "140192393351944"
            ]
          },
          "metadata": {
            "tags": []
          },
          "execution_count": 16
        }
      ]
    },
    {
      "cell_type": "markdown",
      "metadata": {
        "id": "Xv5VUYt-AFM1"
      },
      "source": [
        "대화창 실습 : 정수형의 type과 id, 연산자와 메소드"
      ]
    },
    {
      "cell_type": "code",
      "metadata": {
        "colab": {
          "base_uri": "https://localhost:8080/"
        },
        "id": "2q3vxKyeABpj",
        "outputId": "daea0051-6a64-45dd-9024-5bb7f60e8396"
      },
      "source": [
        "n = 200\n",
        "type(n)"
      ],
      "execution_count": 24,
      "outputs": [
        {
          "output_type": "execute_result",
          "data": {
            "text/plain": [
              "int"
            ]
          },
          "metadata": {
            "tags": []
          },
          "execution_count": 24
        }
      ]
    },
    {
      "cell_type": "code",
      "metadata": {
        "colab": {
          "base_uri": "https://localhost:8080/"
        },
        "id": "lGR2mB_1AJmo",
        "outputId": "1dd511bf-df83-4abb-94a8-80521f61f9d5"
      },
      "source": [
        "id(n)"
      ],
      "execution_count": 25,
      "outputs": [
        {
          "output_type": "execute_result",
          "data": {
            "text/plain": [
              "10920864"
            ]
          },
          "metadata": {
            "tags": []
          },
          "execution_count": 25
        }
      ]
    },
    {
      "cell_type": "code",
      "metadata": {
        "colab": {
          "base_uri": "https://localhost:8080/"
        },
        "id": "Ylsd1IpgAKkk",
        "outputId": "c7993a75-387b-41e4-b459-71121733aea8"
      },
      "source": [
        "n+100"
      ],
      "execution_count": 26,
      "outputs": [
        {
          "output_type": "execute_result",
          "data": {
            "text/plain": [
              "300"
            ]
          },
          "metadata": {
            "tags": []
          },
          "execution_count": 26
        }
      ]
    },
    {
      "cell_type": "code",
      "metadata": {
        "colab": {
          "base_uri": "https://localhost:8080/"
        },
        "id": "kIUODulsAOPy",
        "outputId": "0575b09c-4a8d-477d-a3ab-672b0ce7e243"
      },
      "source": [
        "n.__add__(100)"
      ],
      "execution_count": 30,
      "outputs": [
        {
          "output_type": "execute_result",
          "data": {
            "text/plain": [
              "300"
            ]
          },
          "metadata": {
            "tags": []
          },
          "execution_count": 30
        }
      ]
    },
    {
      "cell_type": "code",
      "metadata": {
        "colab": {
          "base_uri": "https://localhost:8080/"
        },
        "id": "xt0QFBnKATer",
        "outputId": "ee4c5968-acae-4494-a3ae-b1f140de96bb"
      },
      "source": [
        "200+100"
      ],
      "execution_count": 31,
      "outputs": [
        {
          "output_type": "execute_result",
          "data": {
            "text/plain": [
              "300"
            ]
          },
          "metadata": {
            "tags": []
          },
          "execution_count": 31
        }
      ]
    },
    {
      "cell_type": "code",
      "metadata": {
        "colab": {
          "base_uri": "https://localhost:8080/"
        },
        "id": "_NmIL46MBdF-",
        "outputId": "e136a929-4ae1-4569-ebbe-9f0298e7e37e"
      },
      "source": [
        "(200).__add__(100)"
      ],
      "execution_count": 32,
      "outputs": [
        {
          "output_type": "execute_result",
          "data": {
            "text/plain": [
              "300"
            ]
          },
          "metadata": {
            "tags": []
          },
          "execution_count": 32
        }
      ]
    },
    {
      "cell_type": "markdown",
      "metadata": {
        "id": "ABmCuTcHBvUd"
      },
      "source": [
        "LAB 9-1 : 객체와 메소드 호출"
      ]
    },
    {
      "cell_type": "code",
      "metadata": {
        "colab": {
          "base_uri": "https://localhost:8080/"
        },
        "id": "bCdH6Cz9Bkl4",
        "outputId": "bb9e67f6-368f-4842-8792-bc3c3ed52b11"
      },
      "source": [
        "#1.\n",
        "(200).__sub__(100)"
      ],
      "execution_count": 33,
      "outputs": [
        {
          "output_type": "execute_result",
          "data": {
            "text/plain": [
              "100"
            ]
          },
          "metadata": {
            "tags": []
          },
          "execution_count": 33
        }
      ]
    },
    {
      "cell_type": "code",
      "metadata": {
        "colab": {
          "base_uri": "https://localhost:8080/"
        },
        "id": "D_IKJpw6B0m3",
        "outputId": "0568e114-f9e2-4dff-dd12-fd48f81c5fa5"
      },
      "source": [
        "(200).__mul__(100)"
      ],
      "execution_count": 34,
      "outputs": [
        {
          "output_type": "execute_result",
          "data": {
            "text/plain": [
              "20000"
            ]
          },
          "metadata": {
            "tags": []
          },
          "execution_count": 34
        }
      ]
    },
    {
      "cell_type": "code",
      "metadata": {
        "colab": {
          "base_uri": "https://localhost:8080/"
        },
        "id": "spTaknFACBe7",
        "outputId": "5bea4370-85f2-4bc1-c93e-6d7930a2d061"
      },
      "source": [
        "(200).__truediv__(100)"
      ],
      "execution_count": 35,
      "outputs": [
        {
          "output_type": "execute_result",
          "data": {
            "text/plain": [
              "2.0"
            ]
          },
          "metadata": {
            "tags": []
          },
          "execution_count": 35
        }
      ]
    },
    {
      "cell_type": "code",
      "metadata": {
        "colab": {
          "base_uri": "https://localhost:8080/"
        },
        "id": "qUoVLOtMCDaW",
        "outputId": "b920d3ff-d3c3-4195-bb5d-4e0381523a69"
      },
      "source": [
        "#2.\n",
        "[10,20,30,40].pop()"
      ],
      "execution_count": 36,
      "outputs": [
        {
          "output_type": "execute_result",
          "data": {
            "text/plain": [
              "40"
            ]
          },
          "metadata": {
            "tags": []
          },
          "execution_count": 36
        }
      ]
    },
    {
      "cell_type": "code",
      "metadata": {
        "id": "c0wDPewZCIUC"
      },
      "source": [
        "#3.\n",
        "# 리스트 객체는 keys()와 get() 메소드를 지원하지 않는다. "
      ],
      "execution_count": 47,
      "outputs": []
    },
    {
      "cell_type": "code",
      "metadata": {
        "colab": {
          "base_uri": "https://localhost:8080/"
        },
        "id": "hqVr0JF5CdH7",
        "outputId": "bd8e4599-98be-4f99-ec68-55c559d0c7bc"
      },
      "source": [
        "#4.\n",
        "dir(int)"
      ],
      "execution_count": 48,
      "outputs": [
        {
          "output_type": "execute_result",
          "data": {
            "text/plain": [
              "['__abs__',\n",
              " '__add__',\n",
              " '__and__',\n",
              " '__bool__',\n",
              " '__ceil__',\n",
              " '__class__',\n",
              " '__delattr__',\n",
              " '__dir__',\n",
              " '__divmod__',\n",
              " '__doc__',\n",
              " '__eq__',\n",
              " '__float__',\n",
              " '__floor__',\n",
              " '__floordiv__',\n",
              " '__format__',\n",
              " '__ge__',\n",
              " '__getattribute__',\n",
              " '__getnewargs__',\n",
              " '__gt__',\n",
              " '__hash__',\n",
              " '__index__',\n",
              " '__init__',\n",
              " '__init_subclass__',\n",
              " '__int__',\n",
              " '__invert__',\n",
              " '__le__',\n",
              " '__lshift__',\n",
              " '__lt__',\n",
              " '__mod__',\n",
              " '__mul__',\n",
              " '__ne__',\n",
              " '__neg__',\n",
              " '__new__',\n",
              " '__or__',\n",
              " '__pos__',\n",
              " '__pow__',\n",
              " '__radd__',\n",
              " '__rand__',\n",
              " '__rdivmod__',\n",
              " '__reduce__',\n",
              " '__reduce_ex__',\n",
              " '__repr__',\n",
              " '__rfloordiv__',\n",
              " '__rlshift__',\n",
              " '__rmod__',\n",
              " '__rmul__',\n",
              " '__ror__',\n",
              " '__round__',\n",
              " '__rpow__',\n",
              " '__rrshift__',\n",
              " '__rshift__',\n",
              " '__rsub__',\n",
              " '__rtruediv__',\n",
              " '__rxor__',\n",
              " '__setattr__',\n",
              " '__sizeof__',\n",
              " '__str__',\n",
              " '__sub__',\n",
              " '__subclasshook__',\n",
              " '__truediv__',\n",
              " '__trunc__',\n",
              " '__xor__',\n",
              " 'bit_length',\n",
              " 'conjugate',\n",
              " 'denominator',\n",
              " 'from_bytes',\n",
              " 'imag',\n",
              " 'numerator',\n",
              " 'real',\n",
              " 'to_bytes']"
            ]
          },
          "metadata": {
            "tags": []
          },
          "execution_count": 48
        }
      ]
    },
    {
      "cell_type": "code",
      "metadata": {
        "colab": {
          "base_uri": "https://localhost:8080/"
        },
        "id": "2-2r6DzFCuke",
        "outputId": "2773abc9-e649-47e5-f3d5-9c8ab6f655f2"
      },
      "source": [
        "#5.\n",
        "dir(list)"
      ],
      "execution_count": 49,
      "outputs": [
        {
          "output_type": "execute_result",
          "data": {
            "text/plain": [
              "['__add__',\n",
              " '__class__',\n",
              " '__contains__',\n",
              " '__delattr__',\n",
              " '__delitem__',\n",
              " '__dir__',\n",
              " '__doc__',\n",
              " '__eq__',\n",
              " '__format__',\n",
              " '__ge__',\n",
              " '__getattribute__',\n",
              " '__getitem__',\n",
              " '__gt__',\n",
              " '__hash__',\n",
              " '__iadd__',\n",
              " '__imul__',\n",
              " '__init__',\n",
              " '__init_subclass__',\n",
              " '__iter__',\n",
              " '__le__',\n",
              " '__len__',\n",
              " '__lt__',\n",
              " '__mul__',\n",
              " '__ne__',\n",
              " '__new__',\n",
              " '__reduce__',\n",
              " '__reduce_ex__',\n",
              " '__repr__',\n",
              " '__reversed__',\n",
              " '__rmul__',\n",
              " '__setattr__',\n",
              " '__setitem__',\n",
              " '__sizeof__',\n",
              " '__str__',\n",
              " '__subclasshook__',\n",
              " 'append',\n",
              " 'clear',\n",
              " 'copy',\n",
              " 'count',\n",
              " 'extend',\n",
              " 'index',\n",
              " 'insert',\n",
              " 'pop',\n",
              " 'remove',\n",
              " 'reverse',\n",
              " 'sort']"
            ]
          },
          "metadata": {
            "tags": []
          },
          "execution_count": 49
        }
      ]
    },
    {
      "cell_type": "markdown",
      "metadata": {
        "id": "oZx6pceiDb0S"
      },
      "source": [
        "cat_pass.py"
      ]
    },
    {
      "cell_type": "code",
      "metadata": {
        "colab": {
          "base_uri": "https://localhost:8080/"
        },
        "id": "K2BYJmtxC3lf",
        "outputId": "94c6ec0f-a102-4ea6-e1d6-0a2451efe729"
      },
      "source": [
        "class Cat :\n",
        "    pass\n",
        "nabi = Cat()\n",
        "print(nabi)"
      ],
      "execution_count": 51,
      "outputs": [
        {
          "output_type": "stream",
          "text": [
            "<__main__.Cat object at 0x7f810d553b38>\n"
          ],
          "name": "stdout"
        }
      ]
    },
    {
      "cell_type": "markdown",
      "metadata": {
        "id": "jubLkUw0IROA"
      },
      "source": [
        "cat_class.py"
      ]
    },
    {
      "cell_type": "code",
      "metadata": {
        "colab": {
          "base_uri": "https://localhost:8080/"
        },
        "id": "QgLC3i9DFpUp",
        "outputId": "9794edb1-f853-47e4-9bf5-29bf1a9134af"
      },
      "source": [
        "class Cat :\n",
        "    def meow(self) :\n",
        "        print('야옹 야옹~~~')\n",
        "\n",
        "nabi = Cat()\n",
        "nabi.meow()        "
      ],
      "execution_count": 53,
      "outputs": [
        {
          "output_type": "stream",
          "text": [
            "야옹 야옹~~~\n"
          ],
          "name": "stdout"
        }
      ]
    },
    {
      "cell_type": "markdown",
      "metadata": {
        "id": "SfKL-w2KIuy1"
      },
      "source": [
        "many_cats.py"
      ]
    },
    {
      "cell_type": "code",
      "metadata": {
        "colab": {
          "base_uri": "https://localhost:8080/"
        },
        "id": "a5Jtye_kIk8V",
        "outputId": "55e45185-8823-42a5-a47b-96ab2c25a414"
      },
      "source": [
        "class Cat :\n",
        "    def meow(self) :\n",
        "        print('야옹 야옹~~~')\n",
        "\n",
        "nabi = Cat()\n",
        "nabi.meow()\n",
        "nero = Cat()\n",
        "nero.meow()\n",
        "mimi = Cat()\n",
        "mimi.meow()"
      ],
      "execution_count": 54,
      "outputs": [
        {
          "output_type": "stream",
          "text": [
            "야옹 야옹~~~\n",
            "야옹 야옹~~~\n",
            "야옹 야옹~~~\n"
          ],
          "name": "stdout"
        }
      ]
    },
    {
      "cell_type": "markdown",
      "metadata": {
        "id": "_fmmcfYhJFXd"
      },
      "source": [
        "LAB 9-4 : Dog 클래스와 인스턴스 생성"
      ]
    },
    {
      "cell_type": "code",
      "metadata": {
        "colab": {
          "base_uri": "https://localhost:8080/"
        },
        "id": "vNiX2U5lI-tB",
        "outputId": "cbfc34ad-a3af-49ba-b9d9-bdf9456cac78"
      },
      "source": [
        "#1.\n",
        "class Dog :\n",
        "    def bark(self) :\n",
        "        print('멍멍~~')\n",
        "    \n",
        "my_dog = Dog()\n",
        "my_dog.bark()"
      ],
      "execution_count": 55,
      "outputs": [
        {
          "output_type": "stream",
          "text": [
            "멍멍~~\n"
          ],
          "name": "stdout"
        }
      ]
    },
    {
      "cell_type": "markdown",
      "metadata": {
        "id": "uf1WMcmLJZzp"
      },
      "source": [
        "init_cats.py"
      ]
    },
    {
      "cell_type": "code",
      "metadata": {
        "colab": {
          "base_uri": "https://localhost:8080/"
        },
        "id": "IECe_IaDJYnl",
        "outputId": "b9d7cd96-8312-412f-fefc-8ea0deb6c464"
      },
      "source": [
        "class Cat :\n",
        "    def __init__(self, name, color = '흰색') :\n",
        "        self.name = name\n",
        "        self.color = color\n",
        "    \n",
        "    def meow(self) :\n",
        "        print('내 이름은 {}, 색깔은 {}, 야옹 야옹~~'.format(self.name, self.color))\n",
        "\n",
        "nabi = Cat('나비', '검정색')\n",
        "nero = Cat('네로', '흰색')\n",
        "mimi = Cat('미미', '갈색')\n",
        "\n",
        "nabi.meow()\n",
        "nero.meow()\n",
        "mimi.meow()"
      ],
      "execution_count": 57,
      "outputs": [
        {
          "output_type": "stream",
          "text": [
            "내 이름은 나비, 색깔은 검정색, 야옹 야옹~~\n",
            "내 이름은 네로, 색깔은 흰색, 야옹 야옹~~\n",
            "내 이름은 미미, 색깔은 갈색, 야옹 야옹~~\n"
          ],
          "name": "stdout"
        }
      ]
    },
    {
      "cell_type": "markdown",
      "metadata": {
        "id": "-krxJqxiLRBR"
      },
      "source": [
        "LAB 9-5 : Dog 클래스와 인스턴스 생성"
      ]
    },
    {
      "cell_type": "code",
      "metadata": {
        "colab": {
          "base_uri": "https://localhost:8080/"
        },
        "id": "X5oGfpxWKArs",
        "outputId": "056be788-6428-45b1-c20c-cf076a7c6e90"
      },
      "source": [
        "#1.\n",
        "class Dog :\n",
        "    def __init__(self, name) :\n",
        "        self.name = name\n",
        "    \n",
        "    def bark(self) :\n",
        "        print('멍멍~~')\n",
        "\n",
        "my_dog = Dog('Jindo')\n",
        "my_dog.bark()"
      ],
      "execution_count": 58,
      "outputs": [
        {
          "output_type": "stream",
          "text": [
            "멍멍~~\n"
          ],
          "name": "stdout"
        }
      ]
    },
    {
      "cell_type": "markdown",
      "metadata": {
        "id": "5m3FAWZSL0GS"
      },
      "source": [
        "str_cats.py"
      ]
    },
    {
      "cell_type": "code",
      "metadata": {
        "colab": {
          "base_uri": "https://localhost:8080/"
        },
        "id": "ikHm54-eLwuU",
        "outputId": "f80baf8b-a586-41e0-9360-a43d2f922981"
      },
      "source": [
        "class Cat :\n",
        "    def __init__(self, name, color) :\n",
        "        self.name = name\n",
        "        self.color = color\n",
        "    \n",
        "    def __str__(self) :\n",
        "        return 'Cat(name = '+self.name+', color = ' + self.color+')'\n",
        "    \n",
        "nabi = Cat('나비', '검정색')\n",
        "nero = Cat('네로', '흰색')\n",
        "print(nabi)\n",
        "print(nero)"
      ],
      "execution_count": 65,
      "outputs": [
        {
          "output_type": "stream",
          "text": [
            "Cat(name = 나비, color = 검정색)\n",
            "Cat(name = 네로, color = 흰색)\n"
          ],
          "name": "stdout"
        }
      ]
    },
    {
      "cell_type": "markdown",
      "metadata": {
        "id": "yIwyCjEJOQbg"
      },
      "source": [
        "LAB 9-6 : Dog 클래스와 문자열화 메소드"
      ]
    },
    {
      "cell_type": "code",
      "metadata": {
        "colab": {
          "base_uri": "https://localhost:8080/"
        },
        "id": "e1qOCeUdOUo8",
        "outputId": "6509f3fd-c14b-4d1b-ab71-30da60b2e994"
      },
      "source": [
        "#1.\n",
        "class Dog :\n",
        "    def __init__(self, name) :\n",
        "        self.name = name\n",
        "    def __str__(self) :\n",
        "        return 'Dog(name = ' + self.name +')'\n",
        "    \n",
        "my_dog = Dog('Jindo')\n",
        "print('my_dog의 정보 :', my_dog)"
      ],
      "execution_count": 76,
      "outputs": [
        {
          "output_type": "stream",
          "text": [
            "my_dog의 정보 : Dog(name = Jindo)\n"
          ],
          "name": "stdout"
        }
      ]
    },
    {
      "cell_type": "markdown",
      "metadata": {
        "id": "io8yniRYNObl"
      },
      "source": [
        "cat_age_change.py"
      ]
    },
    {
      "cell_type": "code",
      "metadata": {
        "colab": {
          "base_uri": "https://localhost:8080/"
        },
        "id": "zVrvgfOoM4zA",
        "outputId": "de0be05a-91b7-48d6-9ab6-eb1ee6607921"
      },
      "source": [
        "class Cat :\n",
        "    def __init__(self, name, age) :\n",
        "        self.name = name\n",
        "        self.age = age\n",
        "    \n",
        "    def __str__(self) :\n",
        "        return 'Cat(name = '+self.name+', age = ' + str(self.age)+')'\n",
        "    \n",
        "nabi = Cat('나비', 3)\n",
        "print(nabi)\n",
        "nabi.age = 4\n",
        "nabi.age = -5\n",
        "print(nabi)"
      ],
      "execution_count": 66,
      "outputs": [
        {
          "output_type": "stream",
          "text": [
            "Cat(name = 나비, age = 3)\n",
            "Cat(name = 나비, age = -5)\n"
          ],
          "name": "stdout"
        }
      ]
    },
    {
      "cell_type": "markdown",
      "metadata": {
        "id": "zb8D87W9ONE4"
      },
      "source": [
        "cat_age_with_setter_getter.py"
      ]
    },
    {
      "cell_type": "code",
      "metadata": {
        "colab": {
          "base_uri": "https://localhost:8080/"
        },
        "id": "qzmY3rMKNgvQ",
        "outputId": "9e12c2e9-dc7f-4ef8-e92e-eb673f150b2e"
      },
      "source": [
        "class Cat :\n",
        "    def __init__(self, name, age) :\n",
        "        self.__name = name\n",
        "        self.__age = age\n",
        "    def __str__(self) :\n",
        "        return 'Cat(name ='+self.__name +', age ='+str(self.__age)+')'\n",
        "\n",
        "    def set_age(self, age) :\n",
        "        if age>0 :\n",
        "            self.__age = age\n",
        "    \n",
        "    def get_age(self) :\n",
        "        return self.__age\n",
        "\n",
        "nabi = Cat('나비', 3)\n",
        "print(nabi)\n",
        "nabi.set_age(4)\n",
        "nabi.set_age(-5)\n",
        "print(nabi)"
      ],
      "execution_count": 77,
      "outputs": [
        {
          "output_type": "stream",
          "text": [
            "Cat(name =나비, age =3)\n",
            "Cat(name =나비, age =4)\n"
          ],
          "name": "stdout"
        }
      ]
    },
    {
      "cell_type": "markdown",
      "metadata": {
        "id": "fDsTpYTeR760"
      },
      "source": [
        "is_test.py"
      ]
    },
    {
      "cell_type": "code",
      "metadata": {
        "colab": {
          "base_uri": "https://localhost:8080/"
        },
        "id": "4ZXwu6thRor0",
        "outputId": "6bc5b5e7-48f1-4063-e388-341ab7190b97"
      },
      "source": [
        "list_a = [10,20,30]\n",
        "list_b = [10,20,30]\n",
        "\n",
        "if list_a is list_b :       # is는 아이디 값을 비교함. id(list_a) != id(list_b) 이므로 False\n",
        "    print('list_a is list_b')\n",
        "else :\n",
        "    print('list_a is not list_b')"
      ],
      "execution_count": 78,
      "outputs": [
        {
          "output_type": "stream",
          "text": [
            "list_a is not list_b\n"
          ],
          "name": "stdout"
        }
      ]
    },
    {
      "cell_type": "markdown",
      "metadata": {
        "id": "WjVKxW8qTnsU"
      },
      "source": [
        "equal_test.py"
      ]
    },
    {
      "cell_type": "code",
      "metadata": {
        "colab": {
          "base_uri": "https://localhost:8080/"
        },
        "id": "8700c1YDSHkQ",
        "outputId": "a6a0c5bd-571e-4c54-c376-a1a844d8997c"
      },
      "source": [
        "list_a = [10,20,30]\n",
        "list_b = [10,20,30]\n",
        "\n",
        "if list_a == list_b :\n",
        "    print('list_a == list_b')\n",
        "else :\n",
        "    print('list_a != not list_b')"
      ],
      "execution_count": 79,
      "outputs": [
        {
          "output_type": "stream",
          "text": [
            "list_a == list_b\n"
          ],
          "name": "stdout"
        }
      ]
    },
    {
      "cell_type": "markdown",
      "metadata": {
        "id": "iJ3kzCX6T-KQ"
      },
      "source": [
        "equal_string_test.py"
      ]
    },
    {
      "cell_type": "code",
      "metadata": {
        "colab": {
          "base_uri": "https://localhost:8080/"
        },
        "id": "0JN8SvsMTx9m",
        "outputId": "1b2452fc-8390-4311-b5ae-2cf68d3e9005"
      },
      "source": [
        "a = 'ABC'\n",
        "b = 'ABC'\n",
        "if a is b :\n",
        "    print('a is b')\n",
        "else :\n",
        "    print('a is not b')"
      ],
      "execution_count": 80,
      "outputs": [
        {
          "output_type": "stream",
          "text": [
            "a is b\n"
          ],
          "name": "stdout"
        }
      ]
    },
    {
      "cell_type": "markdown",
      "metadata": {
        "id": "4BudNpY6UOME"
      },
      "source": [
        "LAB 9-7 : 정수 객체의 is 연산"
      ]
    },
    {
      "cell_type": "code",
      "metadata": {
        "colab": {
          "base_uri": "https://localhost:8080/"
        },
        "id": "r_0y5ayRUm6Q",
        "outputId": "3576e6c1-29fa-4400-8115-774a175b894e"
      },
      "source": [
        "n = 100\n",
        "m = 100\n",
        "if n is m :\n",
        "    print('n is m')\n",
        "else :\n",
        "    print('n is not m')\n",
        "\n",
        "# 이유 : 저장 위치가 같기때문에 n, m이 같은 객체를 참조한다."
      ],
      "execution_count": 81,
      "outputs": [
        {
          "output_type": "stream",
          "text": [
            "n is m\n"
          ],
          "name": "stdout"
        }
      ]
    },
    {
      "cell_type": "markdown",
      "metadata": {
        "id": "Oplip3RaVj46"
      },
      "source": [
        "vector2d_error.py"
      ]
    },
    {
      "cell_type": "code",
      "metadata": {
        "colab": {
          "base_uri": "https://localhost:8080/",
          "height": 213
        },
        "id": "faDK_McKVBqX",
        "outputId": "46a1aef9-050f-4405-9cfb-c020c7bb4372"
      },
      "source": [
        "class Vector2D :\n",
        "    def __init__(self, x, y) :\n",
        "        self.x = x\n",
        "        self.y = y\n",
        "    \n",
        "v1 = Vector2D(30,40)\n",
        "v2 = Vector2D(10,20)\n",
        "v3 = v1 + v2    # Vector2D의 + 연산이 정의되지 않았다. 오류 출력\n",
        "print('v1 + v2 =',v3)"
      ],
      "execution_count": 82,
      "outputs": [
        {
          "output_type": "error",
          "ename": "TypeError",
          "evalue": "ignored",
          "traceback": [
            "\u001b[0;31m---------------------------------------------------------------------------\u001b[0m",
            "\u001b[0;31mTypeError\u001b[0m                                 Traceback (most recent call last)",
            "\u001b[0;32m<ipython-input-82-3635ec2c6f47>\u001b[0m in \u001b[0;36m<module>\u001b[0;34m()\u001b[0m\n\u001b[1;32m      6\u001b[0m \u001b[0mv1\u001b[0m \u001b[0;34m=\u001b[0m \u001b[0mVector2D\u001b[0m\u001b[0;34m(\u001b[0m\u001b[0;36m30\u001b[0m\u001b[0;34m,\u001b[0m\u001b[0;36m40\u001b[0m\u001b[0;34m)\u001b[0m\u001b[0;34m\u001b[0m\u001b[0;34m\u001b[0m\u001b[0m\n\u001b[1;32m      7\u001b[0m \u001b[0mv2\u001b[0m \u001b[0;34m=\u001b[0m \u001b[0mVector2D\u001b[0m\u001b[0;34m(\u001b[0m\u001b[0;36m10\u001b[0m\u001b[0;34m,\u001b[0m\u001b[0;36m20\u001b[0m\u001b[0;34m)\u001b[0m\u001b[0;34m\u001b[0m\u001b[0;34m\u001b[0m\u001b[0m\n\u001b[0;32m----> 8\u001b[0;31m \u001b[0mv3\u001b[0m \u001b[0;34m=\u001b[0m \u001b[0mv1\u001b[0m \u001b[0;34m+\u001b[0m \u001b[0mv2\u001b[0m\u001b[0;34m\u001b[0m\u001b[0;34m\u001b[0m\u001b[0m\n\u001b[0m\u001b[1;32m      9\u001b[0m \u001b[0mprint\u001b[0m\u001b[0;34m(\u001b[0m\u001b[0;34m'v1 + v2 ='\u001b[0m\u001b[0;34m,\u001b[0m\u001b[0mv3\u001b[0m\u001b[0;34m)\u001b[0m\u001b[0;34m\u001b[0m\u001b[0;34m\u001b[0m\u001b[0m\n",
            "\u001b[0;31mTypeError\u001b[0m: unsupported operand type(s) for +: 'Vector2D' and 'Vector2D'"
          ]
        }
      ]
    },
    {
      "cell_type": "markdown",
      "metadata": {
        "id": "iGxCWysUWZys"
      },
      "source": [
        "vector_add.py"
      ]
    },
    {
      "cell_type": "code",
      "metadata": {
        "colab": {
          "base_uri": "https://localhost:8080/"
        },
        "id": "xrcJZIRpWL9z",
        "outputId": "162ffc90-d497-4599-9f8b-dcb9a0290089"
      },
      "source": [
        "class Vector2D :\n",
        "    def __init__(self, x, y) :\n",
        "        self.x = x\n",
        "        self.y = y\n",
        "    def __str__(self) :\n",
        "        return \"({}, {})\".format(self.x, self.y)\n",
        "    def add(self, other) :\n",
        "        return Vector2D(self.x + other.x, self.y + other.y)\n",
        "\n",
        "v1 = Vector2D(30,40)\n",
        "v2 = Vector2D(10,20)\n",
        "v3 = v1.add(v2)\n",
        "print('v1.add(v2) =',v3)"
      ],
      "execution_count": 83,
      "outputs": [
        {
          "output_type": "stream",
          "text": [
            "v1.add(v2) = (40, 60)\n"
          ],
          "name": "stdout"
        }
      ]
    },
    {
      "cell_type": "markdown",
      "metadata": {
        "id": "5SFNp_cAXlC9"
      },
      "source": [
        "vector2d_add_sub.py"
      ]
    },
    {
      "cell_type": "code",
      "metadata": {
        "colab": {
          "base_uri": "https://localhost:8080/"
        },
        "id": "oUUwxqZoXaO2",
        "outputId": "4a616f6d-fcf8-4c40-a246-9b3fa986a15d"
      },
      "source": [
        "class Vector2D :\n",
        "    def __init__(self, x, y) :\n",
        "        self.x = x\n",
        "        self.y = y\n",
        "    def __add__(self, other) :\n",
        "        return Vector2D(self.x + other.x, self.y + other.y)\n",
        "    def __sub__(self, other) :\n",
        "        return Vector2D(self.x - other.x, self.y - other.y)\n",
        "    def __str__(self) :\n",
        "        return \"({}, {})\".format(self.x, self.y)\n",
        "\n",
        "v1 = Vector2D(30,40)\n",
        "v2 = Vector2D(10,20)\n",
        "v3 = v1+v2\n",
        "print('v1 + v2 =',v3)\n",
        "v4 = v1-v2\n",
        "print('v1 - v2 =', v4)"
      ],
      "execution_count": 85,
      "outputs": [
        {
          "output_type": "stream",
          "text": [
            "v1 + v2 = (40, 60)\n",
            "v1 - v2 = (20, 20)\n"
          ],
          "name": "stdout"
        }
      ]
    },
    {
      "cell_type": "markdown",
      "metadata": {
        "id": "evy0UGZCYjWT"
      },
      "source": [
        "LAB 9-8 : 특수 메소드의 응용"
      ]
    },
    {
      "cell_type": "code",
      "metadata": {
        "colab": {
          "base_uri": "https://localhost:8080/"
        },
        "id": "wsz7CbbUYQrR",
        "outputId": "3f1202b0-5ae2-4927-c0ea-88ad5f251892"
      },
      "source": [
        "#1.\n",
        "class Vector2D :\n",
        "    def __init__(self, x, y) :\n",
        "        self.x = x\n",
        "        self.y = y\n",
        "    def __mul__(self, other) :\n",
        "        return Vector2D(self.x * other.x, self.y * other.y)\n",
        "    def __truediv__(self, other) :\n",
        "        return Vector2D(self.x / other.x, self.y / other.y)\n",
        "    def __str__(self) :\n",
        "        return \"({}, {})\".format(self.x, self.y)\n",
        "\n",
        "v1 = Vector2D(30,40)\n",
        "v2 = Vector2D(10,20)\n",
        "v3 = v1*v2\n",
        "print('v1 + v2 =',v3)\n",
        "v4 = v1/v2\n",
        "print('v1 - v2 =', v4)"
      ],
      "execution_count": 87,
      "outputs": [
        {
          "output_type": "stream",
          "text": [
            "v1 + v2 = (300, 800)\n",
            "v1 - v2 = (3.0, 2.0)\n"
          ],
          "name": "stdout"
        }
      ]
    },
    {
      "cell_type": "code",
      "metadata": {
        "colab": {
          "base_uri": "https://localhost:8080/"
        },
        "id": "eLOJyHkaZXcc",
        "outputId": "848cf519-ff60-4d24-f58f-e89d151a3435"
      },
      "source": [
        "#2.\n",
        "class Vector2D :\n",
        "    def __init__(self, x, y) :\n",
        "        self.x = x\n",
        "        self.y = y\n",
        "    def __neg__(self) :\n",
        "        return Vector2D(-self.x, -self.y)\n",
        "    def __str__(self) :\n",
        "        return \"({}, {})\".format(self.x, self.y)\n",
        "v1 = Vector2D(10,20)\n",
        "print('-v1 =',-v1)"
      ],
      "execution_count": 91,
      "outputs": [
        {
          "output_type": "stream",
          "text": [
            "-v1 = (-10, -20)\n"
          ],
          "name": "stdout"
        }
      ]
    },
    {
      "cell_type": "markdown",
      "metadata": {
        "id": "ZNYkiWuPZ-XC"
      },
      "source": [
        "LAB 9-9 : 벡터의 크기 비교하기"
      ]
    },
    {
      "cell_type": "code",
      "metadata": {
        "colab": {
          "base_uri": "https://localhost:8080/"
        },
        "id": "MVVAU8EbZysl",
        "outputId": "24826410-c271-46b2-d9d3-c5fe1d8bbc78"
      },
      "source": [
        "#1.\n",
        "class Vector2D :\n",
        "    def __init__(self, x, y) :\n",
        "        self.x = x\n",
        "        self.y = y\n",
        "    def __gt__(self, other) :\n",
        "        return ((self.x)**2 + (self.y)**2) > ((other.x)**2 + (other.y)**2)\n",
        "    def __ge__(self, other) :\n",
        "        return ((self.x)**2 + (self.y)**2) >= ((other.x)**2 + (other.y)**2)\n",
        "    def __lt__(self, other) :\n",
        "        return ((self.x)**2 + (self.y)**2) < ((other.x)**2 + (other.y)**2)\n",
        "    def __le__(self,other) :\n",
        "        return ((self.x)**2 + (self.y)**2) <= ((other.x)**2 + (other.y)**2)\n",
        "\n",
        "v1 = Vector2D(30,40)\n",
        "v2 = Vector2D(10,20)\n",
        "gt = v1>v2\n",
        "ge = v1>=v2\n",
        "lt = v1<v2\n",
        "le = v1<=v2\n",
        "print('v1 > v2 =', gt)\n",
        "print('v1 >= v2 =', ge)\n",
        "print('v1 < v2 =', lt)\n",
        "print('v1 <= v2 =', le)"
      ],
      "execution_count": 1,
      "outputs": [
        {
          "output_type": "stream",
          "text": [
            "v1 > v2 = True\n",
            "v1 >= v2 = True\n",
            "v1 < v2 = False\n",
            "v1 <= v2 = False\n"
          ],
          "name": "stdout"
        }
      ]
    },
    {
      "cell_type": "markdown",
      "metadata": {
        "id": "rEdORARDciBC"
      },
      "source": [
        "circle_instance_var.py"
      ]
    },
    {
      "cell_type": "code",
      "metadata": {
        "colab": {
          "base_uri": "https://localhost:8080/"
        },
        "id": "IOrEJK16e8mO",
        "outputId": "2eec30da-21cb-460c-8a1b-165090d14d84"
      },
      "source": [
        "class Circle :\n",
        "    def __init__(self, name, radius, PI) :\n",
        "        self.name = name\n",
        "        self.radius = radius\n",
        "        self.PI = PI\n",
        "    \n",
        "    def area(self) :\n",
        "        return self.PI * (self.radius **2)\n",
        "\n",
        "c1 = Circle('C1', 4, 3.14)\n",
        "print('c1의 면적:', c1.area())\n",
        "c2 = Circle('C2', 6, 3.141)\n",
        "print('c2의 면적:', c2.area())\n",
        "c3 = Circle('C3', 5, 3.1415)\n",
        "print('c3의 면적:', c3.area())\n"
      ],
      "execution_count": 101,
      "outputs": [
        {
          "output_type": "stream",
          "text": [
            "c1의 면적: 50.24\n",
            "c2의 면적: 113.076\n",
            "c3의 면적: 78.53750000000001\n"
          ],
          "name": "stdout"
        }
      ]
    },
    {
      "cell_type": "markdown",
      "metadata": {
        "id": "kuZq9hmVkU6G"
      },
      "source": [
        "circle_class_var.py"
      ]
    },
    {
      "cell_type": "code",
      "metadata": {
        "colab": {
          "base_uri": "https://localhost:8080/"
        },
        "id": "m3vhvFYjgdlr",
        "outputId": "747be939-7c9e-4995-96a1-1aca71cec393"
      },
      "source": [
        " class Circle :\n",
        "     PI = 3.1415\n",
        "     def __init__(self, name, radius) :\n",
        "         self.__name = name\n",
        "         self.__radius = radius\n",
        "\n",
        "     def area(self) :\n",
        "         return Circle.PI * self.__radius **2\n",
        "    \n",
        "c1 = Circle('C1', 4)\n",
        "print('c1의 면적 :', c1.area())\n",
        "c2 = Circle('C2', 6)\n",
        "print('c2의 면적 :', c2.area())\n",
        "c3 = Circle('C3', 5)\n",
        "print('c3의 면적 :', c3.area())\n",
        "        "
      ],
      "execution_count": 6,
      "outputs": [
        {
          "output_type": "stream",
          "text": [
            "c1의 면적 : 50.264\n",
            "c2의 면적 : 113.09400000000001\n",
            "c3의 면적 : 78.53750000000001\n"
          ],
          "name": "stdout"
        }
      ]
    },
    {
      "cell_type": "markdown",
      "metadata": {
        "id": "wCXuwtV9foc_"
      },
      "source": [
        "circle_dict.py"
      ]
    },
    {
      "cell_type": "code",
      "metadata": {
        "colab": {
          "base_uri": "https://localhost:8080/"
        },
        "id": "9YXcfauo8z7V",
        "outputId": "e7dccb39-d70c-47eb-f08e-324943bc423d"
      },
      "source": [
        "class Circle :\n",
        "    PI = 3.14\n",
        "    def __init__(self, name, radius) :\n",
        "        self.name = name\n",
        "        self.radius = radius\n",
        "\n",
        "c1 = Circle('C1',4)\n",
        "print('c1의 속성들:', c1.__dict__)\n",
        "print('c1의 name 변수값:', c1.__dict__['name'])\n",
        "print('c1의 radius 변수값:', c1.__dict__['radius'])"
      ],
      "execution_count": 7,
      "outputs": [
        {
          "output_type": "stream",
          "text": [
            "c1의 속성들: {'name': 'C1', 'radius': 4}\n",
            "c1의 name 변수값: C1\n",
            "c1의 radius 변수값: 4\n"
          ],
          "name": "stdout"
        }
      ]
    },
    {
      "cell_type": "markdown",
      "metadata": {
        "id": "ogT7bqlhgORy"
      },
      "source": [
        "circle_dict_with_underscore.py"
      ]
    },
    {
      "cell_type": "code",
      "metadata": {
        "colab": {
          "base_uri": "https://localhost:8080/"
        },
        "id": "DF3IHMDfgIQv",
        "outputId": "19237ca6-e89c-480f-8879-6b89bb9b38e1"
      },
      "source": [
        "class Circle :\n",
        "    PI = 3.14\n",
        "    def __init__(self, name, radius) :\n",
        "        self.__name = name\n",
        "        self.__radius = radius\n",
        "\n",
        "c1 = Circle('C1', 4)\n",
        "print('c1의 속성들 :', c1.__dict__)\n",
        "print('c1의 __name 변수값:', c1.__dict__['_Circle__name'])\n",
        "print('c1의 __radius 변수값:', c1.__dict__['_Circle__radius'])"
      ],
      "execution_count": 8,
      "outputs": [
        {
          "output_type": "stream",
          "text": [
            "c1의 속성들 : {'_Circle__name': 'C1', '_Circle__radius': 4}\n",
            "c1의 __name 변수값: C1\n",
            "c1의 __radius 변수값: 4\n"
          ],
          "name": "stdout"
        }
      ]
    },
    {
      "cell_type": "markdown",
      "metadata": {
        "id": "DAHTMFJ4nEbb"
      },
      "source": [
        "LAB 9-10 : __dict__를 이용한 인스턴스변수의 조회"
      ]
    },
    {
      "cell_type": "code",
      "metadata": {
        "colab": {
          "base_uri": "https://localhost:8080/"
        },
        "id": "-jHEel_og1Px",
        "outputId": "f937fe8b-ca19-4e12-fe30-dee5ca600be1"
      },
      "source": [
        "#1.\n",
        "class Rect :\n",
        "    def __init__(self, width, height) :\n",
        "        self.width = width\n",
        "        self.height = height\n",
        "\n",
        "r1 = Rect(100,200)\n",
        "print(r1.__dict__)\n",
        "print(r1.__dict__['width'])"
      ],
      "execution_count": 14,
      "outputs": [
        {
          "output_type": "stream",
          "text": [
            "{'width': 100, 'height': 200}\n",
            "100\n"
          ],
          "name": "stdout"
        }
      ]
    },
    {
      "cell_type": "code",
      "metadata": {
        "colab": {
          "base_uri": "https://localhost:8080/"
        },
        "id": "ZXRkGWZvnxwY",
        "outputId": "13934e08-9519-4739-c2d6-447b36989b9b"
      },
      "source": [
        "#2.\n",
        "class Rect :\n",
        "    def __init__(self, width, height) :\n",
        "        self.__width = width\n",
        "        self.__height = height\n",
        "\n",
        "r1 = Rect(100,200)\n",
        "print(r1.__dict__)\n",
        "print(r1.__dict__['_Rect__width'])"
      ],
      "execution_count": 15,
      "outputs": [
        {
          "output_type": "stream",
          "text": [
            "{'_Rect__width': 100, '_Rect__height': 200}\n",
            "100\n"
          ],
          "name": "stdout"
        }
      ]
    },
    {
      "cell_type": "markdown",
      "metadata": {
        "id": "UxCuguTQpUlQ"
      },
      "source": [
        "대화창 실습 : n = 100의 할당 연산과 객체의 id 값"
      ]
    },
    {
      "cell_type": "code",
      "metadata": {
        "colab": {
          "base_uri": "https://localhost:8080/"
        },
        "id": "CxBDjr0_oY3r",
        "outputId": "c0d477ac-3139-40cf-e090-c4da05c6c626"
      },
      "source": [
        "n = 100\n",
        "id(100)"
      ],
      "execution_count": 16,
      "outputs": [
        {
          "output_type": "execute_result",
          "data": {
            "text/plain": [
              "10917664"
            ]
          },
          "metadata": {
            "tags": []
          },
          "execution_count": 16
        }
      ]
    },
    {
      "cell_type": "code",
      "metadata": {
        "colab": {
          "base_uri": "https://localhost:8080/"
        },
        "id": "x7vXfpRZpZR4",
        "outputId": "05fac0f1-f541-4532-d82e-a3459a44f4fb"
      },
      "source": [
        "id(n)"
      ],
      "execution_count": 17,
      "outputs": [
        {
          "output_type": "execute_result",
          "data": {
            "text/plain": [
              "10917664"
            ]
          },
          "metadata": {
            "tags": []
          },
          "execution_count": 17
        }
      ]
    },
    {
      "cell_type": "markdown",
      "metadata": {
        "id": "E72GsFvErTIv"
      },
      "source": [
        "대화창 실습 : 할당 연산자를 통한 참조와 m = n 연산자를 이용한 재참조"
      ]
    },
    {
      "cell_type": "code",
      "metadata": {
        "colab": {
          "base_uri": "https://localhost:8080/"
        },
        "id": "FdRUoZRQpZ02",
        "outputId": "49c5062e-a9a0-42fc-ac95-758636ad4b99"
      },
      "source": [
        "n = 100\n",
        "m = n\n",
        "id(n)"
      ],
      "execution_count": 18,
      "outputs": [
        {
          "output_type": "execute_result",
          "data": {
            "text/plain": [
              "10917664"
            ]
          },
          "metadata": {
            "tags": []
          },
          "execution_count": 18
        }
      ]
    },
    {
      "cell_type": "code",
      "metadata": {
        "colab": {
          "base_uri": "https://localhost:8080/"
        },
        "id": "vkAlVnYRrYu3",
        "outputId": "8d2c377a-7196-453d-b9d0-ddf35ad6e7e6"
      },
      "source": [
        "id(m)"
      ],
      "execution_count": 19,
      "outputs": [
        {
          "output_type": "execute_result",
          "data": {
            "text/plain": [
              "10917664"
            ]
          },
          "metadata": {
            "tags": []
          },
          "execution_count": 19
        }
      ]
    },
    {
      "cell_type": "markdown",
      "metadata": {
        "id": "z3A5rN1YrcSd"
      },
      "source": [
        "대화창 실습 : 할당 연산자를 통한 참조와 n = 200 연산자를 이용한 재참조"
      ]
    },
    {
      "cell_type": "code",
      "metadata": {
        "colab": {
          "base_uri": "https://localhost:8080/"
        },
        "id": "4rXVZwa0raLi",
        "outputId": "96ef4023-5330-4689-e07a-c146a6a59bc2"
      },
      "source": [
        "n = 100\n",
        "m = n\n",
        "n = 200\n",
        "id(n)"
      ],
      "execution_count": 20,
      "outputs": [
        {
          "output_type": "execute_result",
          "data": {
            "text/plain": [
              "10920864"
            ]
          },
          "metadata": {
            "tags": []
          },
          "execution_count": 20
        }
      ]
    },
    {
      "cell_type": "code",
      "metadata": {
        "colab": {
          "base_uri": "https://localhost:8080/"
        },
        "id": "60UHyezCrnYv",
        "outputId": "a65a29a5-c7e4-4a32-d65f-ea8e03a3a253"
      },
      "source": [
        "id(m)"
      ],
      "execution_count": 21,
      "outputs": [
        {
          "output_type": "execute_result",
          "data": {
            "text/plain": [
              "10917664"
            ]
          },
          "metadata": {
            "tags": []
          },
          "execution_count": 21
        }
      ]
    },
    {
      "cell_type": "markdown",
      "metadata": {
        "id": "_GTunvBvrqmE"
      },
      "source": [
        "대화창 실습 : n = n+1 연산과 객체의 id 값의 변화"
      ]
    },
    {
      "cell_type": "code",
      "metadata": {
        "colab": {
          "base_uri": "https://localhost:8080/"
        },
        "id": "n9dn141oroCn",
        "outputId": "216352a0-be05-4e71-d8b5-0911db2d62a3"
      },
      "source": [
        "n = 100\n",
        "id(n)"
      ],
      "execution_count": 22,
      "outputs": [
        {
          "output_type": "execute_result",
          "data": {
            "text/plain": [
              "10917664"
            ]
          },
          "metadata": {
            "tags": []
          },
          "execution_count": 22
        }
      ]
    },
    {
      "cell_type": "code",
      "metadata": {
        "colab": {
          "base_uri": "https://localhost:8080/"
        },
        "id": "G2UlElETrxvt",
        "outputId": "92653686-98a5-4851-cc82-f6433305aa81"
      },
      "source": [
        "n = n+1\n",
        "id(n)"
      ],
      "execution_count": 23,
      "outputs": [
        {
          "output_type": "execute_result",
          "data": {
            "text/plain": [
              "10917696"
            ]
          },
          "metadata": {
            "tags": []
          },
          "execution_count": 23
        }
      ]
    }
  ]
}