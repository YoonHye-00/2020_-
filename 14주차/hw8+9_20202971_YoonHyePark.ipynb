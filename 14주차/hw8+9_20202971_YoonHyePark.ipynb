{
  "nbformat": 4,
  "nbformat_minor": 0,
  "metadata": {
    "colab": {
      "name": "hw8+9_20202971_YoonHyePark",
      "provenance": [],
      "collapsed_sections": []
    },
    "kernelspec": {
      "name": "python3",
      "display_name": "Python 3"
    }
  },
  "cells": [
    {
      "cell_type": "markdown",
      "metadata": {
        "id": "FeP2yV-O4ABA"
      },
      "source": [
        "<으뜸 파이썬> 8.1 ~ 8.2, 9.1, 9.5 ~ 9.14"
      ]
    },
    {
      "cell_type": "code",
      "metadata": {
        "colab": {
          "base_uri": "https://localhost:8080/",
          "height": 213
        },
        "id": "SZ6I4jrcMDTA",
        "outputId": "46156f2a-9995-44b1-82df-02c8e42587d7"
      },
      "source": [
        "#8.1\n",
        "#(1) - (a)\n",
        "a, b = input('두 수를 입력하시오 : ').split()\n",
        "result = int(a) * int(b)    # 숫자가 아닌 글을 입력하면 예외 발생 (ValueError)"
      ],
      "execution_count": 40,
      "outputs": [
        {
          "output_type": "stream",
          "text": [
            "두 수를 입력하시오 : 백 이백\n"
          ],
          "name": "stdout"
        },
        {
          "output_type": "error",
          "ename": "ValueError",
          "evalue": "ignored",
          "traceback": [
            "\u001b[0;31m---------------------------------------------------------------------------\u001b[0m",
            "\u001b[0;31mValueError\u001b[0m                                Traceback (most recent call last)",
            "\u001b[0;32m<ipython-input-40-7141bde4b0a7>\u001b[0m in \u001b[0;36m<module>\u001b[0;34m()\u001b[0m\n\u001b[1;32m      2\u001b[0m \u001b[0;31m#(1) - (a)\u001b[0m\u001b[0;34m\u001b[0m\u001b[0;34m\u001b[0m\u001b[0;34m\u001b[0m\u001b[0m\n\u001b[1;32m      3\u001b[0m \u001b[0ma\u001b[0m\u001b[0;34m,\u001b[0m \u001b[0mb\u001b[0m \u001b[0;34m=\u001b[0m \u001b[0minput\u001b[0m\u001b[0;34m(\u001b[0m\u001b[0;34m'두 수를 입력하시오 : '\u001b[0m\u001b[0;34m)\u001b[0m\u001b[0;34m.\u001b[0m\u001b[0msplit\u001b[0m\u001b[0;34m(\u001b[0m\u001b[0;34m)\u001b[0m\u001b[0;34m\u001b[0m\u001b[0;34m\u001b[0m\u001b[0m\n\u001b[0;32m----> 4\u001b[0;31m \u001b[0mresult\u001b[0m \u001b[0;34m=\u001b[0m \u001b[0mint\u001b[0m\u001b[0;34m(\u001b[0m\u001b[0ma\u001b[0m\u001b[0;34m)\u001b[0m \u001b[0;34m*\u001b[0m \u001b[0mint\u001b[0m\u001b[0;34m(\u001b[0m\u001b[0mb\u001b[0m\u001b[0;34m)\u001b[0m\u001b[0;34m\u001b[0m\u001b[0;34m\u001b[0m\u001b[0m\n\u001b[0m",
            "\u001b[0;31mValueError\u001b[0m: invalid literal for int() with base 10: '백'"
          ]
        }
      ]
    },
    {
      "cell_type": "code",
      "metadata": {
        "colab": {
          "base_uri": "https://localhost:8080/"
        },
        "id": "WcWCsLJqNsdz",
        "outputId": "062bbf69-a8b4-4b74-a00d-22fa0b3c504a"
      },
      "source": [
        "#(1) - (b)\n",
        "try :\n",
        "    a, b = input('두 수를 입력하시오 : ').split()\n",
        "    result = int(a) * int(b)\n",
        "except :\n",
        "    print('수가 정확한지 확인하세요.')\n",
        "else :\n",
        "    print('결과 :', result)"
      ],
      "execution_count": 43,
      "outputs": [
        {
          "output_type": "stream",
          "text": [
            "두 수를 입력하시오 : 백 이백\n",
            "수가 정확한지 확인하세요.\n"
          ],
          "name": "stdout"
        }
      ]
    },
    {
      "cell_type": "code",
      "metadata": {
        "colab": {
          "base_uri": "https://localhost:8080/",
          "height": 230
        },
        "id": "3c506-yKOvxM",
        "outputId": "5d502299-68e5-4b9c-feb1-44b17b8465c4"
      },
      "source": [
        "#(2) - (a)\n",
        "a, b = input('두 수를 입력하시오 : ').split()\n",
        "result = int(a) / int(b)    # 숫자가 아닌 글을 입력 >> ValueError\n",
        "                            # b = 0 >> ZeroDivisionError"
      ],
      "execution_count": 46,
      "outputs": [
        {
          "output_type": "stream",
          "text": [
            "두 수를 입력하시오 : 3 0\n"
          ],
          "name": "stdout"
        },
        {
          "output_type": "error",
          "ename": "ZeroDivisionError",
          "evalue": "ignored",
          "traceback": [
            "\u001b[0;31m---------------------------------------------------------------------------\u001b[0m",
            "\u001b[0;31mZeroDivisionError\u001b[0m                         Traceback (most recent call last)",
            "\u001b[0;32m<ipython-input-46-540fa645ee13>\u001b[0m in \u001b[0;36m<module>\u001b[0;34m()\u001b[0m\n\u001b[1;32m      1\u001b[0m \u001b[0;31m#(2) - (a)\u001b[0m\u001b[0;34m\u001b[0m\u001b[0;34m\u001b[0m\u001b[0;34m\u001b[0m\u001b[0m\n\u001b[1;32m      2\u001b[0m \u001b[0ma\u001b[0m\u001b[0;34m,\u001b[0m \u001b[0mb\u001b[0m \u001b[0;34m=\u001b[0m \u001b[0minput\u001b[0m\u001b[0;34m(\u001b[0m\u001b[0;34m'두 수를 입력하시오 : '\u001b[0m\u001b[0;34m)\u001b[0m\u001b[0;34m.\u001b[0m\u001b[0msplit\u001b[0m\u001b[0;34m(\u001b[0m\u001b[0;34m)\u001b[0m\u001b[0;34m\u001b[0m\u001b[0;34m\u001b[0m\u001b[0m\n\u001b[0;32m----> 3\u001b[0;31m \u001b[0mresult\u001b[0m \u001b[0;34m=\u001b[0m \u001b[0mint\u001b[0m\u001b[0;34m(\u001b[0m\u001b[0ma\u001b[0m\u001b[0;34m)\u001b[0m \u001b[0;34m/\u001b[0m \u001b[0mint\u001b[0m\u001b[0;34m(\u001b[0m\u001b[0mb\u001b[0m\u001b[0;34m)\u001b[0m    \u001b[0;31m# 숫자가 아닌 글을 입력 >> ValueError\u001b[0m\u001b[0;34m\u001b[0m\u001b[0;34m\u001b[0m\u001b[0m\n\u001b[0m\u001b[1;32m      4\u001b[0m                             \u001b[0;31m# b = 0 >> ZeroDivisionError\u001b[0m\u001b[0;34m\u001b[0m\u001b[0;34m\u001b[0m\u001b[0;34m\u001b[0m\u001b[0m\n",
            "\u001b[0;31mZeroDivisionError\u001b[0m: division by zero"
          ]
        }
      ]
    },
    {
      "cell_type": "code",
      "metadata": {
        "colab": {
          "base_uri": "https://localhost:8080/"
        },
        "id": "ucGPZQh5PCuk",
        "outputId": "e7d35e9e-1ce4-4d91-f0df-1f9e3889ad4d"
      },
      "source": [
        "#(2) - (b)\n",
        "try :\n",
        "    a, b = input('두 수를 입력하시오 : ').split()\n",
        "    result = int(a) / int(b)\n",
        "except :\n",
        "    print('수가 정확한지 확인하세요.')\n",
        "else :\n",
        "    print('결과 :', result)"
      ],
      "execution_count": 47,
      "outputs": [
        {
          "output_type": "stream",
          "text": [
            "두 수를 입력하시오 : 3 0\n",
            "수가 정확한지 확인하세요.\n"
          ],
          "name": "stdout"
        }
      ]
    },
    {
      "cell_type": "code",
      "metadata": {
        "colab": {
          "base_uri": "https://localhost:8080/",
          "height": 264
        },
        "id": "Ka4bIv0HPPdv",
        "outputId": "8f6b51aa-40ce-4b19-e9de-8a805c2b892f"
      },
      "source": [
        "#(3) - (a)\n",
        "a_list = [200, 300, 400]\n",
        "print('a_list :', a_list)\n",
        "idx = int(input('구하고자 하는 값의 인덱스를 0,1,2 중에서 입력하시오 : '))\n",
        "result = a_list[idx]\n",
        "print('결과 : ', result)\n",
        "\n",
        "# 인덱스의 범위를 벗어남 >> IndexError\n",
        "# 숫자가 아닌 글을 입력 >> ValueError"
      ],
      "execution_count": 50,
      "outputs": [
        {
          "output_type": "stream",
          "text": [
            "a_list : [200, 300, 400]\n",
            "구하고자 하는 값의 인덱스를 0,1,2 중에서 입력하시오 : 3\n"
          ],
          "name": "stdout"
        },
        {
          "output_type": "error",
          "ename": "IndexError",
          "evalue": "ignored",
          "traceback": [
            "\u001b[0;31m---------------------------------------------------------------------------\u001b[0m",
            "\u001b[0;31mIndexError\u001b[0m                                Traceback (most recent call last)",
            "\u001b[0;32m<ipython-input-50-88f1a9e1778f>\u001b[0m in \u001b[0;36m<module>\u001b[0;34m()\u001b[0m\n\u001b[1;32m      3\u001b[0m \u001b[0mprint\u001b[0m\u001b[0;34m(\u001b[0m\u001b[0;34m'a_list :'\u001b[0m\u001b[0;34m,\u001b[0m \u001b[0ma_list\u001b[0m\u001b[0;34m)\u001b[0m\u001b[0;34m\u001b[0m\u001b[0;34m\u001b[0m\u001b[0m\n\u001b[1;32m      4\u001b[0m \u001b[0midx\u001b[0m \u001b[0;34m=\u001b[0m \u001b[0mint\u001b[0m\u001b[0;34m(\u001b[0m\u001b[0minput\u001b[0m\u001b[0;34m(\u001b[0m\u001b[0;34m'구하고자 하는 값의 인덱스를 0,1,2 중에서 입력하시오 : '\u001b[0m\u001b[0;34m)\u001b[0m\u001b[0;34m)\u001b[0m\u001b[0;34m\u001b[0m\u001b[0;34m\u001b[0m\u001b[0m\n\u001b[0;32m----> 5\u001b[0;31m \u001b[0mresult\u001b[0m \u001b[0;34m=\u001b[0m \u001b[0ma_list\u001b[0m\u001b[0;34m[\u001b[0m\u001b[0midx\u001b[0m\u001b[0;34m]\u001b[0m\u001b[0;34m\u001b[0m\u001b[0;34m\u001b[0m\u001b[0m\n\u001b[0m\u001b[1;32m      6\u001b[0m \u001b[0mprint\u001b[0m\u001b[0;34m(\u001b[0m\u001b[0;34m'결과 : '\u001b[0m\u001b[0;34m,\u001b[0m \u001b[0mresult\u001b[0m\u001b[0;34m)\u001b[0m\u001b[0;34m\u001b[0m\u001b[0;34m\u001b[0m\u001b[0m\n\u001b[1;32m      7\u001b[0m \u001b[0;34m\u001b[0m\u001b[0m\n",
            "\u001b[0;31mIndexError\u001b[0m: list index out of range"
          ]
        }
      ]
    },
    {
      "cell_type": "code",
      "metadata": {
        "colab": {
          "base_uri": "https://localhost:8080/"
        },
        "id": "k6vtGuSySega",
        "outputId": "7be81012-4175-40af-cb67-631f30a5c350"
      },
      "source": [
        "#(3) - (b)\n",
        "try :\n",
        "    a_list = [200, 300, 400]\n",
        "    print('a_list :', a_list)\n",
        "    idx = int(input('구하고자 하는 값의 인덱스를 0,1,2 중에서 입력하시오 : '))\n",
        "    result = a_list[idx]\n",
        "    print('결과 : ', result)\n",
        "except :\n",
        "    print('수가 정확한지 확인하세요.')\n",
        "else :\n",
        "    pass"
      ],
      "execution_count": 53,
      "outputs": [
        {
          "output_type": "stream",
          "text": [
            "a_list : [200, 300, 400]\n",
            "구하고자 하는 값의 인덱스를 0,1,2 중에서 입력하시오 : 3\n",
            "수가 정확한지 확인하세요.\n"
          ],
          "name": "stdout"
        }
      ]
    },
    {
      "cell_type": "code",
      "metadata": {
        "colab": {
          "base_uri": "https://localhost:8080/",
          "height": 247
        },
        "id": "z4dhzGBiWGnn",
        "outputId": "581e278a-aa5a-4aaa-914d-c22443c619ec"
      },
      "source": [
        "#(4) - (a)\n",
        "f_name = input('읽어들일 파일 이름을 입력하세요 : ')\n",
        "in_file = open(f_name, 'r')\n",
        "buf = in_file.readlint()\n",
        "print(buf)\n",
        "# 파일이 없음 >> FileNotFoundError"
      ],
      "execution_count": 55,
      "outputs": [
        {
          "output_type": "stream",
          "text": [
            "읽어들일 파일 이름을 입력하세요 : file\n"
          ],
          "name": "stdout"
        },
        {
          "output_type": "error",
          "ename": "FileNotFoundError",
          "evalue": "ignored",
          "traceback": [
            "\u001b[0;31m---------------------------------------------------------------------------\u001b[0m",
            "\u001b[0;31mFileNotFoundError\u001b[0m                         Traceback (most recent call last)",
            "\u001b[0;32m<ipython-input-55-e9df28694fec>\u001b[0m in \u001b[0;36m<module>\u001b[0;34m()\u001b[0m\n\u001b[1;32m      1\u001b[0m \u001b[0;31m#(4) - (a)\u001b[0m\u001b[0;34m\u001b[0m\u001b[0;34m\u001b[0m\u001b[0;34m\u001b[0m\u001b[0m\n\u001b[1;32m      2\u001b[0m \u001b[0mf_name\u001b[0m \u001b[0;34m=\u001b[0m \u001b[0minput\u001b[0m\u001b[0;34m(\u001b[0m\u001b[0;34m'읽어들일 파일 이름을 입력하세요 : '\u001b[0m\u001b[0;34m)\u001b[0m\u001b[0;34m\u001b[0m\u001b[0;34m\u001b[0m\u001b[0m\n\u001b[0;32m----> 3\u001b[0;31m \u001b[0min_file\u001b[0m \u001b[0;34m=\u001b[0m \u001b[0mopen\u001b[0m\u001b[0;34m(\u001b[0m\u001b[0mf_name\u001b[0m\u001b[0;34m,\u001b[0m \u001b[0;34m'r'\u001b[0m\u001b[0;34m)\u001b[0m\u001b[0;34m\u001b[0m\u001b[0;34m\u001b[0m\u001b[0m\n\u001b[0m\u001b[1;32m      4\u001b[0m \u001b[0mbuf\u001b[0m \u001b[0;34m=\u001b[0m \u001b[0min_file\u001b[0m\u001b[0;34m.\u001b[0m\u001b[0mreadlint\u001b[0m\u001b[0;34m(\u001b[0m\u001b[0;34m)\u001b[0m\u001b[0;34m\u001b[0m\u001b[0;34m\u001b[0m\u001b[0m\n\u001b[1;32m      5\u001b[0m \u001b[0mprint\u001b[0m\u001b[0;34m(\u001b[0m\u001b[0mbuf\u001b[0m\u001b[0;34m)\u001b[0m\u001b[0;34m\u001b[0m\u001b[0;34m\u001b[0m\u001b[0m\n",
            "\u001b[0;31mFileNotFoundError\u001b[0m: [Errno 2] No such file or directory: 'file'"
          ]
        }
      ]
    },
    {
      "cell_type": "code",
      "metadata": {
        "colab": {
          "base_uri": "https://localhost:8080/"
        },
        "id": "6JjzdXFVXR4s",
        "outputId": "66c2444b-dbf8-49fc-a71f-bd6cd0dd8b8c"
      },
      "source": [
        "#(4) - (a)\n",
        "try :\n",
        "    f_name = input('읽어들일 파일 이름을 입력하세요 : ')\n",
        "    in_file = open(f_name, 'r')\n",
        "    buf = in_file.readlint()\n",
        "    print(buf)\n",
        "except :\n",
        "    print('파일 이름을 다시 확인하세요.')\n",
        "else :\n",
        "    pass"
      ],
      "execution_count": 56,
      "outputs": [
        {
          "output_type": "stream",
          "text": [
            "읽어들일 파일 이름을 입력하세요 : file\n",
            "파일 이름을 다시 확인하세요.\n"
          ],
          "name": "stdout"
        }
      ]
    },
    {
      "cell_type": "code",
      "metadata": {
        "colab": {
          "base_uri": "https://localhost:8080/"
        },
        "id": "CgdjR7kG1-vp",
        "outputId": "32659024-e6ca-4db9-db6d-9c383480fabd"
      },
      "source": [
        "#9.1\n",
        "\n",
        "print((123).__add__(334))\n",
        "print((123).__sub__(334))\n",
        "print((123).__mul__(334))\n",
        "print((123).__truediv__(3))"
      ],
      "execution_count": null,
      "outputs": [
        {
          "output_type": "stream",
          "text": [
            "457\n",
            "-211\n",
            "41082\n",
            "41.0\n"
          ],
          "name": "stdout"
        }
      ]
    },
    {
      "cell_type": "code",
      "metadata": {
        "colab": {
          "base_uri": "https://localhost:8080/"
        },
        "id": "oHaAGRbn4Xv8",
        "outputId": "730bfbd3-2fac-4100-9582-9f90f6c4dc3e"
      },
      "source": [
        "#9.5\n",
        "\n",
        "a,b,c,d,e = 1,1,2,3,3\n",
        "\n",
        "print('a와 b는 같은 객체인가?',a is b)\n",
        "print('b와 c는 같은 객체인가?',b is c)\n",
        "print('c와 d는 같은 객체인가?',c is d)\n",
        "print('d와 e는 같은 객체인가?',d is e)"
      ],
      "execution_count": null,
      "outputs": [
        {
          "output_type": "stream",
          "text": [
            "a와 b는 같은 객체인가? True\n",
            "b와 c는 같은 객체인가? False\n",
            "c와 d는 같은 객체인가? False\n",
            "d와 e는 같은 객체인가? True\n"
          ],
          "name": "stdout"
        }
      ]
    },
    {
      "cell_type": "code",
      "metadata": {
        "colab": {
          "base_uri": "https://localhost:8080/"
        },
        "id": "u0DdoFf08jX_",
        "outputId": "7cd182ae-7aa1-4f29-ebf5-473d89a2cbb9"
      },
      "source": [
        "#9.6\n",
        "\n",
        "class Dog :\n",
        "    def __init__(self, name, age) :\n",
        "        self.name = name\n",
        "        self.age = age\n",
        "\n",
        "my_dog = Dog('Mango', 3)\n",
        "print('my_dog의 이름은 {}이고, 나이는 {}살입니다.'.format(my_dog.name, my_dog.age))"
      ],
      "execution_count": null,
      "outputs": [
        {
          "output_type": "stream",
          "text": [
            "my_dog의 이름은 Mango이고, 나이는 3살입니다.\n"
          ],
          "name": "stdout"
        }
      ]
    },
    {
      "cell_type": "code",
      "metadata": {
        "colab": {
          "base_uri": "https://localhost:8080/"
        },
        "id": "sSEN5-Kk45Kg",
        "outputId": "06c4c30a-fba8-4ded-9e38-2817affbd05a"
      },
      "source": [
        "#9.7\n",
        "\n",
        "class Dog :\n",
        "    def __init__(self, name, age) :\n",
        "        self.name = name\n",
        "        self.age = age\n",
        "    def __str__(self) :\n",
        "        return '이름은 {}이고, 나이는 {}살입니다.'.format(self.name, self.age)\n",
        "\n",
        "my_dog = Dog('Mango', 3)\n",
        "print(my_dog)"
      ],
      "execution_count": null,
      "outputs": [
        {
          "output_type": "stream",
          "text": [
            "이름은 Mango이고, 나이는 3살입니다.\n"
          ],
          "name": "stdout"
        }
      ]
    },
    {
      "cell_type": "code",
      "metadata": {
        "id": "G0Nccqi97TGf"
      },
      "source": [
        "#9.8\n",
        "\n",
        "class Counter :\n",
        "    def __init__(self, number=0) :\n",
        "        if number >= 100 or number <= -1 :\n",
        "            number = 0\n",
        "        self.__number = number\n",
        "\n",
        "    def reset(self) :\n",
        "        self.__number = 0\n",
        "    def inc(self) :\n",
        "        self.__number += 1\n",
        "        if self.__number >= 100 :\n",
        "            self.__number = 0\n",
        "    def dec(self) :\n",
        "        self.__number -= 1\n",
        "        if self.__number <= -1 :\n",
        "            self.__number = 0\n",
        "    def __str__(self) :\n",
        "        return 'C({})'.format(self.__number)    "
      ],
      "execution_count": null,
      "outputs": []
    },
    {
      "cell_type": "code",
      "metadata": {
        "colab": {
          "base_uri": "https://localhost:8080/"
        },
        "id": "gESsueb8BRgR",
        "outputId": "0f052ebb-b8fe-459f-cb75-ee1be877928b"
      },
      "source": [
        "# 예제 1\n",
        "c1 = Counter(10)\n",
        "c1.inc()\n",
        "print('c1 =',c1)"
      ],
      "execution_count": null,
      "outputs": [
        {
          "output_type": "stream",
          "text": [
            "c1 = C(11)\n"
          ],
          "name": "stdout"
        }
      ]
    },
    {
      "cell_type": "code",
      "metadata": {
        "colab": {
          "base_uri": "https://localhost:8080/"
        },
        "id": "kgzwVZmQBVxk",
        "outputId": "678ea5b1-a09c-445d-ca95-bc969b5cf1ec"
      },
      "source": [
        "# 예제 2\n",
        "c2 = Counter()\n",
        "c2.inc()\n",
        "c2.inc()\n",
        "c2.dec()\n",
        "print('c2 =', c2)\n",
        "c2.reset()\n",
        "print('c2 =', c2)"
      ],
      "execution_count": null,
      "outputs": [
        {
          "output_type": "stream",
          "text": [
            "c2 = C(1)\n",
            "c2 = C(0)\n"
          ],
          "name": "stdout"
        }
      ]
    },
    {
      "cell_type": "code",
      "metadata": {
        "id": "vPns2N66CE2H"
      },
      "source": [
        "#9.9\n",
        "\n",
        "class Counter :\n",
        "    def __init__(self, number=0) :\n",
        "        if number >= 100 or number <= -1 :\n",
        "            number = 0\n",
        "        self.__number = number\n",
        "\n",
        "    def reset(self) :\n",
        "        self.__number = 0\n",
        "    def inc(self) :\n",
        "        self.__number += 1\n",
        "        if self.__number >= 100 :\n",
        "            self.__number = 0\n",
        "    def dec(self) :\n",
        "        self.__number -= 1\n",
        "        if self.__number <= -1 :\n",
        "            self.__number = 0\n",
        "    def __str__(self) :\n",
        "        return 'C({})'.format(self.__number) \n",
        "    \n",
        "    def __add__(self, other) :\n",
        "        return Counter(self.__number + other.__number)\n",
        "    def __sub__(self, other) :\n",
        "        return Counter(self.__number - other.__number)\n",
        "    "
      ],
      "execution_count": null,
      "outputs": []
    },
    {
      "cell_type": "code",
      "metadata": {
        "colab": {
          "base_uri": "https://localhost:8080/"
        },
        "id": "tIEyTL4u6Yd1",
        "outputId": "461a44c4-ee6a-4987-ef61-f68a6dffc053"
      },
      "source": [
        "c1 = Counter(10)\n",
        "c2 = Counter(20)\n",
        "c3 = c1 + c2\n",
        "c4 = c1 - c2\n",
        "print('c3 =', c3)\n",
        "print('c4 =', c4)"
      ],
      "execution_count": null,
      "outputs": [
        {
          "output_type": "stream",
          "text": [
            "c3 = C(30)\n",
            "c4 = C(0)\n"
          ],
          "name": "stdout"
        }
      ]
    },
    {
      "cell_type": "code",
      "metadata": {
        "id": "7PFumBWy6jeB"
      },
      "source": [
        "#9.10\n",
        "\n",
        "class BankAccount :\n",
        "    def __init__(self, name, account_num, balance=0) :\n",
        "        self.__name = name\n",
        "        self.__account_num = account_num\n",
        "        self.__balance = balance\n",
        "\n",
        "    def __str__(self) :\n",
        "        return '{}님의 계좌 {}의 잔고는 {}원입니다.'.format(self.__name, self.__account_num, self.__balance)\n",
        "    def get_name(self) :\n",
        "        return self.__name\n",
        "    def get_account_num(self) :\n",
        "        return self.__account_num \n",
        "    def get_balance(self) :\n",
        "        return self.__balance(self)\n",
        "    def deposit(self, money) :\n",
        "        self.__balance += money\n",
        "        print('{}원이 입금되었습니다. 잔고는 {}원입니다.'.format(money, self.__balance))\n",
        "    def withdraw(self, money) :\n",
        "        if self.__balance < money :\n",
        "            print('계좌 잔고는 {}원으로 인출 요구 금액 {}원보다 작습니다.'.format(self.__balance, money))\n",
        "        else :\n",
        "            self.__balance -= money"
      ],
      "execution_count": null,
      "outputs": []
    },
    {
      "cell_type": "code",
      "metadata": {
        "colab": {
          "base_uri": "https://localhost:8080/"
        },
        "id": "ZaUaniMmIK1G",
        "outputId": "a73e2999-0194-4a92-b280-677f69c1db69"
      },
      "source": [
        "account1 = BankAccount('홍길동', '1234-0001')\n",
        "print(account1)\n",
        "account1.deposit(2000)\n",
        "print(account1)\n",
        "account1.withdraw(500)\n",
        "print(account1)\n",
        "account1.withdraw(5000)"
      ],
      "execution_count": null,
      "outputs": [
        {
          "output_type": "stream",
          "text": [
            "홍길동님의 계좌 1234-0001의 잔고는 0원입니다.\n",
            "2000원이 입금되었습니다. 잔고는 2000원입니다.\n",
            "홍길동님의 계좌 1234-0001의 잔고는 2000원입니다.\n",
            "홍길동님의 계좌 1234-0001의 잔고는 1500원입니다.\n",
            "계좌 잔고는 1500원으로 인출 요구 금액 5000원보다 작습니다.\n"
          ],
          "name": "stdout"
        }
      ]
    },
    {
      "cell_type": "code",
      "metadata": {
        "id": "shz_iGmLIaKr"
      },
      "source": [
        "#9.11\n",
        "\n",
        "class Student :\n",
        "    \n",
        "    def __init__(self, name, student_id) :\n",
        "        korean_quiz = 0\n",
        "        math_quiz = 0\n",
        "        science_quiz = 0\n",
        "        self.__name = name\n",
        "        self.__student_id = student_id\n",
        "        self.__korean_quiz = korean_quiz\n",
        "        self.__math_quiz = math_quiz\n",
        "        self.__science_quiz = science_quiz\n",
        "        self.__total_score = self.__korean_quiz +self.__math_quiz + self.__science_quiz\n",
        "    \n",
        "    def __str__(self) :\n",
        "        return '이름 : {}, 학번 : {}\\n국어성적 : {}, 수학성적 : {}, 과학성적 : {}\\n합계 : {}, 평균 : {}' \\\n",
        "        .format(self.__name, self.__student_id, self.__korean_quiz, self.__math_quiz, self.__science_quiz, self.get_total_score(), self.__total_score/3)\n",
        "    def get_name(self) :\n",
        "        return self.__name\n",
        "    def get_student_id(self) :\n",
        "        return self.__student_id\n",
        "    def get_korean_quiz(self) :\n",
        "        return self.__korean_quiz\n",
        "    def get_math_quiz(self) :\n",
        "        return self.__math_quiz\n",
        "    def get_science_quiz(self) :\n",
        "        return self.__science_quiz\n",
        "    def set_korean_quiz(self, korean_quiz) :\n",
        "        self.__korean_quiz = korean_quiz\n",
        "    def set_math_quiz(self, math_quiz) :\n",
        "        self.__math_quiz = math_quiz\n",
        "    def set_science_quiz(self, science_quiz) :\n",
        "        self.__science_quiz = science_quiz\n",
        "    def get_total_score(self) :\n",
        "        self.__total_score = (self.__korean_quiz +self.__math_quiz + self.__science_quiz)\n",
        "        return self.__total_score\n",
        "    def get_avg_score(self) :\n",
        "        return self.__total_score / 3\n",
        "    "
      ],
      "execution_count": 17,
      "outputs": []
    },
    {
      "cell_type": "code",
      "metadata": {
        "colab": {
          "base_uri": "https://localhost:8080/"
        },
        "id": "kbyAnWB6N30L",
        "outputId": "a0b61da0-4eb8-4c32-c9a9-5a1880c5e37f"
      },
      "source": [
        "name = input('학생의 이름을 입력하세요 : ')\n",
        "student_id = input('학생의 학번을 입력하세요 : ')\n",
        "\n",
        "student = Student(name, student_id)\n",
        "\n",
        "korean_quiz = int(input('학생의 국어 성적을 입력하세요 : '))\n",
        "math_quiz = int(input('학생의 수학 성적을 입력하세요 : '))\n",
        "science_quiz = int(input('학생의 과학 성적을 입력하세요 : '))\n",
        "student.set_korean_quiz(korean_quiz)\n",
        "student.set_math_quiz(math_quiz)\n",
        "student.set_science_quiz(science_quiz)\n",
        "print(student)"
      ],
      "execution_count": 18,
      "outputs": [
        {
          "output_type": "stream",
          "text": [
            "학생의 이름을 입력하세요 : 홍길동\n",
            "학생의 학번을 입력하세요 : 2020012\n",
            "학생의 국어 성적을 입력하세요 : 85\n",
            "학생의 수학 성적을 입력하세요 : 90\n",
            "학생의 과학 성적을 입력하세요 : 95\n",
            "이름 : 홍길동, 학번 : 2020012\n",
            "국어성적 : 85, 수학성적 : 90, 과학성적 : 95\n",
            "합계 : 270, 평균 : 90.0\n"
          ],
          "name": "stdout"
        }
      ]
    },
    {
      "cell_type": "code",
      "metadata": {
        "id": "qnYymnZ7RYpF"
      },
      "source": [
        "#9.12\n",
        "\n",
        "class TV :\n",
        "\n",
        "    MIN_VOLUME = 0\n",
        "    MAX_VOLUME = 20\n",
        "    MIN_CHANNEL = 0\n",
        "    MAX_CHANNEL = 200\n",
        "    \n",
        "    def __init__(self, volume = 5, channel = 0, is_on = False) :\n",
        "        self.__volume = volume\n",
        "        self.__channel = channel\n",
        "        self.__is_on = is_on \n",
        "    def __str__(self) :\n",
        "        if self.__is_on == False :\n",
        "            return \"TV가 꺼짐 상태입니다.\"\n",
        "        else :\n",
        "            return \"볼륨 = {}, 채널 = {}\".format(self.__volume, self.__channel)\n",
        "    def toggle_power(self) :\n",
        "        if self.__is_on == False :\n",
        "            self.__is_on = True\n",
        "        else :\n",
        "            self.__is_on = False\n",
        "    def get_channel(self) :\n",
        "        return self.__channel\n",
        "    def set_channel(self, channel) :\n",
        "        if (0<channel<201) == False :\n",
        "            return \"채널 오류\"\n",
        "        else :\n",
        "            self.__channel = channel\n",
        "    def get_volume(self) :\n",
        "        return self.__volume\n",
        "    def set_volume(self, volume) :\n",
        "        if (0<volume<20) == False :\n",
        "            return \"볼륨 오류\"\n",
        "        else :\n",
        "            self.__volume = volume\n",
        "    def volume_up(self) :\n",
        "        if self.__volume < self.MAX_VOLUME :\n",
        "            self.__volume += 1\n",
        "    def volume_down(self) :\n",
        "        if self.MIN_VOLUME < self.__volume :\n",
        "            self.__volume -= 1\n",
        "    def channel_up(self) :\n",
        "        self.__channel += 1\n",
        "        if 201 <= self.__channel :\n",
        "            self.__volume = self.MIN_VOLUME\n",
        "    def channel_down(self) :\n",
        "        self.__channel -= 1\n",
        "        if self.__channel <= 0 :\n",
        "            self.__volume = self.MAX_VOLUME\n",
        "    "
      ],
      "execution_count": 2,
      "outputs": []
    },
    {
      "cell_type": "code",
      "metadata": {
        "id": "wLAoQqzTUcdt",
        "colab": {
          "base_uri": "https://localhost:8080/"
        },
        "outputId": "0c2aea0d-9826-4091-fd4e-d262dcb898a2"
      },
      "source": [
        "my_tv = TV()\n",
        "print(my_tv)\n",
        "my_tv.toggle_power()\n",
        "print(my_tv)\n",
        "my_tv.set_channel(45)\n",
        "print(my_tv)\n",
        "my_tv.volume_up()\n",
        "my_tv.channel_up()\n",
        "print(my_tv)"
      ],
      "execution_count": 3,
      "outputs": [
        {
          "output_type": "stream",
          "text": [
            "TV가 꺼짐 상태입니다.\n",
            "볼륨 = 5, 채널 = 0\n",
            "볼륨 = 5, 채널 = 45\n",
            "볼륨 = 6, 채널 = 46\n"
          ],
          "name": "stdout"
        }
      ]
    },
    {
      "cell_type": "code",
      "metadata": {
        "id": "HLlO7TlalwUc"
      },
      "source": [
        "#9.13\n",
        "\n",
        "class Rectangle :\n",
        "    def __init__(self, x, y, width, height) :\n",
        "        self.__x = x\n",
        "        self.__y = y\n",
        "        self.__width = width\n",
        "        self.__height = height\n",
        "    def __str__(self) :\n",
        "        return 'Rectangle : (x = {}, y = {}, w = {}, h = {}), 면적 : {}'.format(self.__x, self.__y, self.__width, self.__height, self.__width * self.__height)\n",
        "    def set_x(self, x) :\n",
        "        self.__x = x\n",
        "    def get_x(self) :\n",
        "        return self.__x\n",
        "    def set_y(self, y) :\n",
        "        self.__y = y\n",
        "    def get_y(self) :\n",
        "        return self.__y\n",
        "    def set_width(self, width) :\n",
        "        self.__width = width\n",
        "    def get_width(self) :\n",
        "        return self.__width\n",
        "    def set_height(self, height) :\n",
        "        self.__height = height\n",
        "    def get_height(self) :\n",
        "        return self.__height\n",
        "    def area(self) :\n",
        "        return self.__width * self.__height\n",
        "    def overlaps(self, r) :\n",
        "        if ((self.__x <= r.__x <= (self.__x + self.__width)) and ((self.__y - self.__height) <= r.__y <= self.__y)) or \\\n",
        "        (self.__x <= r.__x + r.__width <= self.__x + self.__width) and (self.__y - self.__height <= r.__y - r.__height <= self.__y)  :\n",
        "            return True\n",
        "        else :\n",
        "            return False\n",
        "    def contains(self, r) :\n",
        "        if ((self.__x <= r.__x <= (self.__x + self.__width)) and ((self.__y - self.__height) <= r.__y <= self.__y)) and \\\n",
        "        (self.__x <= r.__x + r.__width <= self.__x + self.__width) and (self.__y - self.__height <= r.__y - r.__height <= self.__y) :\n",
        "            return True\n",
        "        else :\n",
        "            return False\n",
        "    "
      ],
      "execution_count": 27,
      "outputs": []
    },
    {
      "cell_type": "code",
      "metadata": {
        "colab": {
          "base_uri": "https://localhost:8080/"
        },
        "id": "ACKc9KRlGrFY",
        "outputId": "0b104334-6946-4f76-c26f-8de8de9b050d"
      },
      "source": [
        "r1 = Rectangle(0,0,100,100)\n",
        "r2 = Rectangle(0,-10,10,10)\n",
        "r3 = Rectangle(-100,0,120,100)\n",
        "\n",
        "print('r1 =', r1)\n",
        "print('r2 =', r2)\n",
        "print('r3 =', r3)\n",
        "\n",
        "print('r1 contains r2 :', r1.contains(r2))\n",
        "print('r1 contains r3 :', r1.contains(r3))\n",
        "print('r1 overlaps r2 :', r1.overlaps(r2))\n",
        "print('r1 overlaps r3 :', r1.overlaps(r3))"
      ],
      "execution_count": 28,
      "outputs": [
        {
          "output_type": "stream",
          "text": [
            "r1 = Rectangle : (x = 0, y = 0, w = 100, h = 100), 면적 : 10000\n",
            "r2 = Rectangle : (x = 0, y = -10, w = 10, h = 10), 면적 : 100\n",
            "r3 = Rectangle : (x = -100, y = 0, w = 120, h = 100), 면적 : 12000\n",
            "r1 contains r2 : True\n",
            "r1 contains r3 : False\n",
            "r1 overlaps r2 : True\n",
            "r1 overlaps r3 : True\n"
          ],
          "name": "stdout"
        }
      ]
    },
    {
      "cell_type": "code",
      "metadata": {
        "id": "Hlq5w6XXHEtw"
      },
      "source": [
        "#9.14\n",
        "\n",
        "class Circle :\n",
        "    PI = 3.14\n",
        "    def __init__(self, x, y, radius) :\n",
        "        self.__x = x\n",
        "        self.__y = y\n",
        "        self.__radius = radius\n",
        "    def __str__(self) :\n",
        "        return 'Circle : (x = {}, y = {}, r = {}), 면적 : {}'.format(self.__x, self.__y, self.__radius, self.PI* self.__radius **2)\n",
        "    def set_x(self, x) :\n",
        "        self.__x = x\n",
        "    def get_x(self, x) :\n",
        "        return self.__x\n",
        "    def set_y(self, y) :\n",
        "        self.__y = y\n",
        "    def get_y(self) :\n",
        "        return self.__y\n",
        "    def set_radius(self, radius) :\n",
        "        self.__radius = radius\n",
        "    def get_radius(self) :\n",
        "        return self.__radius\n",
        "    def area(self) :\n",
        "        return PI* self._radius **2\n",
        "    def overlaps(self, c) :\n",
        "        if ((self.__x - c.__x)**2 + (self.__y - c.__y)**2)**0.5 < (self.__radius + c.__radius) :\n",
        "            return True\n",
        "        else :\n",
        "            return False\n",
        "    def contains(self, c) :\n",
        "        if ((self.__x - c.__x)**2 + (self.__y - c.__y)**2)**0.5 < self.__radius :\n",
        "            return True\n",
        "        else :\n",
        "            return False"
      ],
      "execution_count": 36,
      "outputs": []
    },
    {
      "cell_type": "code",
      "metadata": {
        "colab": {
          "base_uri": "https://localhost:8080/"
        },
        "id": "gkOADmr-LRzv",
        "outputId": "151de128-b0a0-4489-e9f8-ced4172e15bb"
      },
      "source": [
        "c1 = Circle(0,0,100)\n",
        "c2 = Circle(0,-10,10)\n",
        "c3 = Circle(-100,0,120)\n",
        "\n",
        "print('c1 =', c1)\n",
        "print('c2 =', c2)\n",
        "print('c3 =', c3)\n",
        "\n",
        "print('c1 contains c2 :', c1.contains(c2))\n",
        "print('c2 contains c3 :', c1.contains(c3))\n",
        "print('c1 overlaps c2 :', c1.overlaps(c2))\n",
        "print('c1 overlaps c3 :', c1.overlaps(c3))"
      ],
      "execution_count": 37,
      "outputs": [
        {
          "output_type": "stream",
          "text": [
            "c1 = Circle : (x = 0, y = 0, r = 100), 면적 : 31400.0\n",
            "c2 = Circle : (x = 0, y = -10, r = 10), 면적 : 314.0\n",
            "c3 = Circle : (x = -100, y = 0, r = 120), 면적 : 45216.0\n",
            "c1 contains c2 : True\n",
            "c2 contains c3 : False\n",
            "c1 overlaps c2 : True\n",
            "c1 overlaps c3 : True\n"
          ],
          "name": "stdout"
        }
      ]
    }
  ]
}